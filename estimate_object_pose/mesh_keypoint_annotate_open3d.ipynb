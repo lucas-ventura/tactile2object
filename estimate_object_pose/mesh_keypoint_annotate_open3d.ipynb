{
 "cells": [
  {
   "cell_type": "code",
   "execution_count": 50,
   "id": "close-defeat",
   "metadata": {},
   "outputs": [],
   "source": [
    "import os\n",
    "import open3d as o3d\n",
    "import argparse\n",
    "import numpy as np\n",
    "import yaml\n",
    "\n",
    "import seaborn as sns\n",
    "# from here https://github.com/weigao95/mankey-ros/blob/master/mankey/dataproc/scripts/mesh_keypoint_annotate_open3d.py\n",
    "# I know the order"
   ]
  },
  {
   "cell_type": "markdown",
   "id": "happy-portrait",
   "metadata": {},
   "source": [
    "## Rotate and translate object"
   ]
  },
  {
   "cell_type": "code",
   "execution_count": 14,
   "id": "confident-literacy",
   "metadata": {},
   "outputs": [
    {
     "data": {
      "text/plain": [
       "PointCloud with 8194 points."
      ]
     },
     "execution_count": 14,
     "metadata": {},
     "output_type": "execute_result"
    }
   ],
   "source": [
    "import copy\n",
    "\n",
    "mesh_path = \"C:/Users/lucas/Desktop/UPC/MIT/tactile2object/estimate_object_pose/ycb_converted/002_master_chef_can.ply\"\n",
    "mesh_path = \"C:/Users/lucas/Desktop/UPC/MIT/tactile2object/estimate_object_pose/ycb_converted/035_power_drill.ply\"\n",
    "pcd = o3d.io.read_point_cloud(mesh_path)\n",
    "pcd_rt = copy.deepcopy(pcd)\n",
    "R = pcd.get_rotation_matrix_from_xyz((np.pi /2 , 0, np.pi/4))\n",
    "pcd_rt.rotate(R, center=(0,0,0))\n",
    "pcd_rt.translate((10,20,30))\n"
   ]
  },
  {
   "cell_type": "code",
   "execution_count": 4,
   "id": "appropriate-syria",
   "metadata": {},
   "outputs": [
    {
     "name": "stdout",
     "output_type": "stream",
     "text": [
      "[Open3D WARNING] GLFW Error: WGL: Failed to make context current: The handle is invalid. \n"
     ]
    }
   ],
   "source": [
    "\n",
    "o3d.visualization.draw_geometries([pcd_rt])"
   ]
  },
  {
   "cell_type": "markdown",
   "id": "ultimate-kernel",
   "metadata": {},
   "source": [
    "#### Object 002\n",
    "\n",
    "Points in order\n",
    "\n",
    "'keypoint_index': [3924, 2646, 1274, 1733],\n",
    "\n",
    "'keypoint_world_position': \n",
    "      [[53.019670230884174, -119.3769979476929, 26.690031496511352],\n",
    "      [-44.26549452372487, -118.1269991397858, -2.756720982029641],\n",
    "      [-45.01644270434518, 19.612999992677942, 1.5028891168498184],\n",
    "      [54.07679485105638, 19.576000001979992, 23.173590850523897]]\n",
    "  \n",
    "![obj_rt](obj_rt_002.png)"
   ]
  },
  {
   "cell_type": "code",
   "execution_count": 12,
   "id": "interesting-charity",
   "metadata": {
    "hide_input": false
   },
   "outputs": [],
   "source": [
    "keypoint_index = np.array([3924, 2646, 1274, 1733])\n",
    "keypoint_world_position = np.asarray([    \n",
    "    [53.019670230884174, -119.3769979476929, 26.690031496511352],\n",
    "    [-44.26549452372487, -118.1269991397858, -2.756720982029641],\n",
    "    [-45.01644270434518, 19.612999992677942, 1.5028891168498184],\n",
    "    [54.07679485105638, 19.576000001979992, 23.173590850523897]])\n",
    "      "
   ]
  },
  {
   "cell_type": "markdown",
   "id": "every-scholar",
   "metadata": {},
   "source": [
    "#### Object 035\n",
    "'keypoint_index': [7141, 6800, 150, 839],\n",
    "\n",
    "\n",
    "'keypoint_world_position': [[-27.6774781567874,\n",
    "   0.7810001075267863,\n",
    "   126.92312925280103],\n",
    "  [-143.8339107957619, -6.675999164581302, -11.411006682742311],\n",
    "  [2.7061928372502138, -6.4999996870756185, -78.93333471713588],\n",
    "  [74.09923080405657, -0.8730008453130722, -1.9909265740213726]]\n",
    "  \n",
    "  \n",
    "![obj_rt](obj_rt_035.png)"
   ]
  },
  {
   "cell_type": "code",
   "execution_count": 15,
   "id": "descending-concrete",
   "metadata": {},
   "outputs": [],
   "source": [
    "keypoint_index = np.array([7141, 6800, 150, 839])\n",
    "\n",
    "keypoint_world_position = np.asarray([\n",
    "    [-27.6774781567874, 0.7810001075267863, 126.92312925280103], \n",
    "    [-143.8339107957619, -6.675999164581302, -11.411006682742311], \n",
    "    [2.7061928372502138, -6.4999996870756185, -78.93333471713588], \n",
    "    [74.09923080405657, -0.8730008453130722, -1.9909265740213726]])"
   ]
  },
  {
   "cell_type": "code",
   "execution_count": null,
   "id": "intense-survivor",
   "metadata": {},
   "outputs": [],
   "source": []
  },
  {
   "cell_type": "code",
   "execution_count": null,
   "id": "turkish-corporation",
   "metadata": {},
   "outputs": [],
   "source": []
  },
  {
   "cell_type": "markdown",
   "id": "monetary-antenna",
   "metadata": {},
   "source": [
    "# Run code"
   ]
  },
  {
   "cell_type": "markdown",
   "id": "owned-south",
   "metadata": {},
   "source": [
    "https://github.com/weigao95/mankey-ros/blob/master/mankey/dataproc/scripts/mesh_keypoint_annotate_open3d.py"
   ]
  },
  {
   "cell_type": "code",
   "execution_count": 31,
   "id": "faced-challenge",
   "metadata": {},
   "outputs": [],
   "source": [
    "\"\"\"\n",
    "Given a mesh in the file format of .ply/.obj, this script starts an interactive\n",
    "window used for keypoint annotation, and save the annotated keypoint to a yaml file.\n",
    "Please see the associating keypoint.yaml for an example output.\n",
    "\"\"\"\n",
    "\n",
    "mesh_path = \"C:/Users/lucas/Desktop/UPC/MIT/tactile2object/estimate_object_pose/ycb_converted/002_master_chef_can.ply\"\n",
    "mesh_path = \"C:/Users/lucas/Desktop/UPC/MIT/tactile2object/estimate_object_pose/ycb_converted/035_power_drill.ply\"\n",
    "output_yaml = \"delete_keypoint.yaml\"\n"
   ]
  },
  {
   "cell_type": "code",
   "execution_count": 32,
   "id": "dirty-effects",
   "metadata": {
    "hide_input": true
   },
   "outputs": [],
   "source": [
    "def pick_points(pcd):\n",
    "    \"\"\"\n",
    "    http://www.open3d.org/docs/tutorial/Advanced/interactive_visualization.html\n",
    "    :param pcd: open3d point cloud data\n",
    "    :return: None\n",
    "    \"\"\"\n",
    "    print(\"\")\n",
    "    print(\"1) Please pick at least three correspondences using [shift + left click]\")\n",
    "    print(\"   Press [shift + right click] to undo point picking\")\n",
    "    print(\"2) Afther picking points, press q for close the window\")\n",
    "    vis = o3d.visualization.VisualizerWithEditing()\n",
    "    vis.create_window()\n",
    "    vis.add_geometry(pcd)\n",
    "    vis.run()  # user picks points\n",
    "    vis.destroy_window()\n",
    "    print(\"\")\n",
    "    return vis.get_picked_points()"
   ]
  },
  {
   "cell_type": "code",
   "execution_count": 33,
   "id": "numerical-coach",
   "metadata": {
    "hide_input": true
   },
   "outputs": [],
   "source": [
    "def load_point_cloud(mesh_path: str):\n",
    "    \"\"\"\n",
    "    Currently o3d doesn't support obj file, thus we need some\n",
    "    hacky solution here\n",
    "    :param mesh_path: Full path to an ply/obj file\n",
    "    :return:\n",
    "    \"\"\"\n",
    "    if mesh_path.endswith('.ply'):\n",
    "        return o3d.io.read_point_cloud(mesh_path)\n",
    "    elif mesh_path.endswith('.obj'):\n",
    "        raise NotImplementedError()\n",
    "    else:\n",
    "        raise RuntimeError('Unknown data format')"
   ]
  },
  {
   "cell_type": "code",
   "execution_count": 45,
   "id": "disciplinary-lesbian",
   "metadata": {
    "hide_input": false
   },
   "outputs": [
    {
     "name": "stdout",
     "output_type": "stream",
     "text": [
      "\n",
      "1) Please pick at least three correspondences using [shift + left click]\n",
      "   Press [shift + right click] to undo point picking\n",
      "2) Afther picking points, press q for close the window\n",
      "[Open3D INFO] Picked point #3584 (45., 79., 19.) to add in queue.\n",
      "[Open3D INFO] Picked point #6800 (-1.4e+02, 79., 27.) to add in queue.\n",
      "[Open3D INFO] Picked point #61 (-81., -68., 29.) to add in queue.\n",
      "[Open3D INFO] Picked point #821 (21., -73., 20.) to add in queue.\n",
      "\n"
     ]
    }
   ],
   "source": [
    "assert os.path.exists(mesh_path)\n",
    "pcd = load_point_cloud(mesh_path)\n",
    "picked_ids = pick_points(pcd)\n",
    "\n",
    "# Extract the keypoint in world\n",
    "point_cloud = np.asarray(pcd.points)\n",
    "keypoint_3d_position = []\n",
    "for point_id in picked_ids:\n",
    "    point_in_world = point_cloud[point_id, :]\n",
    "    keypoint_3d_position.append([float(point_in_world[0]), float(point_in_world[1]), float(point_in_world[2])])\n",
    "\n",
    "# Save them to a map\n",
    "data_map = dict()\n",
    "data_map['mesh_path'] = mesh_path\n",
    "data_map['keypoint_index'] = picked_ids\n",
    "data_map['keypoint_world_position'] = keypoint_3d_position\n",
    "with open(output_yaml, 'w') as outfile:\n",
    "    yaml.dump(data_map, outfile)"
   ]
  },
  {
   "cell_type": "code",
   "execution_count": 46,
   "id": "certified-player",
   "metadata": {},
   "outputs": [
    {
     "data": {
      "text/plain": [
       "{'mesh_path': 'C:/Users/lucas/Desktop/UPC/MIT/tactile2object/estimate_object_pose/ycb_converted/035_power_drill.ply',\n",
       " 'keypoint_index': [3584, 6800, 61, 821],\n",
       " 'keypoint_world_position': [[45.15799880027771,\n",
       "   78.97800207138062,\n",
       "   18.92899908125401],\n",
       "  [-138.0590051412582, 79.49499785900116, 26.6759991645813],\n",
       "  [-80.89800179004669, -67.53499805927277, 29.14500050246716],\n",
       "  [20.58300003409386, -73.00800085067749, 19.63399909436703]]}"
      ]
     },
     "execution_count": 46,
     "metadata": {},
     "output_type": "execute_result"
    }
   ],
   "source": [
    "data_map"
   ]
  },
  {
   "cell_type": "code",
   "execution_count": null,
   "id": "another-record",
   "metadata": {},
   "outputs": [],
   "source": []
  },
  {
   "cell_type": "code",
   "execution_count": null,
   "id": "accepting-chamber",
   "metadata": {},
   "outputs": [],
   "source": []
  },
  {
   "cell_type": "code",
   "execution_count": null,
   "id": "prime-taste",
   "metadata": {},
   "outputs": [],
   "source": []
  },
  {
   "cell_type": "code",
   "execution_count": null,
   "id": "thousand-carbon",
   "metadata": {},
   "outputs": [],
   "source": []
  },
  {
   "cell_type": "code",
   "execution_count": null,
   "id": "congressional-newspaper",
   "metadata": {},
   "outputs": [],
   "source": []
  },
  {
   "cell_type": "code",
   "execution_count": null,
   "id": "incredible-hebrew",
   "metadata": {},
   "outputs": [],
   "source": []
  },
  {
   "cell_type": "markdown",
   "id": "incomplete-cemetery",
   "metadata": {},
   "source": [
    "# ICP\n",
    "// https://github.com/richardos/icp\n",
    "\n",
    "https://github.com/niosus/notebooks/blob/master/icp.ipynb"
   ]
  },
  {
   "cell_type": "code",
   "execution_count": 47,
   "id": "joint-pacific",
   "metadata": {},
   "outputs": [],
   "source": [
    "import sys\n",
    "import numpy as np\n",
    "import matplotlib.pyplot as plt\n",
    "from matplotlib import animation, rc\n",
    "from math import sin, cos, atan2, pi\n",
    "from IPython.display import display, Math, Latex, Markdown, HTML"
   ]
  },
  {
   "cell_type": "code",
   "execution_count": 48,
   "id": "vulnerable-weapon",
   "metadata": {},
   "outputs": [],
   "source": [
    "Q = np.array(data_map['keypoint_world_position']).T\n",
    "P = np.array(keypoint_world_position).T"
   ]
  },
  {
   "cell_type": "code",
   "execution_count": 61,
   "id": "upset-imperial",
   "metadata": {},
   "outputs": [
    {
     "data": {
      "image/png": "[encoded data removed]",
      "text/plain": [
       "<Figure size 3000x1200 with 1 Axes>"
      ]
     },
     "metadata": {},
     "output_type": "display_data"
    }
   ],
   "source": [
    "def center_data(data, exclude_indices=[]):\n",
    "    reduced_data = np.delete(data, exclude_indices, axis=1)\n",
    "    center = np.array([reduced_data.mean(axis=1)]).T\n",
    "    return center, data - center\n",
    "\n",
    "def compute_cross_covariance(P, Q, correspondences, kernel=lambda diff: 1.0):\n",
    "    cov = np.zeros((3, 3))\n",
    "    exclude_indices = []\n",
    "    for i, j in correspondences:\n",
    "        p_point = P[:, [i]]\n",
    "        q_point = Q[:, [j]]\n",
    "        weight = kernel(p_point - q_point)\n",
    "        if weight < 0.01: exclude_indices.append(i)\n",
    "        cov += weight * q_point.dot(p_point.T)\n",
    "    return cov, exclude_indices\n",
    "\n",
    "def get_correspondence_indices(P, Q):\n",
    "    p_size = P.shape[1]\n",
    "    q_size = Q.shape[1]\n",
    "    correspondences = []\n",
    "    \n",
    "    for i in range(p_size):\n",
    "        correspondences.append((i, i))\n",
    "    \n",
    "    return correspondences\n",
    "\n",
    "def plot_values(values, label):\n",
    "    plt.rcParams['figure.dpi'] = 300\n",
    "    plt.rcParams['savefig.dpi'] = 300\n",
    "    sns.set_theme()\n",
    "    fig = plt.figure(figsize=(10, 4))\n",
    "    ax = fig.add_subplot(111)\n",
    "    ax.plot(values, label=label)\n",
    "    ax.legend()\n",
    "    ax.grid(True)\n",
    "    ax.set_ylim(0)\n",
    "    plt.show()\n",
    "    \n",
    "\n",
    "def icp_svd(P, Q, iterations=10, kernel=lambda diff: 1.0):\n",
    "    \"\"\"Perform ICP using SVD.\"\"\"\n",
    "    center_of_Q, Q_centered = center_data(Q)\n",
    "    norm_values = []\n",
    "    P_values = [P.copy()]\n",
    "    P_copy = P.copy()\n",
    "    corresp_values = []\n",
    "    exclude_indices = []\n",
    "    for i in range(iterations):\n",
    "        center_of_P, P_centered = center_data(P_copy, exclude_indices=exclude_indices)\n",
    "        \n",
    "        correspondences = get_correspondence_indices(P_centered, Q_centered)\n",
    "        corresp_values.append(correspondences)\n",
    "        norm_values.append(np.linalg.norm(P_centered - Q_centered))\n",
    "        cov, exclude_indices = compute_cross_covariance(P_centered, Q_centered, correspondences, kernel)\n",
    "        U, S, V_T = np.linalg.svd(cov)\n",
    "        R = U.dot(V_T)  \n",
    "        t = center_of_Q - R.dot(center_of_P)  \n",
    "        P_copy = R.dot(P_copy) + t\n",
    "        P_values.append(P_copy)\n",
    "    corresp_values.append(corresp_values[-1])\n",
    "    \n",
    "    return P_values, norm_values, corresp_values\n",
    "\n",
    "P_values, norm_values, corresp_values = icp_svd(P, Q)\n",
    "plot_values(norm_values, label=\"Squared diff P->Q\")"
   ]
  },
  {
   "cell_type": "code",
   "execution_count": null,
   "id": "coupled-modification",
   "metadata": {},
   "outputs": [],
   "source": []
  }
 ],
 "metadata": {
  "hide_input": false,
  "kernelspec": {
   "display_name": "Python 3",
   "language": "python",
   "name": "python3"
  },
  "language_info": {
   "codemirror_mode": {
    "name": "ipython",
    "version": 3
   },
   "file_extension": ".py",
   "mimetype": "text/x-python",
   "name": "python",
   "nbconvert_exporter": "python",
   "pygments_lexer": "ipython3",
   "version": "3.7.10"
  },
  "toc": {
   "base_numbering": 1,
   "nav_menu": {},
   "number_sections": true,
   "sideBar": true,
   "skip_h1_title": false,
   "title_cell": "Table of Contents",
   "title_sidebar": "Contents",
   "toc_cell": false,
   "toc_position": {},
   "toc_section_display": true,
   "toc_window_display": false
  },
  "varInspector": {
   "cols": {
    "lenName": 16,
    "lenType": 16,
    "lenVar": 40
   },
   "kernels_config": {
    "python": {
     "delete_cmd_postfix": "",
     "delete_cmd_prefix": "del ",
     "library": "var_list.py",
     "varRefreshCmd": "print(var_dic_list())"
    },
    "r": {
     "delete_cmd_postfix": ") ",
     "delete_cmd_prefix": "rm(",
     "library": "var_list.r",
     "varRefreshCmd": "cat(var_dic_list()) "
    }
   },
   "position": {
    "height": "634px",
    "left": "1546px",
    "right": "20px",
    "top": "119px",
    "width": "350px"
   },
   "types_to_exclude": [
    "module",
    "function",
    "builtin_function_or_method",
    "instance",
    "_Feature"
   ],
   "window_display": false
  }
 },
 "nbformat": 4,
 "nbformat_minor": 5
}
