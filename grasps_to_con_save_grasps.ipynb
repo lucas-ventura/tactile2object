{
 "cells": [
  {
   "cell_type": "code",
   "execution_count": 2,
   "id": "organized-battle",
   "metadata": {
    "pycharm": {
     "name": "#%%\n"
    }
   },
   "outputs": [],
   "source": [
    "import os\n",
    "import open3d as o3d\n",
    "import numpy as np\n",
    "import pickle\n",
    "import pymeshlab\n",
    "from shutil import copyfile"
   ]
  },
  {
   "cell_type": "code",
   "execution_count": 3,
   "id": "every-hardware",
   "metadata": {
    "pycharm": {
     "name": "#%%\n"
    }
   },
   "outputs": [],
   "source": [
    "ycb_dir = \"ycb\"\n",
    "\n",
    "# Path to the directory with all the folders with the pickle pressure files\n",
    "pressure_path = \"C:/Users/lucas/Desktop/UPC/MIT/manopth/outputs/graspit_to_mano/ycb/\""
   ]
  },
  {
   "cell_type": "markdown",
   "id": "thrown-answer",
   "metadata": {},
   "source": [
    "# Convert pressure info to pointcloud"
   ]
  },
  {
   "cell_type": "code",
   "execution_count": 5,
   "id": "square-constitutional",
   "metadata": {
    "pycharm": {
     "name": "#%%\n"
    }
   },
   "outputs": [],
   "source": [
    "pressure_points_path = os.path.join(ycb_dir, \"6_pressure_pointcloud\")\n",
    "\n",
    "if not os.path.exists(pressure_points_path):\n",
    "    os.makedirs(pressure_points_path)"
   ]
  },
  {
   "cell_type": "code",
   "execution_count": 6,
   "id": "brave-system",
   "metadata": {
    "pycharm": {
     "name": "#%%\n"
    }
   },
   "outputs": [],
   "source": [
    "get_obj_name = lambda name : name[:len(name) - 14]\n",
    "obj_names = []\n",
    "grasps_dict = {}\n",
    "\n",
    "for obj_folder in os.listdir(pressure_path):   \n",
    "    pkls_path = os.path.join(pressure_path, obj_folder)\n",
    "    obj_name = get_obj_name(obj_folder)\n",
    "    obj_names.append(obj_name)\n",
    "    \n",
    "    # Get sensor info from every pkl file\n",
    "    all_sensors_xyz = []\n",
    "    all_sensors_pressure = []\n",
    "    start = 0\n",
    "    end = 0\n",
    "\n",
    "    grasps = os.listdir(pkls_path)\n",
    "    n_grasps = len(grasps)\n",
    "    obj_grasps_dict = {}\n",
    "    for pkl_name in grasps:\n",
    "        pkl_num = int(pkl_name.split(\"_\")[-1][:-4])\n",
    "        pkl_path = os.path.join(pkls_path, pkl_name)\n",
    "\n",
    "        pressure_info = pickle.load( open( pkl_path, \"rb\") )\n",
    "\n",
    "        # Load the sensors pressure and take only the ones that have pressure greater than 0\n",
    "        sensors_pressure = pressure_info['sensors_pressure']\n",
    "        idx_sensors = np.nonzero(sensors_pressure)\n",
    "        \n",
    "        # Save sensor location and pressure\n",
    "        sensors_xyz = pressure_info['sensors_xyz'][idx_sensors]\n",
    "        sensors_pressure = sensors_pressure[idx_sensors]\n",
    "        \n",
    "        # Append to list of all locations and pressure\n",
    "        all_sensors_xyz.append(sensors_xyz)\n",
    "        all_sensors_pressure.append(sensors_pressure)\n",
    "        \n",
    "        # Save how many points correspond to each grasp\n",
    "        end = end + sensors_xyz.shape[0]\n",
    "        obj_grasps_dict[pkl_num] = start, end\n",
    "        start = end\n",
    "    \n",
    "    grasps_dict[obj_folder[:-14]] = obj_grasps_dict\n",
    "    \n",
    "    # Generate pointcloud.npz files for Convolutional Occupancy Networks \n",
    "    pc_pth = os.path.join(ycb_dir, \"4_pointcloud\", f\"{obj_name}.npz\")\n",
    "    pc_npz = np.load(pc_pth)\n",
    "    \n",
    "    # Load scale and translation to apply to the input pointcloud\n",
    "    translation = pc_npz['loc'].tolist()\n",
    "    scale = pc_npz['scale'].item()\n",
    "    \n",
    "    sensors_xyz = np.concatenate(all_sensors_xyz)\n",
    "    sensors_pressure = np.concatenate(all_sensors_pressure)\n",
    "\n",
    "    # Point cloud of the geneated object\n",
    "    pcd_gen = o3d.geometry.PointCloud()\n",
    "    pcd_gen.points = o3d.utility.Vector3dVector(sensors_xyz)\n",
    "\n",
    "    pcd_gen.estimate_normals()\n",
    "    pcd_gen.orient_normals_consistent_tangent_plane(50)\n",
    "    \n",
    "    points = (np.asarray(pcd_gen.points) - translation) / scale\n",
    "    normals = np.asarray(pcd_gen.normals)\n",
    "        \n",
    "    npz_pth = os.path.join(pressure_points_path, obj_name)\n",
    "    np.savez(npz_pth, \n",
    "             points=points, \n",
    "             normals=normals,\n",
    "             loc=pc_npz['loc'],\n",
    "             scale=pc_npz['scale']\n",
    "             )"
   ]
  },
  {
   "cell_type": "markdown",
   "id": "greatest-powder",
   "metadata": {
    "pycharm": {
     "name": "#%%\n"
    }
   },
   "source": [
    "# Create dataset"
   ]
  },
  {
   "cell_type": "code",
   "execution_count": 7,
   "id": "pregnant-bikini",
   "metadata": {},
   "outputs": [],
   "source": [
    "dataset_pth = os.path.join(ycb_dir, \"ycb_con\")\n",
    "\n",
    "if not os.path.exists(dataset_pth):\n",
    "    os.makedirs(dataset_pth)"
   ]
  },
  {
   "cell_type": "code",
   "execution_count": 8,
   "id": "painful-saturday",
   "metadata": {
    "pycharm": {
     "name": "#%%\n"
    }
   },
   "outputs": [],
   "source": [
    "for obj_name in obj_names:\n",
    "    obj_dir = os.path.join(dataset_pth, obj_name)\n",
    "    \n",
    "    if not os.path.exists(obj_dir):\n",
    "        os.makedirs(obj_dir)\n",
    "        \n",
    "    src_pth_ps = os.path.join(ycb_dir, \"4_points\", f\"{obj_name}.npz\")\n",
    "    dst_pth_ps = os.path.join(obj_dir, \"points.npz\")\n",
    "    copyfile(src_pth_ps, dst_pth_ps)\n",
    "    \n",
    "    src_pth_pcd = os.path.join(pressure_points_path, f\"{obj_name}.npz\")\n",
    "    dst_pth_pcd = os.path.join(obj_dir, \"pointcloud.npz\")\n",
    "    copyfile(src_pth_pcd, dst_pth_pcd)"
   ]
  },
  {
   "cell_type": "markdown",
   "id": "noticed-martin",
   "metadata": {},
   "source": [
    "# Save json info"
   ]
  },
  {
   "cell_type": "code",
   "execution_count": 15,
   "id": "shaped-canal",
   "metadata": {},
   "outputs": [],
   "source": [
    "import json\n",
    "\n",
    "# First key is the object name\n",
    "# Second key is the grasp number and how many points correspond to that grasp\n",
    "json_pth = os.path.join(ycb_dir, \"grasps_list.json\")\n",
    "with open(json_pth, 'w') as fp:\n",
    "    json.dump(grasps_dict, fp, sort_keys=True)"
   ]
  },
  {
   "cell_type": "code",
   "execution_count": 18,
   "id": "exotic-tablet",
   "metadata": {},
   "outputs": [],
   "source": [
    "import pickle\n",
    "\n",
    "pkl_pth = os.path.join(ycb_dir, \"grasps_list.p\")\n",
    "pickle.dump( grasps_dict, open( pkl_pth, \"wb\" ) )"
   ]
  },
  {
   "cell_type": "code",
   "execution_count": null,
   "id": "intimate-float",
   "metadata": {},
   "outputs": [],
   "source": []
  }
 ],
 "metadata": {
  "kernelspec": {
   "display_name": "Python 3",
   "language": "python",
   "name": "python3"
  },
  "language_info": {
   "codemirror_mode": {
    "name": "ipython",
    "version": 3
   },
   "file_extension": ".py",
   "mimetype": "text/x-python",
   "name": "python",
   "nbconvert_exporter": "python",
   "pygments_lexer": "ipython3",
   "version": "3.7.10"
  },
  "pycharm": {
   "stem_cell": {
    "cell_type": "raw",
    "metadata": {
     "collapsed": false
    },
    "source": []
   }
  }
 },
 "nbformat": 4,
 "nbformat_minor": 5
}
