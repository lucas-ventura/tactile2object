{
 "cells": [
  {
   "cell_type": "code",
   "execution_count": 1,
   "id": "interested-stephen",
   "metadata": {},
   "outputs": [],
   "source": [
    "import os\n",
    "import open3d as o3d\n",
    "import copy\n",
    "import numpy as np\n",
    "\n",
    "import re"
   ]
  },
  {
   "cell_type": "markdown",
   "id": "first-technique",
   "metadata": {},
   "source": [
    "# Original object"
   ]
  },
  {
   "cell_type": "code",
   "execution_count": 10,
   "id": "limited-cross",
   "metadata": {},
   "outputs": [
    {
     "name": "stdout",
     "output_type": "stream",
     "text": [
      "[Open3D WARNING] GLFW Error: WGL: Failed to make context current: The requested transformation operation is not supported. \n"
     ]
    }
   ],
   "source": [
    "obj_name = \"072-a_toy_airplane\"\n",
    "input_obj = f\"C:/Users/lucas/Desktop/UPC/MIT/tactile2object/ycb/0_in/{obj_name}.off\"\n",
    "\n",
    "mesh = o3d.io.read_triangle_mesh(input_obj)\n",
    "mesh.compute_vertex_normals()\n",
    "mesh.paint_uniform_color([0.7, 0.706, 0])\n",
    "center = mesh.get_center()\n",
    "o3d.visualization.draw_geometries([mesh])"
   ]
  },
  {
   "cell_type": "markdown",
   "id": "assumed-appendix",
   "metadata": {},
   "source": [
    "# Check input pointcloud"
   ]
  },
  {
   "cell_type": "code",
   "execution_count": 2,
   "id": "extraordinary-sacramento",
   "metadata": {},
   "outputs": [],
   "source": [
    "pcd_pressure = o3d.io.read_point_cloud(\"072-a_toy_airplane.ply\")\n",
    "\n",
    "o3d.visualization.draw_geometries([pcd_pressure])"
   ]
  },
  {
   "cell_type": "markdown",
   "id": "funky-family",
   "metadata": {},
   "source": [
    "# Load points and pointcloud"
   ]
  },
  {
   "cell_type": "code",
   "execution_count": 3,
   "id": "tropical-exchange",
   "metadata": {},
   "outputs": [],
   "source": [
    "pcd_pth = \"4_pointcloud/\"\n",
    "pts_pth = \"4_points/\""
   ]
  },
  {
   "cell_type": "code",
   "execution_count": 7,
   "id": "accredited-oklahoma",
   "metadata": {},
   "outputs": [],
   "source": [
    "npz_name = os.listdir(pts_pth)[0]\n",
    "    \n",
    "# Load points .npz\n",
    "npz_pth = os.path.join(pts_pth, npz_name)\n",
    "npz_pts = np.load(npz_pth)\n",
    "\n",
    "occupancies = npz_pts['occupancies']\n",
    "points = npz_pts['points']\n",
    "                      \n",
    "occupancies = np.unpackbits(occupancies)[:points.shape[0]]\n",
    "occupancies = occupancies.astype(np.float32)\n",
    "\n",
    "ind = np.nonzero(occupancies)[0]\n",
    "pts = points[ind]\n",
    "\n",
    "pcd = o3d.geometry.PointCloud()\n",
    "pcd.points = o3d.utility.Vector3dVector(pts)\n",
    "\n",
    "pointcloud = o3d.geometry.PointCloud()\n",
    "pointcloud.points = o3d.utility.Vector3dVector(points)"
   ]
  },
  {
   "cell_type": "code",
   "execution_count": 9,
   "id": "funded-tampa",
   "metadata": {},
   "outputs": [
    {
     "name": "stdout",
     "output_type": "stream",
     "text": [
      "[Open3D WARNING] GLFW Error: WGL: Failed to make context current: The requested transformation operation is not supported. \n",
      "[Open3D WARNING] GLFW Error: WGL: Failed to make context current: The handle is invalid. \n",
      "[Open3D WARNING] GLFW Error: WGL: Failed to make context current: The handle is invalid. \n",
      "[Open3D WARNING] GLFW Error: WGL: Failed to make context current: The requested transformation operation is not supported. \n"
     ]
    }
   ],
   "source": [
    "o3d.visualization.draw_geometries([pcd])"
   ]
  },
  {
   "cell_type": "code",
   "execution_count": 8,
   "id": "secret-amount",
   "metadata": {},
   "outputs": [
    {
     "name": "stdout",
     "output_type": "stream",
     "text": [
      "[Open3D WARNING] GLFW Error: WGL: Failed to make context current: The requested transformation operation is not supported. \n"
     ]
    }
   ],
   "source": [
    "o3d.visualization.draw_geometries([pointcloud])"
   ]
  },
  {
   "cell_type": "markdown",
   "id": "prepared-livestock",
   "metadata": {},
   "source": [
    "# Scale"
   ]
  },
  {
   "cell_type": "code",
   "execution_count": 25,
   "id": "diagnostic-filter",
   "metadata": {},
   "outputs": [
    {
     "data": {
      "text/plain": [
       "PointCloud with 7340 points."
      ]
     },
     "execution_count": 25,
     "metadata": {},
     "output_type": "execute_result"
    }
   ],
   "source": [
    "scale = 0.8\n",
    "\n",
    "pcd_s = copy.deepcopy(pcd)\n",
    "pcd_s.scale(scale, center=(0,0,0))"
   ]
  },
  {
   "cell_type": "code",
   "execution_count": 26,
   "id": "loaded-directive",
   "metadata": {},
   "outputs": [
    {
     "name": "stdout",
     "output_type": "stream",
     "text": [
      "[Open3D WARNING] GLFW Error: WGL: Failed to make context current: The requested transformation operation is not supported. \n"
     ]
    }
   ],
   "source": [
    "pcd.paint_uniform_color([0,0,0])\n",
    "pcd_s.paint_uniform_color([0.6, 0.3, 0.4])\n",
    "\n",
    "o3d.visualization.draw_geometries([pcd, pcd_s])"
   ]
  },
  {
   "cell_type": "code",
   "execution_count": 23,
   "id": "reserved-juice",
   "metadata": {},
   "outputs": [],
   "source": [
    "occupancy = np.where(np.asarray(pointcloud.compute_point_cloud_distance(pcd_s)) < 0.02, 1., 0.)"
   ]
  },
  {
   "cell_type": "code",
   "execution_count": 24,
   "id": "pacific-observation",
   "metadata": {},
   "outputs": [],
   "source": [
    "ind = np.nonzero(occupancy)[0]\n",
    "pts = points[ind]\n",
    "\n",
    "pcd_a = o3d.geometry.PointCloud()\n",
    "pcd_a.points = o3d.utility.Vector3dVector(pts)"
   ]
  },
  {
   "cell_type": "code",
   "execution_count": null,
   "id": "aging-utility",
   "metadata": {},
   "outputs": [],
   "source": []
  },
  {
   "cell_type": "code",
   "execution_count": 21,
   "id": "private-promotion",
   "metadata": {},
   "outputs": [],
   "source": [
    "mesh_s.translate([100,100,100])\n",
    "mesh_s2.translate([-100,-100,-100])\n",
    "o3d.visualization.draw_geometries([mesh_s, mesh, mesh_s2])"
   ]
  },
  {
   "cell_type": "code",
   "execution_count": null,
   "id": "consistent-information",
   "metadata": {},
   "outputs": [],
   "source": []
  }
 ],
 "metadata": {
  "kernelspec": {
   "display_name": "Python 3",
   "language": "python",
   "name": "python3"
  },
  "language_info": {
   "codemirror_mode": {
    "name": "ipython",
    "version": 3
   },
   "file_extension": ".py",
   "mimetype": "text/x-python",
   "name": "python",
   "nbconvert_exporter": "python",
   "pygments_lexer": "ipython3",
   "version": "3.7.10"
  }
 },
 "nbformat": 4,
 "nbformat_minor": 5
}
