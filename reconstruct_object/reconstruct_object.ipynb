{
 "cells": [
  {
   "cell_type": "code",
   "execution_count": 1,
   "id": "racial-module",
   "metadata": {},
   "outputs": [],
   "source": [
    "import pickle\n",
    "import numpy as np\n",
    "import os\n",
    "\n",
    "from matplotlib import pyplot as plt\n",
    "from mpl_toolkits.mplot3d import Axes3D\n",
    "from mpl_toolkits.mplot3d.art3d import Poly3DCollection\n",
    "import numpy as np\n",
    "\n",
    "import open3d as o3d\n",
    "\n",
    "from collections import defaultdict"
   ]
  },
  {
   "cell_type": "code",
   "execution_count": 2,
   "id": "mature-sharing",
   "metadata": {},
   "outputs": [],
   "source": [
    "%matplotlib inline"
   ]
  },
  {
   "cell_type": "code",
   "execution_count": 3,
   "id": "differential-music",
   "metadata": {},
   "outputs": [],
   "source": [
    "%matplotlib qt"
   ]
  },
  {
   "cell_type": "code",
   "execution_count": 4,
   "id": "capital-arnold",
   "metadata": {},
   "outputs": [],
   "source": [
    "output_dir = \"C:/Users/lucas/Desktop/UPC/MIT/tactile2object/reconstruct_object/\""
   ]
  },
  {
   "cell_type": "markdown",
   "id": "legislative-electric",
   "metadata": {},
   "source": [
    "# Save input pointcloud"
   ]
  },
  {
   "cell_type": "code",
   "execution_count": null,
   "id": "express-shower",
   "metadata": {},
   "outputs": [],
   "source": [
    "obj_names = [\"005_tomato_soup_can\", \"035_power_drill\", \"052_extra_large_clamp\", \"065-i_cups\"]\n",
    "\n",
    "sel_grasps = {\n",
    "    \"5\": [\"3\"],\n",
    "    \"10\": [\"3\"],\n",
    "    \"50\": [\"0\"]\n",
    "}\n",
    "\n",
    "input_pointcloud_dir = \"C:/Users/lucas/Desktop/UPC/MIT/tactile2object/ycb_different_grasps_2/ycb_con_grasps_2/\""
   ]
  },
  {
   "cell_type": "code",
   "execution_count": 82,
   "id": "attempted-foster",
   "metadata": {},
   "outputs": [],
   "source": [
    "output_pointcloud_dir = os.path.join(output_dir, \"input_pointcloud\")\n",
    "\n",
    "for sel_grasp in sel_grasps:\n",
    "    for grasp_num in sel_grasps[sel_grasp]:\n",
    "        for obj_name in obj_names:\n",
    "            input_pointcloud_pth = os.path.join(input_pointcloud_dir, sel_grasp + \"_grasps\", obj_name + \"_\" + sel_grasp + \"-\" + grasp_num, \"pointcloud.npz\")\n",
    "            input_pointcloud = o3d.geometry.PointCloud()\n",
    "            input_pointcloud.points = o3d.utility.Vector3dVector(np.load(input_pointcloud_pth)['points'])\n",
    "            \n",
    "            out_pth = os.path.join(output_pointcloud_dir, obj_name + \"_\" + sel_grasp + \"-\" + grasp_num + \".ply\")\n",
    "            o3d.io.write_point_cloud(out_pth, input_pointcloud)"
   ]
  },
  {
   "cell_type": "markdown",
   "id": "demonstrated-dallas",
   "metadata": {},
   "source": [
    "# Reconstruct objects"
   ]
  },
  {
   "cell_type": "code",
   "execution_count": 5,
   "id": "molecular-restaurant",
   "metadata": {},
   "outputs": [],
   "source": [
    "ply_dir = \"C:/Users/lucas/Desktop/UPC/MIT/tactile2object/reconstruct_object/input_pointcloud/\"\n",
    "out_BallPivoting_dir = os.path.join(output_dir, \"reconstruction_BallPivoting\")\n",
    "\n",
    "if not os.path.exists(out_BallPivoting_dir):\n",
    "    os.makedirs(out_BallPivoting_dir)\n",
    "    \n",
    "out_Poisson_dir = os.path.join(output_dir, \"reconstruction_Poisson\")\n",
    "if not os.path.exists(out_Poisson_dir):\n",
    "    os.makedirs(out_Poisson_dir)"
   ]
  },
  {
   "cell_type": "code",
   "execution_count": 6,
   "id": "hybrid-damages",
   "metadata": {},
   "outputs": [],
   "source": [
    "%%capture\n",
    "for obj_name in os.listdir(ply_dir):\n",
    "    ply_pth = os.path.join(ply_dir, obj_name)\n",
    "    \n",
    "    # Load pointcloud\n",
    "    pcd_in = o3d.io.read_point_cloud(ply_pth)\n",
    "\n",
    "    # Estimate normals and orient them\n",
    "    pcd_in.estimate_normals()\n",
    "    pcd_in.orient_normals_towards_camera_location(camera_location=np.array([0., 0., 0.]))\n",
    "    normals = np.asarray(pcd_in.normals)\n",
    "    pcd_in.normals = o3d.utility.Vector3dVector(- normals)\n",
    "\n",
    "    # Reconstruct object Ball pivoting\n",
    "    radii = [0.005, 0.01, 0.02, 0.04, 0.06, 0.08, 0.1, 0.12, 0.14]\n",
    "\n",
    "    rec_BP_mesh = o3d.geometry.TriangleMesh.create_from_point_cloud_ball_pivoting(\n",
    "        pcd_in, o3d.utility.DoubleVector(radii))\n",
    "    rec_BP_mesh.paint_uniform_color([0.7, 0.7, 0.7])\n",
    "    # o3d.visualization.draw_geometries([rec_mesh], mesh_show_back_face=True)\n",
    "\n",
    "    # Save object Ball pivoting\n",
    "    out_pth = os.path.join(out_BallPivoting_dir, obj_name)\n",
    "    o3d.io.write_triangle_mesh(out_pth, rec_BP_mesh)\n",
    "    \n",
    "    # Reconstruction Poisson\n",
    "    with o3d.utility.VerbosityContextManager(o3d.utility.VerbosityLevel.Debug) as cm:\n",
    "        rec_P_mesh, densities = o3d.geometry.TriangleMesh.create_from_point_cloud_poisson(pcd_in, depth=9)\n",
    "    rec_P_mesh.compute_triangle_normals()\n",
    "    #rec_P_mesh.compute_vertex_normals()\n",
    "    rec_P_mesh.paint_uniform_color([0.7, 0.7, 0.7])\n",
    "    \n",
    "    # Save object Poisson\n",
    "    out_pth = os.path.join(out_Poisson_dir, obj_name)\n",
    "    o3d.io.write_triangle_mesh(out_pth, rec_P_mesh)"
   ]
  },
  {
   "cell_type": "code",
   "execution_count": 22,
   "id": "compressed-louis",
   "metadata": {},
   "outputs": [
    {
     "name": "stdout",
     "output_type": "stream",
     "text": [
      "005_tomato_soup_can_10-3.ply\n",
      "005_tomato_soup_can_5-3.ply\n",
      "005_tomato_soup_can_50-0.ply\n",
      "035_power_drill_10-3.ply\n",
      "035_power_drill_5-3.ply\n",
      "035_power_drill_50-0.ply\n",
      "052_extra_large_clamp_10-3.ply\n",
      "052_extra_large_clamp_5-3.ply\n",
      "052_extra_large_clamp_50-0.ply\n",
      "065-i_cups_10-3.ply\n",
      "065-i_cups_5-3.ply\n",
      "065-i_cups_50-0.ply\n"
     ]
    }
   ],
   "source": [
    "for obj_name in os.listdir(ply_dir):\n",
    "    print(obj_name)"
   ]
  },
  {
   "cell_type": "markdown",
   "id": "varying-savage",
   "metadata": {},
   "source": [
    "# Change names"
   ]
  },
  {
   "cell_type": "markdown",
   "id": "temporal-macro",
   "metadata": {},
   "source": [
    "## No DL"
   ]
  },
  {
   "cell_type": "code",
   "execution_count": 2,
   "id": "paperback-consent",
   "metadata": {},
   "outputs": [],
   "source": [
    "import shutil\n",
    "\n",
    "img_pth = \"C:/Users/lucas/Desktop/UPC/MIT/tactile2object/reconstruct_object/img_noDL/\"\n",
    "img_out = \"C:/Users/lucas/Desktop/UPC/TFM/images/simulation/noDL/\"\n",
    "translator = {\n",
    "    \"01\": \"05_pcd\",\n",
    "    \"02\": \"10_pcd\",\n",
    "    \"03\": \"50_pcd\",\n",
    "    \"04\": \"05_BP\",\n",
    "    \"05\": \"10_BP\",\n",
    "    \"06\": \"50_BP\",\n",
    "    \"07\": \"05_PD\",\n",
    "    \"08\": \"10_PD\",\n",
    "    \"09\": \"50_PD\",\n",
    "    \"10\": \"GT\"    \n",
    "}"
   ]
  },
  {
   "cell_type": "code",
   "execution_count": 168,
   "id": "vanilla-softball",
   "metadata": {},
   "outputs": [],
   "source": [
    "\n",
    "for img_name in os.listdir(img_pth):\n",
    "    obj_name = img_name[:-6]\n",
    "    obj_type = img_name[-6:-4]\n",
    "    \n",
    "    new_name = obj_name + \"_\" + translator[obj_type] + \".png\"\n",
    "    \n",
    "    in_pth = os.path.join(img_pth, img_name)\n",
    "    out_pth = os.path.join(img_out, new_name)\n",
    "    shutil.copyfile(in_pth, out_pth)\n",
    "    \n",
    "    "
   ]
  },
  {
   "cell_type": "markdown",
   "id": "fabulous-seattle",
   "metadata": {},
   "source": [
    "## DL"
   ]
  },
  {
   "cell_type": "code",
   "execution_count": 1,
   "id": "western-statistics",
   "metadata": {},
   "outputs": [],
   "source": [
    "import shutil\n",
    "import os\n",
    "\n",
    "img_pth = \"C:/Users/lucas/Desktop/UPC/MIT/tactile2object/reconstruct_object/img_DL/\"\n",
    "img_out = \"C:/Users/lucas/Desktop/UPC/TFM/images/simulation/DL/\"\n",
    "translator = {\n",
    "    \"11\": \"05_vanilla\",\n",
    "    \"12\": \"10_vanilla\",\n",
    "    \"13\": \"50_vanilla\",\n",
    "    \"14\": \"05_sr\",\n",
    "    \"15\": \"10_sr\",\n",
    "    \"16\": \"50_sr\",\n",
    "    \"17\": \"05_sr_grasps\",\n",
    "    \"18\": \"10_sr_grasps\",\n",
    "    \"19\": \"50_sr_grasps\",\n",
    "    \"20\": \"05_grasps\",\n",
    "    \"21\": \"10_grasps\",\n",
    "    \"22\": \"50_grasps\",\n",
    "    \"23\": \"05_pretrained_sn\",\n",
    "    \"24\": \"10_pretrained_sn\",\n",
    "    \"25\": \"50_pretrained_sn\"\n",
    "}"
   ]
  },
  {
   "cell_type": "code",
   "execution_count": 2,
   "id": "artistic-queensland",
   "metadata": {},
   "outputs": [],
   "source": [
    "\n",
    "for img_name in os.listdir(img_pth):\n",
    "    obj_name = img_name[:-6]\n",
    "    obj_type = img_name[-6:-4]\n",
    "    \n",
    "    new_name = obj_name + \"_\" + translator[obj_type] + \".png\"\n",
    "    \n",
    "    in_pth = os.path.join(img_pth, img_name)\n",
    "    out_pth = os.path.join(img_out, new_name)\n",
    "    shutil.copyfile(in_pth, out_pth)\n",
    "    \n",
    "    "
   ]
  },
  {
   "cell_type": "code",
   "execution_count": null,
   "id": "favorite-obligation",
   "metadata": {},
   "outputs": [],
   "source": []
  }
 ],
 "metadata": {
  "hide_input": false,
  "kernelspec": {
   "display_name": "Python 3",
   "language": "python",
   "name": "python3"
  },
  "language_info": {
   "codemirror_mode": {
    "name": "ipython",
    "version": 3
   },
   "file_extension": ".py",
   "mimetype": "text/x-python",
   "name": "python",
   "nbconvert_exporter": "python",
   "pygments_lexer": "ipython3",
   "version": "3.7.10"
  },
  "pycharm": {
   "stem_cell": {
    "cell_type": "raw",
    "metadata": {
     "collapsed": false
    },
    "source": []
   }
  },
  "toc": {
   "base_numbering": 1,
   "nav_menu": {},
   "number_sections": true,
   "sideBar": true,
   "skip_h1_title": false,
   "title_cell": "Table of Contents",
   "title_sidebar": "Contents",
   "toc_cell": false,
   "toc_position": {},
   "toc_section_display": true,
   "toc_window_display": false
  },
  "varInspector": {
   "cols": {
    "lenName": 16,
    "lenType": 16,
    "lenVar": 40
   },
   "kernels_config": {
    "python": {
     "delete_cmd_postfix": "",
     "delete_cmd_prefix": "del ",
     "library": "var_list.py",
     "varRefreshCmd": "print(var_dic_list())"
    },
    "r": {
     "delete_cmd_postfix": ") ",
     "delete_cmd_prefix": "rm(",
     "library": "var_list.r",
     "varRefreshCmd": "cat(var_dic_list()) "
    }
   },
   "types_to_exclude": [
    "module",
    "function",
    "builtin_function_or_method",
    "instance",
    "_Feature"
   ],
   "window_display": false
  }
 },
 "nbformat": 4,
 "nbformat_minor": 5
}
