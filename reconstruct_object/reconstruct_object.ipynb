{
 "cells": [
  {
   "cell_type": "code",
   "execution_count": 3,
   "id": "racial-module",
   "metadata": {},
   "outputs": [],
   "source": [
    "import pickle\n",
    "import numpy as np\n",
    "import os\n",
    "\n",
    "from matplotlib import pyplot as plt\n",
    "from mpl_toolkits.mplot3d import Axes3D\n",
    "from mpl_toolkits.mplot3d.art3d import Poly3DCollection\n",
    "import numpy as np\n",
    "\n",
    "import open3d as o3d\n",
    "\n",
    "from collections import defaultdict"
   ]
  },
  {
   "cell_type": "code",
   "execution_count": 4,
   "id": "mature-sharing",
   "metadata": {},
   "outputs": [],
   "source": [
    "%matplotlib inline"
   ]
  },
  {
   "cell_type": "code",
   "execution_count": 5,
   "id": "differential-music",
   "metadata": {},
   "outputs": [],
   "source": [
    "%matplotlib qt"
   ]
  },
  {
   "cell_type": "code",
   "execution_count": 65,
   "id": "capital-arnold",
   "metadata": {},
   "outputs": [],
   "source": [
    "output_dir = \"C:/Users/lucas/Desktop/UPC/MIT/tactile2object/reconstruct_object/\""
   ]
  },
  {
   "cell_type": "markdown",
   "id": "legislative-electric",
   "metadata": {},
   "source": [
    "# Save input pointcloud"
   ]
  },
  {
   "cell_type": "code",
   "execution_count": null,
   "id": "ecological-person",
   "metadata": {},
   "outputs": [],
   "source": [
    "obj_names = [\"005_tomato_soup_can\", \"035_power_drill\", \"052_extra_large_clamp\", \"065-i_cups\"]\n",
    "\n",
    "sel_grasps = {\n",
    "    \"5\": [\"3\"],\n",
    "    \"10\": [\"3\"],\n",
    "    \"50\": [\"0\"]\n",
    "}\n",
    "\n",
    "input_pointcloud_dir = \"C:/Users/lucas/Desktop/UPC/MIT/tactile2object/ycb_different_grasps_2/ycb_con_grasps_2/\""
   ]
  },
  {
   "cell_type": "code",
   "execution_count": 82,
   "id": "attempted-foster",
   "metadata": {},
   "outputs": [],
   "source": [
    "output_pointcloud_dir = os.path.join(output_dir, \"input_pointcloud\")\n",
    "\n",
    "for sel_grasp in sel_grasps:\n",
    "    for grasp_num in sel_grasps[sel_grasp]:\n",
    "        for obj_name in obj_names:\n",
    "            input_pointcloud_pth = os.path.join(input_pointcloud_dir, sel_grasp + \"_grasps\", obj_name + \"_\" + sel_grasp + \"-\" + grasp_num, \"pointcloud.npz\")\n",
    "            input_pointcloud = o3d.geometry.PointCloud()\n",
    "            input_pointcloud.points = o3d.utility.Vector3dVector(np.load(input_pointcloud_pth)['points'])\n",
    "            \n",
    "            out_pth = os.path.join(output_pointcloud_dir, obj_name + \"_\" + sel_grasp + \"-\" + grasp_num + \".ply\")\n",
    "            o3d.io.write_point_cloud(out_pth, input_pointcloud)"
   ]
  },
  {
   "cell_type": "markdown",
   "id": "demonstrated-dallas",
   "metadata": {},
   "source": [
    "# Reconstruct objects"
   ]
  },
  {
   "cell_type": "code",
   "execution_count": 133,
   "id": "molecular-restaurant",
   "metadata": {},
   "outputs": [],
   "source": [
    "ply_dir = \"C:/Users/lucas/Desktop/UPC/MIT/tactile2object/reconstruct_object/input_pointcloud/\"\n",
    "out_BallPivoting_dir = os.path.join(output_dir, \"reconstruction_BallPivoting\")\n",
    "\n",
    "if not os.path.exists(out_BallPivoting_dir):\n",
    "    os.makedirs(out_BallPivoting_dir)\n",
    "    \n",
    "out_Poisson_dir = os.path.join(output_dir, \"reconstruction_Poisson\")\n",
    "if not os.path.exists(out_Poisson_dir):\n",
    "    os.makedirs(out_Poisson_dir)"
   ]
  },
  {
   "cell_type": "code",
   "execution_count": 147,
   "id": "hybrid-damages",
   "metadata": {},
   "outputs": [],
   "source": [
    "%%capture\n",
    "for obj_name in os.listdir(ply_dir):\n",
    "    ply_pth = os.path.join(ply_dir, obj_name)\n",
    "    \n",
    "    # Load pointcloud\n",
    "    pcd_in = o3d.io.read_point_cloud(ply_pth)\n",
    "\n",
    "    # Estimate normals and orient them\n",
    "    pcd_in.estimate_normals()\n",
    "    pcd_in.orient_normals_towards_camera_location(camera_location=np.array([0., 0., 0.]))\n",
    "    normals = np.asarray(pcd_in.normals)\n",
    "    pcd_in.normals = o3d.utility.Vector3dVector(- normals)\n",
    "\n",
    "    # Reconstruct object Ball pivoting\n",
    "    radii = [0.005, 0.01, 0.02, 0.04, 0.06, 0.08, 0.1, 0.12, 0.14]\n",
    "\n",
    "    rec_BP_mesh = o3d.geometry.TriangleMesh.create_from_point_cloud_ball_pivoting(\n",
    "        pcd_in, o3d.utility.DoubleVector(radii))\n",
    "    rec_BP_mesh.paint_uniform_color([0.7, 0.7, 0.7])\n",
    "    # o3d.visualization.draw_geometries([rec_mesh], mesh_show_back_face=True)\n",
    "\n",
    "    # Save object Ball pivoting\n",
    "    out_pth = os.path.join(out_BallPivoting_dir, obj_name)\n",
    "    o3d.io.write_triangle_mesh(out_pth, rec_BP_mesh)\n",
    "    \n",
    "    # Reconstruction Poisson\n",
    "    with o3d.utility.VerbosityContextManager(o3d.utility.VerbosityLevel.Debug) as cm:\n",
    "        rec_P_mesh, densities = o3d.geometry.TriangleMesh.create_from_point_cloud_poisson(pcd_in, depth=9)\n",
    "    rec_P_mesh.compute_triangle_normals()\n",
    "    #rec_P_mesh.compute_vertex_normals()\n",
    "    rec_P_mesh.paint_uniform_color([0.7, 0.7, 0.7])\n",
    "    \n",
    "    # Save object Poisson\n",
    "    out_pth = os.path.join(out_Poisson_dir, obj_name)\n",
    "    o3d.io.write_triangle_mesh(out_pth, rec_P_mesh)"
   ]
  }
 ],
 "metadata": {
  "hide_input": false,
  "kernelspec": {
   "display_name": "Python 3",
   "language": "python",
   "name": "python3"
  },
  "pycharm": {
   "stem_cell": {
    "cell_type": "raw",
    "metadata": {
     "collapsed": false
    },
    "source": []
   }
  },
  "toc": {
   "base_numbering": 1,
   "nav_menu": {},
   "number_sections": true,
   "sideBar": true,
   "skip_h1_title": false,
   "title_cell": "Table of Contents",
   "title_sidebar": "Contents",
   "toc_cell": false,
   "toc_position": {},
   "toc_section_display": true,
   "toc_window_display": false
  },
  "varInspector": {
   "cols": {
    "lenName": 16,
    "lenType": 16,
    "lenVar": 40
   },
   "kernels_config": {
    "python": {
     "delete_cmd_postfix": "",
     "delete_cmd_prefix": "del ",
     "library": "var_list.py",
     "varRefreshCmd": "print(var_dic_list())"
    },
    "r": {
     "delete_cmd_postfix": ") ",
     "delete_cmd_prefix": "rm(",
     "library": "var_list.r",
     "varRefreshCmd": "cat(var_dic_list()) "
    }
   },
   "types_to_exclude": [
    "module",
    "function",
    "builtin_function_or_method",
    "instance",
    "_Feature"
   ],
   "window_display": false
  }
 },
 "nbformat": 4,
 "nbformat_minor": 5
}
