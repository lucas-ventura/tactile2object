{
 "cells": [
  {
   "cell_type": "code",
   "execution_count": 5,
   "id": "organized-battle",
   "metadata": {
    "pycharm": {
     "name": "#%%\n"
    }
   },
   "outputs": [],
   "source": [
    "import os\n",
    "import open3d as o3d\n",
    "import numpy as np\n",
    "import pickle\n",
    "import pymeshlab\n",
    "from shutil import copyfile\n",
    "\n",
    "import random"
   ]
  },
  {
   "cell_type": "code",
   "execution_count": 6,
   "id": "every-hardware",
   "metadata": {
    "pycharm": {
     "name": "#%%\n"
    }
   },
   "outputs": [],
   "source": [
    "ycb_dir = \"ycb_different_grasps\"\n",
    "\n",
    "# Path to the directory with all the folders with the pickle pressure files\n",
    "pressure_path = \"C:/Users/lucas/Desktop/UPC/MIT/manopth/outputs/graspit_to_mano/ycb/\""
   ]
  },
  {
   "cell_type": "code",
   "execution_count": 8,
   "id": "protecting-tender",
   "metadata": {},
   "outputs": [],
   "source": [
    "test = [\n",
    "        \"036_wood_block\",\n",
    "        \"035_power_drill\",\n",
    "        \"026_sponge\",\n",
    "        \"044_flat_screwdriver\",\n",
    "        \"043_phillips_screwdriver\",\n",
    "        \"058_golf_ball\",\n",
    "        \"065-i_cups\",\n",
    "        \"003_cracker_box\",\n",
    "        \"022_windex_bottle\",\n",
    "        \"029_plate\",\n",
    "        \"013_apple\",\n",
    "        \"033_spatula\",\n",
    "        \"052_extra_large_clamp\",\n",
    "        \"005_tomato_soup_can\",\n",
    "        \"056_tennis_ball\",\n",
    "        \"070-a_colored_wood_blocks\",\n",
    "        \"073-d_lego_duplo\"\n",
    "]"
   ]
  },
  {
   "cell_type": "markdown",
   "id": "thrown-answer",
   "metadata": {},
   "source": [
    "# Convert pressure info to pointcloud"
   ]
  },
  {
   "cell_type": "code",
   "execution_count": 10,
   "id": "square-constitutional",
   "metadata": {
    "pycharm": {
     "name": "#%%\n"
    }
   },
   "outputs": [],
   "source": [
    "pressure_pointcloud_path = os.path.join(ycb_dir, \"5_pressure_pointcloud\")\n",
    "\n",
    "if not os.path.exists(pressure_pointcloud_path):\n",
    "    os.makedirs(pressure_pointcloud_path)"
   ]
  },
  {
   "cell_type": "code",
   "execution_count": 21,
   "id": "great-coach",
   "metadata": {},
   "outputs": [],
   "source": [
    "n_samples = [5, 10, 20, 50]"
   ]
  },
  {
   "cell_type": "code",
   "execution_count": 28,
   "id": "brave-system",
   "metadata": {
    "pycharm": {
     "name": "#%%\n"
    }
   },
   "outputs": [],
   "source": [
    "get_obj_name = lambda name : name[:len(name) - 14]\n",
    "obj_names = []\n",
    "\n",
    "for n in n_samples:\n",
    "    for obj_test in test:\n",
    "        obj_folder = obj_test +\"_pressure_info\"\n",
    "\n",
    "        pkls_path = os.path.join(pressure_path, obj_folder)\n",
    "        obj_name = get_obj_name(obj_folder)\n",
    "\n",
    "        # Get sensor info from every pkl file\n",
    "        all_sensors_xyz = []\n",
    "        all_sensors_pressure = []\n",
    "        \n",
    "        try:\n",
    "            for pkl_name in random.sample(os.listdir(pkls_path), n):\n",
    "                pkl_path = os.path.join(pkls_path, pkl_name)\n",
    "\n",
    "\n",
    "                pressure_info = pickle.load( open( pkl_path, \"rb\") )\n",
    "\n",
    "                # Load the sensors pressure and take only the ones that have pressure greater than 0\n",
    "                sensors_pressure = pressure_info['sensors_pressure']\n",
    "                idx_sensors = np.nonzero(sensors_pressure)\n",
    "\n",
    "                sensors_xyz = pressure_info['sensors_xyz'][idx_sensors]\n",
    "                sensors_pressure = sensors_pressure[idx_sensors]\n",
    "\n",
    "                all_sensors_xyz.append(sensors_xyz)\n",
    "                all_sensors_pressure.append(sensors_pressure)\n",
    "\n",
    "            sensors_xyz = np.concatenate(all_sensors_xyz)\n",
    "            sensors_pressure = np.concatenate(all_sensors_pressure)\n",
    "\n",
    "            # Point cloud of the geneated object\n",
    "            pcd_gen = o3d.geometry.PointCloud()\n",
    "            pcd_gen.points = o3d.utility.Vector3dVector(sensors_xyz)\n",
    "\n",
    "            pcd_gen.estimate_normals()\n",
    "            pcd_gen.orient_normals_consistent_tangent_plane(50)\n",
    "\n",
    "            ply_pth = os.path.join(pressure_pointcloud_path, f\"{obj_name}_{n}.ply\")\n",
    "            obj_names.append(f\"{obj_name}_{n}\")\n",
    "            o3d.io.write_point_cloud(ply_pth, pcd_gen)\n",
    "        except:\n",
    "            pass"
   ]
  },
  {
   "cell_type": "code",
   "execution_count": 43,
   "id": "quality-belgium",
   "metadata": {},
   "outputs": [
    {
     "data": {
      "text/plain": [
       "20"
      ]
     },
     "execution_count": 43,
     "metadata": {},
     "output_type": "execute_result"
    }
   ],
   "source": [
    "\n",
    "\n",
    "s = obj_names[3]\n"
   ]
  },
  {
   "cell_type": "code",
   "execution_count": 42,
   "id": "regional-egypt",
   "metadata": {},
   "outputs": [
    {
     "data": {
      "text/plain": [
       "'044_flat_screwdriver'"
      ]
     },
     "execution_count": 42,
     "metadata": {},
     "output_type": "execute_result"
    }
   ],
   "source": [
    "obj_names[3][:20]"
   ]
  },
  {
   "cell_type": "markdown",
   "id": "indirect-windsor",
   "metadata": {},
   "source": [
    "# Generate data for Convolutional Occupancy Networks\n",
    "Generate the pointcloud.npz files"
   ]
  },
  {
   "cell_type": "code",
   "execution_count": 44,
   "id": "norman-olympus",
   "metadata": {
    "pycharm": {
     "name": "#%%\n"
    }
   },
   "outputs": [],
   "source": [
    "pressure_points_path = os.path.join(ycb_dir, \"6_pressure_pointcloud\")\n",
    "\n",
    "if not os.path.exists(pressure_points_path):\n",
    "    os.makedirs(pressure_points_path)\n",
    "    \n",
    "for obj_name in obj_names:\n",
    "    s = obj_name\n",
    "    pos = [pos for pos, char in enumerate(s) if char == '_'][-1]\n",
    "    pc_pth = os.path.join(ycb_dir, \"4_pointcloud\", f\"{obj_name[:pos]}.npz\")\n",
    "    pc_npz = np.load(pc_pth)\n",
    "\n",
    "    translation = pc_npz['loc'].tolist()\n",
    "    scale = pc_npz['scale'].item()\n",
    "\n",
    "    ply_pth = os.path.join(pressure_pointcloud_path, f\"{obj_name}.ply\")\n",
    "    pcd_pressure = o3d.io.read_point_cloud(ply_pth)\n",
    "\n",
    "    points = (np.asarray(pcd_pressure.points) - translation) / scale\n",
    "    normals = np.asarray(pcd_pressure.normals)\n",
    "\n",
    "    npz_pth = os.path.join(pressure_points_path, obj_name)\n",
    "    np.savez(npz_pth, \n",
    "             points=points, \n",
    "             normals=normals,\n",
    "             loc=pc_npz['loc'],\n",
    "             scale=pc_npz['scale']\n",
    "             )"
   ]
  },
  {
   "cell_type": "markdown",
   "id": "greatest-powder",
   "metadata": {
    "pycharm": {
     "name": "#%%\n"
    }
   },
   "source": [
    "# Create dataset"
   ]
  },
  {
   "cell_type": "code",
   "execution_count": 45,
   "id": "pregnant-bikini",
   "metadata": {},
   "outputs": [],
   "source": [
    "dataset_pth = os.path.join(ycb_dir, \"ycb_con\")\n",
    "\n",
    "if not os.path.exists(dataset_pth):\n",
    "    os.makedirs(dataset_pth)"
   ]
  },
  {
   "cell_type": "code",
   "execution_count": 48,
   "id": "painful-saturday",
   "metadata": {
    "pycharm": {
     "name": "#%%\n"
    }
   },
   "outputs": [],
   "source": [
    "for obj_name in obj_names:\n",
    "    s = obj_name\n",
    "    pos = [pos for pos, char in enumerate(s) if char == '_'][-1]\n",
    "    obj_dir = os.path.join(dataset_pth, obj_name)\n",
    "    \n",
    "    if not os.path.exists(obj_dir):\n",
    "        os.makedirs(obj_dir)\n",
    "        \n",
    "    src_pth_ps = os.path.join(ycb_dir, \"4_points\", f\"{obj_name[:pos]}.npz\")\n",
    "    dst_pth_ps = os.path.join(obj_dir, \"points.npz\")\n",
    "    copyfile(src_pth_ps, dst_pth_ps)\n",
    "    \n",
    "    src_pth_pcd = os.path.join(pressure_points_path, f\"{obj_name}.npz\")\n",
    "    dst_pth_pcd = os.path.join(obj_dir, \"pointcloud.npz\")\n",
    "    copyfile(src_pth_pcd, dst_pth_pcd)"
   ]
  },
  {
   "cell_type": "code",
   "execution_count": 62,
   "id": "broadband-river",
   "metadata": {},
   "outputs": [],
   "source": [
    "test_pth = os.path.join(dataset_pth, 'test.lst')\n",
    "\n",
    "with open(test_pth, 'w') as filehandle:\n",
    "    for obj_name in obj_names:\n",
    "        filehandle.write('%s\\n' % obj_name)"
   ]
  },
  {
   "cell_type": "markdown",
   "id": "dependent-regulation",
   "metadata": {},
   "source": [
    "# Compute average number of points per grasp"
   ]
  },
  {
   "cell_type": "code",
   "execution_count": 18,
   "id": "knowing-basics",
   "metadata": {},
   "outputs": [],
   "source": [
    "get_obj_name = lambda name : name[:len(name) - 14]\n",
    "obj_names = []\n",
    "\n",
    "avg = []\n",
    "\n",
    "for obj_folder in os.listdir(pressure_path):\n",
    "\n",
    "    pkls_path = os.path.join(pressure_path, obj_folder)\n",
    "    obj_name = get_obj_name(obj_folder)\n",
    "    obj_names.append(obj_name)\n",
    "    \n",
    "    # Get sensor info from every pkl file\n",
    "    all_sensors_xyz = []\n",
    "    all_sensors_pressure = []\n",
    "\n",
    "    for pkl_name in os.listdir(pkls_path):\n",
    "        pkl_path = os.path.join(pkls_path, pkl_name)\n",
    "\n",
    "\n",
    "        pressure_info = pickle.load( open( pkl_path, \"rb\") )\n",
    "\n",
    "        # Load the sensors pressure and take only the ones that have pressure greater than 0\n",
    "        sensors_pressure = pressure_info['sensors_pressure']\n",
    "        idx_sensors = np.nonzero(sensors_pressure)\n",
    "        \n",
    "        avg.append(len(idx_sensors[0]))"
   ]
  },
  {
   "cell_type": "code",
   "execution_count": 19,
   "id": "incident-costa",
   "metadata": {},
   "outputs": [
    {
     "data": {
      "text/plain": [
       "38.73090498376394"
      ]
     },
     "execution_count": 19,
     "metadata": {},
     "output_type": "execute_result"
    }
   ],
   "source": [
    "sum(avg) / len(avg)"
   ]
  },
  {
   "cell_type": "markdown",
   "source": [
    "# To create dataset with different number of grasps"
   ],
   "metadata": {
    "collapsed": false
   }
  },
  {
   "cell_type": "code",
   "execution_count": null,
   "outputs": [],
   "source": [
    "get_obj_name = lambda name : name[:len(name) - 14]\n",
    "obj_names = []\n",
    "n_samples_dict = defaultdict(list)\n",
    "\n",
    "for n in n_samples:\n",
    "    for obj_folder in os.listdir(pressure_path):\n",
    "        pkls_path = os.path.join(pressure_path, obj_folder)\n",
    "        obj_name = get_obj_name(obj_folder)\n",
    "        \n",
    "        # Get sensor info from every pkl file\n",
    "        all_sensors_xyz = []\n",
    "        all_sensors_pressure = []\n",
    "        \n",
    "        for letter in \"abcde\":\n",
    "            try:\n",
    "                for pkl_name in random.sample(os.listdir(pkls_path), n):\n",
    "                        pkl_path = os.path.join(pkls_path, pkl_name)\n",
    "                        n_samples_dict[f\"{n}_{letter}\"].append(os.path.split(pkl_path)[-1])\n",
    "            except:\n",
    "                pass"
   ],
   "metadata": {
    "collapsed": false,
    "pycharm": {
     "name": "#%%\n"
    }
   }
  },
  {
   "cell_type": "code",
   "execution_count": null,
   "outputs": [],
   "source": [],
   "metadata": {
    "collapsed": false,
    "pycharm": {
     "name": "#%%\n"
    }
   }
  },
  {
   "cell_type": "code",
   "execution_count": null,
   "outputs": [],
   "source": [],
   "metadata": {
    "collapsed": false,
    "pycharm": {
     "name": "#%%\n"
    }
   }
  },
  {
   "cell_type": "markdown",
   "id": "outstanding-occasions",
   "metadata": {},
   "source": []
  },
  {
   "cell_type": "code",
   "execution_count": null,
   "id": "mechanical-rider",
   "metadata": {},
   "outputs": [],
   "source": [
    "get_obj_name = lambda name : name[:len(name) - 14]\n",
    "obj_names = []\n",
    "n_samples_dict = defaultdict(list)\n",
    "\n",
    "for n in n_samples:\n",
    "    for obj_folder in os.listdir(pressure_path):\n",
    "        pkls_path = os.path.join(pressure_path, obj_folder)\n",
    "        obj_name = get_obj_name(obj_folder)\n",
    "        \n",
    "        # Get sensor info from every pkl file\n",
    "        all_sensors_xyz = []\n",
    "        all_sensors_pressure = []\n",
    "        \n",
    "        for letter in \"abcde\":\n",
    "            try:\n",
    "                for pkl_name in random.sample(os.listdir(pkls_path), n):\n",
    "                        pkl_path = os.path.join(pkls_path, pkl_name)\n",
    "                        n_samples_dict[f\"{n}_{letter}\"].append(os.path.split(pkl_path)[-1])\n",
    "            except:\n",
    "                pass"
   ]
  },
  {
   "cell_type": "code",
   "execution_count": null,
   "id": "rubber-guard",
   "metadata": {},
   "outputs": [],
   "source": []
  },
  {
   "cell_type": "code",
   "execution_count": null,
   "id": "educational-rescue",
   "metadata": {},
   "outputs": [],
   "source": []
  }
 ],
 "metadata": {
  "kernelspec": {
   "display_name": "Python 3",
   "language": "python",
   "name": "python3"
  },
  "language_info": {
   "codemirror_mode": {
    "name": "ipython",
    "version": 3
   },
   "file_extension": ".py",
   "mimetype": "text/x-python",
   "name": "python",
   "nbconvert_exporter": "python",
   "pygments_lexer": "ipython3",
   "version": "3.7.10"
  },
  "pycharm": {
   "stem_cell": {
    "cell_type": "raw",
    "source": [],
    "metadata": {
     "collapsed": false
    }
   }
  }
 },
 "nbformat": 4,
 "nbformat_minor": 5
}