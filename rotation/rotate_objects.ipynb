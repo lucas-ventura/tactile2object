{
 "cells": [
  {
   "cell_type": "code",
   "execution_count": 19,
   "id": "frequent-spyware",
   "metadata": {},
   "outputs": [],
   "source": [
    "import os\n",
    "import open3d as o3d\n",
    "import copy\n",
    "import numpy as np"
   ]
  },
  {
   "cell_type": "code",
   "execution_count": 107,
   "id": "smooth-characteristic",
   "metadata": {},
   "outputs": [],
   "source": [
    "obj_name = \"072-a_toy_airplane\"\n",
    "input_obj = f\"C:/Users/lucas/Desktop/UPC/MIT/tactile2object/ycb/0_in/{obj_name}.off\"\n",
    "\n",
    "out_dir = \"0_in\"\n",
    "\n",
    "if not os.path.exists(out_dir):\n",
    "    os.makedirs(out_dir)"
   ]
  },
  {
   "cell_type": "code",
   "execution_count": 108,
   "id": "identical-stake",
   "metadata": {},
   "outputs": [],
   "source": [
    "mesh = o3d.io.read_triangle_mesh(input_obj)\n",
    "mesh.compute_vertex_normals()\n",
    "mesh.paint_uniform_color([0.7, 0.706, 0])\n",
    "center = mesh.get_center()"
   ]
  },
  {
   "cell_type": "code",
   "execution_count": 109,
   "id": "complicated-rouge",
   "metadata": {},
   "outputs": [
    {
     "name": "stdout",
     "output_type": "stream",
     "text": [
      "[Open3D WARNING] Write OFF cannot include triangle normals.\n",
      "[Open3D WARNING] Write OFF cannot include triangle normals.\n",
      "[Open3D WARNING] Write OFF cannot include triangle normals.\n",
      "[Open3D WARNING] Write OFF cannot include triangle normals.\n",
      "[Open3D WARNING] Write OFF cannot include triangle normals.\n",
      "[Open3D WARNING] Write OFF cannot include triangle normals.\n",
      "[Open3D WARNING] Write OFF cannot include triangle normals.\n",
      "[Open3D WARNING] Write OFF cannot include triangle normals.\n",
      "[Open3D WARNING] Write OFF cannot include triangle normals.\n",
      "[Open3D WARNING] Write OFF cannot include triangle normals.\n",
      "[Open3D WARNING] Write OFF cannot include triangle normals.\n",
      "[Open3D WARNING] Write OFF cannot include triangle normals.\n"
     ]
    }
   ],
   "source": [
    "num = lambda x : str(x).zfill(3)\n",
    "\n",
    "for axis in np.identity(3, dtype=int):    \n",
    "    for quadrant in range(4):\n",
    "        ra, rb, rc = list((map(num, quadrant * axis * 90)))\n",
    "        rotation = quadrant * axis * np.pi / 2\n",
    "\n",
    "        mesh_r = copy.deepcopy(mesh)\n",
    "        R = mesh.get_rotation_matrix_from_xyz(rotation)\n",
    "        mesh_r.rotate(R, center=center)\n",
    "        # o3d.visualization.draw_geometries([mesh, mesh_r])\n",
    "\n",
    "        name = obj_name + \"_\" + ra + \"_\" + rb + \"_\" + rc + \".off\"\n",
    "        out_pth = os.path.join(out_dir, name)\n",
    "        o3d.io.write_triangle_mesh(out_pth, mesh_r,\n",
    "                                   write_vertex_normals=False, \n",
    "                                   write_triangle_uvs=False, \n",
    "                                   write_vertex_colors=False)\n"
   ]
  },
  {
   "cell_type": "code",
   "execution_count": 100,
   "id": "numerous-violence",
   "metadata": {},
   "outputs": [
    {
     "data": {
      "text/plain": [
       "'0_in\\\\072-a_toy_airplane_000_000_270.off'"
      ]
     },
     "execution_count": 100,
     "metadata": {},
     "output_type": "execute_result"
    }
   ],
   "source": [
    "out_pth"
   ]
  },
  {
   "cell_type": "code",
   "execution_count": 55,
   "id": "universal-debut",
   "metadata": {},
   "outputs": [],
   "source": []
  },
  {
   "cell_type": "code",
   "execution_count": 56,
   "id": "devoted-definition",
   "metadata": {},
   "outputs": [
    {
     "data": {
      "text/plain": [
       "array([[-1.0000000e+00, -1.2246468e-16,  0.0000000e+00],\n",
       "       [ 1.2246468e-16, -1.0000000e+00,  0.0000000e+00],\n",
       "       [ 0.0000000e+00,  0.0000000e+00,  1.0000000e+00]])"
      ]
     },
     "execution_count": 56,
     "metadata": {},
     "output_type": "execute_result"
    }
   ],
   "source": [
    "R"
   ]
  },
  {
   "cell_type": "code",
   "execution_count": null,
   "id": "olive-sleep",
   "metadata": {},
   "outputs": [],
   "source": []
  },
  {
   "cell_type": "code",
   "execution_count": 25,
   "id": "veterinary-indie",
   "metadata": {},
   "outputs": [],
   "source": [
    "mesh = o3d.geometry.TriangleMesh.create_coordinate_frame()\n",
    "mesh_r = copy.deepcopy(mesh)\n",
    "R = mesh.get_rotation_matrix_from_xyz((np.pi / 2, 0, np.pi / 4))\n",
    "mesh_r.rotate(R, center=center)\n",
    "o3d.visualization.draw_geometries([mesh, mesh_r])"
   ]
  },
  {
   "cell_type": "code",
   "execution_count": 13,
   "id": "seven-bulgaria",
   "metadata": {},
   "outputs": [
    {
     "data": {
      "text/plain": [
       "array([], shape=(10, 0, 0), dtype=float64)"
      ]
     },
     "execution_count": 13,
     "metadata": {},
     "output_type": "execute_result"
    }
   ],
   "source": [
    "np.ndarray((10, 0, 0))"
   ]
  },
  {
   "cell_type": "code",
   "execution_count": null,
   "id": "australian-court",
   "metadata": {},
   "outputs": [],
   "source": []
  },
  {
   "cell_type": "code",
   "execution_count": null,
   "id": "gothic-archive",
   "metadata": {},
   "outputs": [],
   "source": []
  },
  {
   "cell_type": "code",
   "execution_count": 21,
   "id": "fluid-medline",
   "metadata": {},
   "outputs": [],
   "source": [
    "input_obj = \"1_scaled/003_cracker_box.off\"\n",
    "\n",
    "mesh = o3d.io.read_triangle_mesh(input_obj)\n",
    "mesh.compute_vertex_normals()\n",
    "mesh.paint_uniform_color([0.7, 0.706, 0])\n",
    "\n",
    "R = mesh.get_rotation_matrix_from_xyz((np.pi / 2, 0, np.pi / 4))\n",
    "mesh_r.rotate(R, center=(0, 0, 0))\n",
    "o3d.visualization.draw_geometries([mesh, mesh_r])"
   ]
  },
  {
   "cell_type": "code",
   "execution_count": 27,
   "id": "initial-imagination",
   "metadata": {},
   "outputs": [
    {
     "name": "stdout",
     "output_type": "stream",
     "text": [
      "[Open3D WARNING] GLFW Error: WGL: Failed to make context current: The handle is invalid. \n",
      "[Open3D WARNING] GLFW Error: WGL: Failed to make context current: The handle is invalid. \n",
      "[Open3D WARNING] GLFW Error: WGL: Failed to make context current: The requested transformation operation is not supported. \n",
      "[Open3D WARNING] GLFW Error: WGL: Failed to make context current: The requested transformation operation is not supported. \n",
      "[Open3D WARNING] GLFW Error: WGL: Failed to make context current: The requested transformation operation is not supported. \n",
      "[Open3D WARNING] GLFW Error: WGL: Failed to make context current: The handle is invalid. \n"
     ]
    }
   ],
   "source": [
    "input_obj = \"2_watertight/003_cracker_box.off\"\n",
    "\n",
    "mesh = o3d.io.read_triangle_mesh(input_obj)\n",
    "mesh.compute_vertex_normals()\n",
    "mesh.paint_uniform_color([0.7, 0.706, 0])\n",
    "\n",
    "R = mesh.get_rotation_matrix_from_xyz((np.pi / 2, 0, 0))\n",
    "mesh_r.rotate(R, center=(0, 0, 0))\n",
    "o3d.visualization.draw_geometries([mesh, mesh_r])"
   ]
  },
  {
   "cell_type": "code",
   "execution_count": 110,
   "id": "strong-brand",
   "metadata": {},
   "outputs": [
    {
     "data": {
      "text/plain": [
       "array([36.03013723, 30.86589313, 74.27965608])"
      ]
     },
     "execution_count": 110,
     "metadata": {},
     "output_type": "execute_result"
    }
   ],
   "source": [
    "center"
   ]
  },
  {
   "cell_type": "code",
   "execution_count": null,
   "id": "blond-sustainability",
   "metadata": {},
   "outputs": [],
   "source": []
  },
  {
   "cell_type": "code",
   "execution_count": null,
   "id": "cordless-refund",
   "metadata": {},
   "outputs": [],
   "source": []
  },
  {
   "cell_type": "code",
   "execution_count": null,
   "id": "eligible-currency",
   "metadata": {},
   "outputs": [],
   "source": []
  },
  {
   "cell_type": "code",
   "execution_count": 16,
   "id": "heard-examination",
   "metadata": {},
   "outputs": [],
   "source": [
    "mesh = o3d.geometry.TriangleMesh.create_coordinate_frame()\n",
    "mesh_r = copy.deepcopy(mesh)\n",
    "R = mesh.get_rotation_matrix_from_xyz((np.pi / 4, 0, 0))\n",
    "mesh_r.rotate(R, center=(0, 0, 0))\n",
    "o3d.visualization.draw_geometries([mesh, mesh_r])"
   ]
  },
  {
   "cell_type": "code",
   "execution_count": 18,
   "id": "velvet-delta",
   "metadata": {},
   "outputs": [
    {
     "data": {
      "text/plain": [
       "array([0.05167549, 0.05167549, 0.05167549])"
      ]
     },
     "execution_count": 18,
     "metadata": {},
     "output_type": "execute_result"
    }
   ],
   "source": []
  },
  {
   "cell_type": "code",
   "execution_count": null,
   "id": "dietary-insertion",
   "metadata": {},
   "outputs": [],
   "source": []
  }
 ],
 "metadata": {
  "kernelspec": {
   "display_name": "Python 3",
   "language": "python",
   "name": "python3"
  },
  "language_info": {
   "codemirror_mode": {
    "name": "ipython",
    "version": 3
   },
   "file_extension": ".py",
   "mimetype": "text/x-python",
   "name": "python",
   "nbconvert_exporter": "python",
   "pygments_lexer": "ipython3",
   "version": "3.7.10"
  }
 },
 "nbformat": 4,
 "nbformat_minor": 5
}
