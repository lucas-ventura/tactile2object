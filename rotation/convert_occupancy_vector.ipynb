{
 "cells": [
  {
   "cell_type": "code",
   "execution_count": 1,
   "id": "apart-harassment",
   "metadata": {},
   "outputs": [],
   "source": [
    "import numpy as np\n",
    "import os\n",
    "import re\n",
    "\n",
    "import open3d as o3d\n",
    "\n",
    "import copy"
   ]
  },
  {
   "cell_type": "markdown",
   "id": "color-reform",
   "metadata": {},
   "source": [
    "# Check input pointcloud"
   ]
  },
  {
   "cell_type": "code",
   "execution_count": 2,
   "id": "third-collar",
   "metadata": {},
   "outputs": [],
   "source": [
    "pcd_pressure = o3d.io.read_point_cloud(\"072-a_toy_airplane.ply\")\n",
    "\n",
    "o3d.visualization.draw_geometries([pcd_pressure])"
   ]
  },
  {
   "cell_type": "markdown",
   "id": "attempted-poland",
   "metadata": {},
   "source": [
    "# Load points and pointcloud"
   ]
  },
  {
   "cell_type": "code",
   "execution_count": 3,
   "id": "hundred-gender",
   "metadata": {},
   "outputs": [],
   "source": [
    "pcd_pth = \"4_pointcloud/\"\n",
    "pts_pth = \"4_points/\""
   ]
  },
  {
   "cell_type": "code",
   "execution_count": 4,
   "id": "alternate-shore",
   "metadata": {},
   "outputs": [],
   "source": [
    "occupancies_dict = dict()\n",
    "points_dict = dict()\n",
    "for npz_name in os.listdir(pts_pth):\n",
    "    # Check rotations\n",
    "    *_, ra, rb, rc, _ = re.split('_|\\.',npz_name)\n",
    "    \n",
    "    # Load points .npz\n",
    "    npz_pth = os.path.join(pts_pth, npz_name)\n",
    "    npz_pts = np.load(npz_pth)\n",
    "    \n",
    "    occupancies_dict[(ra, rb, rc)] = npz_pts['occupancies']\n",
    "    points_dict[(ra, rb, rc)] = npz_pts['points']"
   ]
  },
  {
   "cell_type": "code",
   "execution_count": 5,
   "id": "organizational-orlando",
   "metadata": {},
   "outputs": [],
   "source": [
    "occupancies_a = occupancies_dict[('000', '000', '000')]\n",
    "points_a = points_dict[('000', '000', '000')]\n",
    "occupancies_a = np.unpackbits(occupancies_a)[:points_a.shape[0]]\n",
    "occupancies_a = occupancies_a.astype(np.float32)\n",
    "\n",
    "ind_a = np.nonzero(occupancies_a)[0]\n",
    "pts_a = points_a[ind_a]\n",
    "\n",
    "pcd_a = o3d.geometry.PointCloud()\n",
    "pcd_a.points = o3d.utility.Vector3dVector(pts_a)\n",
    "\n",
    "\n",
    "occupancies_b = occupancies_dict[('000', '000', '180')]\n",
    "points_b = points_dict[('000', '000', '180')]\n",
    "occupancies_b = np.unpackbits(occupancies_b)[:points_b.shape[0]]\n",
    "occupancies_b = occupancies_b.astype(np.float32)\n",
    "\n",
    "ind_b = np.nonzero(occupancies_b)[0]\n",
    "pts_b = points_b[ind_b]\n",
    "\n",
    "pcd_b = o3d.geometry.PointCloud()\n",
    "pcd_b.points = o3d.utility.Vector3dVector(pts_b)"
   ]
  },
  {
   "cell_type": "code",
   "execution_count": 6,
   "id": "catholic-willow",
   "metadata": {},
   "outputs": [],
   "source": [
    "o3d.visualization.draw_geometries([pcd_a])"
   ]
  },
  {
   "cell_type": "code",
   "execution_count": 7,
   "id": "julian-latitude",
   "metadata": {},
   "outputs": [],
   "source": [
    "pointcloud_b = o3d.geometry.PointCloud()\n",
    "pointcloud_b.points = o3d.utility.Vector3dVector(points_b)\n",
    "\n",
    "o3d.visualization.draw_geometries([pointcloud_b])"
   ]
  },
  {
   "cell_type": "markdown",
   "id": "rubber-double",
   "metadata": {},
   "source": [
    "## Roatate"
   ]
  },
  {
   "cell_type": "code",
   "execution_count": 8,
   "id": "rotary-palace",
   "metadata": {},
   "outputs": [
    {
     "data": {
      "text/plain": [
       "PointCloud with 7340 points."
      ]
     },
     "execution_count": 8,
     "metadata": {},
     "output_type": "execute_result"
    }
   ],
   "source": [
    "pca_a_r = copy.deepcopy(pcd_a)\n",
    "R = pca_a_r.get_rotation_matrix_from_xyz((0, 0, np.pi))\n",
    "pca_a_r.rotate(R, center=(0, 0, 0))"
   ]
  },
  {
   "cell_type": "code",
   "execution_count": 9,
   "id": "pregnant-ordering",
   "metadata": {},
   "outputs": [],
   "source": [
    "o3d.visualization.draw_geometries([pca_a_r, pcd_b])"
   ]
  },
  {
   "cell_type": "code",
   "execution_count": 32,
   "id": "mighty-thumbnail",
   "metadata": {},
   "outputs": [],
   "source": [
    "occupancy = np.where(np.asarray(pointcloud_b.compute_point_cloud_distance(pca_a_r)) < 0.02, 1., 0.)\n",
    "\n",
    "\n",
    "pts_new = o3d.geometry.PointCloud()\n",
    "\n",
    "#pts_new.points = o3d.utility.Vector3dVector(np.asarray(pointcloud_b.points)[occ_indx])"
   ]
  },
  {
   "cell_type": "code",
   "execution_count": 33,
   "id": "directed-australian",
   "metadata": {},
   "outputs": [
    {
     "data": {
      "text/plain": [
       "97749"
      ]
     },
     "execution_count": 33,
     "metadata": {},
     "output_type": "execute_result"
    }
   ],
   "source": [
    "(occupancies_b == occupancy).sum()"
   ]
  },
  {
   "cell_type": "code",
   "execution_count": 18,
   "id": "young-zoning",
   "metadata": {},
   "outputs": [
    {
     "data": {
      "text/plain": [
       "91310"
      ]
     },
     "execution_count": 18,
     "metadata": {},
     "output_type": "execute_result"
    }
   ],
   "source": [
    "(occupancy == occupancies_a).sum()"
   ]
  },
  {
   "cell_type": "code",
   "execution_count": null,
   "id": "potential-removal",
   "metadata": {},
   "outputs": [],
   "source": [
    "pca_a_r.paint_uniform_color([0,0,0])\n",
    "pts_new.paint_uniform_color([0.6, 0.3, 0.4])\n",
    "\n",
    "o3d.visualization.draw_geometries([pca_a_r, pts_new])"
   ]
  },
  {
   "cell_type": "code",
   "execution_count": null,
   "id": "fifth-youth",
   "metadata": {},
   "outputs": [],
   "source": [
    "pcd_occ.points = o3d.utility.Vector3dVector(occupancy)"
   ]
  },
  {
   "cell_type": "code",
   "execution_count": null,
   "id": "sought-composition",
   "metadata": {},
   "outputs": [],
   "source": [
    "( == occupancy).all()"
   ]
  },
  {
   "cell_type": "code",
   "execution_count": null,
   "id": "ranging-third",
   "metadata": {},
   "outputs": [],
   "source": [
    "occupancy"
   ]
  },
  {
   "cell_type": "code",
   "execution_count": null,
   "id": "sublime-impression",
   "metadata": {},
   "outputs": [],
   "source": [
    "pca_a_r.compute_point_cloud_distance(pcd_b)"
   ]
  },
  {
   "cell_type": "code",
   "execution_count": null,
   "id": "subject-genome",
   "metadata": {},
   "outputs": [],
   "source": [
    "# Rotated pointcloud\n",
    "pca_a_r_points = np.asarray(pca_a_r.points)\n",
    "\n",
    "#occupancy = np.zeros(100000)\n",
    "\n",
    "\n",
    "mins = []\n",
    "\n",
    "# We take each point of the pointcloud\n",
    "for i in range(len(pca_a_r_points)):\n",
    "    # Only one point\n",
    "    pcd_d = o3d.geometry.PointCloud()\n",
    "    pcd_d.points = o3d.utility.Vector3dVector(pca_a_r_points[i:i+1])\n",
    "\n",
    "    # Compute index of neareast point in the occupancy vector\n",
    "    dists = pointcloud_b.compute_point_cloud_distance(pcd_d)\n",
    "    dists = np.asarray(dists)\n",
    "    \n",
    "    mins.append(np.min(dists))\n",
    "    \n",
    "    #occupancy[indx] = 1"
   ]
  },
  {
   "cell_type": "code",
   "execution_count": null,
   "id": "american-bibliography",
   "metadata": {},
   "outputs": [],
   "source": [
    "np.asarray(pca_a_r.compute_point_cloud_distance(pointcloud_b)).shape\n",
    "\n",
    "# Between 0.15 and 0.2\n",
    "\n",
    "len()"
   ]
  },
  {
   "cell_type": "code",
   "execution_count": null,
   "id": "surface-smith",
   "metadata": {},
   "outputs": [],
   "source": [
    "vec_d = np.asarray(pointcloud_b.compute_point_cloud_distance(pca_a_r))"
   ]
  },
  {
   "cell_type": "code",
   "execution_count": null,
   "id": "convinced-theater",
   "metadata": {
    "pycharm": {
     "name": "#%%\n"
    }
   },
   "outputs": [],
   "source": [
    "max_d = 0\n",
    "\n",
    "for ind in ind_hola:\n",
    "    min_d = vec_d[ind]\n",
    "    if min_d > max_d:\n",
    "        max_d = min_d\n",
    "        \n"
   ]
  }
 ],
 "metadata": {
  "kernelspec": {
   "display_name": "Python 3",
   "language": "python",
   "name": "python3"
  },
  "language_info": {
   "codemirror_mode": {
    "name": "ipython",
    "version": 3
   },
   "file_extension": ".py",
   "mimetype": "text/x-python",
   "name": "python",
   "nbconvert_exporter": "python",
   "pygments_lexer": "ipython3",
   "version": "3.7.10"
  },
  "pycharm": {
   "stem_cell": {
    "cell_type": "raw",
    "metadata": {
     "collapsed": false
    },
    "source": []
   }
  }
 },
 "nbformat": 4,
 "nbformat_minor": 5
}
