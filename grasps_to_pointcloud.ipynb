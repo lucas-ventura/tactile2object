{
 "cells": [
  {
   "cell_type": "code",
   "execution_count": 1,
   "id": "eligible-corps",
   "metadata": {},
   "outputs": [],
   "source": [
    "import pickle\n",
    "import numpy as np\n",
    "import os\n",
    "\n",
    "from matplotlib import pyplot as plt\n",
    "from mpl_toolkits.mplot3d import Axes3D\n",
    "from mpl_toolkits.mplot3d.art3d import Poly3DCollection\n",
    "import numpy as np\n",
    "\n",
    "import open3d as o3d\n",
    "\n",
    "from collections import defaultdict"
   ]
  },
  {
   "cell_type": "code",
   "execution_count": 3,
   "id": "fundamental-consultancy",
   "metadata": {},
   "outputs": [],
   "source": [
    "pkls_path = \"C:/Users/lucas/Desktop/UPC/MIT/manopth/outputs/graspit_to_mano/ycb/052_extra_large_clamp_pressure_info/\"\n",
    "\n",
    "max_pressure=10\n",
    "threshold_dist=3"
   ]
  },
  {
   "cell_type": "code",
   "execution_count": 4,
   "id": "eleven-runner",
   "metadata": {},
   "outputs": [],
   "source": [
    "%matplotlib inline"
   ]
  },
  {
   "cell_type": "code",
   "execution_count": 5,
   "id": "included-marijuana",
   "metadata": {},
   "outputs": [],
   "source": [
    "%matplotlib qt"
   ]
  },
  {
   "cell_type": "code",
   "execution_count": 6,
   "id": "based-plenty",
   "metadata": {},
   "outputs": [],
   "source": [
    "out_dir = \"C:/Users/lucas/Desktop/UPC/TFM/data/clamp_grasps_pointclouds/\""
   ]
  },
  {
   "cell_type": "code",
   "execution_count": 13,
   "id": "liberal-newspaper",
   "metadata": {},
   "outputs": [],
   "source": [
    "def set_axes_equal(ax):\n",
    "    '''Make axes of 3D plot have equal scale so that spheres appear as spheres,\n",
    "    cubes as cubes, etc..  This is one possible solution to Matplotlib's\n",
    "    ax.set_aspect('equal') and ax.axis('equal') not working for 3D.\n",
    "\n",
    "    Input\n",
    "      ax: a matplotlib axis, e.g., as output from plt.gca().\n",
    "    '''\n",
    "\n",
    "    x_limits = ax.get_xlim3d()\n",
    "    y_limits = ax.get_ylim3d()\n",
    "    z_limits = ax.get_zlim3d()\n",
    "\n",
    "    x_range = abs(x_limits[1] - x_limits[0])\n",
    "    x_middle = np.mean(x_limits)\n",
    "    y_range = abs(y_limits[1] - y_limits[0])\n",
    "    y_middle = np.mean(y_limits)\n",
    "    z_range = abs(z_limits[1] - z_limits[0])\n",
    "    z_middle = np.mean(z_limits)\n",
    "    \n",
    "    \n",
    "    # The plot bounding box is a sphere in the sense of the infinity\n",
    "    # norm, hence I call half the max range the plot radius.\n",
    "    plot_radius = 0.5*max([x_range, y_range, z_range])\n",
    "    \n",
    "    ax.set_xlim3d([x_middle - plot_radius, x_middle + plot_radius])\n",
    "    print([x_middle - plot_radius, x_middle + plot_radius])\n",
    "    ax.set_ylim3d([y_middle - plot_radius, y_middle + plot_radius])\n",
    "    print([y_middle - plot_radius, y_middle + plot_radius])\n",
    "    ax.set_zlim3d([z_middle - plot_radius, z_middle + plot_radius])\n",
    "    print([z_middle - plot_radius, z_middle + plot_radius])"
   ]
  },
  {
   "cell_type": "code",
   "execution_count": 15,
   "id": "banner-montgomery",
   "metadata": {},
   "outputs": [],
   "source": [
    "def set_fixed_axes(ax):\n",
    "    ax.set_xlim3d([-137.780, 97.941])\n",
    "    ax.set_ylim3d([-142.994, 92.727])\n",
    "    ax.set_zlim3d([-100.494, 135.227])"
   ]
  },
  {
   "cell_type": "code",
   "execution_count": 20,
   "id": "rising-elite",
   "metadata": {},
   "outputs": [],
   "source": [
    "def save_png(sensors_xyz, i, out_dir):\n",
    "    # Save png\n",
    "    out_pth = os.path.join(out_dir, f\"can_{i}.png\")\n",
    "\n",
    "    fig = plt.figure()\n",
    "    ax = fig.add_subplot(111, projection='3d')\n",
    "\n",
    "    xs, ys, zs = np.hsplit(sensors_xyz, 3)\n",
    "    ax.scatter(xs=xs, ys=ys, zs=zs, label=\"grasp \" + str(i+1))\n",
    "    set_fixed_axes(ax)\n",
    "    plt.axis('off')\n",
    "    ax.view_init(elev=270., azim=90)\n",
    "    #plt.show()\n",
    "    plt.tight_layout()\n",
    "    ax.legend()\n",
    "    plt.savefig(out_pth, transparent=False, edgecolor='none', dpi=300)\n",
    "    plt.close()\n"
   ]
  },
  {
   "cell_type": "code",
   "execution_count": 25,
   "id": "processed-hacker",
   "metadata": {},
   "outputs": [],
   "source": [
    "def save_pointcloud(sensors_xyz, i, out_dir):\n",
    "    out_pth = os.path.join(out_dir, f\"can_{i}.ply\")\n",
    "    \n",
    "    pcd = o3d.geometry.PointCloud()\n",
    "    pcd.points = o3d.utility.Vector3dVector(sensors_xyz)\n",
    "    o3d.io.write_point_cloud(out_pth, pcd)\n",
    "    "
   ]
  },
  {
   "cell_type": "code",
   "execution_count": 26,
   "id": "designing-relevance",
   "metadata": {},
   "outputs": [],
   "source": [
    "all_sensors_xyz = []\n",
    "all_sensors_pressure = []\n",
    "\n",
    "\n",
    "for i, pkl_name in enumerate(os.listdir(pkls_path)):\n",
    "    pkl_path = os.path.join(pkls_path, pkl_name)\n",
    "    \n",
    "    pressure_info = pickle.load( open( pkl_path, \"rb\") )\n",
    "\n",
    "    # Load the sensors pressure and take only the ones that have pressure greater than 0\n",
    "    sensors_pressure = pressure_info['sensors_pressure']\n",
    "    idx_sensors = np.nonzero(sensors_pressure)\n",
    "\n",
    "    sensors_xyz = pressure_info['sensors_xyz'][idx_sensors]\n",
    "    #sensors_pressure = sensors_pressure[idx_sensors]\n",
    "    \n",
    "    #all_sensors_xyz.append(sensors_xyz)\n",
    "    #all_sensors_pressure.append(sensors_pressure)\n",
    "\n",
    "    #sensors_xyz = np.concatenate(all_sensors_xyz)\n",
    "    #sensors_pressure = np.concatenate(all_sensors_pressure)\n",
    "    \n",
    "\n",
    "    save_pointcloud(sensors_xyz, i, out_dir)\n",
    "    \n"
   ]
  },
  {
   "cell_type": "code",
   "execution_count": 14,
   "id": "genetic-hygiene",
   "metadata": {},
   "outputs": [
    {
     "name": "stdout",
     "output_type": "stream",
     "text": [
      "[-137.78034905537174, 97.94125627212037]\n",
      "[-142.99444660723435, 92.72715872025776]\n",
      "[-100.49402673011511, 135.227578597377]\n"
     ]
    }
   ],
   "source": [
    "    # Save png\n",
    "out_pth = os.path.join(out_dir, f\"can_{i}.png\")\n",
    "\n",
    "fig = plt.figure()\n",
    "ax = fig.add_subplot(111, projection='3d')\n",
    "\n",
    "xs, ys, zs = np.hsplit(sensors_xyz, 3)\n",
    "ax.scatter(xs=xs, ys=ys, zs=zs, label=\"grasp \" + str(i+1))\n",
    "set_axes_equal(ax)"
   ]
  },
  {
   "cell_type": "code",
   "execution_count": 17,
   "id": "olive-florida",
   "metadata": {},
   "outputs": [],
   "source": [
    "\n"
   ]
  },
  {
   "cell_type": "code",
   "execution_count": null,
   "id": "radical-appeal",
   "metadata": {},
   "outputs": [],
   "source": []
  }
 ],
 "metadata": {
  "hide_input": false,
  "kernelspec": {
   "display_name": "Python 3",
   "language": "python",
   "name": "python3"
  },
  "language_info": {
   "codemirror_mode": {
    "name": "ipython",
    "version": 3
   },
   "file_extension": ".py",
   "mimetype": "text/x-python",
   "name": "python",
   "nbconvert_exporter": "python",
   "pygments_lexer": "ipython3",
   "version": "3.7.10"
  },
  "toc": {
   "base_numbering": 1,
   "nav_menu": {},
   "number_sections": true,
   "sideBar": true,
   "skip_h1_title": false,
   "title_cell": "Table of Contents",
   "title_sidebar": "Contents",
   "toc_cell": false,
   "toc_position": {},
   "toc_section_display": true,
   "toc_window_display": false
  },
  "varInspector": {
   "cols": {
    "lenName": 16,
    "lenType": 16,
    "lenVar": 40
   },
   "kernels_config": {
    "python": {
     "delete_cmd_postfix": "",
     "delete_cmd_prefix": "del ",
     "library": "var_list.py",
     "varRefreshCmd": "print(var_dic_list())"
    },
    "r": {
     "delete_cmd_postfix": ") ",
     "delete_cmd_prefix": "rm(",
     "library": "var_list.r",
     "varRefreshCmd": "cat(var_dic_list()) "
    }
   },
   "types_to_exclude": [
    "module",
    "function",
    "builtin_function_or_method",
    "instance",
    "_Feature"
   ],
   "window_display": false
  }
 },
 "nbformat": 4,
 "nbformat_minor": 5
}
