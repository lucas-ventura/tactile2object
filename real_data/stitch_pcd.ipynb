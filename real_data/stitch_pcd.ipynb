{
 "cells": [
  {
   "cell_type": "code",
   "execution_count": 2,
   "id": "funky-hierarchy",
   "metadata": {
    "hide_input": false
   },
   "outputs": [],
   "source": [
    "%load_ext autoreload\n",
    "%autoreload 2"
   ]
  },
  {
   "cell_type": "code",
   "execution_count": 5,
   "id": "photographic-integration",
   "metadata": {},
   "outputs": [],
   "source": [
    "import numpy as np\n",
    "import open3d as o3d\n",
    "import copy\n",
    "import os\n",
    "\n",
    "from utils import Intrinsics, Extrinsics, RGBD, crop_geometry, draw_registration_result, pick_points, manual_registration, find_object_transformation"
   ]
  },
  {
   "cell_type": "code",
   "execution_count": 7,
   "id": "unable-maine",
   "metadata": {},
   "outputs": [],
   "source": [
    "xml_dir = \"/home/yunzhu/Documents/project_phystouch/phystouch/data_recording/data\"\n",
    "recording_dir = \"C:/Users/lucas/Desktop/UPC/MIT/tactile2object/real_data/data/20210714_wAprilTag/\"\n",
    "cameras_dir = os.path.join(recording_dir, \"20210714_003835\")\n",
    "\n",
    "intrinsics = Intrinsics(cameras_dir)\n",
    "extrinsics = Extrinsics(cameras_dir)\n",
    "rgbds = RGBD(cameras_dir)"
   ]
  },
  {
   "cell_type": "markdown",
   "id": "seventh-scott",
   "metadata": {},
   "source": [
    "# Stitching point clouds"
   ]
  },
  {
   "cell_type": "markdown",
   "id": "immune-milwaukee",
   "metadata": {},
   "source": [
    "### camera 020122061233"
   ]
  },
  {
   "cell_type": "code",
   "execution_count": 8,
   "id": "contained-sewing",
   "metadata": {
    "run_control": {
     "marked": false
    }
   },
   "outputs": [],
   "source": [
    "camera = \"020122061233\"\n",
    "\n",
    "rgbd = rgbds.from_camera(camera)\n",
    "intrinsic = intrinsics.from_camera(camera)\n",
    "extrinsic = extrinsics.from_camera(camera)\n",
    "\n",
    "pcd_1 = o3d.geometry.PointCloud.create_from_rgbd_image(rgbd, intrinsic, extrinsic)\n",
    "\n",
    "o3d.visualization.draw_geometries([pcd_1])"
   ]
  },
  {
   "cell_type": "markdown",
   "id": "guided-provider",
   "metadata": {},
   "source": [
    "### camera 020122061651"
   ]
  },
  {
   "cell_type": "code",
   "execution_count": 5,
   "id": "executed-miami",
   "metadata": {},
   "outputs": [
    {
     "name": "stdout",
     "output_type": "stream",
     "text": [
      "[Open3D WARNING] GLFW Error: WGL: Failed to make context current: The requested transformation operation is not supported. \n"
     ]
    }
   ],
   "source": [
    "camera = \"020122061651\"\n",
    "\n",
    "rgbd = rgbds.from_camera(camera)\n",
    "intrinsic = intrinsics.from_camera(camera)\n",
    "extrinsic = extrinsics.from_camera(camera)\n",
    "\n",
    "pcd_2 = o3d.geometry.PointCloud.create_from_rgbd_image(rgbd, intrinsic, extrinsic)\n",
    "o3d.visualization.draw_geometries([pcd_2])"
   ]
  },
  {
   "cell_type": "markdown",
   "id": "electric-search",
   "metadata": {},
   "source": [
    "### camera 821312060044"
   ]
  },
  {
   "cell_type": "code",
   "execution_count": 6,
   "id": "induced-coordination",
   "metadata": {},
   "outputs": [],
   "source": [
    "camera = \"821312060044\"\n",
    "\n",
    "rgbd = rgbds.from_camera(camera)\n",
    "intrinsic = intrinsics.from_camera(camera)\n",
    "extrinsic = extrinsics.from_camera(camera)\n",
    "\n",
    "pcd_3 = o3d.geometry.PointCloud.create_from_rgbd_image(rgbd, intrinsic, extrinsic)\n",
    "o3d.visualization.draw_geometries([pcd_3])"
   ]
  },
  {
   "cell_type": "markdown",
   "id": "lesbian-diving",
   "metadata": {},
   "source": [
    "### camera 821312062243"
   ]
  },
  {
   "cell_type": "code",
   "execution_count": 7,
   "id": "median-given",
   "metadata": {},
   "outputs": [],
   "source": [
    "camera = \"821312062243\"\n",
    "\n",
    "rgbd = rgbds.from_camera(camera)\n",
    "intrinsic = intrinsics.from_camera(camera)\n",
    "extrinsic = extrinsics.from_camera(camera)\n",
    "\n",
    "pcd_4 = o3d.geometry.PointCloud.create_from_rgbd_image(rgbd, intrinsic, extrinsic)\n",
    "o3d.visualization.draw_geometries([pcd_4])"
   ]
  },
  {
   "cell_type": "markdown",
   "id": "upper-egypt",
   "metadata": {},
   "source": [
    "### Stitched Point Cloud"
   ]
  },
  {
   "cell_type": "code",
   "execution_count": 8,
   "id": "martial-orlando",
   "metadata": {},
   "outputs": [],
   "source": [
    "pcds = pcd_1 + pcd_2 + pcd_3 + pcd_4\n",
    "\n",
    "o3d.visualization.draw_geometries([pcds])"
   ]
  },
  {
   "cell_type": "markdown",
   "id": "coordinate-asian",
   "metadata": {},
   "source": [
    "# ICP"
   ]
  },
  {
   "cell_type": "code",
   "execution_count": 9,
   "id": "coordinate-chocolate",
   "metadata": {},
   "outputs": [
    {
     "name": "stdout",
     "output_type": "stream",
     "text": [
      "Manual ICP\n",
      "Visualization of two point clouds before manual alignment\n",
      "\n",
      "1) Please pick at least three correspondences using [shift + left click]\n",
      "   Press [shift + right click] to undo point picking\n",
      "2) After picking points, press 'Q' to close the window\n",
      "[Open3D INFO] Picked point #8158 (0.073, 0.021, 0.21) to add in queue.\n",
      "[Open3D INFO] Picked point #6939 (-0.0093, 0.041, 0.2) to add in queue.\n",
      "[Open3D INFO] Picked point #2049 (-0.0065, 0.042, 0.0020) to add in queue.\n",
      "\n",
      "\n",
      "1) Please pick at least three correspondences using [shift + left click]\n",
      "   Press [shift + right click] to undo point picking\n",
      "2) After picking points, press 'Q' to close the window\n",
      "[Open3D WARNING] GLFW Error: WGL: Failed to make context current: The requested transformation operation is not supported. \n",
      "[Open3D INFO] Picked point #101657 (0.034, -0.054, 0.49) to add in queue.\n",
      "[Open3D INFO] Picked point #891457 (-0.034, -0.093, 0.52) to add in queue.\n",
      "[Open3D INFO] Picked point #927523 (0.09, -0.22, 0.6) to add in queue.\n",
      "\n",
      "Compute a rough transform using the correspondences given by user\n",
      "Perform point-to-point ICP refinement\n",
      "\n"
     ]
    }
   ],
   "source": [
    "obj_name = \"005_tomato_soup_can\"\n",
    "obj_name = \"003_cracker_box\"\n",
    "obj_name = \"036_wood_block\"\n",
    "\n",
    "obj_pth = f\"C:/Users/lucas/Desktop/UPC/MIT/tactile2object/estimate_object_pose/ycb_converted/{obj_name}.ply\"\n",
    "\n",
    "transformation, obj_mesh_t = find_object_transformation(pcds, obj_pth)"
   ]
  }
 ],
 "metadata": {
  "hide_input": false,
  "kernelspec": {
   "display_name": "Python 3",
   "language": "python",
   "name": "python3"
  },
  "language_info": {
   "codemirror_mode": {
    "name": "ipython",
    "version": 3
   },
   "file_extension": ".py",
   "mimetype": "text/x-python",
   "name": "python",
   "nbconvert_exporter": "python",
   "pygments_lexer": "ipython3",
   "version": "3.7.10"
  },
  "toc": {
   "base_numbering": 1,
   "nav_menu": {},
   "number_sections": true,
   "sideBar": true,
   "skip_h1_title": false,
   "title_cell": "Table of Contents",
   "title_sidebar": "Contents",
   "toc_cell": false,
   "toc_position": {},
   "toc_section_display": true,
   "toc_window_display": false
  },
  "varInspector": {
   "cols": {
    "lenName": 16,
    "lenType": 16,
    "lenVar": 40
   },
   "kernels_config": {
    "python": {
     "delete_cmd_postfix": "",
     "delete_cmd_prefix": "del ",
     "library": "var_list.py",
     "varRefreshCmd": "print(var_dic_list())"
    },
    "r": {
     "delete_cmd_postfix": ") ",
     "delete_cmd_prefix": "rm(",
     "library": "var_list.r",
     "varRefreshCmd": "cat(var_dic_list()) "
    }
   },
   "types_to_exclude": [
    "module",
    "function",
    "builtin_function_or_method",
    "instance",
    "_Feature"
   ],
   "window_display": false
  }
 },
 "nbformat": 4,
 "nbformat_minor": 5
}
