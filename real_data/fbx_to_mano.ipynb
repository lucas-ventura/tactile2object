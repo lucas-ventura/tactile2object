{
 "cells": [
  {
   "cell_type": "code",
   "execution_count": 1,
   "id": "exotic-drove",
   "metadata": {},
   "outputs": [],
   "source": [
    "%load_ext autoreload \n",
    "%autoreload 2"
   ]
  },
  {
   "cell_type": "code",
   "execution_count": 2,
   "id": "compliant-surprise",
   "metadata": {},
   "outputs": [],
   "source": [
    "import bpy\n",
    "import open3d as o3d\n",
    "\n",
    "from bpy_utils import *"
   ]
  },
  {
   "cell_type": "markdown",
   "id": "personal-deployment",
   "metadata": {},
   "source": [
    "#### Load fbx file"
   ]
  },
  {
   "cell_type": "code",
   "execution_count": 5,
   "id": "efficient-grammar",
   "metadata": {},
   "outputs": [],
   "source": [
    "fbx_pth = \"C:/Users/lucas/Desktop/UPC/MIT/tactile2object/real_data/data/20210722/round_1_manipulate_objects/recording_2021-07-22_14-22-26.fbx\"\n",
    "\n",
    "load_fbx(fbx_pth)"
   ]
  },
  {
   "cell_type": "markdown",
   "id": "domestic-manufacturer",
   "metadata": {},
   "source": [
    "#### Extract keypoints from fbx file"
   ]
  },
  {
   "cell_type": "code",
   "execution_count": 4,
   "id": "maritime-limit",
   "metadata": {},
   "outputs": [],
   "source": [
    "keyframes = get_keyframes()\n",
    "keypoints = Keypoints()\n",
    "\n",
    "all_keypoints = np.zeros((len(keyframes), len(keypoints.fingers), 3))\n",
    "\n",
    "for idx, frame in enumerate(keyframes):\n",
    "    all_keypoints[idx, :, :] = keypoints.from_frame(frame)"
   ]
  },
  {
   "cell_type": "code",
   "execution_count": 5,
   "id": "opponent-piano",
   "metadata": {},
   "outputs": [],
   "source": [
    "hand_xyz = keypoints.from_frame(0)"
   ]
  },
  {
   "cell_type": "code",
   "execution_count": 6,
   "id": "transparent-grenada",
   "metadata": {},
   "outputs": [
    {
     "name": "stdout",
     "output_type": "stream",
     "text": [
      "[Open3D WARNING] GLFW Error: WGL: Failed to make context current: The handle is invalid. \n"
     ]
    }
   ],
   "source": [
    "pcd = o3d.geometry.PointCloud()\n",
    "pcd.points = o3d.utility.Vector3dVector(hand_xyz)\n",
    "\n",
    "\n",
    "pcd.paint_uniform_color([0, 0, 0])\n",
    "\n",
    "o3d.visualization.draw_geometries([pcd])"
   ]
  },
  {
   "cell_type": "markdown",
   "id": "filled-orchestra",
   "metadata": {},
   "source": [
    "#### Compute MANO parameters"
   ]
  },
  {
   "cell_type": "code",
   "execution_count": 7,
   "id": "oriental-belfast",
   "metadata": {},
   "outputs": [],
   "source": [
    "import sys\n",
    "sys.path.insert(1, 'C:/Users/lucas/Desktop/UPC/MIT/manopth/')\n",
    "\n",
    "from manus.manus_to_mano import get_MANO_params"
   ]
  },
  {
   "cell_type": "code",
   "execution_count": 20,
   "id": "early-sheriff",
   "metadata": {},
   "outputs": [],
   "source": [
    "mano_root = 'C:/Users/lucas/Desktop/UPC/MIT/manopth/mano/models'\n",
    "hand_verts, hand_joints = get_MANO_params(all_keypoints, mano_root=mano_root)"
   ]
  },
  {
   "cell_type": "code",
   "execution_count": 21,
   "id": "multiple-funeral",
   "metadata": {},
   "outputs": [
    {
     "data": {
      "text/plain": [
       "(1397, 778, 3)"
      ]
     },
     "execution_count": 21,
     "metadata": {},
     "output_type": "execute_result"
    }
   ],
   "source": [
    "hand_verts.shape"
   ]
  }
 ],
 "metadata": {
  "hide_input": false,
  "kernelspec": {
   "display_name": "Python 3",
   "language": "python",
   "name": "python3"
  },
  "language_info": {
   "codemirror_mode": {
    "name": "ipython",
    "version": 3
   },
   "file_extension": ".py",
   "mimetype": "text/x-python",
   "name": "python",
   "nbconvert_exporter": "python",
   "pygments_lexer": "ipython3",
   "version": "3.7.10"
  },
  "toc": {
   "base_numbering": 1,
   "nav_menu": {},
   "number_sections": true,
   "sideBar": true,
   "skip_h1_title": false,
   "title_cell": "Table of Contents",
   "title_sidebar": "Contents",
   "toc_cell": false,
   "toc_position": {},
   "toc_section_display": true,
   "toc_window_display": false
  },
  "varInspector": {
   "cols": {
    "lenName": 16,
    "lenType": 16,
    "lenVar": 40
   },
   "kernels_config": {
    "python": {
     "delete_cmd_postfix": "",
     "delete_cmd_prefix": "del ",
     "library": "var_list.py",
     "varRefreshCmd": "print(var_dic_list())"
    },
    "r": {
     "delete_cmd_postfix": ") ",
     "delete_cmd_prefix": "rm(",
     "library": "var_list.r",
     "varRefreshCmd": "cat(var_dic_list()) "
    }
   },
   "types_to_exclude": [
    "module",
    "function",
    "builtin_function_or_method",
    "instance",
    "_Feature"
   ],
   "window_display": false
  }
 },
 "nbformat": 4,
 "nbformat_minor": 5
}
