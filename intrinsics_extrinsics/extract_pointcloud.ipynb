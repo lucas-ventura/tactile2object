{
 "cells": [
  {
   "cell_type": "code",
   "execution_count": 1,
   "id": "perfect-frequency",
   "metadata": {},
   "outputs": [],
   "source": [
    "%load_ext autoreload\n",
    "%autoreload 2"
   ]
  },
  {
   "cell_type": "code",
   "execution_count": null,
   "id": "enormous-pittsburgh",
   "metadata": {},
   "outputs": [],
   "source": [
    "import numpy as np\n",
    "import open3d as o3d\n",
    "from datetime import datetime\n",
    "from shutil import copyfile\n",
    "\n",
    "from utils import *\n",
    "from bpy_utils import ManusData, get_fbx_creation_time\n",
    "\n",
    "import sys\n",
    "manopth_dir = 'C:/Users/lucas/Desktop/UPC/MIT/manopth/'\n",
    "sys.path.insert(1, manopth_dir)\n",
    "\n",
    "from manus.utils import Pressure\n",
    "from manus.sensors import SensorsLocation"
   ]
  },
  {
   "cell_type": "code",
   "execution_count": null,
   "id": "peaceful-bennett",
   "metadata": {},
   "outputs": [],
   "source": [
    "recording = \"round_2_fixed_wooden_cube/\"\n",
    "recording = \"round_3_fixed_bottle_pose_1/\"\n",
    "\n",
    "data_dir = \"C:/Users/lucas/Desktop/UPC/MIT/tactile2object/intrinsics_extrinsics/data\"\n",
    "recording = \"20210727_woIMU/r3/\"\n",
    "recording_dir = os.path.join(data_dir, recording)\n",
    "\n",
    "for name in os.listdir(recording_dir):\n",
    "    name_pth = os.path.join(recording_dir, name)\n",
    "    \n",
    "    if os.path.isdir(name_pth):\n",
    "        print(\"cameras_dir:\", name)\n",
    "        cameras_dir = name_pth\n",
    "        \n",
    "    elif \".hdf5\" in name:\n",
    "        print(\"pressure_file:\", name)\n",
    "        perssure_pth = name_pth\n",
    "        \n",
    "    elif \".fbx\" in name:\n",
    "        print(\"manus_file:\", name)\n",
    "        manus_pth = name_pth\n",
    "        \n",
    "#cameras_dir = os.path.join(recording_dir, \"20210722_152500\")\n",
    "#perssure_pth = os.path.join(recording_dir, \".hdf5\")\n",
    "#manus_pth = os.path.join(recording_dir, \".fbx\")"
   ]
  },
  {
   "cell_type": "markdown",
   "id": "diverse-glasgow",
   "metadata": {},
   "source": [
    "# Load data"
   ]
  },
  {
   "cell_type": "code",
   "execution_count": null,
   "id": "patent-cathedral",
   "metadata": {
    "run_control": {
     "marked": false
    }
   },
   "outputs": [],
   "source": [
    "%%capture\n",
    "\n",
    "cameras = [\"020122061233\", \"821312060044\", \"020122061651\", \"821312062243\"]\n",
    "\n",
    "intrinsics = Intrinsics(cameras_dir, use_txt=False)\n",
    "extrinsics = Extrinsics(cameras_dir)\n",
    "rgbds = RGBD(cameras_dir)\n",
    "stitched_pcd = Stitching_pcds(intrinsics, extrinsics, rgbds, cameras)\n",
    "apriltags = AprilTags(cameras_dir, intrinsics, extrinsics, cameras=cameras)\n",
    "stitched_pcd = Stitching_pcds(intrinsics, extrinsics, rgbds, cameras)\n",
    "\n",
    "pressure = Pressure(perssure_pth, lim_low=3, lim_high=50)\n",
    "\n",
    "manus = ManusData(manus_pth, manopth_dir)\n",
    "\n",
    "glove_sensor_path = os.path.join(manopth_dir, 'data/glove_vis_sensor_new.csv')\n",
    "sensors_location = SensorsLocation(glove_sensor_path)"
   ]
  },
  {
   "cell_type": "markdown",
   "id": "nuclear-notification",
   "metadata": {},
   "source": [
    "# Synchronize"
   ]
  },
  {
   "cell_type": "markdown",
   "id": "steady-pontiac",
   "metadata": {},
   "source": [
    "#### Get timestamps"
   ]
  },
  {
   "cell_type": "code",
   "execution_count": null,
   "id": "fatty-strand",
   "metadata": {},
   "outputs": [],
   "source": [
    "# Camera timestamps\n",
    "ts_camera = get_camera_timestamps(cameras_dir)\n",
    "\n",
    "# Pressure timestamps\n",
    "ts_pressure = pressure.ts_touch\n",
    "\n",
    "# MANUS timestamp\n",
    "#pyfbx_i42_pth = \"C:/Users/lucas/Desktop/UPC/MIT/pyfbx_i42-master/\"\n",
    "#ts_end = get_fbx_creation_time(manus_pth, pyfbx_i42_pth)\n",
    "#ts_start = ts_end - len(manus) / 24\n",
    "ts_manus = manus.get_ts(fps=19.67)"
   ]
  },
  {
   "cell_type": "markdown",
   "id": "permanent-amateur",
   "metadata": {},
   "source": [
    "#### Find pressure camera offset\n"
   ]
  },
  {
   "cell_type": "code",
   "execution_count": null,
   "id": "exotic-rings",
   "metadata": {},
   "outputs": [],
   "source": [
    "pressure.plot_peaks(height=80)"
   ]
  },
  {
   "cell_type": "code",
   "execution_count": null,
   "id": "turned-islam",
   "metadata": {},
   "outputs": [],
   "source": [
    "# Index of first pressure peak \n",
    "idx_first_p = pressure.get_peaks(height=80)[0]\n",
    "# Timestamp of first pressure peak\n",
    "ts_first_p = pressure.ts_touch[idx_first_p]\n",
    "\n",
    "# Frame of first pressure in camera\n",
    "frame_first_c = 108\n",
    "# Timestamp of first pressure in camera\n",
    "ts_first_c = ts_camera[frame_first_c]\n",
    "\n",
    "# Offset between pressure and camera\n",
    "pc_offset = ts_first_p - ts_first_c"
   ]
  },
  {
   "cell_type": "markdown",
   "id": "engaging-writing",
   "metadata": {},
   "source": [
    "#### Find manus camera offset\n"
   ]
  },
  {
   "cell_type": "code",
   "execution_count": null,
   "id": "humanitarian-edition",
   "metadata": {},
   "outputs": [],
   "source": [
    "manus.plot_grasps(height=5)"
   ]
  },
  {
   "cell_type": "code",
   "execution_count": null,
   "id": "funny-return",
   "metadata": {},
   "outputs": [],
   "source": [
    "# Index of first manus grasp peak \n",
    "idx_first_m = manus.get_grasps(height=5)[0]\n",
    "# Timestamp of first manus grasp peak\n",
    "ts_first_m = ts_manus[idx_first_m]\n",
    "\n",
    "# Frame of first grasp in camera\n",
    "frame_first_c = 108\n",
    "# Timestamp of first pressure in camera\n",
    "ts_first_c = ts_camera[frame_first_c]\n",
    "\n",
    "# Offset between pressure and camera\n",
    "mc_offset = ts_first_m - ts_first_c"
   ]
  },
  {
   "cell_type": "markdown",
   "id": "tutorial-enforcement",
   "metadata": {},
   "source": [
    "#### Synchronize pressure + camera + manus"
   ]
  },
  {
   "cell_type": "code",
   "execution_count": null,
   "id": "short-harassment",
   "metadata": {},
   "outputs": [],
   "source": [
    "synchronize = Synchronizer(ts_p=ts_pressure, ts_c=ts_camera, ts_m=ts_manus, pc_offset=pc_offset, mc_offset=mc_offset)"
   ]
  },
  {
   "cell_type": "markdown",
   "id": "seventh-ireland",
   "metadata": {},
   "source": [
    "# Extract point clouds"
   ]
  },
  {
   "cell_type": "code",
   "execution_count": null,
   "id": "conscious-howard",
   "metadata": {},
   "outputs": [],
   "source": [
    "pressure.plot_peaks(height=80)"
   ]
  },
  {
   "cell_type": "code",
   "execution_count": null,
   "id": "existing-alaska",
   "metadata": {},
   "outputs": [],
   "source": [
    "# Pressure frames where there are grasps\n",
    "grasp_p_frames = pressure.get_peaks(height=80)\n",
    "# Manus frames where there are grasps\n",
    "grasp_m_frames = synchronize.pressure_to_manus(grasp_p_frames)"
   ]
  },
  {
   "cell_type": "code",
   "execution_count": null,
   "id": "egyptian-classics",
   "metadata": {},
   "outputs": [],
   "source": [
    "pointclouds = []\n",
    "pointcloud_sensors = []\n",
    "\n",
    "for grasp_p_frame in zip(grasp_p_frames):\n",
    "    grasp_m_frame = synchronize.pressure_to_manus(grasp_p_frame)\n",
    "    grasp_c_frame = synchronize.pressure_to_camera(grasp_p_frame)\n",
    "    \n",
    "    # Corner location of the AprilTag in world coordinates\n",
    "    corners_w = apriltags.corners_w(idx=grasp_c_frame)\n",
    "    \n",
    "    if corners_w is not None:\n",
    "        # Get manus verts at that frame\n",
    "        hand_verts = manus.hand_verts_from_corners(grasp_m_frame, corners_w)\n",
    "    \n",
    "        # Get sensor location for that particular hand position\n",
    "        sensors_xyz = sensors_location.from_hand_verts(hand_verts)\n",
    "\n",
    "        # Get pressure at that particular frame\n",
    "        response = pressure[grasp_p_frame]\n",
    "        # Get pressure for each sensor index\n",
    "        response = response.reshape(-1)[sensors_location.sensor_idx]\n",
    "    \n",
    "    \n",
    "        idx_on = (response > 0.8).nonzero()\n",
    "        pointclouds.append(sensors_xyz[idx_on,:][0])\n",
    "\n",
    "        \n",
    "all_pointclouds = np.concatenate( pointclouds, axis=0 )"
   ]
  },
  {
   "cell_type": "code",
   "execution_count": null,
   "id": "still-senior",
   "metadata": {},
   "outputs": [],
   "source": [
    "all_pcd = o3d.geometry.PointCloud()\n",
    "all_pcd.points = o3d.utility.Vector3dVector(all_pointclouds)\n",
    "all_pcd.paint_uniform_color([0, 0, 0])\n",
    "o3d.visualization.draw_geometries([all_pcd])"
   ]
  },
  {
   "cell_type": "markdown",
   "id": "fancy-merchandise",
   "metadata": {},
   "source": [
    "# Estimate object location"
   ]
  },
  {
   "cell_type": "code",
   "execution_count": null,
   "id": "delayed-amplifier",
   "metadata": {},
   "outputs": [],
   "source": [
    "%%capture\n",
    "\n",
    "pcd = stitched_pcd[\"000000\"]\n",
    "\n",
    "obj_name = \"005_tomato_soup_can\"\n",
    "obj_name = \"003_cracker_box\"\n",
    "obj_name = \"006_mustard_bottle\"\n",
    "obj_name = \"036_wood_block\"\n",
    "\n",
    "obj_pth = f\"C:/Users/lucas/Desktop/UPC/MIT/tactile2object/estimate_object_pose/ycb_converted/{obj_name}.ply\"\n",
    "\n",
    "# Useful when running the cell multiple times\n",
    "try:\n",
    "    obj_mesh_t # obj_mesh_t exist in the current namespace\n",
    "except NameError:\n",
    "    transformation, obj_mesh_t = find_object_transformation(pcd, obj_pth)"
   ]
  },
  {
   "cell_type": "markdown",
   "id": "executed-divide",
   "metadata": {},
   "source": [
    "We move the pressure points to the object location"
   ]
  },
  {
   "cell_type": "code",
   "execution_count": null,
   "id": "sunset-scoop",
   "metadata": {},
   "outputs": [],
   "source": [
    "pcd_pressure = copy.deepcopy(all_pcd)\n",
    "pcd_pressure.transform(np.linalg.inv(transformation))\n",
    "pcd_pressure.estimate_normals()\n",
    "pcd_pressure.orient_normals_consistent_tangent_plane(50)"
   ]
  },
  {
   "cell_type": "markdown",
   "id": "divided-edgar",
   "metadata": {},
   "source": [
    "# Save to CON"
   ]
  },
  {
   "cell_type": "code",
   "execution_count": null,
   "id": "official-chrome",
   "metadata": {},
   "outputs": [],
   "source": [
    "# For supervision. We will get the scale and rotation from here\n",
    "points_dir = \"C:/Users/lucas/Desktop/UPC/MIT/tactile2object/ycb/4_points\"\n",
    "\n",
    "dataset_dir = os.path.join(data_dir, \"real_dataset\")\n",
    "out_dir = os.path.join(dataset_dir, recording.split(\"/\")[0], obj_name)\n",
    "\n",
    "if not os.path.exists(out_dir):\n",
    "    os.makedirs(out_dir)    "
   ]
  },
  {
   "cell_type": "markdown",
   "id": "driving-sequence",
   "metadata": {},
   "source": [
    "##### Create files"
   ]
  },
  {
   "cell_type": "code",
   "execution_count": null,
   "id": "wanted-aggregate",
   "metadata": {},
   "outputs": [],
   "source": [
    "pc_pth = os.path.join(points_dir, f\"{obj_name}.npz\")\n",
    "pc_npz = np.load(pc_pth)\n",
    "translation = pc_npz['loc'].tolist()\n",
    "scale = pc_npz['scale'].item()\n",
    "\n",
    "points = (np.asarray(pcd_pressure.points) - translation) / scale\n",
    "normals = np.asarray(pcd_pressure.normals)\n",
    "\n",
    "npz_pth = os.path.join(out_dir, \"pointcloud.npz\")\n",
    "np.savez(npz_pth, \n",
    "         points=points, \n",
    "         normals=normals,\n",
    "         loc=pc_npz['loc'],\n",
    "         scale=pc_npz['scale']\n",
    "         )\n",
    "\n",
    "dst_pth_ps = os.path.join(out_dir, \"points.npz\")\n",
    "copyfile(pc_pth, dst_pth_ps)\n",
    "\n",
    "# Save point cloud\n",
    "pcd_out_pth = os.path.join(out_dir, \"pcd.ply\")\n",
    "pcd_out = o3d.geometry.PointCloud()\n",
    "pcd_out.points = o3d.utility.Vector3dVector(points)\n",
    "pcd_out.normals = o3d.utility.Vector3dVector(normals)\n",
    "o3d.io.write_point_cloud(pcd_out_pth, pcd_out) "
   ]
  },
  {
   "cell_type": "markdown",
   "id": "assigned-fetish",
   "metadata": {},
   "source": [
    "##### Create test.lst file"
   ]
  },
  {
   "cell_type": "code",
   "execution_count": null,
   "id": "turkish-breakfast",
   "metadata": {},
   "outputs": [],
   "source": [
    "for recording_name in os.listdir(dataset_dir):\n",
    "    file_dir = os.path.join(dataset_dir, recording_name)\n",
    "    test_pth = os.path.join(file_dir, 'test.lst')\n",
    "\n",
    "    with open(test_pth, 'w') as filehandle:\n",
    "        for object_name in os.listdir(file_dir):\n",
    "            if os.path.isdir(os.path.join(file_dir, object_name)):\n",
    "                filehandle.write('%s\\n' % object_name)"
   ]
  }
 ],
 "metadata": {
  "hide_input": false,
  "kernelspec": {
   "display_name": "Python 3",
   "language": "python",
   "name": "python3"
  },
  "language_info": {
   "codemirror_mode": {
    "name": "ipython",
    "version": 3
   },
   "file_extension": ".py",
   "mimetype": "text/x-python",
   "name": "python",
   "nbconvert_exporter": "python",
   "pygments_lexer": "ipython3",
   "version": "3.7.10"
  },
  "toc": {
   "base_numbering": 1,
   "nav_menu": {},
   "number_sections": true,
   "sideBar": true,
   "skip_h1_title": false,
   "title_cell": "Table of Contents",
   "title_sidebar": "Contents",
   "toc_cell": false,
   "toc_position": {},
   "toc_section_display": true,
   "toc_window_display": false
  },
  "varInspector": {
   "cols": {
    "lenName": 16,
    "lenType": 16,
    "lenVar": 40
   },
   "kernels_config": {
    "python": {
     "delete_cmd_postfix": "",
     "delete_cmd_prefix": "del ",
     "library": "var_list.py",
     "varRefreshCmd": "print(var_dic_list())"
    },
    "r": {
     "delete_cmd_postfix": ") ",
     "delete_cmd_prefix": "rm(",
     "library": "var_list.r",
     "varRefreshCmd": "cat(var_dic_list()) "
    }
   },
   "types_to_exclude": [
    "module",
    "function",
    "builtin_function_or_method",
    "instance",
    "_Feature"
   ],
   "window_display": false
  }
 },
 "nbformat": 4,
 "nbformat_minor": 5
}
