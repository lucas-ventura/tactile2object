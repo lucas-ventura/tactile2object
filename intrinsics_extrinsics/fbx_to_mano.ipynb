{
 "cells": [
  {
   "cell_type": "code",
   "execution_count": 1,
   "id": "exotic-drove",
   "metadata": {},
   "outputs": [],
   "source": [
    "%load_ext autoreload \n",
    "%autoreload 2"
   ]
  },
  {
   "cell_type": "code",
   "execution_count": 19,
   "id": "compliant-surprise",
   "metadata": {},
   "outputs": [],
   "source": [
    "import bpy\n",
    "import open3d as o3d\n",
    "\n",
    "from bpy_utils import *"
   ]
  },
  {
   "cell_type": "code",
   "execution_count": 3,
   "id": "efficient-grammar",
   "metadata": {},
   "outputs": [
    {
     "name": "stdout",
     "output_type": "stream",
     "text": [
      "FBX Import: start importing C:/Users/lucas/Desktop/UPC/MIT/tactile2object/intrinsics_extrinsics/data/20210722/round_1_manipulate_objects/recording_2021-07-22_14-22-26.fbx\n",
      "FBX version: 7400\n",
      "\tFBX import: Prepare...\n",
      "\t\tDone (0.000000 sec)\n",
      "\n",
      "\tFBX import: Templates...\n",
      "\t\tDone (0.000000 sec)\n",
      "\n",
      "\tFBX import: Nodes...\n",
      "\t\tDone (0.000000 sec)\n",
      "\n",
      "\tFBX import: Connections...\n",
      "\t\tDone (0.000000 sec)\n",
      "\n",
      "\tFBX import: Meshes...\n",
      "\t\tDone (0.046875 sec)\n",
      "\n",
      "\tFBX import: Materials & Textures...\n",
      "\t\tDone (0.000000 sec)\n",
      "\n",
      "\tFBX import: Cameras & Lamps...\n",
      "\t\tDone (0.000000 sec)\n",
      "\n",
      "\tFBX import: Objects & Armatures...\n",
      "\t\tDone (0.015625 sec)\n",
      "\n",
      "\tFBX import: ShapeKeys...\n",
      "\t\tDone (0.000000 sec)\n",
      "\n",
      "\tFBX import: Animations...\n",
      "\t\tDone (63.843750 sec)\n",
      "\n",
      "\tFBX import: Assign materials...\n",
      "\t\tDone (0.000000 sec)\n",
      "\n",
      "\tFBX import: Assign textures...\n",
      "\t\tDone (0.000000 sec)\n",
      "\n",
      "\tFBX import: Cycles z-offset workaround...\n",
      "\t\tDone (0.000000 sec)\n",
      "\n",
      "\tDone (64.000000 sec)\n",
      "\n",
      "Import finished.\n"
     ]
    }
   ],
   "source": [
    "fbx_pth = \"C:/Users/lucas/Desktop/UPC/MIT/tactile2object/intrinsics_extrinsics/data/20210722/round_1_manipulate_objects/recording_2021-07-22_14-22-26.fbx\"\n",
    "\n",
    "load_fbx(fbx_pth)"
   ]
  },
  {
   "cell_type": "code",
   "execution_count": 21,
   "id": "muslim-hayes",
   "metadata": {},
   "outputs": [],
   "source": [
    "keys = get_keyframes()\n",
    "\n",
    "keypoints = Keypoints()\n",
    "hand_xyz = keypoints.from_frame(500)"
   ]
  },
  {
   "cell_type": "code",
   "execution_count": 22,
   "id": "transparent-grenada",
   "metadata": {},
   "outputs": [
    {
     "name": "stdout",
     "output_type": "stream",
     "text": [
      "[Open3D WARNING] GLFW Error: WGL: Failed to make context current: The handle is invalid. \n",
      "[Open3D WARNING] GLFW Error: WGL: Failed to make context current: The handle is invalid. \n"
     ]
    }
   ],
   "source": [
    "pcd = o3d.geometry.PointCloud()\n",
    "pcd.points = o3d.utility.Vector3dVector(hand_xyz)\n",
    "\n",
    "\n",
    "pcd.paint_uniform_color([0, 0, 0])\n",
    "\n",
    "o3d.visualization.draw_geometries([pcd])"
   ]
  },
  {
   "cell_type": "code",
   "execution_count": null,
   "id": "supreme-hearing",
   "metadata": {},
   "outputs": [],
   "source": []
  }
 ],
 "metadata": {
  "hide_input": false,
  "kernelspec": {
   "display_name": "Python 3",
   "language": "python",
   "name": "python3"
  },
  "language_info": {
   "codemirror_mode": {
    "name": "ipython",
    "version": 3
   },
   "file_extension": ".py",
   "mimetype": "text/x-python",
   "name": "python",
   "nbconvert_exporter": "python",
   "pygments_lexer": "ipython3",
   "version": "3.7.10"
  },
  "toc": {
   "base_numbering": 1,
   "nav_menu": {},
   "number_sections": true,
   "sideBar": true,
   "skip_h1_title": false,
   "title_cell": "Table of Contents",
   "title_sidebar": "Contents",
   "toc_cell": false,
   "toc_position": {},
   "toc_section_display": true,
   "toc_window_display": false
  },
  "varInspector": {
   "cols": {
    "lenName": 16,
    "lenType": 16,
    "lenVar": 40
   },
   "kernels_config": {
    "python": {
     "delete_cmd_postfix": "",
     "delete_cmd_prefix": "del ",
     "library": "var_list.py",
     "varRefreshCmd": "print(var_dic_list())"
    },
    "r": {
     "delete_cmd_postfix": ") ",
     "delete_cmd_prefix": "rm(",
     "library": "var_list.r",
     "varRefreshCmd": "cat(var_dic_list()) "
    }
   },
   "types_to_exclude": [
    "module",
    "function",
    "builtin_function_or_method",
    "instance",
    "_Feature"
   ],
   "window_display": false
  }
 },
 "nbformat": 4,
 "nbformat_minor": 5
}
