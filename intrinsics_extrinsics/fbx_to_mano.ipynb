{
 "cells": [
  {
   "cell_type": "markdown",
   "id": "technological-inflation",
   "metadata": {},
   "source": [
    "Import bbx\n",
    "https://docs.blender.org/api/current/bpy.ops.import_scene.html"
   ]
  },
  {
   "cell_type": "code",
   "execution_count": 1,
   "id": "ordinary-baseball",
   "metadata": {},
   "outputs": [],
   "source": [
    "import bpy"
   ]
  },
  {
   "cell_type": "code",
   "execution_count": 3,
   "id": "appreciated-conservative",
   "metadata": {},
   "outputs": [
    {
     "name": "stdout",
     "output_type": "stream",
     "text": [
      "['Scene']\n"
     ]
    }
   ],
   "source": [
    "# print all objects\n",
    "for obj in bpy.data.objects:\n",
    "    print(obj.name)\n",
    "\n",
    "\n",
    "# print all scene names in a list\n",
    "print(bpy.data.scenes.keys())\n",
    "\n",
    "\n",
    "# remove mesh Cube\n",
    "if \"Cube\" in bpy.data.meshes:\n",
    "    mesh = bpy.data.meshes[\"Cube\"]\n",
    "    print(\"removing mesh\", mesh)\n",
    "    bpy.data.meshes.remove(mesh)\n",
    "    \n",
    "# remove Camera\n",
    "if \"Camera\" in bpy.data.objects:\n",
    "    mesh = bpy.data.objects[\"Camera\"]\n",
    "    print(\"removing Camera\", mesh)\n",
    "    bpy.data.objects.remove(mesh)\n",
    "    \n",
    "# remove Light\n",
    "if \"Light\" in bpy.data.objects:\n",
    "    mesh = bpy.data.objects[\"Light\"]\n",
    "    print(\"removing Light\", mesh)\n",
    "    bpy.data.objects.remove(mesh)\n",
    "    \n",
    "    \n"
   ]
  },
  {
   "cell_type": "code",
   "execution_count": 16,
   "id": "continuing-conducting",
   "metadata": {},
   "outputs": [
    {
     "name": "stdout",
     "output_type": "stream",
     "text": [
      "Dongle_1B5E4344\n",
      "mesh_hand_l\n"
     ]
    }
   ],
   "source": [
    "for obj in bpy.data.objects:\n",
    "    print(obj.name)"
   ]
  },
  {
   "cell_type": "code",
   "execution_count": 154,
   "id": "regular-hayes",
   "metadata": {},
   "outputs": [
    {
     "name": "stdout",
     "output_type": "stream",
     "text": [
      "FBX Import: start importing C:/Users/lucas/Desktop/UPC/MIT/tactile2object/intrinsics_extrinsics/data/20210722/round_1_manipulate_objects/recording_2021-07-22_14-22-26.fbx\n",
      "FBX version: 7400\n",
      "\tFBX import: Prepare...\n",
      "\t\tDone (0.000000 sec)\n",
      "\n",
      "\tFBX import: Templates...\n",
      "\t\tDone (0.000000 sec)\n",
      "\n",
      "\tFBX import: Nodes...\n",
      "\t\tDone (0.000000 sec)\n",
      "\n",
      "\tFBX import: Connections...\n",
      "\t\tDone (0.000000 sec)\n",
      "\n",
      "\tFBX import: Meshes...\n",
      "\t\tDone (0.062500 sec)\n",
      "\n",
      "\tFBX import: Materials & Textures...\n",
      "\t\tDone (0.000000 sec)\n",
      "\n",
      "\tFBX import: Cameras & Lamps...\n",
      "\t\tDone (0.000000 sec)\n",
      "\n",
      "\tFBX import: Objects & Armatures...\n",
      "\t\tDone (0.000000 sec)\n",
      "\n",
      "\tFBX import: ShapeKeys...\n",
      "\t\tDone (0.000000 sec)\n",
      "\n",
      "\tFBX import: Animations...\n",
      "\t\tDone (66.281250 sec)\n",
      "\n",
      "\tFBX import: Assign materials...\n",
      "\t\tDone (0.000000 sec)\n",
      "\n",
      "\tFBX import: Assign textures...\n",
      "\t\tDone (0.000000 sec)\n",
      "\n",
      "\tFBX import: Cycles z-offset workaround...\n",
      "\t\tDone (0.000000 sec)\n",
      "\n",
      "\tDone (66.453125 sec)\n",
      "\n",
      "Import finished.\n"
     ]
    },
    {
     "data": {
      "text/plain": [
       "{'FINISHED'}"
      ]
     },
     "execution_count": 154,
     "metadata": {},
     "output_type": "execute_result"
    }
   ],
   "source": [
    "fbx_pth = \"C:/Users/lucas/Desktop/UPC/MIT/tactile2object/intrinsics_extrinsics/data/20210722/round_1_manipulate_objects/recording_2021-07-22_14-22-26.fbx\"\n",
    "\n",
    "# Import FBX\n",
    "bpy.ops.import_scene.fbx( filepath = fbx_pth)\n"
   ]
  },
  {
   "cell_type": "code",
   "execution_count": 155,
   "id": "equal-interpretation",
   "metadata": {},
   "outputs": [
    {
     "name": "stdout",
     "output_type": "stream",
     "text": [
      "Dongle_1B5E4344\n",
      "Dongle_1B5E4344.001\n",
      "mesh_hand_l\n",
      "mesh_hand_l.001\n"
     ]
    }
   ],
   "source": [
    "for obj in bpy.data.objects:\n",
    "    print(obj.name)\n",
    "\n",
    "mesh = bpy.data.meshes[\"mesh_hand_l\"]"
   ]
  },
  {
   "cell_type": "code",
   "execution_count": 134,
   "id": "challenging-bailey",
   "metadata": {},
   "outputs": [
    {
     "data": {
      "text/plain": [
       "bpy.data.objects['Dongle_1B5E4344']"
      ]
     },
     "execution_count": 134,
     "metadata": {},
     "output_type": "execute_result"
    }
   ],
   "source": []
  },
  {
   "cell_type": "code",
   "execution_count": 136,
   "id": "spiritual-walker",
   "metadata": {},
   "outputs": [
    {
     "name": "stdout",
     "output_type": "stream",
     "text": [
      "Active: \n"
     ]
    },
    {
     "data": {
      "text/plain": [
       "bpy.data.objects['Dongle_1B5E4344']"
      ]
     },
     "execution_count": 136,
     "metadata": {},
     "output_type": "execute_result"
    }
   ],
   "source": [
    "obj = bpy.data.objects[\"Dongle_1B5E4344\"]\n",
    "obj = bpy.context.window.scene.objects[0]\n",
    "bpy.context.view_layer.objects.active = obj    \n",
    "\n",
    "print(\"Active: \")\n",
    "bpy.context.view_layer.objects.active"
   ]
  },
  {
   "cell_type": "code",
   "execution_count": null,
   "id": "incorrect-chile",
   "metadata": {},
   "outputs": [],
   "source": []
  },
  {
   "cell_type": "code",
   "execution_count": null,
   "id": "olympic-cheat",
   "metadata": {},
   "outputs": [],
   "source": []
  },
  {
   "cell_type": "code",
   "execution_count": 127,
   "id": "clinical-criticism",
   "metadata": {},
   "outputs": [
    {
     "name": "stdout",
     "output_type": "stream",
     "text": [
      "<Vector (0.2471, 0.9067, 0.0013)>\n"
     ]
    }
   ],
   "source": [
    "scene.frame_set(300)\n",
    "\n",
    "ob = bpy.data.objects['Dongle_1B5E4344']\n",
    "armature = ob.data\n",
    "\n",
    "bpy.ops.object.mode_set(mode='EDIT')\n",
    "myBone = armature.edit_bones['thumb_03_l']\n",
    "print(myBone.head)"
   ]
  },
  {
   "cell_type": "code",
   "execution_count": 141,
   "id": "revolutionary-unknown",
   "metadata": {},
   "outputs": [
    {
     "data": {
      "text/plain": [
       "'thumb_03_l'"
      ]
     },
     "execution_count": 141,
     "metadata": {},
     "output_type": "execute_result"
    }
   ],
   "source": [
    "ob = bpy.data.objects['Dongle_1B5E4344']\n",
    "armature = ob.data\n",
    "\n",
    "bpy.ops.object.mode_set(mode='EDIT')\n",
    "myBone = armature.edit_bones['thumb_03_l']\n",
    "armature.edit_bones.active = myBone\n",
    "\n",
    "bpy.context.active_bone.name"
   ]
  },
  {
   "cell_type": "code",
   "execution_count": 142,
   "id": "medium-tract",
   "metadata": {},
   "outputs": [
    {
     "name": "stdout",
     "output_type": "stream",
     "text": [
      "<Vector (0.2471, 0.9067, 0.0013)>\n"
     ]
    }
   ],
   "source": [
    "print(myBone.head)"
   ]
  },
  {
   "cell_type": "code",
   "execution_count": 145,
   "id": "congressional-stranger",
   "metadata": {},
   "outputs": [
    {
     "name": "stdout",
     "output_type": "stream",
     "text": [
      "<Vector (0.2471, 0.9067, 0.0013)>\n"
     ]
    }
   ],
   "source": [
    "bpy.context.scene.frame_set(100)\n",
    "print(myBone.head)"
   ]
  },
  {
   "cell_type": "code",
   "execution_count": 90,
   "id": "proud-belarus",
   "metadata": {},
   "outputs": [
    {
     "data": {
      "text/plain": [
       "0"
      ]
     },
     "execution_count": 90,
     "metadata": {},
     "output_type": "execute_result"
    }
   ],
   "source": [
    "bpy.context.scene.frame_set(0)\n",
    "scene = bpy.context.scene\n",
    "frame_current = scene.frame_current\n",
    "frame_current"
   ]
  },
  {
   "cell_type": "code",
   "execution_count": 153,
   "id": "accurate-romance",
   "metadata": {},
   "outputs": [
    {
     "name": "stdout",
     "output_type": "stream",
     "text": [
      "Frame 1: \n",
      "<Vector (0.0132, -0.0300, -0.2008)>\n",
      "Frame 2: \n",
      "<Vector (0.0132, -0.0300, -0.2008)>\n",
      "Frame 3: \n",
      "<Vector (0.0132, -0.0300, -0.2008)>\n",
      "Frame 4: \n",
      "<Vector (0.0132, -0.0300, -0.2008)>\n",
      "Frame 5: \n",
      "<Vector (0.0133, -0.0302, -0.2008)>\n",
      "Frame 6: \n",
      "<Vector (0.0141, -0.0302, -0.2007)>\n",
      "Frame 7: \n",
      "<Vector (0.0154, -0.0303, -0.2006)>\n",
      "Frame 8: \n",
      "<Vector (0.0157, -0.0304, -0.2006)>\n",
      "Frame 9: \n",
      "<Vector (0.0156, -0.0308, -0.2005)>\n",
      "Frame 10: \n",
      "<Vector (0.0156, -0.0316, -0.2004)>\n",
      "Frame 11: \n",
      "<Vector (0.0154, -0.0321, -0.2003)>\n",
      "Frame 12: \n",
      "<Vector (0.0153, -0.0326, -0.2002)>\n",
      "Frame 13: \n",
      "<Vector (0.0154, -0.0322, -0.2003)>\n",
      "Frame 14: \n",
      "<Vector (0.0158, -0.0313, -0.2004)>\n",
      "Frame 15: \n",
      "<Vector (0.0165, -0.0301, -0.2005)>\n",
      "Frame 16: \n",
      "<Vector (0.0174, -0.0296, -0.2005)>\n",
      "Frame 17: \n",
      "<Vector (0.0176, -0.0301, -0.2004)>\n",
      "Frame 18: \n",
      "<Vector (0.0179, -0.0313, -0.2002)>\n",
      "Frame 19: \n",
      "<Vector (0.0177, -0.0329, -0.2000)>\n",
      "Frame 20: \n",
      "<Vector (0.0169, -0.0365, -0.1994)>\n",
      "Frame 21: \n",
      "<Vector (0.0158, -0.0402, -0.1987)>\n",
      "Frame 22: \n",
      "<Vector (0.0142, -0.0429, -0.1983)>\n",
      "Frame 23: \n",
      "<Vector (0.0094, -0.0486, -0.1971)>\n",
      "Frame 24: \n",
      "<Vector (0.0079, -0.0502, -0.1966)>\n",
      "Frame 25: \n",
      "<Vector (0.0103, -0.0495, -0.1967)>\n",
      "Frame 26: \n",
      "<Vector (0.0146, -0.0470, -0.1972)>\n",
      "Frame 27: \n",
      "<Vector (0.0182, -0.0425, -0.1980)>\n",
      "Frame 28: \n",
      "<Vector (0.0199, -0.0387, -0.1986)>\n",
      "Frame 29: \n",
      "<Vector (0.0219, -0.0341, -0.1993)>\n",
      "Frame 30: \n",
      "<Vector (0.0228, -0.0268, -0.2003)>\n",
      "Frame 31: \n",
      "<Vector (0.0244, -0.0254, -0.2004)>\n",
      "Frame 32: \n",
      "<Vector (0.0247, -0.0207, -0.2009)>\n",
      "Frame 33: \n",
      "<Vector (0.0208, -0.0132, -0.2022)>\n",
      "Frame 34: \n",
      "<Vector (0.0205, -0.0112, -0.2023)>\n",
      "Frame 35: \n",
      "<Vector (0.0197, -0.0085, -0.2026)>\n",
      "Frame 36: \n",
      "<Vector (0.0176, -0.0075, -0.2028)>\n",
      "Frame 37: \n",
      "<Vector (0.0140, -0.0088, -0.2030)>\n",
      "Frame 38: \n",
      "<Vector (0.0062, -0.0157, -0.2030)>\n",
      "Frame 39: \n",
      "<Vector (0.0051, -0.0168, -0.2029)>\n",
      "Frame 40: \n",
      "<Vector (0.0059, -0.0231, -0.2023)>\n",
      "Frame 41: \n",
      "<Vector (0.0112, -0.0225, -0.2021)>\n",
      "Frame 42: \n",
      "<Vector (0.0148, -0.0208, -0.2021)>\n",
      "Frame 43: \n",
      "<Vector (0.0160, -0.0180, -0.2022)>\n",
      "Frame 44: \n",
      "<Vector (0.0175, -0.0180, -0.2021)>\n",
      "Frame 45: \n",
      "<Vector (0.0203, -0.0180, -0.2018)>\n",
      "Frame 46: \n",
      "<Vector (0.0215, -0.0181, -0.2017)>\n",
      "Frame 47: \n",
      "<Vector (0.0231, -0.0186, -0.2015)>\n",
      "Frame 48: \n",
      "<Vector (0.0260, -0.0193, -0.2010)>\n",
      "Frame 49: \n",
      "<Vector (0.0272, -0.0202, -0.2008)>\n",
      "Frame 50: \n",
      "<Vector (0.0282, -0.0219, -0.2004)>\n",
      "Frame 51: \n",
      "<Vector (0.0279, -0.0244, -0.2001)>\n",
      "Frame 52: \n",
      "<Vector (0.0247, -0.0298, -0.1997)>\n",
      "Frame 53: \n",
      "<Vector (0.0193, -0.0357, -0.1994)>\n",
      "Frame 54: \n",
      "<Vector (0.0144, -0.0392, -0.1991)>\n",
      "Frame 55: \n",
      "<Vector (0.0081, -0.0434, -0.1985)>\n",
      "Frame 56: \n",
      "<Vector (0.0039, -0.0447, -0.1985)>\n",
      "Frame 57: \n",
      "<Vector (0.0045, -0.0442, -0.1986)>\n",
      "Frame 58: \n",
      "<Vector (0.0074, -0.0426, -0.1989)>\n",
      "Frame 59: \n",
      "<Vector (0.0103, -0.0415, -0.1990)>\n",
      "Frame 60: \n",
      "<Vector (0.0126, -0.0417, -0.1988)>\n",
      "Frame 61: \n",
      "<Vector (0.0150, -0.0423, -0.1986)>\n",
      "Frame 62: \n",
      "<Vector (0.0168, -0.0422, -0.1985)>\n",
      "Frame 63: \n",
      "<Vector (0.0143, -0.0407, -0.1990)>\n",
      "Frame 64: \n",
      "<Vector (0.0109, -0.0395, -0.1994)>\n",
      "Frame 65: \n",
      "<Vector (0.0079, -0.0389, -0.1996)>\n",
      "Frame 66: \n",
      "<Vector (0.0038, -0.0379, -0.1999)>\n",
      "Frame 67: \n",
      "<Vector (0.0023, -0.0376, -0.2000)>\n",
      "Frame 68: \n",
      "<Vector (0.0006, -0.0382, -0.1999)>\n",
      "Frame 69: \n",
      "<Vector (-0.0000, -0.0397, -0.1996)>\n",
      "Frame 70: \n",
      "<Vector (-0.0011, -0.0416, -0.1992)>\n",
      "Frame 71: \n",
      "<Vector (-0.0018, -0.0436, -0.1988)>\n",
      "Frame 72: \n",
      "<Vector (-0.0016, -0.0450, -0.1984)>\n",
      "Frame 73: \n",
      "<Vector (-0.0005, -0.0479, -0.1978)>\n",
      "Frame 74: \n",
      "<Vector (0.0029, -0.0486, -0.1976)>\n",
      "Frame 75: \n",
      "<Vector (0.0048, -0.0474, -0.1978)>\n",
      "Frame 76: \n",
      "<Vector (0.0067, -0.0446, -0.1984)>\n",
      "Frame 77: \n",
      "<Vector (0.0088, -0.0422, -0.1989)>\n",
      "Frame 78: \n",
      "<Vector (0.0108, -0.0408, -0.1990)>\n",
      "Frame 79: \n",
      "<Vector (0.0115, -0.0399, -0.1992)>\n",
      "Frame 80: \n",
      "<Vector (0.0118, -0.0386, -0.1994)>\n",
      "Frame 81: \n",
      "<Vector (0.0103, -0.0369, -0.1999)>\n",
      "Frame 82: \n",
      "<Vector (0.0095, -0.0369, -0.1999)>\n",
      "Frame 83: \n",
      "<Vector (0.0089, -0.0367, -0.2000)>\n",
      "Frame 84: \n",
      "<Vector (0.0084, -0.0364, -0.2001)>\n",
      "Frame 85: \n",
      "<Vector (0.0082, -0.0362, -0.2001)>\n",
      "Frame 86: \n",
      "<Vector (0.0081, -0.0360, -0.2002)>\n",
      "Frame 87: \n",
      "<Vector (0.0079, -0.0356, -0.2003)>\n",
      "Frame 88: \n",
      "<Vector (0.0076, -0.0353, -0.2003)>\n",
      "Frame 89: \n",
      "<Vector (0.0076, -0.0351, -0.2004)>\n",
      "Frame 90: \n",
      "<Vector (0.0077, -0.0352, -0.2003)>\n",
      "Frame 91: \n",
      "<Vector (0.0079, -0.0354, -0.2003)>\n",
      "Frame 92: \n",
      "<Vector (0.0081, -0.0355, -0.2003)>\n",
      "Frame 93: \n",
      "<Vector (0.0086, -0.0356, -0.2003)>\n",
      "Frame 94: \n",
      "<Vector (0.0089, -0.0356, -0.2002)>\n",
      "Frame 95: \n",
      "<Vector (0.0092, -0.0357, -0.2002)>\n",
      "Frame 96: \n",
      "<Vector (0.0093, -0.0357, -0.2002)>\n",
      "Frame 97: \n",
      "<Vector (0.0098, -0.0357, -0.2002)>\n",
      "Frame 98: \n",
      "<Vector (0.0102, -0.0356, -0.2002)>\n",
      "Frame 99: \n",
      "<Vector (0.0104, -0.0356, -0.2001)>\n",
      "Frame 100: \n",
      "<Vector (0.0105, -0.0355, -0.2001)>\n",
      "Frame 101: \n",
      "<Vector (0.0105, -0.0355, -0.2002)>\n",
      "Frame 102: \n",
      "<Vector (0.0106, -0.0355, -0.2002)>\n",
      "Frame 103: \n",
      "<Vector (0.0105, -0.0354, -0.2002)>\n",
      "Frame 104: \n",
      "<Vector (0.0116, -0.0345, -0.2003)>\n",
      "Frame 105: \n",
      "<Vector (0.0123, -0.0341, -0.2003)>\n",
      "Frame 106: \n",
      "<Vector (0.0134, -0.0331, -0.2004)>\n",
      "Frame 107: \n",
      "<Vector (0.0138, -0.0326, -0.2005)>\n",
      "Frame 108: \n",
      "<Vector (0.0149, -0.0317, -0.2006)>\n",
      "Frame 109: \n",
      "<Vector (0.0164, -0.0304, -0.2006)>\n",
      "Frame 110: \n",
      "<Vector (0.0168, -0.0301, -0.2006)>\n",
      "Frame 111: \n",
      "<Vector (0.0195, -0.0277, -0.2008)>\n",
      "Frame 112: \n",
      "<Vector (0.0213, -0.0253, -0.2009)>\n",
      "Frame 113: \n",
      "<Vector (0.0229, -0.0230, -0.2010)>\n",
      "Frame 114: \n",
      "<Vector (0.0216, -0.0236, -0.2011)>\n",
      "Frame 115: \n",
      "<Vector (0.0173, -0.0222, -0.2017)>\n",
      "Frame 116: \n",
      "<Vector (0.0145, -0.0188, -0.2023)>\n",
      "Frame 117: \n",
      "<Vector (0.0147, -0.0158, -0.2026)>\n",
      "Frame 118: \n",
      "<Vector (0.0119, -0.0119, -0.2031)>\n",
      "Frame 119: \n",
      "<Vector (0.0063, -0.0078, -0.2036)>\n",
      "Frame 120: \n",
      "<Vector (0.0048, -0.0085, -0.2036)>\n",
      "Frame 121: \n",
      "<Vector (0.0043, -0.0127, -0.2033)>\n",
      "Frame 122: \n",
      "<Vector (0.0066, -0.0175, -0.2029)>\n",
      "Frame 123: \n",
      "<Vector (0.0097, -0.0148, -0.2030)>\n",
      "Frame 124: \n",
      "<Vector (0.0188, -0.0067, -0.2027)>\n",
      "Frame 125: \n",
      "<Vector (0.0282, 0.0007, -0.2017)>\n",
      "Frame 126: \n",
      "<Vector (0.0394, 0.0091, -0.1996)>\n",
      "Frame 127: \n",
      "<Vector (0.0473, 0.0152, -0.1975)>\n",
      "Frame 128: \n",
      "<Vector (0.0525, 0.0164, -0.1960)>\n",
      "Frame 129: \n",
      "<Vector (0.0561, 0.0142, -0.1952)>\n",
      "Frame 130: \n",
      "<Vector (0.0598, 0.0129, -0.1942)>\n",
      "Frame 131: \n",
      "<Vector (0.0632, 0.0132, -0.1931)>\n",
      "Frame 132: \n",
      "<Vector (0.0642, 0.0107, -0.1929)>\n",
      "Frame 133: \n",
      "<Vector (0.0658, 0.0064, -0.1925)>\n",
      "Frame 134: \n",
      "<Vector (0.0679, 0.0029, -0.1919)>\n",
      "Frame 135: \n",
      "<Vector (0.0703, -0.0027, -0.1910)>\n",
      "Frame 136: \n",
      "<Vector (0.0706, -0.0063, -0.1908)>\n",
      "Frame 137: \n",
      "<Vector (0.0701, -0.0086, -0.1909)>\n",
      "Frame 138: \n",
      "<Vector (0.0699, -0.0080, -0.1909)>\n",
      "Frame 139: \n",
      "<Vector (0.0696, -0.0066, -0.1911)>\n",
      "Frame 140: \n",
      "<Vector (0.0689, -0.0046, -0.1914)>\n",
      "Frame 141: \n",
      "<Vector (0.0687, -0.0013, -0.1916)>\n",
      "Frame 142: \n",
      "<Vector (0.0695, 0.0027, -0.1913)>\n",
      "Frame 143: \n",
      "<Vector (0.0700, 0.0038, -0.1911)>\n",
      "Frame 144: \n",
      "<Vector (0.0691, 0.0012, -0.1915)>\n",
      "Frame 145: \n",
      "<Vector (0.0662, -0.0054, -0.1924)>\n",
      "Frame 146: \n",
      "<Vector (0.0603, -0.0151, -0.1938)>\n",
      "Frame 147: \n",
      "<Vector (0.0532, -0.0228, -0.1952)>\n",
      "Frame 148: \n",
      "<Vector (0.0479, -0.0277, -0.1959)>\n",
      "Frame 149: \n",
      "<Vector (0.0412, -0.0317, -0.1969)>\n",
      "Frame 150: \n",
      "<Vector (0.0326, -0.0321, -0.1985)>\n",
      "Frame 151: \n",
      "<Vector (0.0277, -0.0304, -0.1995)>\n",
      "Frame 152: \n",
      "<Vector (0.0259, -0.0285, -0.2001)>\n",
      "Frame 153: \n",
      "<Vector (0.0250, -0.0272, -0.2003)>\n",
      "Frame 154: \n",
      "<Vector (0.0183, -0.0213, -0.2017)>\n",
      "Frame 155: \n",
      "<Vector (0.0174, -0.0188, -0.2021)>\n",
      "Frame 156: \n",
      "<Vector (0.0257, -0.0167, -0.2014)>\n",
      "Frame 157: \n",
      "<Vector (0.0320, -0.0157, -0.2006)>\n",
      "Frame 158: \n",
      "<Vector (0.0390, -0.0079, -0.1999)>\n",
      "Frame 159: \n",
      "<Vector (0.0395, -0.0037, -0.1999)>\n",
      "Frame 160: \n",
      "<Vector (0.0416, -0.0018, -0.1995)>\n",
      "Frame 161: \n",
      "<Vector (0.0487, -0.0003, -0.1979)>\n",
      "Frame 162: \n",
      "<Vector (0.0496, -0.0008, -0.1977)>\n",
      "Frame 163: \n",
      "<Vector (0.0436, -0.0049, -0.1990)>\n",
      "Frame 164: \n",
      "<Vector (0.0379, -0.0089, -0.2000)>\n",
      "Frame 165: \n",
      "<Vector (0.0312, -0.0131, -0.2011)>\n",
      "Frame 166: \n",
      "<Vector (0.0258, -0.0173, -0.2016)>\n",
      "Frame 167: \n",
      "<Vector (0.0227, -0.0230, -0.2014)>\n",
      "Frame 168: \n",
      "<Vector (0.0204, -0.0262, -0.2013)>\n",
      "Frame 169: \n",
      "<Vector (0.0220, -0.0301, -0.2005)>\n",
      "Frame 170: \n",
      "<Vector (0.0245, -0.0295, -0.2003)>\n",
      "Frame 171: \n",
      "<Vector (0.0263, -0.0290, -0.2002)>\n",
      "Frame 172: \n",
      "<Vector (0.0266, -0.0301, -0.2000)>\n",
      "Frame 173: \n",
      "<Vector (0.0278, -0.0314, -0.1996)>\n",
      "Frame 174: \n",
      "<Vector (0.0290, -0.0323, -0.1993)>\n",
      "Frame 175: \n",
      "<Vector (0.0282, -0.0313, -0.1995)>\n",
      "Frame 176: \n",
      "<Vector (0.0262, -0.0291, -0.2001)>\n",
      "Frame 177: \n",
      "<Vector (0.0259, -0.0284, -0.2003)>\n",
      "Frame 178: \n",
      "<Vector (0.0301, -0.0290, -0.1996)>\n",
      "Frame 179: \n",
      "<Vector (0.0292, -0.0245, -0.2003)>\n",
      "Frame 180: \n",
      "<Vector (0.0260, -0.0247, -0.2008)>\n",
      "Frame 181: \n",
      "<Vector (0.0261, -0.0323, -0.1997)>\n",
      "Frame 182: \n",
      "<Vector (0.0250, -0.0313, -0.2000)>\n",
      "Frame 183: \n",
      "<Vector (0.0227, -0.0279, -0.2007)>\n",
      "Frame 184: \n",
      "<Vector (0.0248, -0.0266, -0.2007)>\n"
     ]
    },
    {
     "name": "stdout",
     "output_type": "stream",
     "text": [
      "Frame 185: \n",
      "<Vector (0.0275, -0.0226, -0.2008)>\n",
      "Frame 186: \n",
      "<Vector (0.0299, -0.0214, -0.2006)>\n",
      "Frame 187: \n",
      "<Vector (0.0321, -0.0194, -0.2005)>\n",
      "Frame 188: \n",
      "<Vector (0.0318, -0.0197, -0.2006)>\n",
      "Frame 189: \n",
      "<Vector (0.0293, -0.0214, -0.2007)>\n",
      "Frame 190: \n",
      "<Vector (0.0269, -0.0232, -0.2008)>\n",
      "Frame 191: \n",
      "<Vector (0.0257, -0.0248, -0.2008)>\n",
      "Frame 192: \n",
      "<Vector (0.0249, -0.0257, -0.2007)>\n",
      "Frame 193: \n",
      "<Vector (0.0235, -0.0266, -0.2008)>\n",
      "Frame 194: \n",
      "<Vector (0.0215, -0.0281, -0.2008)>\n",
      "Frame 195: \n",
      "<Vector (0.0159, -0.0311, -0.2008)>\n",
      "Frame 196: \n",
      "<Vector (0.0123, -0.0308, -0.2012)>\n",
      "Frame 197: \n",
      "<Vector (0.0136, -0.0268, -0.2017)>\n",
      "Frame 198: \n",
      "<Vector (0.0128, -0.0271, -0.2016)>\n",
      "Frame 199: \n",
      "<Vector (0.0036, -0.0317, -0.2014)>\n",
      "Frame 200: \n",
      "<Vector (-0.0002, -0.0326, -0.2012)>\n",
      "Frame 201: \n",
      "<Vector (0.0039, -0.0313, -0.2013)>\n",
      "Frame 202: \n",
      "<Vector (0.0081, -0.0286, -0.2016)>\n",
      "Frame 203: \n",
      "<Vector (0.0110, -0.0264, -0.2018)>\n",
      "Frame 204: \n",
      "<Vector (0.0179, -0.0205, -0.2021)>\n",
      "Frame 205: \n",
      "<Vector (0.0190, -0.0199, -0.2020)>\n",
      "Frame 206: \n",
      "<Vector (0.0194, -0.0205, -0.2019)>\n",
      "Frame 207: \n",
      "<Vector (0.0190, -0.0213, -0.2018)>\n",
      "Frame 208: \n",
      "<Vector (0.0168, -0.0242, -0.2016)>\n",
      "Frame 209: \n",
      "<Vector (0.0144, -0.0268, -0.2015)>\n",
      "Frame 210: \n",
      "<Vector (0.0115, -0.0293, -0.2013)>\n",
      "Frame 211: \n",
      "<Vector (0.0078, -0.0317, -0.2011)>\n",
      "Frame 212: \n",
      "<Vector (0.0044, -0.0336, -0.2009)>\n",
      "Frame 213: \n",
      "<Vector (0.0045, -0.0351, -0.2006)>\n",
      "Frame 214: \n",
      "<Vector (0.0032, -0.0366, -0.2003)>\n",
      "Frame 215: \n",
      "<Vector (0.0011, -0.0372, -0.2001)>\n",
      "Frame 216: \n",
      "<Vector (0.0008, -0.0369, -0.2002)>\n",
      "Frame 217: \n",
      "<Vector (0.0089, -0.0326, -0.2007)>\n",
      "Frame 218: \n",
      "<Vector (0.0149, -0.0299, -0.2008)>\n",
      "Frame 219: \n",
      "<Vector (0.0252, -0.0262, -0.2003)>\n",
      "Frame 220: \n",
      "<Vector (0.0298, -0.0264, -0.1997)>\n",
      "Frame 221: \n",
      "<Vector (0.0281, -0.0284, -0.1997)>\n",
      "Frame 222: \n",
      "<Vector (0.0249, -0.0302, -0.1999)>\n",
      "Frame 223: \n",
      "<Vector (0.0184, -0.0340, -0.1999)>\n",
      "Frame 224: \n",
      "<Vector (0.0111, -0.0379, -0.1997)>\n",
      "Frame 225: \n",
      "<Vector (0.0041, -0.0419, -0.1991)>\n",
      "Frame 226: \n",
      "<Vector (0.0012, -0.0438, -0.1986)>\n",
      "Frame 227: \n",
      "<Vector (0.0012, -0.0450, -0.1984)>\n",
      "Frame 228: \n",
      "<Vector (0.0023, -0.0433, -0.1987)>\n",
      "Frame 229: \n",
      "<Vector (0.0033, -0.0410, -0.1991)>\n",
      "Frame 230: \n",
      "<Vector (0.0096, -0.0380, -0.1996)>\n",
      "Frame 231: \n",
      "<Vector (0.0130, -0.0359, -0.1998)>\n",
      "Frame 232: \n",
      "<Vector (0.0146, -0.0347, -0.1999)>\n",
      "Frame 233: \n",
      "<Vector (0.0156, -0.0326, -0.2003)>\n",
      "Frame 234: \n",
      "<Vector (0.0157, -0.0315, -0.2005)>\n",
      "Frame 235: \n",
      "<Vector (0.0156, -0.0295, -0.2008)>\n",
      "Frame 236: \n",
      "<Vector (0.0143, -0.0287, -0.2011)>\n",
      "Frame 237: \n",
      "<Vector (0.0132, -0.0290, -0.2011)>\n",
      "Frame 238: \n",
      "<Vector (0.0122, -0.0305, -0.2010)>\n",
      "Frame 239: \n",
      "<Vector (0.0113, -0.0319, -0.2008)>\n",
      "Frame 240: \n",
      "<Vector (0.0088, -0.0347, -0.2005)>\n",
      "Frame 241: \n",
      "<Vector (0.0093, -0.0370, -0.2000)>\n",
      "Frame 242: \n",
      "<Vector (0.0104, -0.0372, -0.1999)>\n",
      "Frame 243: \n",
      "<Vector (0.0046, -0.0343, -0.2006)>\n",
      "Frame 244: \n",
      "<Vector (-0.0012, -0.0341, -0.2007)>\n",
      "Frame 245: \n",
      "<Vector (-0.0052, -0.0367, -0.2001)>\n",
      "Frame 246: \n",
      "<Vector (-0.0086, -0.0357, -0.2002)>\n",
      "Frame 247: \n",
      "<Vector (-0.0240, -0.0265, -0.2004)>\n",
      "Frame 248: \n",
      "<Vector (-0.0269, -0.0244, -0.2003)>\n",
      "Frame 249: \n",
      "<Vector (-0.0266, -0.0239, -0.2004)>\n",
      "Frame 250: \n",
      "<Vector (-0.0248, -0.0212, -0.2010)>\n"
     ]
    }
   ],
   "source": [
    "# https://blender.stackexchange.com/questions/177347/how-to-get-bone-location-on-each-frame-and-print-it-2-8\n",
    "\n",
    "armature = bpy.context.scene.objects['Dongle_1B5E4344']\n",
    "\n",
    "#Armature & bone names\n",
    "armatureN = \"Dongle_1B5E4344\"\n",
    "boneN = \"ring_tip_l\"\n",
    "\n",
    "for obj in bpy.data.objects:\n",
    "    obj.select_set(False)\n",
    "\n",
    "bpy.data.objects[armatureN].select_set(True)\n",
    "\n",
    "bpy.ops.object.mode_set(mode='POSE', toggle=False)\n",
    "\n",
    "for f in range(scene.frame_start, scene.frame_end+1):\n",
    "    scene.frame_set(f)\n",
    "    print(\"Frame \" + str(f) + \": \")\n",
    "\n",
    "    # This can be head, tail, center...\n",
    "    # More info: https://docs.blender.org/api/current/bpy.types.PoseBone.html?highlight=bpy%20bone#bpy.types.PoseBone.bone\n",
    "    bone = armature.pose.bones[boneN].tail\n",
    "\n",
    "    # Since Blender 2.8 you multiply matrices with @ not with *\n",
    "    bonePos = armature.matrix_world @ bone\n",
    "    print(bonePos)\n",
    "\n",
    "    #This may be useful to visualize the location that you have got\n",
    "    #bpy.ops.mesh.primitive_cube_add(size = 0.1, location=bonePos)\n",
    "    #armature.pose.bones[boneN]"
   ]
  },
  {
   "cell_type": "code",
   "execution_count": 102,
   "id": "bulgarian-assignment",
   "metadata": {},
   "outputs": [
    {
     "data": {
      "text/plain": [
       "0.4318713843822479"
      ]
     },
     "execution_count": 102,
     "metadata": {},
     "output_type": "execute_result"
    }
   ],
   "source": [
    "armature = bpy.context.scene.objects['Dongle_1B5E4344']\n",
    "\n",
    "armature.animation_data.action.fcurves[1].evaluate(8)"
   ]
  },
  {
   "cell_type": "code",
   "execution_count": 115,
   "id": "broke-superintendent",
   "metadata": {},
   "outputs": [
    {
     "data": {
      "text/plain": [
       "0.4318713843822479"
      ]
     },
     "execution_count": 115,
     "metadata": {},
     "output_type": "execute_result"
    }
   ],
   "source": [
    "scene.frame_set(1)\n",
    "armature.animation_data.action.fcurves[1].evaluate(150)"
   ]
  },
  {
   "cell_type": "code",
   "execution_count": 119,
   "id": "unlimited-multiple",
   "metadata": {},
   "outputs": [
    {
     "data": {
      "text/plain": [
       "0.9136484861373901"
      ]
     },
     "execution_count": 119,
     "metadata": {},
     "output_type": "execute_result"
    }
   ],
   "source": [
    "bpy.data.objects[armatureN].animation_data.action.fcurves[0].evaluate(150)"
   ]
  },
  {
   "cell_type": "code",
   "execution_count": 117,
   "id": "greenhouse-afghanistan",
   "metadata": {},
   "outputs": [
    {
     "data": {
      "text/plain": [
       "0.9136484861373901"
      ]
     },
     "execution_count": 117,
     "metadata": {},
     "output_type": "execute_result"
    }
   ],
   "source": [
    "bpy.data.objects[armatureN].animation_data.action.fcurves[0].evaluate(300)"
   ]
  },
  {
   "cell_type": "code",
   "execution_count": null,
   "id": "hired-longer",
   "metadata": {},
   "outputs": [],
   "source": [
    "bpy.data.objects[armatureN].animation_data.action.fcurves[0].evaluate(300)"
   ]
  },
  {
   "cell_type": "code",
   "execution_count": 49,
   "id": "apparent-killer",
   "metadata": {},
   "outputs": [
    {
     "ename": "AttributeError",
     "evalue": "bpy_prop_collection: attribute \"active\" not found",
     "output_type": "error",
     "traceback": [
      "\u001b[1;31m---------------------------------------------------------------------------\u001b[0m",
      "\u001b[1;31mAttributeError\u001b[0m                            Traceback (most recent call last)",
      "\u001b[1;32m<ipython-input-49-ad16ca3bfc54>\u001b[0m in \u001b[0;36m<module>\u001b[1;34m\u001b[0m\n\u001b[1;32m----> 1\u001b[1;33m \u001b[0mbpy\u001b[0m\u001b[1;33m.\u001b[0m\u001b[0mcontext\u001b[0m\u001b[1;33m.\u001b[0m\u001b[0mscene\u001b[0m\u001b[1;33m.\u001b[0m\u001b[0mobjects\u001b[0m\u001b[1;33m.\u001b[0m\u001b[0mactive\u001b[0m \u001b[1;33m=\u001b[0m \u001b[0mbpy\u001b[0m\u001b[1;33m.\u001b[0m\u001b[0mdata\u001b[0m\u001b[1;33m.\u001b[0m\u001b[0mobjects\u001b[0m\u001b[1;33m[\u001b[0m\u001b[1;34m'mesh_hand_l'\u001b[0m\u001b[1;33m]\u001b[0m\u001b[1;33m\u001b[0m\u001b[1;33m\u001b[0m\u001b[0m\n\u001b[0m",
      "\u001b[1;31mAttributeError\u001b[0m: bpy_prop_collection: attribute \"active\" not found"
     ]
    }
   ],
   "source": [
    "bpy.context.scene.objects.active = bpy.data.objects['mesh_hand_l']"
   ]
  },
  {
   "cell_type": "code",
   "execution_count": 29,
   "id": "changed-baptist",
   "metadata": {},
   "outputs": [
    {
     "ename": "AttributeError",
     "evalue": "'NoneType' object has no attribute 'tail'",
     "output_type": "error",
     "traceback": [
      "\u001b[1;31m---------------------------------------------------------------------------\u001b[0m",
      "\u001b[1;31mAttributeError\u001b[0m                            Traceback (most recent call last)",
      "\u001b[1;32m<ipython-input-29-e5ed5b543a6d>\u001b[0m in \u001b[0;36m<module>\u001b[1;34m\u001b[0m\n\u001b[0;32m      1\u001b[0m \u001b[1;32mfrom\u001b[0m \u001b[0mbpy\u001b[0m \u001b[1;32mimport\u001b[0m \u001b[0mcontext\u001b[0m\u001b[1;33m\u001b[0m\u001b[1;33m\u001b[0m\u001b[0m\n\u001b[0;32m      2\u001b[0m \u001b[1;33m\u001b[0m\u001b[0m\n\u001b[1;32m----> 3\u001b[1;33m \u001b[0mtail\u001b[0m \u001b[1;33m=\u001b[0m \u001b[0mbpy\u001b[0m\u001b[1;33m.\u001b[0m\u001b[0mdata\u001b[0m\u001b[1;33m.\u001b[0m\u001b[0mobjects\u001b[0m\u001b[1;33m[\u001b[0m\u001b[1;34m\"mesh_hand_l\"\u001b[0m\u001b[1;33m]\u001b[0m\u001b[1;33m.\u001b[0m\u001b[0mlocation\u001b[0m \u001b[1;33m+\u001b[0m \u001b[0mcontext\u001b[0m\u001b[1;33m.\u001b[0m\u001b[0mactive_pose_bone\u001b[0m\u001b[1;33m.\u001b[0m\u001b[0mtail\u001b[0m\u001b[1;33m\u001b[0m\u001b[1;33m\u001b[0m\u001b[0m\n\u001b[0m\u001b[0;32m      4\u001b[0m \u001b[0mhead\u001b[0m \u001b[1;33m=\u001b[0m \u001b[0mbpy\u001b[0m\u001b[1;33m.\u001b[0m\u001b[0mdata\u001b[0m\u001b[1;33m.\u001b[0m\u001b[0mobjects\u001b[0m\u001b[1;33m[\u001b[0m\u001b[1;34m\"mesh_hand_l\"\u001b[0m\u001b[1;33m]\u001b[0m\u001b[1;33m.\u001b[0m\u001b[0mlocation\u001b[0m \u001b[1;33m+\u001b[0m \u001b[0mcontext\u001b[0m\u001b[1;33m.\u001b[0m\u001b[0mactive_pose_bone\u001b[0m\u001b[1;33m.\u001b[0m\u001b[0mhead\u001b[0m\u001b[1;33m\u001b[0m\u001b[1;33m\u001b[0m\u001b[0m\n",
      "\u001b[1;31mAttributeError\u001b[0m: 'NoneType' object has no attribute 'tail'"
     ]
    }
   ],
   "source": [
    "from bpy import context\n",
    "\n",
    "tail = bpy.data.objects[\"mesh_hand_l\"].location + context.active_pose_bone.tail\n",
    "head = bpy.data.objects[\"mesh_hand_l\"].location + context.active_pose_bone.head"
   ]
  },
  {
   "cell_type": "code",
   "execution_count": 26,
   "id": "dress-grove",
   "metadata": {},
   "outputs": [
    {
     "ename": "AttributeError",
     "evalue": "'Armature' object has no attribute 'vertices'",
     "output_type": "error",
     "traceback": [
      "\u001b[1;31m---------------------------------------------------------------------------\u001b[0m",
      "\u001b[1;31mAttributeError\u001b[0m                            Traceback (most recent call last)",
      "\u001b[1;32m<ipython-input-26-4ac1fb8d963f>\u001b[0m in \u001b[0;36m<module>\u001b[1;34m\u001b[0m\n\u001b[0;32m      2\u001b[0m \u001b[1;33m\u001b[0m\u001b[0m\n\u001b[0;32m      3\u001b[0m \u001b[0mobj\u001b[0m \u001b[1;33m=\u001b[0m \u001b[0mcontext\u001b[0m\u001b[1;33m.\u001b[0m\u001b[0mactive_object\u001b[0m\u001b[1;33m\u001b[0m\u001b[1;33m\u001b[0m\u001b[0m\n\u001b[1;32m----> 4\u001b[1;33m \u001b[0mv\u001b[0m \u001b[1;33m=\u001b[0m \u001b[0mobj\u001b[0m\u001b[1;33m.\u001b[0m\u001b[0mdata\u001b[0m\u001b[1;33m.\u001b[0m\u001b[0mvertices\u001b[0m\u001b[1;33m[\u001b[0m\u001b[1;36m0\u001b[0m\u001b[1;33m]\u001b[0m\u001b[1;33m\u001b[0m\u001b[1;33m\u001b[0m\u001b[0m\n\u001b[0m\u001b[0;32m      5\u001b[0m \u001b[1;33m\u001b[0m\u001b[0m\n\u001b[0;32m      6\u001b[0m \u001b[0mco_final\u001b[0m \u001b[1;33m=\u001b[0m \u001b[0mobj\u001b[0m\u001b[1;33m.\u001b[0m\u001b[0mmatrix_world\u001b[0m \u001b[1;33m@\u001b[0m \u001b[0mv\u001b[0m\u001b[1;33m.\u001b[0m\u001b[0mco\u001b[0m\u001b[1;33m\u001b[0m\u001b[1;33m\u001b[0m\u001b[0m\n",
      "\u001b[1;31mAttributeError\u001b[0m: 'Armature' object has no attribute 'vertices'"
     ]
    }
   ],
   "source": [
    "\n",
    "\n",
    "obj = context.active_object\n",
    "v = obj.data.vertices[0]\n",
    "\n",
    "co_final = obj.matrix_world @ v.co\n",
    "\n",
    "# now we can view the location by applying it to an object\n",
    "obj_empty = bpy.data.objects.new(\"Test\", None)\n",
    "context.collection.objects.link(obj_empty)\n",
    "obj_empty.location = co_final"
   ]
  },
  {
   "cell_type": "code",
   "execution_count": 39,
   "id": "altered-blackjack",
   "metadata": {},
   "outputs": [
    {
     "data": {
      "text/plain": [
       "{'FINISHED'}"
      ]
     },
     "execution_count": 39,
     "metadata": {},
     "output_type": "execute_result"
    }
   ],
   "source": []
  },
  {
   "cell_type": "code",
   "execution_count": 41,
   "id": "removed-carpet",
   "metadata": {},
   "outputs": [
    {
     "ename": "AttributeError",
     "evalue": "'NoneType' object has no attribute 'tail'",
     "output_type": "error",
     "traceback": [
      "\u001b[1;31m---------------------------------------------------------------------------\u001b[0m",
      "\u001b[1;31mAttributeError\u001b[0m                            Traceback (most recent call last)",
      "\u001b[1;32m<ipython-input-41-75d2072f9def>\u001b[0m in \u001b[0;36m<module>\u001b[1;34m\u001b[0m\n\u001b[0;32m      4\u001b[0m \u001b[1;33m\u001b[0m\u001b[0m\n\u001b[0;32m      5\u001b[0m \u001b[0marmature\u001b[0m \u001b[1;33m=\u001b[0m \u001b[1;34m\"mesh_hand_l\"\u001b[0m\u001b[1;33m\u001b[0m\u001b[1;33m\u001b[0m\u001b[0m\n\u001b[1;32m----> 6\u001b[1;33m \u001b[0mtail\u001b[0m \u001b[1;33m=\u001b[0m \u001b[0mbpy\u001b[0m\u001b[1;33m.\u001b[0m\u001b[0mdata\u001b[0m\u001b[1;33m.\u001b[0m\u001b[0mobjects\u001b[0m\u001b[1;33m[\u001b[0m\u001b[0marmature\u001b[0m\u001b[1;33m]\u001b[0m\u001b[1;33m.\u001b[0m\u001b[0mlocation\u001b[0m \u001b[1;33m+\u001b[0m \u001b[0mbpy\u001b[0m\u001b[1;33m.\u001b[0m\u001b[0mcontext\u001b[0m\u001b[1;33m.\u001b[0m\u001b[0mactive_pose_bone\u001b[0m\u001b[1;33m.\u001b[0m\u001b[0mtail\u001b[0m\u001b[1;33m\u001b[0m\u001b[1;33m\u001b[0m\u001b[0m\n\u001b[0m\u001b[0;32m      7\u001b[0m \u001b[0mhead\u001b[0m \u001b[1;33m=\u001b[0m \u001b[0mbpy\u001b[0m\u001b[1;33m.\u001b[0m\u001b[0mdata\u001b[0m\u001b[1;33m.\u001b[0m\u001b[0mobjects\u001b[0m\u001b[1;33m[\u001b[0m\u001b[0marmature\u001b[0m\u001b[1;33m]\u001b[0m\u001b[1;33m.\u001b[0m\u001b[0mlocation\u001b[0m \u001b[1;33m+\u001b[0m \u001b[0mbpy\u001b[0m\u001b[1;33m.\u001b[0m\u001b[0mcontext\u001b[0m\u001b[1;33m.\u001b[0m\u001b[0mactive_pose_bone\u001b[0m\u001b[1;33m.\u001b[0m\u001b[0mhead\u001b[0m\u001b[1;33m\u001b[0m\u001b[1;33m\u001b[0m\u001b[0m\n\u001b[0;32m      8\u001b[0m \u001b[0mname\u001b[0m \u001b[1;33m=\u001b[0m \u001b[0mbpy\u001b[0m\u001b[1;33m.\u001b[0m\u001b[0mcontext\u001b[0m\u001b[1;33m.\u001b[0m\u001b[0mactive_pose_bone\u001b[0m\u001b[1;33m.\u001b[0m\u001b[0mname\u001b[0m\u001b[1;33m\u001b[0m\u001b[1;33m\u001b[0m\u001b[0m\n",
      "\u001b[1;31mAttributeError\u001b[0m: 'NoneType' object has no attribute 'tail'"
     ]
    }
   ],
   "source": [
    "from mathutils import Vector\n",
    "\n",
    "bpy.ops.object.mode_set(mode='POSE')\n",
    "\n",
    "armature = \"mesh_hand_l\"\n",
    "tail = bpy.data.objects[armature].location + bpy.context.active_pose_bone.tail\n",
    "head = bpy.data.objects[armature].location + bpy.context.active_pose_bone.head\n",
    "name = bpy.context.active_pose_bone.name\n",
    "print(name)\n",
    "print(head)\n",
    "print(tail) "
   ]
  },
  {
   "cell_type": "code",
   "execution_count": 42,
   "id": "terminal-testament",
   "metadata": {},
   "outputs": [
    {
     "ename": "RuntimeError",
     "evalue": "Operator bpy.ops.outliner.item_activate.poll() failed, context is incorrect",
     "output_type": "error",
     "traceback": [
      "\u001b[1;31m---------------------------------------------------------------------------\u001b[0m",
      "\u001b[1;31mRuntimeError\u001b[0m                              Traceback (most recent call last)",
      "\u001b[1;32m<ipython-input-42-13c7fa96dd1f>\u001b[0m in \u001b[0;36m<module>\u001b[1;34m\u001b[0m\n\u001b[1;32m----> 1\u001b[1;33m \u001b[0mbpy\u001b[0m\u001b[1;33m.\u001b[0m\u001b[0mops\u001b[0m\u001b[1;33m.\u001b[0m\u001b[0moutliner\u001b[0m\u001b[1;33m.\u001b[0m\u001b[0mitem_activate\u001b[0m\u001b[1;33m(\u001b[0m\u001b[0mextend\u001b[0m\u001b[1;33m=\u001b[0m\u001b[1;32mFalse\u001b[0m\u001b[1;33m,\u001b[0m \u001b[0mdeselect_all\u001b[0m\u001b[1;33m=\u001b[0m\u001b[1;32mTrue\u001b[0m\u001b[1;33m)\u001b[0m\u001b[1;33m\u001b[0m\u001b[1;33m\u001b[0m\u001b[0m\n\u001b[0m",
      "\u001b[1;32m~\\anaconda3\\envs\\manopth\\2.82\\scripts\\modules\\bpy\\ops.py\u001b[0m in \u001b[0;36m__call__\u001b[1;34m(self, *args, **kw)\u001b[0m\n\u001b[0;32m    199\u001b[0m             \u001b[0mret\u001b[0m \u001b[1;33m=\u001b[0m \u001b[0mop_call\u001b[0m\u001b[1;33m(\u001b[0m\u001b[0mself\u001b[0m\u001b[1;33m.\u001b[0m\u001b[0midname_py\u001b[0m\u001b[1;33m(\u001b[0m\u001b[1;33m)\u001b[0m\u001b[1;33m,\u001b[0m \u001b[0mC_dict\u001b[0m\u001b[1;33m,\u001b[0m \u001b[0mkw\u001b[0m\u001b[1;33m,\u001b[0m \u001b[0mC_exec\u001b[0m\u001b[1;33m,\u001b[0m \u001b[0mC_undo\u001b[0m\u001b[1;33m)\u001b[0m\u001b[1;33m\u001b[0m\u001b[1;33m\u001b[0m\u001b[0m\n\u001b[0;32m    200\u001b[0m         \u001b[1;32melse\u001b[0m\u001b[1;33m:\u001b[0m\u001b[1;33m\u001b[0m\u001b[1;33m\u001b[0m\u001b[0m\n\u001b[1;32m--> 201\u001b[1;33m             \u001b[0mret\u001b[0m \u001b[1;33m=\u001b[0m \u001b[0mop_call\u001b[0m\u001b[1;33m(\u001b[0m\u001b[0mself\u001b[0m\u001b[1;33m.\u001b[0m\u001b[0midname_py\u001b[0m\u001b[1;33m(\u001b[0m\u001b[1;33m)\u001b[0m\u001b[1;33m,\u001b[0m \u001b[1;32mNone\u001b[0m\u001b[1;33m,\u001b[0m \u001b[0mkw\u001b[0m\u001b[1;33m)\u001b[0m\u001b[1;33m\u001b[0m\u001b[1;33m\u001b[0m\u001b[0m\n\u001b[0m\u001b[0;32m    202\u001b[0m \u001b[1;33m\u001b[0m\u001b[0m\n\u001b[0;32m    203\u001b[0m         \u001b[1;32mif\u001b[0m \u001b[1;34m'FINISHED'\u001b[0m \u001b[1;32min\u001b[0m \u001b[0mret\u001b[0m \u001b[1;32mand\u001b[0m \u001b[0mcontext\u001b[0m\u001b[1;33m.\u001b[0m\u001b[0mwindow_manager\u001b[0m \u001b[1;33m==\u001b[0m \u001b[0mwm\u001b[0m\u001b[1;33m:\u001b[0m\u001b[1;33m\u001b[0m\u001b[1;33m\u001b[0m\u001b[0m\n",
      "\u001b[1;31mRuntimeError\u001b[0m: Operator bpy.ops.outliner.item_activate.poll() failed, context is incorrect"
     ]
    }
   ],
   "source": [
    "bpy.ops.outliner.item_activate(extend=False, deselect_all=True)\n"
   ]
  },
  {
   "cell_type": "code",
   "execution_count": 44,
   "id": "aging-valve",
   "metadata": {},
   "outputs": [
    {
     "data": {
      "text/plain": [
       "bpy.data.objects['Dongle_1B5E4344']"
      ]
     },
     "execution_count": 44,
     "metadata": {},
     "output_type": "execute_result"
    }
   ],
   "source": [
    "bpy.context.object"
   ]
  },
  {
   "cell_type": "code",
   "execution_count": 45,
   "id": "hundred-community",
   "metadata": {},
   "outputs": [
    {
     "ename": "AttributeError",
     "evalue": "Calling operator \"bpy.ops.outliner.delete\" error, could not be found",
     "output_type": "error",
     "traceback": [
      "\u001b[1;31m---------------------------------------------------------------------------\u001b[0m",
      "\u001b[1;31mAttributeError\u001b[0m                            Traceback (most recent call last)",
      "\u001b[1;32m<ipython-input-45-4da915594990>\u001b[0m in \u001b[0;36m<module>\u001b[1;34m\u001b[0m\n\u001b[1;32m----> 1\u001b[1;33m \u001b[0mbpy\u001b[0m\u001b[1;33m.\u001b[0m\u001b[0mops\u001b[0m\u001b[1;33m.\u001b[0m\u001b[0moutliner\u001b[0m\u001b[1;33m.\u001b[0m\u001b[0mdelete\u001b[0m\u001b[1;33m(\u001b[0m\u001b[1;33m)\u001b[0m\u001b[1;33m\u001b[0m\u001b[1;33m\u001b[0m\u001b[0m\n\u001b[0m",
      "\u001b[1;32m~\\anaconda3\\envs\\manopth\\2.82\\scripts\\modules\\bpy\\ops.py\u001b[0m in \u001b[0;36m__call__\u001b[1;34m(self, *args, **kw)\u001b[0m\n\u001b[0;32m    199\u001b[0m             \u001b[0mret\u001b[0m \u001b[1;33m=\u001b[0m \u001b[0mop_call\u001b[0m\u001b[1;33m(\u001b[0m\u001b[0mself\u001b[0m\u001b[1;33m.\u001b[0m\u001b[0midname_py\u001b[0m\u001b[1;33m(\u001b[0m\u001b[1;33m)\u001b[0m\u001b[1;33m,\u001b[0m \u001b[0mC_dict\u001b[0m\u001b[1;33m,\u001b[0m \u001b[0mkw\u001b[0m\u001b[1;33m,\u001b[0m \u001b[0mC_exec\u001b[0m\u001b[1;33m,\u001b[0m \u001b[0mC_undo\u001b[0m\u001b[1;33m)\u001b[0m\u001b[1;33m\u001b[0m\u001b[1;33m\u001b[0m\u001b[0m\n\u001b[0;32m    200\u001b[0m         \u001b[1;32melse\u001b[0m\u001b[1;33m:\u001b[0m\u001b[1;33m\u001b[0m\u001b[1;33m\u001b[0m\u001b[0m\n\u001b[1;32m--> 201\u001b[1;33m             \u001b[0mret\u001b[0m \u001b[1;33m=\u001b[0m \u001b[0mop_call\u001b[0m\u001b[1;33m(\u001b[0m\u001b[0mself\u001b[0m\u001b[1;33m.\u001b[0m\u001b[0midname_py\u001b[0m\u001b[1;33m(\u001b[0m\u001b[1;33m)\u001b[0m\u001b[1;33m,\u001b[0m \u001b[1;32mNone\u001b[0m\u001b[1;33m,\u001b[0m \u001b[0mkw\u001b[0m\u001b[1;33m)\u001b[0m\u001b[1;33m\u001b[0m\u001b[1;33m\u001b[0m\u001b[0m\n\u001b[0m\u001b[0;32m    202\u001b[0m \u001b[1;33m\u001b[0m\u001b[0m\n\u001b[0;32m    203\u001b[0m         \u001b[1;32mif\u001b[0m \u001b[1;34m'FINISHED'\u001b[0m \u001b[1;32min\u001b[0m \u001b[0mret\u001b[0m \u001b[1;32mand\u001b[0m \u001b[0mcontext\u001b[0m\u001b[1;33m.\u001b[0m\u001b[0mwindow_manager\u001b[0m \u001b[1;33m==\u001b[0m \u001b[0mwm\u001b[0m\u001b[1;33m:\u001b[0m\u001b[1;33m\u001b[0m\u001b[1;33m\u001b[0m\u001b[0m\n",
      "\u001b[1;31mAttributeError\u001b[0m: Calling operator \"bpy.ops.outliner.delete\" error, could not be found"
     ]
    }
   ],
   "source": [
    "bpy.ops.outliner.delete()\n"
   ]
  },
  {
   "cell_type": "code",
   "execution_count": 46,
   "id": "express-equity",
   "metadata": {},
   "outputs": [
    {
     "name": "stdout",
     "output_type": "stream",
     "text": [
      "Dongle_1B5E4344\n",
      "mesh_hand_l\n"
     ]
    }
   ],
   "source": [
    "for ob in bpy.context.scene.objects:\n",
    "    print(ob.name)"
   ]
  },
  {
   "cell_type": "code",
   "execution_count": null,
   "id": "boolean-profile",
   "metadata": {},
   "outputs": [],
   "source": []
  },
  {
   "cell_type": "code",
   "execution_count": null,
   "id": "british-treasure",
   "metadata": {},
   "outputs": [],
   "source": []
  },
  {
   "cell_type": "code",
   "execution_count": null,
   "id": "chinese-gravity",
   "metadata": {},
   "outputs": [],
   "source": []
  },
  {
   "cell_type": "code",
   "execution_count": 152,
   "id": "acute-greece",
   "metadata": {},
   "outputs": [
    {
     "ename": "NameError",
     "evalue": "name 'groupNames' is not defined",
     "output_type": "error",
     "traceback": [
      "\u001b[1;31m---------------------------------------------------------------------------\u001b[0m",
      "\u001b[1;31mNameError\u001b[0m                                 Traceback (most recent call last)",
      "\u001b[1;32m<ipython-input-152-abc3e178f044>\u001b[0m in \u001b[0;36m<module>\u001b[1;34m\u001b[0m\n\u001b[0;32m      8\u001b[0m \u001b[1;33m\u001b[0m\u001b[0m\n\u001b[0;32m      9\u001b[0m \u001b[1;32mfor\u001b[0m \u001b[0mi\u001b[0m \u001b[1;32min\u001b[0m \u001b[0mrange\u001b[0m\u001b[1;33m(\u001b[0m\u001b[1;36m5\u001b[0m\u001b[1;33m)\u001b[0m\u001b[1;33m:\u001b[0m\u001b[1;33m\u001b[0m\u001b[1;33m\u001b[0m\u001b[0m\n\u001b[1;32m---> 10\u001b[1;33m     \u001b[0mj\u001b[0m \u001b[1;33m=\u001b[0m \u001b[0mgroupNames\u001b[0m\u001b[1;33m.\u001b[0m\u001b[0mindex\u001b[0m\u001b[1;33m(\u001b[0m\u001b[0mbones\u001b[0m\u001b[1;33m[\u001b[0m\u001b[0mi\u001b[0m\u001b[1;33m]\u001b[0m\u001b[1;33m.\u001b[0m\u001b[0mname\u001b[0m\u001b[1;33m)\u001b[0m\u001b[1;33m\u001b[0m\u001b[1;33m\u001b[0m\u001b[0m\n\u001b[0m\u001b[0;32m     11\u001b[0m     \u001b[1;32mfor\u001b[0m \u001b[0mk\u001b[0m \u001b[1;32min\u001b[0m \u001b[0mrange\u001b[0m\u001b[1;33m(\u001b[0m\u001b[0mlen\u001b[0m\u001b[1;33m(\u001b[0m\u001b[0mframes\u001b[0m\u001b[1;33m)\u001b[0m\u001b[1;33m)\u001b[0m\u001b[1;33m:\u001b[0m\u001b[1;33m\u001b[0m\u001b[1;33m\u001b[0m\u001b[0m\n\u001b[0;32m     12\u001b[0m         \u001b[0mscn\u001b[0m\u001b[1;33m.\u001b[0m\u001b[0mframe_current\u001b[0m \u001b[1;33m=\u001b[0m \u001b[0mframes\u001b[0m\u001b[1;33m[\u001b[0m\u001b[0mk\u001b[0m\u001b[1;33m]\u001b[0m\u001b[1;33m/\u001b[0m\u001b[1;36m25\u001b[0m\u001b[1;33m\u001b[0m\u001b[1;33m\u001b[0m\u001b[0m\n",
      "\u001b[1;31mNameError\u001b[0m: name 'groupNames' is not defined"
     ]
    }
   ],
   "source": [
    "\n",
    "bones = bpy.context.object.pose.bones\n",
    "\n",
    "orgPos = []\n",
    "\n",
    "for i in range(5):\n",
    "    orgPos.append(bones[i].head)\n",
    "\n",
    "for i in range(5):\n",
    "    j = groupNames.index(bones[i].name)\n",
    "    for k in range(len(frames)):\n",
    "        scn.frame_current = frames[k]/25\n",
    "        bones[i].location = ((bonePos[j][k][0]-orgPos[i][0]),(bonePos[j][k][1]-orgPos[i][1]),(bonePos[j][k][2]-orgPos[i][2]))\n",
    "        bones[l].keyframe_insert('location', frame=scn.frame_current)"
   ]
  },
  {
   "cell_type": "code",
   "execution_count": null,
   "id": "acoustic-cloud",
   "metadata": {},
   "outputs": [],
   "source": []
  }
 ],
 "metadata": {
  "hide_input": false,
  "kernelspec": {
   "display_name": "Python 3",
   "language": "python",
   "name": "python3"
  },
  "language_info": {
   "codemirror_mode": {
    "name": "ipython",
    "version": 3
   },
   "file_extension": ".py",
   "mimetype": "text/x-python",
   "name": "python",
   "nbconvert_exporter": "python",
   "pygments_lexer": "ipython3",
   "version": "3.7.10"
  },
  "toc": {
   "base_numbering": 1,
   "nav_menu": {},
   "number_sections": true,
   "sideBar": true,
   "skip_h1_title": false,
   "title_cell": "Table of Contents",
   "title_sidebar": "Contents",
   "toc_cell": false,
   "toc_position": {},
   "toc_section_display": true,
   "toc_window_display": false
  },
  "varInspector": {
   "cols": {
    "lenName": 16,
    "lenType": 16,
    "lenVar": 40
   },
   "kernels_config": {
    "python": {
     "delete_cmd_postfix": "",
     "delete_cmd_prefix": "del ",
     "library": "var_list.py",
     "varRefreshCmd": "print(var_dic_list())"
    },
    "r": {
     "delete_cmd_postfix": ") ",
     "delete_cmd_prefix": "rm(",
     "library": "var_list.r",
     "varRefreshCmd": "cat(var_dic_list()) "
    }
   },
   "types_to_exclude": [
    "module",
    "function",
    "builtin_function_or_method",
    "instance",
    "_Feature"
   ],
   "window_display": false
  }
 },
 "nbformat": 4,
 "nbformat_minor": 5
}
