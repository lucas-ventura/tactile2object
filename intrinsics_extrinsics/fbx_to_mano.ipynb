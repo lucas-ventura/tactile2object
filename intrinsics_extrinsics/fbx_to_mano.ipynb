{
 "cells": [
  {
   "cell_type": "code",
   "execution_count": 3,
   "id": "looking-crawford",
   "metadata": {},
   "outputs": [],
   "source": [
    "%load_ext autoreload \n",
    "%autoreload 2"
   ]
  },
  {
   "cell_type": "code",
   "execution_count": 10,
   "id": "operational-ending",
   "metadata": {},
   "outputs": [],
   "source": [
    "import bpy\n",
    "import open3d as o3d\n",
    "\n",
    "from bpy_utils import *"
   ]
  },
  {
   "cell_type": "code",
   "execution_count": 5,
   "id": "geographic-removal",
   "metadata": {},
   "outputs": [
    {
     "name": "stdout",
     "output_type": "stream",
     "text": [
      "FBX Import: start importing C:/Users/lucas/Desktop/UPC/MIT/tactile2object/intrinsics_extrinsics/data/20210722/round_1_manipulate_objects/recording_2021-07-22_14-22-26.fbx\n",
      "FBX version: 7400\n",
      "\tFBX import: Prepare...\n",
      "\t\tDone (0.000000 sec)\n",
      "\n",
      "\tFBX import: Templates...\n",
      "\t\tDone (0.000000 sec)\n",
      "\n",
      "\tFBX import: Nodes...\n",
      "\t\tDone (0.000000 sec)\n",
      "\n",
      "\tFBX import: Connections...\n",
      "\t\tDone (0.000000 sec)\n",
      "\n",
      "\tFBX import: Meshes...\n",
      "\t\tDone (0.046875 sec)\n",
      "\n",
      "\tFBX import: Materials & Textures...\n",
      "\t\tDone (0.000000 sec)\n",
      "\n",
      "\tFBX import: Cameras & Lamps...\n",
      "\t\tDone (0.000000 sec)\n",
      "\n",
      "\tFBX import: Objects & Armatures...\n",
      "\t\tDone (0.015625 sec)\n",
      "\n",
      "\tFBX import: ShapeKeys...\n",
      "\t\tDone (0.000000 sec)\n",
      "\n",
      "\tFBX import: Animations...\n",
      "\t\tDone (63.265625 sec)\n",
      "\n",
      "\tFBX import: Assign materials...\n",
      "\t\tDone (0.000000 sec)\n",
      "\n",
      "\tFBX import: Assign textures...\n",
      "\t\tDone (0.000000 sec)\n",
      "\n",
      "\tFBX import: Cycles z-offset workaround...\n",
      "\t\tDone (0.000000 sec)\n",
      "\n",
      "\tDone (63.421875 sec)\n",
      "\n",
      "Import finished.\n"
     ]
    }
   ],
   "source": [
    "fbx_pth = \"C:/Users/lucas/Desktop/UPC/MIT/tactile2object/intrinsics_extrinsics/data/20210722/round_1_manipulate_objects/recording_2021-07-22_14-22-26.fbx\"\n",
    "\n",
    "load_fbx(fbx_pth)"
   ]
  },
  {
   "cell_type": "code",
   "execution_count": 9,
   "id": "adjustable-parks",
   "metadata": {},
   "outputs": [
    {
     "name": "stdout",
     "output_type": "stream",
     "text": [
      "Dongle_1B5E4344\n",
      "mesh_hand_l\n"
     ]
    },
    {
     "data": {
      "text/plain": [
       "bpy.data.objects['Dongle_1B5E4344']"
      ]
     },
     "execution_count": 9,
     "metadata": {},
     "output_type": "execute_result"
    }
   ],
   "source": [
    "# print all objects\n",
    "for obj in bpy.data.objects:\n",
    "    print(obj.name)\n",
    "    \n",
    "obj = bpy.data.objects[0]\n",
    "obj"
   ]
  },
  {
   "cell_type": "code",
   "execution_count": 8,
   "id": "smoking-equity",
   "metadata": {},
   "outputs": [
    {
     "data": {
      "text/plain": [
       "bpy.data.objects['Dongle_1B5E4344']"
      ]
     },
     "execution_count": 8,
     "metadata": {},
     "output_type": "execute_result"
    }
   ],
   "source": [
    "bpy.context.scene.objects['Dongle_1B5E4344']"
   ]
  },
  {
   "cell_type": "code",
   "execution_count": null,
   "id": "alternate-pleasure",
   "metadata": {},
   "outputs": [],
   "source": [
    "# https://blender.stackexchange.com/questions/177347/how-to-get-bone-location-on-each-frame-and-print-it-2-8\n",
    "\n",
    "scene = bpy.context.scene\n",
    "\n",
    "#Armature & bone names\n",
    "armatureN = \"Dongle_1B5E4344\"\n",
    "boneN = \"ring_tip_l\"\n",
    "\n",
    "for obj in bpy.data.objects:\n",
    "    obj.select_set(False)\n",
    "\n",
    "bpy.data.objects[armatureN].select_set(True)\n",
    "\n",
    "bpy.ops.object.mode_set(mode='POSE', toggle=False)\n",
    "\n",
    "for f in range(scene.frame_start, scene.frame_end+10):\n",
    "    scene.frame_set(f)\n",
    "    # This can be head, tail, center...\n",
    "    # More info: https://docs.blender.org/api/current/bpy.types.PoseBone.html?highlight=bpy%20bone#bpy.types.PoseBone.bone\n",
    "    bone = armature.pose.bones[boneN].tail\n",
    "\n",
    "    # Since Blender 2.8 you multiply matrices with @ not with *\n",
    "    bonePos = armature.matrix_world @ bone\n",
    "    print(bonePos)\n",
    "\n",
    "    #This may be useful to visualize the location that you have got\n",
    "    #bpy.ops.mesh.primitive_cube_add(size = 0.1, location=bonePos)\n",
    "    #armature.pose.bones[boneN]"
   ]
  },
  {
   "cell_type": "code",
   "execution_count": null,
   "id": "classical-merchant",
   "metadata": {},
   "outputs": [],
   "source": [
    "fingers = [\"thumb_01_l\", \"thumb_02_l\", \"thumb_03_l\", \"thumb_tip_l\", \n",
    "               \"index_01_l\", \"index_02_l\", \"index_03_l\", \"index_tip_l\", \n",
    "               \"middle_01_l\", \"middle_02_l\", \"middle_03_l\", \"middle_tip_l\", \n",
    "               \"ring_01_l\", \"ring_02_l\", \"ring_03_l\", \"ring_tip_l\", \n",
    "               \"pinky_01_l\", \"pinky_02_l\", \"pinky_03_l\", \"pinky_tip_l\"]"
   ]
  },
  {
   "cell_type": "code",
   "execution_count": null,
   "id": "parental-baptist",
   "metadata": {},
   "outputs": [],
   "source": [
    "scene.frame_set(0)\n",
    "\n",
    "all_fingers = []\n",
    "\n",
    "for finger in fingers:\n",
    "    bone = armature.pose.bones[finger].head\n",
    "    bonePos = armature.matrix_world @ bone\n",
    "    \n",
    "    all_fingers.append(np.array(bonePos))\n",
    "    \n",
    "\n",
    "    \n",
    "hand_xyz = np.vstack((all_fingers))"
   ]
  },
  {
   "cell_type": "code",
   "execution_count": null,
   "id": "ordered-repository",
   "metadata": {},
   "outputs": [],
   "source": [
    "pcd = o3d.geometry.PointCloud()\n",
    "pcd.points = o3d.utility.Vector3dVector(hand_xyz)\n",
    "\n",
    "\n",
    "pcd.paint_uniform_color([0, 0, 0])\n",
    "\n",
    "o3d.visualization.draw_geometries([pcd])"
   ]
  },
  {
   "cell_type": "code",
   "execution_count": null,
   "id": "handled-longitude",
   "metadata": {},
   "outputs": [],
   "source": [
    "\n",
    "\n"
   ]
  },
  {
   "cell_type": "code",
   "execution_count": null,
   "id": "pursuant-humor",
   "metadata": {},
   "outputs": [],
   "source": []
  },
  {
   "cell_type": "code",
   "execution_count": null,
   "id": "informational-investor",
   "metadata": {},
   "outputs": [],
   "source": []
  }
 ],
 "metadata": {
  "hide_input": false,
  "kernelspec": {
   "display_name": "Python 3",
   "language": "python",
   "name": "python3"
  },
  "language_info": {
   "codemirror_mode": {
    "name": "ipython",
    "version": 3
   },
   "file_extension": ".py",
   "mimetype": "text/x-python",
   "name": "python",
   "nbconvert_exporter": "python",
   "pygments_lexer": "ipython3",
   "version": "3.7.10"
  },
  "toc": {
   "base_numbering": 1,
   "nav_menu": {},
   "number_sections": true,
   "sideBar": true,
   "skip_h1_title": false,
   "title_cell": "Table of Contents",
   "title_sidebar": "Contents",
   "toc_cell": false,
   "toc_position": {},
   "toc_section_display": true,
   "toc_window_display": false
  },
  "varInspector": {
   "cols": {
    "lenName": 16,
    "lenType": 16,
    "lenVar": 40
   },
   "kernels_config": {
    "python": {
     "delete_cmd_postfix": "",
     "delete_cmd_prefix": "del ",
     "library": "var_list.py",
     "varRefreshCmd": "print(var_dic_list())"
    },
    "r": {
     "delete_cmd_postfix": ") ",
     "delete_cmd_prefix": "rm(",
     "library": "var_list.r",
     "varRefreshCmd": "cat(var_dic_list()) "
    }
   },
   "types_to_exclude": [
    "module",
    "function",
    "builtin_function_or_method",
    "instance",
    "_Feature"
   ],
   "window_display": false
  }
 },
 "nbformat": 4,
 "nbformat_minor": 5
}
