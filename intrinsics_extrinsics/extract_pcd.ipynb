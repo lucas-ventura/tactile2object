{
 "cells": [
  {
   "cell_type": "code",
   "execution_count": 34,
   "id": "funky-hierarchy",
   "metadata": {
    "hide_input": false
   },
   "outputs": [
    {
     "name": "stdout",
     "output_type": "stream",
     "text": [
      "The autoreload extension is already loaded. To reload it, use:\n",
      "  %reload_ext autoreload\n"
     ]
    }
   ],
   "source": [
    "%load_ext autoreload\n",
    "%autoreload 2"
   ]
  },
  {
   "cell_type": "code",
   "execution_count": 121,
   "id": "photographic-integration",
   "metadata": {},
   "outputs": [],
   "source": [
    "import numpy as np\n",
    "import open3d as o3d\n",
    "import copy\n",
    "\n",
    "from utils import readXML, Intrinsics, Extrinsics, RGBD, crop_geometry, draw_registration_result, pick_points, manual_registration"
   ]
  },
  {
   "cell_type": "code",
   "execution_count": 126,
   "id": "unable-maine",
   "metadata": {},
   "outputs": [],
   "source": [
    "xml_dir = \"/home/yunzhu/Documents/project_phystouch/phystouch/data_recording/data\"\n",
    "xml_dir = \"C:/Users/lucas/Desktop/UPC/MIT/tactile2object/intrinsics_extrinsics/data/\"\n",
    "\n",
    "intrinsics = Intrinsics(xml_dir)\n",
    "extrinsics = Extrinsics(xml_dir)\n",
    "rgbds = RGBD(xml_dir, recording=\"recording/20210709_004128\")"
   ]
  },
  {
   "cell_type": "markdown",
   "id": "seventh-scott",
   "metadata": {},
   "source": [
    "# Stitching point clouds"
   ]
  },
  {
   "cell_type": "markdown",
   "id": "immune-milwaukee",
   "metadata": {},
   "source": [
    "### camera 020122061233"
   ]
  },
  {
   "cell_type": "code",
   "execution_count": 146,
   "id": "contained-sewing",
   "metadata": {
    "run_control": {
     "marked": false
    }
   },
   "outputs": [],
   "source": [
    "camera = \"020122061233\"\n",
    "\n",
    "rgbd = rgbds.from_camera(camera)\n",
    "intrinsic = intrinsics.from_camera(camera)\n",
    "extrinsic = extrinsics.from_camera(camera)\n",
    "\n",
    "pcd_1 = o3d.geometry.PointCloud.create_from_rgbd_image(rgbd, intrinsic, extrinsic)\n",
    "\n",
    "#o3d.visualization.draw_geometries([pcd_1])"
   ]
  },
  {
   "cell_type": "markdown",
   "id": "electric-search",
   "metadata": {},
   "source": [
    "### camera 821312060044"
   ]
  },
  {
   "cell_type": "code",
   "execution_count": 147,
   "id": "induced-coordination",
   "metadata": {},
   "outputs": [],
   "source": [
    "camera = \"821312060044\"\n",
    "\n",
    "rgbd = rgbds.from_camera(camera)\n",
    "intrinsic = intrinsics.from_camera(camera)\n",
    "extrinsic = extrinsics.from_camera(camera)\n",
    "\n",
    "pcd_2 = o3d.geometry.PointCloud.create_from_rgbd_image(rgbd, intrinsic, extrinsic)\n"
   ]
  },
  {
   "cell_type": "markdown",
   "id": "guided-provider",
   "metadata": {},
   "source": [
    "### camera 020122061651"
   ]
  },
  {
   "cell_type": "code",
   "execution_count": 148,
   "id": "executed-miami",
   "metadata": {},
   "outputs": [],
   "source": [
    "camera = \"020122061651\"\n",
    "\n",
    "rgbd = rgbds.from_camera(camera)\n",
    "intrinsic = intrinsics.from_camera(camera)\n",
    "extrinsic = extrinsics.from_camera(camera)\n",
    "\n",
    "pcd_3 = o3d.geometry.PointCloud.create_from_rgbd_image(rgbd, intrinsic, extrinsic)\n"
   ]
  },
  {
   "cell_type": "markdown",
   "id": "lesbian-diving",
   "metadata": {},
   "source": [
    "### camera 821312062243"
   ]
  },
  {
   "cell_type": "code",
   "execution_count": 149,
   "id": "median-given",
   "metadata": {},
   "outputs": [],
   "source": [
    "camera = \"821312062243\"\n",
    "\n",
    "rgbd = rgbds.from_camera(camera)\n",
    "intrinsic = intrinsics.from_camera(camera)\n",
    "extrinsic = extrinsics.from_camera(camera)\n",
    "\n",
    "pcd_4 = o3d.geometry.PointCloud.create_from_rgbd_image(rgbd, intrinsic, extrinsic)\n"
   ]
  },
  {
   "cell_type": "markdown",
   "id": "upper-egypt",
   "metadata": {},
   "source": [
    "### Stitched Point Cloud"
   ]
  },
  {
   "cell_type": "code",
   "execution_count": 150,
   "id": "martial-orlando",
   "metadata": {},
   "outputs": [],
   "source": [
    "pcds = pcd_1 + pcd_2 + pcd_3 + pcd_4\n",
    "\n",
    "o3d.visualization.draw_geometries([pcds])"
   ]
  },
  {
   "cell_type": "markdown",
   "id": "coordinate-asian",
   "metadata": {},
   "source": [
    "# ICP"
   ]
  },
  {
   "cell_type": "code",
   "execution_count": 10,
   "id": "coordinate-chocolate",
   "metadata": {},
   "outputs": [
    {
     "data": {
      "text/plain": [
       "TriangleMesh with 8194 points and 16384 triangles."
      ]
     },
     "execution_count": 10,
     "metadata": {},
     "output_type": "execute_result"
    }
   ],
   "source": [
    "obj_name = \"005_tomato_soup_can\"\n",
    "obj_name = \"003_cracker_box\"\n",
    "\n",
    "obj_path = f\"C:/Users/lucas/Desktop/UPC/MIT/tactile2object/estimate_object_pose/ycb_converted/{obj_name}.ply\"\n",
    "\n",
    "obj_pcd = o3d.io.read_point_cloud(obj_path)\n",
    "obj_mesh = o3d.io.read_triangle_mesh(obj_path)\n",
    "\n",
    "obj_pcd.scale(0.001, center=(0,0,0))\n",
    "obj_mesh.scale(0.001, center=(0,0,0))"
   ]
  },
  {
   "cell_type": "code",
   "execution_count": 11,
   "id": "loaded-reader",
   "metadata": {
    "scrolled": true
   },
   "outputs": [
    {
     "name": "stdout",
     "output_type": "stream",
     "text": [
      "Manual ICP\n",
      "Visualization of two point clouds before manual alignment\n",
      "[Open3D WARNING] GLFW Error: WGL: Failed to make context current: The handle is invalid. \n",
      "\n",
      "1) Please pick at least three correspondences using [shift + left click]\n",
      "   Press [shift + right click] to undo point picking\n",
      "2) After picking points, press 'Q' to close the window\n",
      "[Open3D INFO] Picked point #4541 (0.013, -0.093, 0.21) to add in queue.\n",
      "[Open3D INFO] No point has been picked.\n",
      "[Open3D INFO] Picked point #8172 (0.015, 0.064, 0.21) to add in queue.\n",
      "[Open3D WARNING] GLFW Error: WGL: Failed to make context current: The requested transformation operation is not supported. \n",
      "[Open3D INFO] Picked point #2281 (0.016, 0.064, 0.0027) to add in queue.\n",
      "[Open3D INFO] Picked point #1043 (0.017, -0.094, -8.7e-05) to add in queue.\n",
      "\n",
      "\n",
      "1) Please pick at least three correspondences using [shift + left click]\n",
      "   Press [shift + right click] to undo point picking\n",
      "2) After picking points, press 'Q' to close the window\n",
      "[Open3D INFO] Picked point #459699 (0.27, -0.066, 0.51) to add in queue.\n",
      "[Open3D INFO] Picked point #391016 (0.12, -0.043, 0.49) to add in queue.\n",
      "[Open3D INFO] Picked point #930071 (0.079, -0.2, 0.62) to add in queue.\n",
      "[Open3D INFO] Picked point #918024 (0.23, -0.23, 0.63) to add in queue.\n",
      "\n",
      "Compute a rough transform using the correspondences given by user\n",
      "Perform point-to-point ICP refinement\n",
      "[Open3D WARNING] GLFW Error: WGL: Failed to make context current: The handle is invalid. \n",
      "\n"
     ]
    }
   ],
   "source": [
    "source = copy.deepcopy(obj_pcd)\n",
    "target = copy.deepcopy(pcds)\n",
    "transformation = manual_registration(source, target)"
   ]
  },
  {
   "cell_type": "code",
   "execution_count": 12,
   "id": "flying-floor",
   "metadata": {},
   "outputs": [
    {
     "name": "stdout",
     "output_type": "stream",
     "text": [
      "[Open3D WARNING] GLFW Error: WGL: Failed to make context current: The handle is invalid. \n"
     ]
    }
   ],
   "source": [
    "obj_mesh_t = copy.deepcopy(obj_mesh).transform(transformation)\n",
    "\n",
    "obj_mesh_t.compute_vertex_normals()\n",
    "obj_mesh_t.paint_uniform_color([1, 0.706, 0])\n",
    "\n",
    "o3d.visualization.draw_geometries([pcds, obj_mesh_t])"
   ]
  }
 ],
 "metadata": {
  "hide_input": false,
  "kernelspec": {
   "display_name": "Python 3",
   "language": "python",
   "name": "python3"
  },
  "language_info": {
   "codemirror_mode": {
    "name": "ipython",
    "version": 3
   },
   "file_extension": ".py",
   "mimetype": "text/x-python",
   "name": "python",
   "nbconvert_exporter": "python",
   "pygments_lexer": "ipython3",
   "version": "3.7.10"
  },
  "toc": {
   "base_numbering": 1,
   "nav_menu": {},
   "number_sections": true,
   "sideBar": true,
   "skip_h1_title": false,
   "title_cell": "Table of Contents",
   "title_sidebar": "Contents",
   "toc_cell": false,
   "toc_position": {},
   "toc_section_display": true,
   "toc_window_display": false
  },
  "varInspector": {
   "cols": {
    "lenName": 16,
    "lenType": 16,
    "lenVar": 40
   },
   "kernels_config": {
    "python": {
     "delete_cmd_postfix": "",
     "delete_cmd_prefix": "del ",
     "library": "var_list.py",
     "varRefreshCmd": "print(var_dic_list())"
    },
    "r": {
     "delete_cmd_postfix": ") ",
     "delete_cmd_prefix": "rm(",
     "library": "var_list.r",
     "varRefreshCmd": "cat(var_dic_list()) "
    }
   },
   "types_to_exclude": [
    "module",
    "function",
    "builtin_function_or_method",
    "instance",
    "_Feature"
   ],
   "window_display": false
  }
 },
 "nbformat": 4,
 "nbformat_minor": 5
}
