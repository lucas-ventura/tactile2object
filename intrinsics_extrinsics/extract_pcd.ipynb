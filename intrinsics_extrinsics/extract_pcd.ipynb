{
 "cells": [
  {
   "cell_type": "code",
   "execution_count": 1,
   "id": "preliminary-shirt",
   "metadata": {
    "hide_input": false
   },
   "outputs": [],
   "source": [
    "%load_ext autoreload\n",
    "%autoreload 2"
   ]
  },
  {
   "cell_type": "code",
   "execution_count": 2,
   "id": "photographic-integration",
   "metadata": {},
   "outputs": [],
   "source": [
    "import numpy as np\n",
    "import open3d as o3d\n",
    "import copy\n",
    "\n",
    "from utils import readXML, Intrinsics, Extrinsics, RGBD, demo_crop_geometry, draw_registration_result, pick_points, demo_manual_registration"
   ]
  },
  {
   "cell_type": "code",
   "execution_count": 3,
   "id": "unable-maine",
   "metadata": {},
   "outputs": [],
   "source": [
    "xml_dir = \"C:/Users/lucas/Desktop/UPC/MIT/tactile2object/intrinsics_extrinsics/\"\n",
    "\n",
    "intrinsics = Intrinsics(xml_dir)\n",
    "extrinsics = Extrinsics(xml_dir)\n",
    "rgbds = RGBD(xml_dir, recording=\"20210709_004128\")"
   ]
  },
  {
   "cell_type": "markdown",
   "id": "wicked-hollow",
   "metadata": {},
   "source": [
    "# Stitching point clouds"
   ]
  },
  {
   "cell_type": "markdown",
   "id": "immune-milwaukee",
   "metadata": {},
   "source": [
    "### camera 020122061233"
   ]
  },
  {
   "cell_type": "code",
   "execution_count": 4,
   "id": "contained-sewing",
   "metadata": {
    "run_control": {
     "marked": false
    }
   },
   "outputs": [],
   "source": [
    "camera = \"020122061233\"\n",
    "\n",
    "rgbd = rgbds.from_camera(camera)\n",
    "intrinsic = intrinsics.from_camera(camera)\n",
    "extrinsic = extrinsics.from_camera(camera)\n",
    "\n",
    "pcd_1 = o3d.geometry.PointCloud.create_from_rgbd_image(rgbd, intrinsic, extrinsic)\n",
    "\n",
    "#o3d.visualization.draw_geometries([pcd_1])"
   ]
  },
  {
   "cell_type": "markdown",
   "id": "electric-search",
   "metadata": {},
   "source": [
    "### camera 821312060044"
   ]
  },
  {
   "cell_type": "code",
   "execution_count": 5,
   "id": "induced-coordination",
   "metadata": {},
   "outputs": [],
   "source": [
    "camera = \"821312060044\"\n",
    "\n",
    "rgbd = rgbds.from_camera(camera)\n",
    "intrinsic = intrinsics.from_camera(camera)\n",
    "extrinsic = extrinsics.from_camera(camera)\n",
    "\n",
    "pcd_2 = o3d.geometry.PointCloud.create_from_rgbd_image(rgbd, intrinsic, np.linalg.inv(extrinsic))\n"
   ]
  },
  {
   "cell_type": "markdown",
   "id": "guided-provider",
   "metadata": {},
   "source": [
    "### camera 020122061651"
   ]
  },
  {
   "cell_type": "code",
   "execution_count": 6,
   "id": "executed-miami",
   "metadata": {},
   "outputs": [],
   "source": [
    "camera = \"020122061651\"\n",
    "\n",
    "rgbd = rgbds.from_camera(camera)\n",
    "intrinsic = intrinsics.from_camera(camera)\n",
    "extrinsic = extrinsics.from_camera(camera)\n",
    "\n",
    "pcd_3 = o3d.geometry.PointCloud.create_from_rgbd_image(rgbd, intrinsic, np.linalg.inv(extrinsic))\n"
   ]
  },
  {
   "cell_type": "markdown",
   "id": "black-farming",
   "metadata": {},
   "source": [
    "### camera 821312062243"
   ]
  },
  {
   "cell_type": "code",
   "execution_count": 7,
   "id": "median-given",
   "metadata": {},
   "outputs": [],
   "source": [
    "camera = \"821312062243\"\n",
    "\n",
    "rgbd = rgbds.from_camera(camera)\n",
    "intrinsic = intrinsics.from_camera(camera)\n",
    "extrinsic = extrinsics.from_camera(camera)\n",
    "\n",
    "pcd_4 = o3d.geometry.PointCloud.create_from_rgbd_image(rgbd, intrinsic, np.linalg.inv(extrinsic))\n"
   ]
  },
  {
   "cell_type": "markdown",
   "id": "written-intent",
   "metadata": {},
   "source": [
    "### Stitched Point Cloud"
   ]
  },
  {
   "cell_type": "code",
   "execution_count": 8,
   "id": "changed-activity",
   "metadata": {},
   "outputs": [],
   "source": [
    "pcds = pcd_1 + pcd_2 + pcd_3 + pcd_4\n",
    "\n",
    "o3d.visualization.draw_geometries([pcds])"
   ]
  },
  {
   "cell_type": "markdown",
   "id": "coral-trance",
   "metadata": {},
   "source": [
    "# ICP\n",
    "\n",
    "\n",
    "obj_pcd = o3d.io.read_point_cloud(obj_path)\n",
    "obj_mesh = o3d.io.read_triangle_mesh(obj_path)\n",
    "\n",
    "translation = obj_pcd.get_center()\n",
    "obj_pcd.translate(translation)\n",
    "obj_mesh.translate(translation)\n",
    "\n",
    "obj_pcd.scale(0.001, center=(0,0,0))\n",
    "obj_mesh.scale(0.001, center=(0,0,0))\n",
    "\n",
    "o3d.visualization.draw_geometries([obj_pcd, obj_mesh])"
   ]
  },
  {
   "cell_type": "code",
   "execution_count": 30,
   "id": "needed-wildlife",
   "metadata": {},
   "outputs": [
    {
     "data": {
      "text/plain": [
       "TriangleMesh with 8178 points and 16384 triangles."
      ]
     },
     "execution_count": 30,
     "metadata": {},
     "output_type": "execute_result"
    }
   ],
   "source": [
    "obj_name = \"005_tomato_soup_can\"\n",
    "obj_name = \"003_cracker_box\"\n",
    "obj_name = \"005_tomato_soup_can\"\n",
    "\n",
    "obj_path = f\"C:/Users/lucas/Desktop/UPC/MIT/tactile2object/estimate_object_pose/ycb_converted/{obj_name}.ply\"\n",
    "\n",
    "obj_pcd = o3d.io.read_point_cloud(obj_path)\n",
    "obj_mesh = o3d.io.read_triangle_mesh(obj_path)\n",
    "\n",
    "obj_pcd.scale(0.001, center=(0,0,0))\n",
    "obj_mesh.scale(0.001, center=(0,0,0))"
   ]
  },
  {
   "cell_type": "code",
   "execution_count": 31,
   "id": "artistic-cursor",
   "metadata": {},
   "outputs": [
    {
     "name": "stdout",
     "output_type": "stream",
     "text": [
      "Demo for manual ICP\n",
      "Visualization of two point clouds before manual alignment\n",
      "\n",
      "1) Please pick at least three correspondences using [shift + left click]\n",
      "   Press [shift + right click] to undo point picking\n",
      "2) After picking points, press 'Q' to close the window\n",
      "[Open3D INFO] No point has been picked.\n",
      "[Open3D WARNING] GLFW Error: WGL: Failed to make context current: The handle is invalid. \n",
      "[Open3D INFO] Picked point #8163 (0.022, 0.095, 0.1) to add in queue.\n",
      "[Open3D INFO] Picked point #4036 (-0.041, 0.074, 0.1) to add in queue.\n",
      "[Open3D INFO] Picked point #755 (-0.041, 0.076, 0.0011) to add in queue.\n",
      "\n",
      "\n",
      "1) Please pick at least three correspondences using [shift + left click]\n",
      "   Press [shift + right click] to undo point picking\n",
      "2) After picking points, press 'Q' to close the window\n",
      "[Open3D INFO] Picked point #42049 (0.053, -0.15, 0.53) to add in queue.\n",
      "[Open3D INFO] Picked point #53273 (-0.0076, -0.13, 0.52) to add in queue.\n",
      "[Open3D INFO] Picked point #680539 (-0.00035, -0.068, 0.6) to add in queue.\n",
      "\n",
      "Compute a rough transform using the correspondences given by user\n",
      "Perform point-to-point ICP refinement\n",
      "\n"
     ]
    }
   ],
   "source": [
    "source = copy.deepcopy(obj_pcd)\n",
    "target = copy.deepcopy(pcds)\n",
    "transformation = demo_manual_registration(source, target)"
   ]
  },
  {
   "cell_type": "code",
   "execution_count": 32,
   "id": "laden-spine",
   "metadata": {},
   "outputs": [
    {
     "data": {
      "text/plain": [
       "array([[ 0.99736015, -0.03803079, -0.06185787,  0.04239608],\n",
       "       [-0.06796566, -0.78880544, -0.61087368, -0.01322389],\n",
       "       [-0.02556181,  0.61346527, -0.7893079 ,  0.55232266],\n",
       "       [ 0.        ,  0.        ,  0.        ,  1.        ]])"
      ]
     },
     "execution_count": 32,
     "metadata": {},
     "output_type": "execute_result"
    }
   ],
   "source": [
    "transformation"
   ]
  },
  {
   "cell_type": "code",
   "execution_count": 33,
   "id": "contrary-purple",
   "metadata": {},
   "outputs": [],
   "source": [
    "obj_mesh_t = copy.deepcopy(obj_mesh).transform(transformation)\n",
    "obj_005_t = obj_mesh_t"
   ]
  },
  {
   "cell_type": "code",
   "execution_count": 35,
   "id": "painful-bridges",
   "metadata": {},
   "outputs": [
    {
     "name": "stdout",
     "output_type": "stream",
     "text": [
      "[Open3D WARNING] GLFW Error: WGL: Failed to make context current: The handle is invalid. \n",
      "[Open3D WARNING] GLFW Error: WGL: Failed to make context current: The requested transformation operation is not supported. \n"
     ]
    }
   ],
   "source": [
    "obj_003_t.compute_vertex_normals()\n",
    "obj_003_t.paint_uniform_color([1, 0.706, 0])\n",
    "\n",
    "obj_005_t.compute_vertex_normals()\n",
    "obj_005_t.paint_uniform_color([1, 0.706, 0])\n",
    "\n",
    "o3d.visualization.draw_geometries([pcds, obj_003_t, obj_005_t])"
   ]
  },
  {
   "cell_type": "code",
   "execution_count": null,
   "id": "advised-eleven",
   "metadata": {},
   "outputs": [],
   "source": []
  }
 ],
 "metadata": {
  "hide_input": false,
  "kernelspec": {
   "display_name": "Python 3",
   "language": "python",
   "name": "python3"
  },
  "language_info": {
   "codemirror_mode": {
    "name": "ipython",
    "version": 3
   },
   "file_extension": ".py",
   "mimetype": "text/x-python",
   "name": "python",
   "nbconvert_exporter": "python",
   "pygments_lexer": "ipython3",
   "version": "3.7.10"
  },
  "toc": {
   "base_numbering": 1,
   "nav_menu": {},
   "number_sections": true,
   "sideBar": true,
   "skip_h1_title": false,
   "title_cell": "Table of Contents",
   "title_sidebar": "Contents",
   "toc_cell": false,
   "toc_position": {},
   "toc_section_display": true,
   "toc_window_display": false
  },
  "varInspector": {
   "cols": {
    "lenName": 16,
    "lenType": 16,
    "lenVar": 40
   },
   "kernels_config": {
    "python": {
     "delete_cmd_postfix": "",
     "delete_cmd_prefix": "del ",
     "library": "var_list.py",
     "varRefreshCmd": "print(var_dic_list())"
    },
    "r": {
     "delete_cmd_postfix": ") ",
     "delete_cmd_prefix": "rm(",
     "library": "var_list.r",
     "varRefreshCmd": "cat(var_dic_list()) "
    }
   },
   "types_to_exclude": [
    "module",
    "function",
    "builtin_function_or_method",
    "instance",
    "_Feature"
   ],
   "window_display": false
  }
 },
 "nbformat": 4,
 "nbformat_minor": 5
}
