{
 "cells": [
  {
   "cell_type": "code",
   "execution_count": 10,
   "id": "funky-hierarchy",
   "metadata": {
    "hide_input": false
   },
   "outputs": [],
   "source": [
    "%load_ext autoreload\n",
    "%autoreload 2"
   ]
  },
  {
   "cell_type": "code",
   "execution_count": 11,
   "id": "photographic-integration",
   "metadata": {},
   "outputs": [],
   "source": [
    "import numpy as np\n",
    "import open3d as o3d\n",
    "import copy\n",
    "\n",
    "from utils import readXML, Intrinsics, Extrinsics, RGBD, crop_geometry, draw_registration_result, pick_points, manual_registration"
   ]
  },
  {
   "cell_type": "code",
   "execution_count": 23,
   "id": "unable-maine",
   "metadata": {},
   "outputs": [],
   "source": [
    "xml_dir = \"/home/yunzhu/Documents/project_phystouch/phystouch/data_recording/data\"\n",
    "xml_dir = \"C:/Users/lucas/Desktop/UPC/MIT/tactile2object/intrinsics_extrinsics/data/\"\n",
    "\n",
    "intrinsics = Intrinsics(xml_dir)\n",
    "extrinsics = Extrinsics(xml_dir)\n",
    "rgbds = RGBD(xml_dir, recording=\"recording_wAprilTag/20210714_003835\")"
   ]
  },
  {
   "cell_type": "markdown",
   "id": "seventh-scott",
   "metadata": {},
   "source": [
    "# Stitching point clouds"
   ]
  },
  {
   "cell_type": "markdown",
   "id": "immune-milwaukee",
   "metadata": {},
   "source": [
    "### camera 020122061233"
   ]
  },
  {
   "cell_type": "code",
   "execution_count": 24,
   "id": "contained-sewing",
   "metadata": {
    "run_control": {
     "marked": false
    }
   },
   "outputs": [],
   "source": [
    "camera = \"020122061233\"\n",
    "\n",
    "rgbd = rgbds.from_camera(camera)\n",
    "intrinsic = intrinsics.from_camera(camera)\n",
    "extrinsic = extrinsics.from_camera(camera)\n",
    "\n",
    "pcd_1 = o3d.geometry.PointCloud.create_from_rgbd_image(rgbd, intrinsic, extrinsic)\n",
    "\n",
    "o3d.visualization.draw_geometries([pcd_1])"
   ]
  },
  {
   "cell_type": "markdown",
   "id": "guided-provider",
   "metadata": {},
   "source": [
    "### camera 020122061651"
   ]
  },
  {
   "cell_type": "code",
   "execution_count": 25,
   "id": "executed-miami",
   "metadata": {},
   "outputs": [],
   "source": [
    "camera = \"020122061651\"\n",
    "\n",
    "rgbd = rgbds.from_camera(camera)\n",
    "intrinsic = intrinsics.from_camera(camera)\n",
    "extrinsic = extrinsics.from_camera(camera)\n",
    "\n",
    "pcd_2 = o3d.geometry.PointCloud.create_from_rgbd_image(rgbd, intrinsic, extrinsic)\n",
    "o3d.visualization.draw_geometries([pcd_2])"
   ]
  },
  {
   "cell_type": "markdown",
   "id": "electric-search",
   "metadata": {},
   "source": [
    "### camera 821312060044"
   ]
  },
  {
   "cell_type": "code",
   "execution_count": 26,
   "id": "induced-coordination",
   "metadata": {},
   "outputs": [],
   "source": [
    "camera = \"821312060044\"\n",
    "\n",
    "rgbd = rgbds.from_camera(camera)\n",
    "intrinsic = intrinsics.from_camera(camera)\n",
    "extrinsic = extrinsics.from_camera(camera)\n",
    "\n",
    "pcd_3 = o3d.geometry.PointCloud.create_from_rgbd_image(rgbd, intrinsic, extrinsic)\n",
    "o3d.visualization.draw_geometries([pcd_3])"
   ]
  },
  {
   "cell_type": "markdown",
   "id": "lesbian-diving",
   "metadata": {},
   "source": [
    "### camera 821312062243"
   ]
  },
  {
   "cell_type": "code",
   "execution_count": 27,
   "id": "median-given",
   "metadata": {},
   "outputs": [],
   "source": [
    "camera = \"821312062243\"\n",
    "\n",
    "rgbd = rgbds.from_camera(camera)\n",
    "intrinsic = intrinsics.from_camera(camera)\n",
    "extrinsic = extrinsics.from_camera(camera)\n",
    "\n",
    "pcd_4 = o3d.geometry.PointCloud.create_from_rgbd_image(rgbd, intrinsic, extrinsic)\n",
    "o3d.visualization.draw_geometries([pcd_4])"
   ]
  },
  {
   "cell_type": "markdown",
   "id": "upper-egypt",
   "metadata": {},
   "source": [
    "### Stitched Point Cloud"
   ]
  },
  {
   "cell_type": "code",
   "execution_count": 28,
   "id": "martial-orlando",
   "metadata": {},
   "outputs": [],
   "source": [
    "pcds = pcd_1 + pcd_2 + pcd_3 + pcd_4\n",
    "\n",
    "o3d.visualization.draw_geometries([pcds])"
   ]
  },
  {
   "cell_type": "markdown",
   "id": "coordinate-asian",
   "metadata": {},
   "source": [
    "# ICP"
   ]
  },
  {
   "cell_type": "code",
   "execution_count": 29,
   "id": "coordinate-chocolate",
   "metadata": {},
   "outputs": [
    {
     "data": {
      "text/plain": [
       "TriangleMesh with 8194 points and 16384 triangles."
      ]
     },
     "execution_count": 29,
     "metadata": {},
     "output_type": "execute_result"
    }
   ],
   "source": [
    "obj_name = \"005_tomato_soup_can\"\n",
    "obj_name = \"003_cracker_box\"\n",
    "obj_name = \"036_wood_block\"\n",
    "\n",
    "\n",
    "obj_path = f\"C:/Users/lucas/Desktop/UPC/MIT/tactile2object/estimate_object_pose/ycb_converted/{obj_name}.ply\"\n",
    "\n",
    "obj_pcd = o3d.io.read_point_cloud(obj_path)\n",
    "obj_mesh = o3d.io.read_triangle_mesh(obj_path)\n",
    "\n",
    "obj_pcd.scale(0.001, center=(0,0,0))\n",
    "obj_mesh.scale(0.001, center=(0,0,0))"
   ]
  },
  {
   "cell_type": "code",
   "execution_count": 30,
   "id": "loaded-reader",
   "metadata": {
    "scrolled": true
   },
   "outputs": [
    {
     "name": "stdout",
     "output_type": "stream",
     "text": [
      "Manual ICP\n",
      "Visualization of two point clouds before manual alignment\n",
      "\n",
      "1) Please pick at least three correspondences using [shift + left click]\n",
      "   Press [shift + right click] to undo point picking\n",
      "2) After picking points, press 'Q' to close the window\n",
      "[Open3D WARNING] GLFW Error: WGL: Failed to make context current: The requested transformation operation is not supported. \n",
      "[Open3D INFO] Picked point #7889 (0.074, 0.022, 0.2) to add in queue.\n",
      "[Open3D INFO] Picked point #6937 (-0.0082, 0.041, 0.2) to add in queue.\n",
      "[Open3D INFO] Picked point #2046 (-0.0073, 0.041, 0.00031) to add in queue.\n",
      "[Open3D INFO] Picked point #2748 (0.075, 0.022, 0.00048) to add in queue.\n",
      "\n",
      "\n",
      "1) Please pick at least three correspondences using [shift + left click]\n",
      "   Press [shift + right click] to undo point picking\n",
      "2) After picking points, press 'Q' to close the window\n",
      "[Open3D INFO] Picked point #928637 (0.089, -0.22, 0.6) to add in queue.\n",
      "[Open3D INFO] Picked point #642911 (0.16, -0.18, 0.57) to add in queue.\n",
      "[Open3D WARNING] GLFW Error: WGL: Failed to make context current: The requested transformation operation is not supported. \n",
      "[Open3D INFO] Picked point #893653 (-0.032, -0.093, 0.52) to add in queue.\n",
      "[Open3D INFO] Picked point #103393 (0.034, -0.052, 0.49) to add in queue.\n",
      "\n",
      "Compute a rough transform using the correspondences given by user\n",
      "Perform point-to-point ICP refinement\n",
      "\n"
     ]
    }
   ],
   "source": [
    "source = copy.deepcopy(obj_pcd)\n",
    "target = copy.deepcopy(pcds)\n",
    "transformation = manual_registration(source, target)"
   ]
  },
  {
   "cell_type": "code",
   "execution_count": 31,
   "id": "flying-floor",
   "metadata": {},
   "outputs": [
    {
     "name": "stdout",
     "output_type": "stream",
     "text": [
      "[Open3D WARNING] GLFW Error: WGL: Failed to make context current: The requested transformation operation is not supported. \n",
      "[Open3D WARNING] GLFW Error: WGL: Failed to make context current: The handle is invalid. \n",
      "[Open3D WARNING] GLFW Error: WGL: Failed to make context current: The handle is invalid. \n",
      "[Open3D WARNING] GLFW Error: WGL: Failed to make context current: The handle is invalid. \n",
      "[Open3D WARNING] GLFW Error: WGL: Failed to make context current: The handle is invalid. \n"
     ]
    }
   ],
   "source": [
    "obj_mesh_t = copy.deepcopy(obj_mesh).transform(transformation)\n",
    "\n",
    "obj_mesh_t.compute_vertex_normals()\n",
    "obj_mesh_t.paint_uniform_color([1, 0.706, 0])\n",
    "\n",
    "o3d.visualization.draw_geometries([pcds, obj_mesh_t])"
   ]
  },
  {
   "cell_type": "code",
   "execution_count": 32,
   "id": "virtual-affairs",
   "metadata": {},
   "outputs": [
    {
     "data": {
      "text/plain": [
       "array([[ 0.7790807 , -0.07565391,  0.62234215, -0.01968236],\n",
       "       [ 0.56767006,  0.50640622, -0.64907892, -0.05254062],\n",
       "       [-0.26605257,  0.85896987,  0.43747777,  0.54361907],\n",
       "       [ 0.        ,  0.        ,  0.        ,  1.        ]])"
      ]
     },
     "execution_count": 32,
     "metadata": {},
     "output_type": "execute_result"
    }
   ],
   "source": [
    "transformation"
   ]
  }
 ],
 "metadata": {
  "hide_input": false,
  "kernelspec": {
   "display_name": "Python 3",
   "language": "python",
   "name": "python3"
  },
  "language_info": {
   "codemirror_mode": {
    "name": "ipython",
    "version": 3
   },
   "file_extension": ".py",
   "mimetype": "text/x-python",
   "name": "python",
   "nbconvert_exporter": "python",
   "pygments_lexer": "ipython3",
   "version": "3.7.10"
  },
  "toc": {
   "base_numbering": 1,
   "nav_menu": {},
   "number_sections": true,
   "sideBar": true,
   "skip_h1_title": false,
   "title_cell": "Table of Contents",
   "title_sidebar": "Contents",
   "toc_cell": false,
   "toc_position": {},
   "toc_section_display": true,
   "toc_window_display": false
  },
  "varInspector": {
   "cols": {
    "lenName": 16,
    "lenType": 16,
    "lenVar": 40
   },
   "kernels_config": {
    "python": {
     "delete_cmd_postfix": "",
     "delete_cmd_prefix": "del ",
     "library": "var_list.py",
     "varRefreshCmd": "print(var_dic_list())"
    },
    "r": {
     "delete_cmd_postfix": ") ",
     "delete_cmd_prefix": "rm(",
     "library": "var_list.r",
     "varRefreshCmd": "cat(var_dic_list()) "
    }
   },
   "types_to_exclude": [
    "module",
    "function",
    "builtin_function_or_method",
    "instance",
    "_Feature"
   ],
   "window_display": false
  }
 },
 "nbformat": 4,
 "nbformat_minor": 5
}
