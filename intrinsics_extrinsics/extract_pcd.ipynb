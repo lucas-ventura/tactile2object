{
 "cells": [
  {
   "cell_type": "code",
   "execution_count": 1,
   "id": "magnetic-telephone",
   "metadata": {
    "hide_input": false
   },
   "outputs": [],
   "source": [
    "%load_ext autoreload\n",
    "%autoreload 2"
   ]
  },
  {
   "cell_type": "code",
   "execution_count": 2,
   "id": "photographic-integration",
   "metadata": {},
   "outputs": [
    {
     "ename": "ImportError",
     "evalue": "cannot import name 'crop_geometry' from 'utils' (C:\\Users\\lucas\\Desktop\\UPC\\MIT\\tactile2object\\intrinsics_extrinsics\\utils.py)",
     "output_type": "error",
     "traceback": [
      "\u001b[1;31m---------------------------------------------------------------------------\u001b[0m",
      "\u001b[1;31mImportError\u001b[0m                               Traceback (most recent call last)",
      "\u001b[1;32m<ipython-input-2-7c26a31b3394>\u001b[0m in \u001b[0;36m<module>\u001b[1;34m\u001b[0m\n\u001b[0;32m      3\u001b[0m \u001b[1;32mimport\u001b[0m \u001b[0mcopy\u001b[0m\u001b[1;33m\u001b[0m\u001b[1;33m\u001b[0m\u001b[0m\n\u001b[0;32m      4\u001b[0m \u001b[1;33m\u001b[0m\u001b[0m\n\u001b[1;32m----> 5\u001b[1;33m \u001b[1;32mfrom\u001b[0m \u001b[0mutils\u001b[0m \u001b[1;32mimport\u001b[0m \u001b[0mreadXML\u001b[0m\u001b[1;33m,\u001b[0m \u001b[0mIntrinsics\u001b[0m\u001b[1;33m,\u001b[0m \u001b[0mExtrinsics\u001b[0m\u001b[1;33m,\u001b[0m \u001b[0mRGBD\u001b[0m\u001b[1;33m,\u001b[0m \u001b[0mcrop_geometry\u001b[0m\u001b[1;33m,\u001b[0m \u001b[0mdraw_registration_result\u001b[0m\u001b[1;33m,\u001b[0m \u001b[0mpick_points\u001b[0m\u001b[1;33m,\u001b[0m \u001b[0mmanual_registration\u001b[0m\u001b[1;33m\u001b[0m\u001b[1;33m\u001b[0m\u001b[0m\n\u001b[0m",
      "\u001b[1;31mImportError\u001b[0m: cannot import name 'crop_geometry' from 'utils' (C:\\Users\\lucas\\Desktop\\UPC\\MIT\\tactile2object\\intrinsics_extrinsics\\utils.py)"
     ]
    }
   ],
   "source": [
    "import numpy as np\n",
    "import open3d as o3d\n",
    "import copy\n",
    "\n",
    "from utils import readXML, Intrinsics, Extrinsics, RGBD, crop_geometry, draw_registration_result, pick_points, manual_registration"
   ]
  },
  {
   "cell_type": "code",
   "execution_count": null,
   "id": "unable-maine",
   "metadata": {},
   "outputs": [],
   "source": [
    "xml_dir = \"C:/Users/lucas/Desktop/UPC/MIT/tactile2object/intrinsics_extrinsics/\"\n",
    "\n",
    "intrinsics = Intrinsics(xml_dir)\n",
    "extrinsics = Extrinsics(xml_dir)\n",
    "rgbds = RGBD(xml_dir, recording=\"20210709_004128\")"
   ]
  },
  {
   "cell_type": "markdown",
   "id": "auburn-performance",
   "metadata": {},
   "source": [
    "# Stitching point clouds"
   ]
  },
  {
   "cell_type": "markdown",
   "id": "immune-milwaukee",
   "metadata": {},
   "source": [
    "### camera 020122061233"
   ]
  },
  {
   "cell_type": "code",
   "execution_count": null,
   "id": "contained-sewing",
   "metadata": {
    "run_control": {
     "marked": false
    }
   },
   "outputs": [],
   "source": [
    "camera = \"020122061233\"\n",
    "\n",
    "rgbd = rgbds.from_camera(camera)\n",
    "intrinsic = intrinsics.from_camera(camera)\n",
    "extrinsic = extrinsics.from_camera(camera)\n",
    "\n",
    "pcd_1 = o3d.geometry.PointCloud.create_from_rgbd_image(rgbd, intrinsic, extrinsic)\n",
    "\n",
    "#o3d.visualization.draw_geometries([pcd_1])"
   ]
  },
  {
   "cell_type": "markdown",
   "id": "electric-search",
   "metadata": {},
   "source": [
    "### camera 821312060044"
   ]
  },
  {
   "cell_type": "code",
   "execution_count": null,
   "id": "induced-coordination",
   "metadata": {},
   "outputs": [],
   "source": [
    "camera = \"821312060044\"\n",
    "\n",
    "rgbd = rgbds.from_camera(camera)\n",
    "intrinsic = intrinsics.from_camera(camera)\n",
    "extrinsic = extrinsics.from_camera(camera)\n",
    "\n",
    "pcd_2 = o3d.geometry.PointCloud.create_from_rgbd_image(rgbd, intrinsic, np.linalg.inv(extrinsic))\n"
   ]
  },
  {
   "cell_type": "markdown",
   "id": "guided-provider",
   "metadata": {},
   "source": [
    "### camera 020122061651"
   ]
  },
  {
   "cell_type": "code",
   "execution_count": null,
   "id": "executed-miami",
   "metadata": {},
   "outputs": [],
   "source": [
    "camera = \"020122061651\"\n",
    "\n",
    "rgbd = rgbds.from_camera(camera)\n",
    "intrinsic = intrinsics.from_camera(camera)\n",
    "extrinsic = extrinsics.from_camera(camera)\n",
    "\n",
    "pcd_3 = o3d.geometry.PointCloud.create_from_rgbd_image(rgbd, intrinsic, np.linalg.inv(extrinsic))\n"
   ]
  },
  {
   "cell_type": "markdown",
   "id": "silent-statistics",
   "metadata": {},
   "source": [
    "### camera 821312062243"
   ]
  },
  {
   "cell_type": "code",
   "execution_count": null,
   "id": "median-given",
   "metadata": {},
   "outputs": [],
   "source": [
    "camera = \"821312062243\"\n",
    "\n",
    "rgbd = rgbds.from_camera(camera)\n",
    "intrinsic = intrinsics.from_camera(camera)\n",
    "extrinsic = extrinsics.from_camera(camera)\n",
    "\n",
    "pcd_4 = o3d.geometry.PointCloud.create_from_rgbd_image(rgbd, intrinsic, np.linalg.inv(extrinsic))\n"
   ]
  },
  {
   "cell_type": "markdown",
   "id": "dependent-poster",
   "metadata": {},
   "source": [
    "### Stitched Point Cloud"
   ]
  },
  {
   "cell_type": "code",
   "execution_count": null,
   "id": "twenty-jewel",
   "metadata": {},
   "outputs": [],
   "source": [
    "pcds = pcd_1 + pcd_2 + pcd_3 + pcd_4\n",
    "\n",
    "o3d.visualization.draw_geometries([pcds])"
   ]
  },
  {
   "cell_type": "markdown",
   "id": "japanese-infection",
   "metadata": {},
   "source": [
    "# ICP"
   ]
  },
  {
   "cell_type": "code",
   "execution_count": null,
   "id": "positive-private",
   "metadata": {},
   "outputs": [],
   "source": [
    "obj_name = \"005_tomato_soup_can\"\n",
    "obj_name = \"003_cracker_box\"\n",
    "\n",
    "obj_path = f\"C:/Users/lucas/Desktop/UPC/MIT/tactile2object/estimate_object_pose/ycb_converted/{obj_name}.ply\"\n",
    "\n",
    "obj_pcd = o3d.io.read_point_cloud(obj_path)\n",
    "obj_mesh = o3d.io.read_triangle_mesh(obj_path)\n",
    "\n",
    "obj_pcd.scale(0.001, center=(0,0,0))\n",
    "obj_mesh.scale(0.001, center=(0,0,0))"
   ]
  },
  {
   "cell_type": "code",
   "execution_count": null,
   "id": "focal-boost",
   "metadata": {},
   "outputs": [],
   "source": [
    "source = copy.deepcopy(obj_pcd)\n",
    "target = copy.deepcopy(pcds)\n",
    "transformation = manual_registration(source, target)"
   ]
  },
  {
   "cell_type": "code",
   "execution_count": null,
   "id": "meaning-forestry",
   "metadata": {},
   "outputs": [],
   "source": [
    "obj_mesh_t = copy.deepcopy(obj_mesh).transform(transformation)\n",
    "\n",
    "obj_mesh_t.compute_vertex_normals()\n",
    "obj_mesh_t.paint_uniform_color([1, 0.706, 0])\n",
    "\n",
    "o3d.visualization.draw_geometries([pcds, obj_mesh_t])"
   ]
  }
 ],
 "metadata": {
  "hide_input": false,
  "kernelspec": {
   "display_name": "Python 3",
   "language": "python",
   "name": "python3"
  },
  "language_info": {
   "codemirror_mode": {
    "name": "ipython",
    "version": 3
   },
   "file_extension": ".py",
   "mimetype": "text/x-python",
   "name": "python",
   "nbconvert_exporter": "python",
   "pygments_lexer": "ipython3",
   "version": "3.7.10"
  },
  "toc": {
   "base_numbering": 1,
   "nav_menu": {},
   "number_sections": true,
   "sideBar": true,
   "skip_h1_title": false,
   "title_cell": "Table of Contents",
   "title_sidebar": "Contents",
   "toc_cell": false,
   "toc_position": {},
   "toc_section_display": true,
   "toc_window_display": false
  },
  "varInspector": {
   "cols": {
    "lenName": 16,
    "lenType": 16,
    "lenVar": 40
   },
   "kernels_config": {
    "python": {
     "delete_cmd_postfix": "",
     "delete_cmd_prefix": "del ",
     "library": "var_list.py",
     "varRefreshCmd": "print(var_dic_list())"
    },
    "r": {
     "delete_cmd_postfix": ") ",
     "delete_cmd_prefix": "rm(",
     "library": "var_list.r",
     "varRefreshCmd": "cat(var_dic_list()) "
    }
   },
   "types_to_exclude": [
    "module",
    "function",
    "builtin_function_or_method",
    "instance",
    "_Feature"
   ],
   "window_display": false
  }
 },
 "nbformat": 4,
 "nbformat_minor": 5
}
