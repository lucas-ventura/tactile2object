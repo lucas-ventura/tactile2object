{
 "cells": [
  {
   "cell_type": "code",
   "execution_count": 1,
   "id": "photographic-integration",
   "metadata": {},
   "outputs": [],
   "source": [
    "import os\n",
    "import cv2\n",
    "\n",
    "import numpy as np\n",
    "\n",
    "import matplotlib.pyplot as plt\n",
    "\n",
    "import matplotlib.image as mpimg\n",
    "\n",
    "import open3d as o3d\n",
    "\n",
    "from utils import readXML\n",
    "import copy"
   ]
  },
  {
   "cell_type": "code",
   "execution_count": 21,
   "id": "efficient-crash",
   "metadata": {},
   "outputs": [],
   "source": [
    "class Intrinsics:\n",
    "    def __init__(self, xml_dir):\n",
    "        self.xml_dir = xml_dir\n",
    "\n",
    "    \n",
    "    def from_camera(self, camera=\"020122061233\", H=640, W=480):\n",
    "        intrinsic_pth = os.path.join(self.xml_dir, f\"{camera}.xml\")\n",
    "        xmldict = readXML(intrinsic_pth)\n",
    "        params = [float(param) for param in xmldict['camera']['camera_model']['params'][3:-3].split(\";\")]\n",
    "        \n",
    "        fx_old, fy_old, cx, cy, *_ = params\n",
    "        \n",
    "        dimx_old = int(xmldict['camera']['camera_model']['width'])\n",
    "        dimy_old = int(xmldict['camera']['camera_model']['height'])\n",
    "        dimx_new, dimy_new = H, W\n",
    "        \n",
    "        fx_new = (dimx_new / dimx_old) * fx_old\n",
    "        fy_new = (dimy_new / dimy_old) * fy_old\n",
    "        \n",
    "        intrinsic = o3d.camera.PinholeCameraIntrinsic(W, H, fx_new, fy_new, cx, cy)\n",
    "        \n",
    "        return intrinsic\n",
    "\n",
    "class Extrinsics:\n",
    "    def __init__(self, xml_dir, default_camera=\"020122061233\"):\n",
    "        self.xml_dir = xml_dir\n",
    "        self.default_camera = default_camera\n",
    "        \n",
    "    def from_camera(self, camera=\"020122061233\"):\n",
    "        if camera == self.default_camera:\n",
    "            return np.array([[1., 0., 0., 0.], [0., 1., 0., 0.], [0., 0., 1., 0.], [0., 0., 0., 1.]])\n",
    "        \n",
    "        extrinsic_pth = os.path.join(self.xml_dir, f\"{self.default_camera}-{camera}.xml\")\n",
    "        xmldict = readXML(extrinsic_pth)\n",
    "        T_wc = [param.split(\",\") for param in xmldict['camera']['pose']['T_wc'][3:-3].split(\";\")]\n",
    "        T_wc.append([0.,0.,0.,1.])\n",
    "        T_wc = np.array(T_wc)\n",
    "        T_wc = T_wc.astype(np.float64)\n",
    "        \n",
    "        return T_wc\n",
    "    \n",
    "default_extrinsic=np.array([[1., 0., 0., 0.], [0., 1., 0., 0.], [0., 0., 1., 0.], [0., 0., 0., 1.]])"
   ]
  },
  {
   "cell_type": "code",
   "execution_count": 6,
   "id": "ultimate-arcade",
   "metadata": {},
   "outputs": [],
   "source": [
    "def get_rgbd(color_pth, depth_pth, cam_scale = 1):\n",
    "    depth = mpimg.imread(depth_pth)\n",
    "    color = mpimg.imread(color_pth)\n",
    "    \n",
    "    img = o3d.geometry.Image(color.astype(np.uint8))\n",
    "    depth = np.asarray(depth).astype(np.float32) / cam_scale\n",
    "    depth = o3d.geometry.Image(depth)\n",
    "\n",
    "    rgbd = o3d.geometry.RGBDImage.create_from_color_and_depth(img, depth)\n",
    "    \n",
    "    return rgbd\n",
    "\n",
    "class RGBD:\n",
    "    def __init__(self, recordings_dir, recording=\"20210709_004128\"):\n",
    "        self.recordings_dir = recordings_dir\n",
    "        self.recording = recording\n",
    "        \n",
    "    def from_camera(self, camera=\"020122061233\", idx=\"000000\"):\n",
    "        color_name = f\"color_{idx}.jpg\"\n",
    "        depth_name = f\"aligned_depth_to_color_{idx}.png\"\n",
    "\n",
    "        color_pth = os.path.join(self.recordings_dir, self.recording, camera, color_name)\n",
    "        depth_pth = os.path.join(self.recordings_dir, self.recording, camera, depth_name)\n",
    "        \n",
    "        rgbd = get_rgbd(color_pth, depth_pth)\n",
    "        \n",
    "        return rgbd"
   ]
  },
  {
   "cell_type": "code",
   "execution_count": null,
   "id": "executed-merchandise",
   "metadata": {},
   "outputs": [],
   "source": []
  },
  {
   "cell_type": "code",
   "execution_count": 11,
   "id": "human-relations",
   "metadata": {},
   "outputs": [],
   "source": [
    "xml_dir = \"C:/Users/lucas/Desktop/UPC/MIT/tactile2object/intrinsics_extrinsics/\"\n",
    "\n",
    "intrinsics = Intrinsics(xml_dir)\n",
    "extrinsics = Extrinsics(xml_dir)\n",
    "rgbds = RGBD(xml_dir, recording=\"20210709_004128\")"
   ]
  },
  {
   "cell_type": "code",
   "execution_count": null,
   "id": "muslim-month",
   "metadata": {},
   "outputs": [],
   "source": []
  },
  {
   "cell_type": "markdown",
   "id": "compressed-daily",
   "metadata": {},
   "source": [
    "# Img 020122061233"
   ]
  },
  {
   "cell_type": "code",
   "execution_count": 22,
   "id": "contained-sewing",
   "metadata": {
    "run_control": {
     "marked": false
    }
   },
   "outputs": [],
   "source": [
    "camera = \"020122061233\"\n",
    "\n",
    "rgbd = rgbds.from_camera(camera)\n",
    "intrinsic = intrinsics.from_camera(camera)\n",
    "extrinsic = extrinsics.from_camera(camera)\n",
    "\n",
    "pcd_1 = o3d.geometry.PointCloud.create_from_rgbd_image(rgbd, intrinsic, extrinsic)\n",
    "\n",
    "o3d.visualization.draw_geometries([pcd_1])"
   ]
  },
  {
   "cell_type": "markdown",
   "id": "interim-milwaukee",
   "metadata": {},
   "source": [
    "# camera 821312060044"
   ]
  },
  {
   "cell_type": "code",
   "execution_count": 47,
   "id": "finished-emperor",
   "metadata": {},
   "outputs": [],
   "source": [
    "camera = \"821312060044\"\n",
    "\n",
    "rgbd = rgbds.from_camera(camera)\n",
    "intrinsic = intrinsics.from_camera(camera)\n",
    "extrinsic = extrinsics.from_camera(camera)\n",
    "\n",
    "# Remove translation\n",
    "# extrinsic[:,-1] = extrinsic[:,-1]/100_000\n",
    "extrinsic[:,-1] = np.array([0,0,0,1])\n",
    "\n",
    "pcd_2 = o3d.geometry.PointCloud.create_from_rgbd_image(rgbd, intrinsic, extrinsic)"
   ]
  },
  {
   "cell_type": "code",
   "execution_count": 48,
   "id": "possible-fountain",
   "metadata": {},
   "outputs": [],
   "source": [
    "o3d.visualization.draw_geometries([pcd_1, pcd_2])"
   ]
  },
  {
   "cell_type": "markdown",
   "id": "baking-making",
   "metadata": {},
   "source": [
    "Same but with o3d rotation and translation"
   ]
  },
  {
   "cell_type": "code",
   "execution_count": 83,
   "id": "novel-milton",
   "metadata": {},
   "outputs": [],
   "source": [
    "camera = \"821312060044\"\n",
    "\n",
    "rgbd = rgbds.from_camera(camera)\n",
    "intrinsic = intrinsics.from_camera(camera)\n",
    "extrinsic = extrinsics.from_camera(camera)\n",
    "\n",
    "pcd_2 = o3d.geometry.PointCloud.create_from_rgbd_image(rgbd, intrinsic, default_extrinsic)\n",
    "\n",
    "rotation = extrinsic[:3,:3]\n",
    "translation = extrinsic[:3,-1]/100_000 *np.array([640,480,1])/np.array([1280,720,1])\n",
    "pcd_2_r = copy.deepcopy(pcd_2).rotate(rotation)\n",
    "pcd_2_r = copy.deepcopy(pcd_2_r).translate(-t)\n",
    "\n",
    "\n",
    "o3d.visualization.draw_geometries([pcd_1, pcd_2_r])"
   ]
  },
  {
   "cell_type": "code",
   "execution_count": 61,
   "id": "analyzed-disposition",
   "metadata": {},
   "outputs": [
    {
     "data": {
      "text/plain": [
       "array([[ 0.44410217],\n",
       "       [-0.68084482],\n",
       "       [ 0.37925991]])"
      ]
     },
     "execution_count": 61,
     "metadata": {},
     "output_type": "execute_result"
    }
   ],
   "source": [
    "t*100_000"
   ]
  },
  {
   "cell_type": "code",
   "execution_count": 60,
   "id": "accomplished-running",
   "metadata": {},
   "outputs": [
    {
     "data": {
      "text/plain": [
       "array([ 0.4200817 , -0.1460006 ,  0.07875547])"
      ]
     },
     "execution_count": 60,
     "metadata": {},
     "output_type": "execute_result"
    }
   ],
   "source": [
    "extrinsic[:3,-1]"
   ]
  },
  {
   "cell_type": "code",
   "execution_count": 64,
   "id": "heard-matter",
   "metadata": {},
   "outputs": [
    {
     "data": {
      "text/plain": [
       "array([ 2.10040850e-06, -9.73337333e-07,  7.87554700e-07])"
      ]
     },
     "execution_count": 64,
     "metadata": {},
     "output_type": "execute_result"
    }
   ],
   "source": [
    "translation = extrinsic[:3,-1]/100_000 *np.array([640,480,1])/np.array([1280,720,1])\n",
    "translation"
   ]
  },
  {
   "cell_type": "markdown",
   "id": "respective-theta",
   "metadata": {},
   "source": [
    "# img 020122061651"
   ]
  },
  {
   "cell_type": "code",
   "execution_count": null,
   "id": "selected-strike",
   "metadata": {},
   "outputs": [],
   "source": [
    "camera = \"020122061651\"\n",
    "\n",
    "rgbd = rgbds.from_camera(camera)\n",
    "intrinsic = intrinsics.from_camera(camera)\n",
    "extrinsic = extrinsics.from_camera(camera)\n",
    "\n",
    "extrinsic[:,-1] = np.array([0,0,0,1])\n",
    "\n",
    "pcd_3 = o3d.geometry.PointCloud.create_from_rgbd_image(rgbd, intrinsic, extrinsic)"
   ]
  },
  {
   "cell_type": "code",
   "execution_count": null,
   "id": "threatened-vegetarian",
   "metadata": {},
   "outputs": [],
   "source": [
    "o3d.visualization.draw_geometries([pcd_3, pcd_2])"
   ]
  },
  {
   "cell_type": "markdown",
   "id": "boxed-scott",
   "metadata": {},
   "source": [
    "# Find transformation"
   ]
  },
  {
   "cell_type": "code",
   "execution_count": null,
   "id": "informational-confidentiality",
   "metadata": {},
   "outputs": [],
   "source": [
    "source = pcd_2\n",
    "target = pcd"
   ]
  },
  {
   "cell_type": "code",
   "execution_count": null,
   "id": "actual-knife",
   "metadata": {},
   "outputs": [],
   "source": [
    "threshold = 500\n",
    "trans_init = np.asarray(\n",
    "            [[1, 0, 0,  0],\n",
    "            [0, 1, 0,  0],\n",
    "            [0, 0,  1, 0],\n",
    "            [0, 0, 0, 1]])\n",
    "\n",
    "target.estimate_normals()\n",
    "reg_p2l = o3d.pipelines.registration.registration_icp(source, target, threshold, trans_init,\n",
    "    o3d.pipelines.registration.TransformationEstimationPointToPlane(),\n",
    "    o3d.pipelines.registration.ICPConvergenceCriteria(max_iteration = 50))\n",
    "\n",
    "\n",
    "reg_p2p = o3d.pipelines.registration.registration_icp(source, target, threshold, trans_init,\n",
    "            o3d.pipelines.registration.TransformationEstimationPointToPoint(),\n",
    "            o3d.pipelines.registration.ICPConvergenceCriteria(max_iteration = 1))"
   ]
  },
  {
   "cell_type": "code",
   "execution_count": null,
   "id": "acquired-shock",
   "metadata": {},
   "outputs": [],
   "source": [
    "source_temp = copy.deepcopy(source)\n",
    "source_temp.transform(reg_p2p.transformation)\n",
    "source_temp.paint_uniform_color([1, 0.0, 0])\n",
    "\n",
    "o3d.visualization.draw_geometries([target, source])"
   ]
  },
  {
   "cell_type": "code",
   "execution_count": null,
   "id": "cross-values",
   "metadata": {},
   "outputs": [],
   "source": []
  },
  {
   "cell_type": "code",
   "execution_count": null,
   "id": "driven-indianapolis",
   "metadata": {},
   "outputs": [],
   "source": []
  },
  {
   "cell_type": "code",
   "execution_count": null,
   "id": "infinite-department",
   "metadata": {},
   "outputs": [],
   "source": [
    "option = o3d.pipelines.odometry.OdometryOption()\n",
    "odo_init = np.identity(4)\n",
    "print(option)\n",
    "\n",
    "[success_color_term, trans_color_term,\n",
    " info] = o3d.pipelines.odometry.compute_rgbd_odometry(\n",
    "     source_rgbd_image, target_rgbd_image, intrinsic, odo_init,\n",
    "     o3d.pipelines.odometry.RGBDOdometryJacobianFromColorTerm(), option)\n",
    "[success_hybrid_term, trans_hybrid_term,\n",
    " info] = o3d.pipelines.odometry.compute_rgbd_odometry(\n",
    "     source_rgbd_image, target_rgbd_image, intrinsic, odo_init,\n",
    "     o3d.pipelines.odometry.RGBDOdometryJacobianFromHybridTerm(), option)"
   ]
  },
  {
   "cell_type": "code",
   "execution_count": null,
   "id": "instructional-holly",
   "metadata": {},
   "outputs": [],
   "source": [
    "trans_color_term"
   ]
  },
  {
   "cell_type": "code",
   "execution_count": null,
   "id": "earned-automation",
   "metadata": {},
   "outputs": [],
   "source": [
    "trans_hybrid_term"
   ]
  },
  {
   "cell_type": "code",
   "execution_count": null,
   "id": "juvenile-miami",
   "metadata": {},
   "outputs": [],
   "source": []
  },
  {
   "cell_type": "code",
   "execution_count": 54,
   "id": "sonic-vegetation",
   "metadata": {},
   "outputs": [],
   "source": [
    "def rigid_transform_3D(A, B):\n",
    "    # Code from https://github.com/nghiaho12/rigid_transform_3D/blob/master/rigid_transform_3D.py\n",
    "    assert A.shape == B.shape\n",
    "\n",
    "    num_rows, num_cols = A.shape\n",
    "    if num_rows != 3:\n",
    "        raise Exception(f\"matrix A is not 3xN, it is {num_rows}x{num_cols}\")\n",
    "\n",
    "    num_rows, num_cols = B.shape\n",
    "    if num_rows != 3:\n",
    "        raise Exception(f\"matrix B is not 3xN, it is {num_rows}x{num_cols}\")\n",
    "\n",
    "    # find mean column wise\n",
    "    centroid_A = np.mean(A, axis=1)\n",
    "    centroid_B = np.mean(B, axis=1)\n",
    "\n",
    "    # ensure centroids are 3x1\n",
    "    centroid_A = centroid_A.reshape(-1, 1)\n",
    "    centroid_B = centroid_B.reshape(-1, 1)\n",
    "\n",
    "    # subtract mean\n",
    "    Am = A - centroid_A\n",
    "    Bm = B - centroid_B\n",
    "\n",
    "    H = Am @ np.transpose(Bm)\n",
    "\n",
    "    # sanity check\n",
    "    #if linalg.matrix_rank(H) < 3:\n",
    "    #    raise ValueError(\"rank of H = {}, expecting 3\".format(linalg.matrix_rank(H)))\n",
    "\n",
    "    # find rotation\n",
    "    U, S, Vt = np.linalg.svd(H)\n",
    "    R = Vt.T @ U.T\n",
    "\n",
    "    # special reflection case\n",
    "    if np.linalg.det(R) < 0:\n",
    "        Vt[2,:] *= -1\n",
    "        R = Vt.T @ U.T\n",
    "\n",
    "    t = -R @ centroid_A + centroid_B\n",
    "\n",
    "    return R, t"
   ]
  },
  {
   "cell_type": "code",
   "execution_count": 71,
   "id": "rough-walker",
   "metadata": {},
   "outputs": [],
   "source": [
    "import sys\n",
    "# insert at 1, 0 is the script path (or '' in REPL)\n",
    "sys.path.insert(1, 'C:/Users/lucas/Desktop/UPC/MIT/manopth/manus/')\n",
    "\n",
    "from extract_points import pick_points\n",
    "\n"
   ]
  },
  {
   "cell_type": "code",
   "execution_count": 75,
   "id": "anonymous-delta",
   "metadata": {},
   "outputs": [
    {
     "name": "stdout",
     "output_type": "stream",
     "text": [
      "\n",
      "1) Please pick at least three correspondences using [shift + left click]\n",
      "   Press [shift + right click] to undo point picking\n",
      "2) Afther picking points, press q for close the window\n",
      "[Open3D INFO] Picked point #186525 (-1.4e-06, -3.8e-06, 9.7e-06) to add in queue.\n",
      "[Open3D INFO] Picked point #118380 (-4.5e-06, -2.7e-06, 8.8e-06) to add in queue.\n",
      "[Open3D INFO] Picked point #70654 (-5.2e-06, -5.3e-06, 1.1e-05) to add in queue.\n",
      "[Open3D INFO] Picked point #119218 (-2.1e-06, -6.5e-06, 1.1e-05) to add in queue.\n",
      "\n"
     ]
    },
    {
     "data": {
      "text/plain": [
       "[186525, 118380, 70654, 119218]"
      ]
     },
     "execution_count": 75,
     "metadata": {},
     "output_type": "execute_result"
    }
   ],
   "source": [
    "pick_points(pcd_2_r)"
   ]
  },
  {
   "cell_type": "code",
   "execution_count": null,
   "id": "angry-zoning",
   "metadata": {},
   "outputs": [],
   "source": []
  },
  {
   "cell_type": "code",
   "execution_count": 76,
   "id": "helpful-summit",
   "metadata": {},
   "outputs": [
    {
     "data": {
      "text/plain": [
       "[[-1.423675622334962e-06, -3.841659167738579e-06, 9.747522976159103e-06],\n",
       " [-4.547270025957597e-06, -2.661879392568063e-06, 8.841482962669476e-06],\n",
       " [-5.18532776526374e-06, -5.273664188210205e-06, 1.0580175828938093e-05],\n",
       " [-2.091597828993573e-06, -6.457796685630581e-06, 1.1485708384882497e-05]]"
      ]
     },
     "execution_count": 76,
     "metadata": {},
     "output_type": "execute_result"
    }
   ],
   "source": [
    "# pcd\n",
    "picked_ids = [94170, 115176, 25254, 14250]\n",
    "\n",
    "# pcd_2\n",
    "picked_ids = [190850, 117292, 70117, 119751]\n",
    "\n",
    "# Nothing\n",
    "picked_ids = [186525, 118380, 70654, 119218]\n",
    "\n",
    "\n",
    "point_cloud = np.asarray(pcd_2_r.points)\n",
    "keypoint_3d_position = []\n",
    "for point_id in picked_ids:\n",
    "    point_in_world = point_cloud[point_id, :]\n",
    "    keypoint_3d_position.append([float(point_in_world[0]), float(point_in_world[1]), float(point_in_world[2])])\n",
    "    \n",
    "keypoint_3d_position"
   ]
  },
  {
   "cell_type": "code",
   "execution_count": 77,
   "id": "steady-shakespeare",
   "metadata": {},
   "outputs": [],
   "source": [
    "a = np.array([[-5.279702973355946e-06, 3.5051066306286833e-06, 3.969055899782816e-06],\n",
    " [-8.364674713636895e-06, 4.670090167738334e-06, 3.092597090413828e-06],\n",
    " [-9.055011864595224e-06, 2.04921663423877e-06, 4.8166512369570385e-06],\n",
    " [-5.926625739585855e-06, 8.571089319962642e-07, 5.728753474437406e-06]])\n",
    "\n",
    "b = np.array([[2.0529716909365156e-07, -2.5224427324230982e-06, 7.721065230725799e-06],\n",
    " [-2.845642348979148e-06, -2.0374551155664612e-06, 7.6142523539601825e-06],\n",
    " [-4.841492815655481e-06, -4.945709300428062e-06, 9.384299119119532e-06],\n",
    " [-1.8773521321918388e-06, -5.410598903015469e-06, 9.55214818532113e-06]])\n",
    "\n",
    "c = np.array([[2.0529716909365156e-07, -2.5351206812498807e-06, 7.721065230725799e-06],\n",
    " [-2.82283155188375e-06, -2.107939174445023e-06, 7.553216164524201e-06],\n",
    " [-4.841492815655481e-06, -4.945709300428062e-06, 9.384299119119532e-06],\n",
    " [-1.8773521321918388e-06, -5.410598903015469e-06, 9.55214818532113e-06]])\n",
    "\n",
    "d = np.array([[-1.423675622334962e-06, -3.841659167738579e-06, 9.747522976159103e-06],\n",
    " [-4.547270025957597e-06, -2.661879392568063e-06, 8.841482962669476e-06],\n",
    " [-5.18532776526374e-06, -5.273664188210205e-06, 1.0580175828938093e-05],\n",
    " [-2.091597828993573e-06, -6.457796685630581e-06, 1.1485708384882497e-05]])"
   ]
  },
  {
   "cell_type": "code",
   "execution_count": null,
   "id": "colonial-rebecca",
   "metadata": {},
   "outputs": [],
   "source": [
    "pcd_pts = np.array([[-8.186385772121419e-06, -2.870964911048856e-06, 1.0086213478643913e-05],\n",
    " [-5.450979665026556e-06, -1.7795954795095105e-06, 8.087282367341686e-06],\n",
    " [-4.1039848097672424e-05, -1.613264668335712e-05, 3.305104110040702e-05],\n",
    " [-6.334644569122416e-06, -6.860979353496837e-06, 1.31837950902991e-05]])\n",
    "\n",
    "pcd_2_pts = np.array([[-3.0709718109808933e-06, 4.13122200967874e-08, 6.851300895505119e-06],\n",
    " [-5.875839644683174e-06, -1.7143199349005031e-06, 8.026246177905705e-06],\n",
    " [-3.465911598876267e-06, -3.3203956331541428e-06, 9.292743925470859e-06],\n",
    " [-6.512043048454424e-07, -1.6751177386491631e-06, 8.087282367341686e-06]])"
   ]
  },
  {
   "cell_type": "code",
   "execution_count": 55,
   "id": "based-subscriber",
   "metadata": {},
   "outputs": [
    {
     "ename": "NameError",
     "evalue": "name 'pcd_pts' is not defined",
     "output_type": "error",
     "traceback": [
      "\u001b[1;31m---------------------------------------------------------------------------\u001b[0m",
      "\u001b[1;31mNameError\u001b[0m                                 Traceback (most recent call last)",
      "\u001b[1;32m<ipython-input-55-47e15b841684>\u001b[0m in \u001b[0;36m<module>\u001b[1;34m\u001b[0m\n\u001b[1;32m----> 1\u001b[1;33m \u001b[0mR\u001b[0m\u001b[1;33m,\u001b[0m \u001b[0mt\u001b[0m \u001b[1;33m=\u001b[0m \u001b[0mrigid_transform_3D\u001b[0m\u001b[1;33m(\u001b[0m\u001b[0mpcd_pts\u001b[0m\u001b[1;33m.\u001b[0m\u001b[0mT\u001b[0m\u001b[1;33m,\u001b[0m \u001b[0mpcd_2_pts\u001b[0m\u001b[1;33m.\u001b[0m\u001b[0mT\u001b[0m\u001b[1;33m)\u001b[0m\u001b[1;33m\u001b[0m\u001b[1;33m\u001b[0m\u001b[0m\n\u001b[0m",
      "\u001b[1;31mNameError\u001b[0m: name 'pcd_pts' is not defined"
     ]
    }
   ],
   "source": [
    "R, t = rigid_transform_3D(pcd_pts.T, pcd_2_pts.T)"
   ]
  },
  {
   "cell_type": "code",
   "execution_count": 78,
   "id": "warming-simple",
   "metadata": {},
   "outputs": [
    {
     "data": {
      "text/plain": [
       "array([[ 0.99669267, -0.07837276, -0.02148084],\n",
       "       [ 0.0791915 ,  0.99604194,  0.04036295],\n",
       "       [ 0.01823246, -0.04193056,  0.99895416]])"
      ]
     },
     "execution_count": 78,
     "metadata": {},
     "output_type": "execute_result"
    }
   ],
   "source": [
    "R, t = rigid_transform_3D(c.T, d.T)\n",
    "\n",
    "R"
   ]
  },
  {
   "cell_type": "code",
   "execution_count": 79,
   "id": "junior-birmingham",
   "metadata": {},
   "outputs": [
    {
     "data": {
      "text/plain": [
       "array([[-1.09575927e-06],\n",
       "       [-9.84120972e-07],\n",
       "       [ 1.50530847e-06]])"
      ]
     },
     "execution_count": 79,
     "metadata": {},
     "output_type": "execute_result"
    }
   ],
   "source": [
    "t"
   ]
  },
  {
   "cell_type": "code",
   "execution_count": null,
   "id": "advised-protest",
   "metadata": {},
   "outputs": [],
   "source": [
    "np.linalg.inv(R)"
   ]
  },
  {
   "cell_type": "code",
   "execution_count": null,
   "id": "public-trailer",
   "metadata": {},
   "outputs": [],
   "source": [
    "t"
   ]
  },
  {
   "cell_type": "code",
   "execution_count": null,
   "id": "acting-village",
   "metadata": {},
   "outputs": [],
   "source": [
    "np.hstack([R,t])"
   ]
  },
  {
   "cell_type": "code",
   "execution_count": null,
   "id": "wrapped-punch",
   "metadata": {},
   "outputs": [],
   "source": [
    "T_wc"
   ]
  },
  {
   "cell_type": "code",
   "execution_count": null,
   "id": "pleasant-nepal",
   "metadata": {},
   "outputs": [],
   "source": []
  },
  {
   "cell_type": "code",
   "execution_count": null,
   "id": "interstate-instruction",
   "metadata": {},
   "outputs": [],
   "source": [
    "np.array(keypoint_3d_position)*1000000"
   ]
  },
  {
   "cell_type": "code",
   "execution_count": null,
   "id": "occupied-appliance",
   "metadata": {},
   "outputs": [],
   "source": [
    "a = (np.array(keypoint_3d_position)[0] + np.array(keypoint_3d_position)[1])/2"
   ]
  },
  {
   "cell_type": "code",
   "execution_count": null,
   "id": "thorough-sender",
   "metadata": {},
   "outputs": [],
   "source": [
    "b = (np.array(keypoint_3d_position)[2] + np.array(keypoint_3d_position)[3])/2"
   ]
  },
  {
   "cell_type": "code",
   "execution_count": null,
   "id": "interpreted-halifax",
   "metadata": {},
   "outputs": [],
   "source": [
    "(a+b)/2"
   ]
  },
  {
   "cell_type": "code",
   "execution_count": null,
   "id": "comic-compiler",
   "metadata": {},
   "outputs": [],
   "source": [
    "a"
   ]
  },
  {
   "cell_type": "code",
   "execution_count": null,
   "id": "steady-filling",
   "metadata": {},
   "outputs": [],
   "source": [
    "b"
   ]
  },
  {
   "cell_type": "code",
   "execution_count": null,
   "id": "subtle-accounting",
   "metadata": {},
   "outputs": [],
   "source": [
    "np.array(keypoint_3d_position)*1000000"
   ]
  },
  {
   "cell_type": "code",
   "execution_count": null,
   "id": "split-albuquerque",
   "metadata": {},
   "outputs": [],
   "source": []
  }
 ],
 "metadata": {
  "hide_input": false,
  "kernelspec": {
   "display_name": "Python 3",
   "language": "python",
   "name": "python3"
  },
  "language_info": {
   "codemirror_mode": {
    "name": "ipython",
    "version": 3
   },
   "file_extension": ".py",
   "mimetype": "text/x-python",
   "name": "python",
   "nbconvert_exporter": "python",
   "pygments_lexer": "ipython3",
   "version": "3.7.10"
  },
  "toc": {
   "base_numbering": 1,
   "nav_menu": {},
   "number_sections": true,
   "sideBar": true,
   "skip_h1_title": false,
   "title_cell": "Table of Contents",
   "title_sidebar": "Contents",
   "toc_cell": false,
   "toc_position": {},
   "toc_section_display": true,
   "toc_window_display": false
  },
  "varInspector": {
   "cols": {
    "lenName": 16,
    "lenType": 16,
    "lenVar": 40
   },
   "kernels_config": {
    "python": {
     "delete_cmd_postfix": "",
     "delete_cmd_prefix": "del ",
     "library": "var_list.py",
     "varRefreshCmd": "print(var_dic_list())"
    },
    "r": {
     "delete_cmd_postfix": ") ",
     "delete_cmd_prefix": "rm(",
     "library": "var_list.r",
     "varRefreshCmd": "cat(var_dic_list()) "
    }
   },
   "types_to_exclude": [
    "module",
    "function",
    "builtin_function_or_method",
    "instance",
    "_Feature"
   ],
   "window_display": false
  }
 },
 "nbformat": 4,
 "nbformat_minor": 5
}
