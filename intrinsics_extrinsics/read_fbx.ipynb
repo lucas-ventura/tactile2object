{
 "cells": [
  {
   "cell_type": "code",
   "execution_count": 1,
   "id": "adapted-regression",
   "metadata": {},
   "outputs": [],
   "source": [
    "import os\n",
    "import sys\n",
    "import open3d as o3d\n",
    "\n",
    "sys.path.append(\"C:/Users/lucas/Desktop/UPC/MIT/pyfbx_i42-master/\")"
   ]
  },
  {
   "cell_type": "code",
   "execution_count": 2,
   "id": "corporate-donor",
   "metadata": {},
   "outputs": [],
   "source": [
    "def fbx_to_py(fn):\n",
    "    import pyfbx.parse_bin\n",
    "    fbx_root_elem, fbx_version = pyfbx.parse_bin.parse(fn, use_namedtuple=True)\n",
    "    py_data = fbx_root_elem, fbx_version\n",
    "    return py_data\n",
    "\n",
    "\n",
    "def py_to_fbx(fn, py_data):\n",
    "    import pyfbx.encode_bin\n",
    "    from pyfbx.encode_bin import FBXElem\n",
    "    from pyfbx import data_types\n",
    "\n",
    "    fbx_root_elem_in, fbx_version_in = py_data\n",
    "\n",
    "    # re-build data\n",
    "    def elem_conv_recursive(ele_in, ele_out):\n",
    "        for i, data in enumerate(ele_in.props):\n",
    "            data_type = ele_in.props_type[i]\n",
    "\n",
    "            if data_type == data_types.BOOL:\n",
    "                ele_out.add_bool(data)\n",
    "            elif data_type == data_types.INT16:\n",
    "                ele_out.add_int16(data)\n",
    "            elif data_type == data_types.INT32:\n",
    "                ele_outt.add_int32(data)\n",
    "            elif data_type == data_types.INT64:\n",
    "                ele_out.add_int64(data)\n",
    "            elif data_type == data_types.FLOAT32:\n",
    "                ele_out.add_float32(data)\n",
    "            elif data_type == data_types.FLOAT64:\n",
    "                ele_out.add_float64(data)\n",
    "            elif data_type == data_types.BYTES:\n",
    "                ele_out.add_bytes(data)\n",
    "            elif data_type == data_types.STRING:\n",
    "                ele_out.add_string(data)\n",
    "            elif data_type == data_types.INT32_ARRAY:\n",
    "                ele_out.add_int32_array(data)\n",
    "            elif data_type == data_types.INT64_ARRAY:\n",
    "                ele_out.add_int64_array(data)\n",
    "            elif data_type == data_types.FLOAT32_ARRAY:\n",
    "                ele_out.add_float32_array(data)\n",
    "            elif data_type == data_types.FLOAT64_ARRAY:\n",
    "                ele_out.add_float64_array(data)\n",
    "            elif data_type == data_types.BOOL_ARRAY:\n",
    "                ele_out.add_bool_array(data)\n",
    "            elif data_type == data_types.BYTE_ARRAY:\n",
    "                ele_out.add_byte_array(data)\n",
    "            else:\n",
    "                raise Exception(\"Unknown type %r\" % data_type)\n",
    "\n",
    "        for ele_iter_in in ele_in.elems:\n",
    "            ele_iter_out = FBXElem(ele_iter_in.id)\n",
    "            elem_conv_recursive(ele_iter_in, ele_iter_out)\n",
    "            ele_out.elems.append(ele_iter_out)\n",
    "\n",
    "    fbx_root_elem_out = FBXElem(b'')\n",
    "    elem_conv_recursive(fbx_root_elem_in, fbx_root_elem_out)\n",
    "\n",
    "    pyfbx.encode_bin.write(fn, fbx_root_elem_out, fbx_version_in)"
   ]
  },
  {
   "cell_type": "code",
   "execution_count": 3,
   "id": "welcome-birmingham",
   "metadata": {},
   "outputs": [],
   "source": [
    "fn_in = \"C:/Users/lucas/Downloads/Borrar/fbx.fbx\"\n",
    "fn_in = \"C:/Users/lucas/Desktop/UPC/MIT/tactile2object/intrinsics_extrinsics/data/20210719_2/recording_2021-07-19_17-01-51.fbx\"\n",
    "#fn_in = \"C:/Users/lucas/Desktop/UPC/MIT/tactile2object/intrinsics_extrinsics/data/20210722/recording_2021-07-22_13-25-10.fbx\"\n",
    "\n",
    "py_data = fbx_to_py(fn_in)\n",
    "a, num = py_data\n",
    "objects = a.elems[8].elems"
   ]
  },
  {
   "cell_type": "code",
   "execution_count": 4,
   "id": "lyric-former",
   "metadata": {},
   "outputs": [
    {
     "data": {
      "text/plain": [
       "FBXElem(id=b'CreationTime', props=[b'2021-07-19 17:01:51:482'], props_type=bytearray(b'S'), elems=[])"
      ]
     },
     "execution_count": 4,
     "metadata": {},
     "output_type": "execute_result"
    }
   ],
   "source": [
    "a.elems[2]"
   ]
  },
  {
   "cell_type": "code",
   "execution_count": 5,
   "id": "wanted-candy",
   "metadata": {},
   "outputs": [
    {
     "name": "stdout",
     "output_type": "stream",
     "text": [
      "0 b'FBXHeaderExtension'\n",
      "1 b'FileId'\n",
      "2 b'CreationTime'\n",
      "3 b'Creator'\n",
      "4 b'GlobalSettings'\n",
      "5 b'Documents'\n",
      "6 b'References'\n",
      "7 b'Definitions'\n",
      "8 b'Objects'\n",
      "9 b'Connections'\n",
      "10 b'Takes'\n"
     ]
    }
   ],
   "source": [
    "for i in range(11):\n",
    "    print(i, a.elems[i].id)"
   ]
  },
  {
   "cell_type": "code",
   "execution_count": null,
   "id": "social-fiction",
   "metadata": {},
   "outputs": [],
   "source": []
  },
  {
   "cell_type": "code",
   "execution_count": 6,
   "id": "nearby-broadcasting",
   "metadata": {},
   "outputs": [
    {
     "data": {
      "text/plain": [
       "[81.67082977294922, 14.704727172851562, -15.851095199584961]"
      ]
     },
     "execution_count": 6,
     "metadata": {},
     "output_type": "execute_result"
    }
   ],
   "source": [
    "i = 28\n",
    "name = objects[i].props[1].decode(\"utf-8\").split('\\x00')[0]\n",
    "translation = objects[i].elems[1].elems[2].props[-3:]\n",
    "rotation = objects[i].elems[1].elems[3].props[-3:]\n",
    "\n",
    "rotation "
   ]
  },
  {
   "cell_type": "code",
   "execution_count": 7,
   "id": "tracked-paint",
   "metadata": {},
   "outputs": [],
   "source": [
    "def euler_to_rotMat(yaw, pitch, roll):\n",
    "    Rz_yaw = np.array([\n",
    "        [np.cos(yaw), -np.sin(yaw), 0],\n",
    "        [np.sin(yaw),  np.cos(yaw), 0],\n",
    "        [          0,            0, 1]])\n",
    "    Ry_pitch = np.array([\n",
    "        [ np.cos(pitch), 0, np.sin(pitch)],\n",
    "        [             0, 1,             0],\n",
    "        [-np.sin(pitch), 0, np.cos(pitch)]])\n",
    "    Rx_roll = np.array([\n",
    "        [1,            0,             0],\n",
    "        [0, np.cos(roll), -np.sin(roll)],\n",
    "        [0, np.sin(roll),  np.cos(roll)]])\n",
    "    # R = RzRyRx\n",
    "    rotMat = np.dot(Rz_yaw, np.dot(Ry_pitch, Rx_roll))\n",
    "    return rotMat"
   ]
  },
  {
   "cell_type": "code",
   "execution_count": 8,
   "id": "joined-cycling",
   "metadata": {},
   "outputs": [],
   "source": [
    "import numpy as np\n",
    "import math as m\n",
    "  \n",
    "def Rx(theta):\n",
    "    return np.matrix([[ 1, 0           , 0           ],\n",
    "                   [ 0, m.cos(theta),-m.sin(theta)],\n",
    "                   [ 0, m.sin(theta), m.cos(theta)]])\n",
    "  \n",
    "def Ry(theta):\n",
    "    return np.matrix([[ m.cos(theta), 0, m.sin(theta)],\n",
    "                   [ 0           , 1, 0           ],\n",
    "                   [-m.sin(theta), 0, m.cos(theta)]])\n",
    "  \n",
    "def Rz(theta):\n",
    "    return np.matrix([[ m.cos(theta), -m.sin(theta), 0 ],\n",
    "                   [ m.sin(theta), m.cos(theta) , 0 ],\n",
    "                   [ 0           , 0            , 1 ]])\n",
    "\n",
    "\n",
    "\n",
    "def get_rotation(rot, vec):\n",
    "    psi, theta, phi = rot\n",
    "    #phi, theta, psi = rot\n",
    "\n",
    "    R = Rz(psi) * Ry(theta) * Rx(phi)\n",
    "    #R = euler_to_rotMat()\n",
    "    rot_vec = R @ vec\n",
    "    \n",
    "    return np.squeeze(np.asarray(rot_vec))\n",
    "\n",
    "def get_finger(index):\n",
    "    \n",
    "    finger_01 = np.array(objects[index].elems[1].elems[2].props[-3:])\n",
    "    finger_02 = np.array(objects[index + 1].elems[1].elems[2].props[-3:]) + finger_01\n",
    "    finger_03 = np.array(objects[index + 2].elems[1].elems[2].props[-3:]) + finger_02\n",
    "    finger_04 = np.array(objects[index + 3].elems[1].elems[2].props[-3:]) + finger_03\n",
    "    \n",
    "    rotation_01 = np.radians(objects[index].elems[1].elems[3].props[-3:])\n",
    "    rotation_02 = np.radians(objects[index + 1].elems[1].elems[3].props[-3:]) \n",
    "    rotation_03 = np.radians(objects[index + 2].elems[1].elems[3].props[-3:]) \n",
    "    rotation_04 = np.radians(objects[index + 3].elems[1].elems[3].props[-3:]) \n",
    "\n",
    "    #finger_01 = get_rotation(rotation_01, finger_01)\n",
    "    #finger_02 = get_rotation(rotation_02, finger_02) + finger_01\n",
    "    #finger_03 = get_rotation(rotation_03, finger_03) + finger_02\n",
    "    #finger_04 = get_rotation(rotation_04, finger_04) + finger_03\n",
    "\n",
    "    finger = [finger_01, finger_02, finger_03, finger_04]\n",
    "    \n",
    "    return finger"
   ]
  },
  {
   "cell_type": "code",
   "execution_count": 9,
   "id": "brave-basic",
   "metadata": {},
   "outputs": [],
   "source": [
    "\n",
    "all_fingers = get_finger(28) + get_finger(32) + get_finger(36) + get_finger(40) + get_finger(44)\n",
    "\n",
    "hand_xyz = np.vstack((all_fingers))\n",
    "\n",
    "pcd = o3d.geometry.PointCloud()\n",
    "pcd.points = o3d.utility.Vector3dVector(hand_xyz)\n",
    "\n",
    "mesh = o3d.geometry.TriangleMesh.create_coordinate_frame()\n",
    "mesh.scale(0.05, center=(0,0,0))\n",
    "\n",
    "o3d.visualization.draw_geometries([pcd])"
   ]
  },
  {
   "cell_type": "code",
   "execution_count": 247,
   "id": "specific-abraham",
   "metadata": {},
   "outputs": [],
   "source": []
  },
  {
   "cell_type": "code",
   "execution_count": null,
   "id": "coastal-ideal",
   "metadata": {},
   "outputs": [],
   "source": []
  },
  {
   "cell_type": "code",
   "execution_count": 10,
   "id": "future-plumbing",
   "metadata": {
    "run_control": {
     "marked": false
    }
   },
   "outputs": [],
   "source": [
    "thumb_01_l = np.array(objects[28].elems[1].elems[2].props[-3:])\n",
    "thumb_02_l = np.array(objects[29].elems[1].elems[2].props[-3:]) \n",
    "rotation = objects[29].elems[1].elems[3].props[-3:]\n",
    "\n",
    "thumb_02_l = get_rotation(rotation, thumb_02_l - thumb_01_l) + thumb_01_l\n",
    "thumb_03_l = np.array(objects[30].elems[1].elems[2].props[-3:]) + thumb_02_l\n",
    "thumb_tip_l = np.array(objects[31].elems[1].elems[2].props[-3:]) + thumb_03_l\n",
    "\n",
    "index_01_l = np.array(objects[32].elems[1].elems[2].props[-3:])\n",
    "index_02_l = np.array(objects[33].elems[1].elems[2].props[-3:]) + index_01_l\n",
    "index_03_l = np.array(objects[34].elems[1].elems[2].props[-3:]) + index_02_l\n",
    "index_tip_l = np.array(objects[35].elems[1].elems[2].props[-3:]) + index_03_l\n",
    "\n",
    "middle_01_l = np.array(objects[36].elems[1].elems[2].props[-3:])\n",
    "middle_02_l = np.array(objects[37].elems[1].elems[2].props[-3:]) + middle_01_l\n",
    "middle_03_l = np.array(objects[38].elems[1].elems[2].props[-3:]) + middle_02_l\n",
    "middle_tip_l = np.array(objects[39].elems[1].elems[2].props[-3:]) + middle_03_l\n",
    "\n",
    "ring_01_l = np.array(objects[40].elems[1].elems[2].props[-3:])\n",
    "ring_02_l = np.array(objects[41].elems[1].elems[2].props[-3:]) + ring_01_l\n",
    "ring_03_l = np.array(objects[42].elems[1].elems[2].props[-3:]) + ring_02_l\n",
    "ring_tip_l = np.array(objects[43].elems[1].elems[2].props[-3:]) + ring_03_l\n",
    "\n",
    "pinky_01_l = np.array(objects[44].elems[1].elems[2].props[-3:])\n",
    "pinky_02_l = np.array(objects[45].elems[1].elems[2].props[-3:]) + pinky_01_l\n",
    "pinky_03_l = np.array(objects[46].elems[1].elems[2].props[-3:]) + pinky_02_l\n",
    "pinky_tip_l = np.array(objects[47].elems[1].elems[2].props[-3:]) + pinky_03_l\n",
    "\n",
    "all_fingers = [thumb_01_l, thumb_02_l, thumb_03_l, thumb_tip_l, \n",
    "               index_01_l, index_02_l, index_03_l, index_tip_l, \n",
    "               middle_01_l, middle_02_l, middle_03_l, middle_tip_l, \n",
    "               ring_01_l, ring_02_l, ring_03_l, ring_tip_l, \n",
    "               pinky_01_l, pinky_02_l, pinky_03_l, pinky_tip_l]\n",
    "\n",
    "\n",
    "hand_xyz = np.vstack((all_fingers))"
   ]
  }
 ],
 "metadata": {
  "hide_input": false,
  "kernelspec": {
   "display_name": "Python 3",
   "language": "python",
   "name": "python3"
  },
  "language_info": {
   "codemirror_mode": {
    "name": "ipython",
    "version": 3
   },
   "file_extension": ".py",
   "mimetype": "text/x-python",
   "name": "python",
   "nbconvert_exporter": "python",
   "pygments_lexer": "ipython3",
   "version": "3.7.10"
  },
  "toc": {
   "base_numbering": 1,
   "nav_menu": {},
   "number_sections": true,
   "sideBar": true,
   "skip_h1_title": false,
   "title_cell": "Table of Contents",
   "title_sidebar": "Contents",
   "toc_cell": false,
   "toc_position": {},
   "toc_section_display": true,
   "toc_window_display": false
  },
  "varInspector": {
   "cols": {
    "lenName": 16,
    "lenType": 16,
    "lenVar": 40
   },
   "kernels_config": {
    "python": {
     "delete_cmd_postfix": "",
     "delete_cmd_prefix": "del ",
     "library": "var_list.py",
     "varRefreshCmd": "print(var_dic_list())"
    },
    "r": {
     "delete_cmd_postfix": ") ",
     "delete_cmd_prefix": "rm(",
     "library": "var_list.r",
     "varRefreshCmd": "cat(var_dic_list()) "
    }
   },
   "types_to_exclude": [
    "module",
    "function",
    "builtin_function_or_method",
    "instance",
    "_Feature"
   ],
   "window_display": false
  }
 },
 "nbformat": 4,
 "nbformat_minor": 5
}
