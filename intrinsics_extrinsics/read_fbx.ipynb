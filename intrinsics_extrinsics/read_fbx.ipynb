{
 "cells": [
  {
   "cell_type": "code",
   "execution_count": 1,
   "id": "adapted-regression",
   "metadata": {},
   "outputs": [],
   "source": [
    "import os\n",
    "import sys\n",
    "import open3d as o3d\n",
    "\n",
    "sys.path.append(\"C:/Users/lucas/Desktop/UPC/MIT/pyfbx_i42-master/\")"
   ]
  },
  {
   "cell_type": "code",
   "execution_count": 2,
   "id": "corporate-donor",
   "metadata": {},
   "outputs": [],
   "source": [
    "def fbx_to_py(fn):\n",
    "    import pyfbx.parse_bin\n",
    "    fbx_root_elem, fbx_version = pyfbx.parse_bin.parse(fn, use_namedtuple=True)\n",
    "    py_data = fbx_root_elem, fbx_version\n",
    "    return py_data\n",
    "\n",
    "\n",
    "def py_to_fbx(fn, py_data):\n",
    "    import pyfbx.encode_bin\n",
    "    from pyfbx.encode_bin import FBXElem\n",
    "    from pyfbx import data_types\n",
    "\n",
    "    fbx_root_elem_in, fbx_version_in = py_data\n",
    "\n",
    "    # re-build data\n",
    "    def elem_conv_recursive(ele_in, ele_out):\n",
    "        for i, data in enumerate(ele_in.props):\n",
    "            data_type = ele_in.props_type[i]\n",
    "\n",
    "            if data_type == data_types.BOOL:\n",
    "                ele_out.add_bool(data)\n",
    "            elif data_type == data_types.INT16:\n",
    "                ele_out.add_int16(data)\n",
    "            elif data_type == data_types.INT32:\n",
    "                ele_outt.add_int32(data)\n",
    "            elif data_type == data_types.INT64:\n",
    "                ele_out.add_int64(data)\n",
    "            elif data_type == data_types.FLOAT32:\n",
    "                ele_out.add_float32(data)\n",
    "            elif data_type == data_types.FLOAT64:\n",
    "                ele_out.add_float64(data)\n",
    "            elif data_type == data_types.BYTES:\n",
    "                ele_out.add_bytes(data)\n",
    "            elif data_type == data_types.STRING:\n",
    "                ele_out.add_string(data)\n",
    "            elif data_type == data_types.INT32_ARRAY:\n",
    "                ele_out.add_int32_array(data)\n",
    "            elif data_type == data_types.INT64_ARRAY:\n",
    "                ele_out.add_int64_array(data)\n",
    "            elif data_type == data_types.FLOAT32_ARRAY:\n",
    "                ele_out.add_float32_array(data)\n",
    "            elif data_type == data_types.FLOAT64_ARRAY:\n",
    "                ele_out.add_float64_array(data)\n",
    "            elif data_type == data_types.BOOL_ARRAY:\n",
    "                ele_out.add_bool_array(data)\n",
    "            elif data_type == data_types.BYTE_ARRAY:\n",
    "                ele_out.add_byte_array(data)\n",
    "            else:\n",
    "                raise Exception(\"Unknown type %r\" % data_type)\n",
    "\n",
    "        for ele_iter_in in ele_in.elems:\n",
    "            ele_iter_out = FBXElem(ele_iter_in.id)\n",
    "            elem_conv_recursive(ele_iter_in, ele_iter_out)\n",
    "            ele_out.elems.append(ele_iter_out)\n",
    "\n",
    "    fbx_root_elem_out = FBXElem(b'')\n",
    "    elem_conv_recursive(fbx_root_elem_in, fbx_root_elem_out)\n",
    "\n",
    "    pyfbx.encode_bin.write(fn, fbx_root_elem_out, fbx_version_in)"
   ]
  },
  {
   "cell_type": "code",
   "execution_count": 3,
   "id": "welcome-birmingham",
   "metadata": {},
   "outputs": [],
   "source": [
    "fn_in = \"C:/Users/lucas/Downloads/Borrar/fbx.fbx\"\n",
    "fn_in = \"C:/Users/lucas/Desktop/UPC/MIT/tactile2object/intrinsics_extrinsics/data/20210719_2/recording_2021-07-19_17-01-51.fbx\"\n",
    "#fn_in = \"C:/Users/lucas/Desktop/UPC/MIT/tactile2object/intrinsics_extrinsics/data/20210722/recording_2021-07-22_13-25-10.fbx\"\n",
    "\n",
    "py_data = fbx_to_py(fn_in)\n",
    "a, num = py_data\n",
    "objects = a.elems[8].elems"
   ]
  },
  {
   "cell_type": "code",
   "execution_count": 4,
   "id": "lyric-former",
   "metadata": {},
   "outputs": [
    {
     "data": {
      "text/plain": [
       "FBXElem(id=b'CreationTime', props=[b'2021-07-19 17:01:51:482'], props_type=bytearray(b'S'), elems=[])"
      ]
     },
     "execution_count": 4,
     "metadata": {},
     "output_type": "execute_result"
    }
   ],
   "source": [
    "a.elems[2]"
   ]
  },
  {
   "cell_type": "code",
   "execution_count": 5,
   "id": "wanted-candy",
   "metadata": {},
   "outputs": [
    {
     "name": "stdout",
     "output_type": "stream",
     "text": [
      "0 b'FBXHeaderExtension'\n",
      "1 b'FileId'\n",
      "2 b'CreationTime'\n",
      "3 b'Creator'\n",
      "4 b'GlobalSettings'\n",
      "5 b'Documents'\n",
      "6 b'References'\n",
      "7 b'Definitions'\n",
      "8 b'Objects'\n",
      "9 b'Connections'\n",
      "10 b'Takes'\n"
     ]
    }
   ],
   "source": [
    "for i in range(11):\n",
    "    print(i, a.elems[i].id)"
   ]
  },
  {
   "cell_type": "code",
   "execution_count": null,
   "id": "social-fiction",
   "metadata": {},
   "outputs": [],
   "source": []
  },
  {
   "cell_type": "code",
   "execution_count": 6,
   "id": "nearby-broadcasting",
   "metadata": {},
   "outputs": [
    {
     "data": {
      "text/plain": [
       "[81.67082977294922, 14.704727172851562, -15.851095199584961]"
      ]
     },
     "execution_count": 6,
     "metadata": {},
     "output_type": "execute_result"
    }
   ],
   "source": [
    "i = 28\n",
    "name = objects[i].props[1].decode(\"utf-8\").split('\\x00')[0]\n",
    "translation = objects[i].elems[1].elems[2].props[-3:]\n",
    "rotation = objects[i].elems[1].elems[3].props[-3:]\n",
    "\n",
    "rotation "
   ]
  },
  {
   "cell_type": "code",
   "execution_count": 7,
   "id": "tracked-paint",
   "metadata": {},
   "outputs": [],
   "source": []
  },
  {
   "cell_type": "code",
   "execution_count": 51,
   "id": "joined-cycling",
   "metadata": {},
   "outputs": [],
   "source": [
    "import numpy as np\n",
    "import math as m\n",
    "  \n",
    "def euler_to_rotMat(yaw, pitch, roll):\n",
    "    Rz_yaw = np.array([\n",
    "        [np.cos(yaw), -np.sin(yaw), 0],\n",
    "        [np.sin(yaw),  np.cos(yaw), 0],\n",
    "        [          0,            0, 1]])\n",
    "    Ry_pitch = np.array([\n",
    "        [ np.cos(pitch), 0, np.sin(pitch)],\n",
    "        [             0, 1,             0],\n",
    "        [-np.sin(pitch), 0, np.cos(pitch)]])\n",
    "    Rx_roll = np.array([\n",
    "        [1,            0,             0],\n",
    "        [0, np.cos(roll), -np.sin(roll)],\n",
    "        [0, np.sin(roll),  np.cos(roll)]])\n",
    "    # R = RzRyRx\n",
    "    rotMat = np.dot(Rz_yaw, np.dot(Ry_pitch, Rx_roll))\n",
    "    return rotMat\n",
    "\n",
    "\n",
    "def get_rotated_v(rot, vec):\n",
    "    yaw, pitch, roll = rot\n",
    "    R = euler_to_rotMat(psi, theta, phi)\n",
    "    \n",
    "    rot_vec = R @ vec\n",
    "    \n",
    "    return np.squeeze(np.asarray(rot_vec))\n",
    "\n",
    "def get_finger(index):\n",
    "    \n",
    "    finger_01 = np.array(objects[index].elems[1].elems[2].props[-3:])\n",
    "    finger_02 = np.array(objects[index + 1].elems[1].elems[2].props[-3:])\n",
    "    finger_03 = np.array(objects[index + 2].elems[1].elems[2].props[-3:])\n",
    "    finger_04 = np.array(objects[index + 3].elems[1].elems[2].props[-3:])\n",
    "    \n",
    "    rotation_01 = np.radians(objects[index].elems[1].elems[3].props[-3:])\n",
    "    rotation_02 = np.radians(objects[index + 1].elems[1].elems[3].props[-3:]) \n",
    "    rotation_03 = np.radians(objects[index + 2].elems[1].elems[3].props[-3:]) \n",
    "    rotation_04 = np.radians(objects[index + 3].elems[1].elems[3].props[-3:]) \n",
    "\n",
    "    finger_01 = get_rotated_v(rotation_01, finger_01)\n",
    "    finger_02 = get_rotated_v(rotation_02, finger_02) + finger_01\n",
    "    finger_03 = get_rotated_v(rotation_03, finger_03) + finger_02\n",
    "    finger_04 = get_rotated_v(rotation_04, finger_04) + finger_03\n",
    "\n",
    "    finger = [finger_01, finger_02, finger_03, finger_04]\n",
    "    \n",
    "    return finger"
   ]
  },
  {
   "cell_type": "code",
   "execution_count": 52,
   "id": "brave-basic",
   "metadata": {},
   "outputs": [
    {
     "name": "stdout",
     "output_type": "stream",
     "text": [
      "[Open3D WARNING] GLFW Error: WGL: Failed to make context current: The requested transformation operation is not supported. \n"
     ]
    }
   ],
   "source": [
    "\n",
    "all_fingers = get_finger(28) + get_finger(32) + get_finger(36) + get_finger(40) + get_finger(44)\n",
    "\n",
    "hand_xyz = np.vstack((all_fingers))\n",
    "\n",
    "pcd = o3d.geometry.PointCloud()\n",
    "pcd.points = o3d.utility.Vector3dVector(hand_xyz)\n",
    "\n",
    "mesh = o3d.geometry.TriangleMesh.create_coordinate_frame()\n",
    "mesh.scale(0.05, center=(0,0,0))\n",
    "\n",
    "o3d.visualization.draw_geometries([pcd])"
   ]
  },
  {
   "cell_type": "code",
   "execution_count": null,
   "id": "exterior-treasurer",
   "metadata": {},
   "outputs": [],
   "source": []
  },
  {
   "cell_type": "code",
   "execution_count": 53,
   "id": "partial-wagon",
   "metadata": {},
   "outputs": [],
   "source": [
    "index = 28\n",
    "\n",
    "finger_01 = np.array(objects[index].elems[1].elems[2].props[-3:])\n",
    "finger_02 = np.array(objects[index + 1].elems[1].elems[2].props[-3:])\n",
    "\n",
    "rotation_01 = np.radians(objects[index].elems[1].elems[3].props[-3:])\n",
    "rotation_02 = np.radians(objects[index + 1].elems[1].elems[3].props[-3:]) \n"
   ]
  },
  {
   "cell_type": "code",
   "execution_count": 54,
   "id": "described-canon",
   "metadata": {},
   "outputs": [
    {
     "data": {
      "text/plain": [
       "array([ 0.03621711, -0.00050032, -0.03519914])"
      ]
     },
     "execution_count": 54,
     "metadata": {},
     "output_type": "execute_result"
    }
   ],
   "source": [
    "finger_01"
   ]
  },
  {
   "cell_type": "code",
   "execution_count": 50,
   "id": "established-mobile",
   "metadata": {},
   "outputs": [],
   "source": [
    "import numpy as np\n",
    "import math\n",
    "\n",
    "def rotation_matrix(axis, theta):\n",
    "    \"\"\"\n",
    "    Return the rotation matrix associated with counterclockwise rotation about\n",
    "    the given axis by theta radians.\n",
    "    \"\"\"\n",
    "    axis = np.asarray(axis)\n",
    "    axis = axis / math.sqrt(np.dot(axis, axis))\n",
    "    a = math.cos(theta / 2.0)\n",
    "    b, c, d = -axis * math.sin(theta / 2.0)\n",
    "    aa, bb, cc, dd = a * a, b * b, c * c, d * d\n",
    "    bc, ad, ac, ab, bd, cd = b * c, a * d, a * c, a * b, b * d, c * d\n",
    "    return np.array([[aa + bb - cc - dd, 2 * (bc + ad), 2 * (bd - ac)],\n",
    "                     [2 * (bc - ad), aa + cc - bb - dd, 2 * (cd + ab)],\n",
    "                     [2 * (bd + ac), 2 * (cd - ab), aa + dd - bb - cc]])\n",
    "\n",
    "def get_rot(rot, v):\n",
    "    psi, theta, phi = rot\n",
    "    \n",
    "    axis = [0, 1, 0]\n",
    "    v = np.dot(rotation_matrix(axis, theta), v)\n",
    "    \n",
    "    axis = [1, 0, 0]\n",
    "    v = np.dot(rotation_matrix(axis, psi), v)\n",
    "    \n",
    "\n",
    "    axis = [0, 0, 1]\n",
    "    v = np.dot(rotation_matrix(axis, phi), v)\n",
    "    \n",
    "    return v"
   ]
  },
  {
   "cell_type": "code",
   "execution_count": 44,
   "id": "fifteen-release",
   "metadata": {},
   "outputs": [
    {
     "data": {
      "text/plain": [
       "array([[ 0.94079912,  0.33883683,  0.00930652],\n",
       "       [-0.03466902,  0.1234996 , -0.99173883],\n",
       "       [-0.33718699,  0.93270437,  0.12793546]])"
      ]
     },
     "execution_count": 44,
     "metadata": {},
     "output_type": "execute_result"
    }
   ],
   "source": [
    "from scipy.spatial.transform import Rotation as Rotation\n",
    "\n",
    "r = Rotation.from_rotvec(rotation_01)\n",
    "R = r.as_matrix()\n"
   ]
  },
  {
   "cell_type": "code",
   "execution_count": null,
   "id": "dependent-width",
   "metadata": {},
   "outputs": [],
   "source": []
  }
 ],
 "metadata": {
  "hide_input": false,
  "kernelspec": {
   "display_name": "Python 3",
   "language": "python",
   "name": "python3"
  },
  "language_info": {
   "codemirror_mode": {
    "name": "ipython",
    "version": 3
   },
   "file_extension": ".py",
   "mimetype": "text/x-python",
   "name": "python",
   "nbconvert_exporter": "python",
   "pygments_lexer": "ipython3",
   "version": "3.7.10"
  },
  "toc": {
   "base_numbering": 1,
   "nav_menu": {},
   "number_sections": true,
   "sideBar": true,
   "skip_h1_title": false,
   "title_cell": "Table of Contents",
   "title_sidebar": "Contents",
   "toc_cell": false,
   "toc_position": {},
   "toc_section_display": true,
   "toc_window_display": false
  },
  "varInspector": {
   "cols": {
    "lenName": 16,
    "lenType": 16,
    "lenVar": 40
   },
   "kernels_config": {
    "python": {
     "delete_cmd_postfix": "",
     "delete_cmd_prefix": "del ",
     "library": "var_list.py",
     "varRefreshCmd": "print(var_dic_list())"
    },
    "r": {
     "delete_cmd_postfix": ") ",
     "delete_cmd_prefix": "rm(",
     "library": "var_list.r",
     "varRefreshCmd": "cat(var_dic_list()) "
    }
   },
   "types_to_exclude": [
    "module",
    "function",
    "builtin_function_or_method",
    "instance",
    "_Feature"
   ],
   "window_display": false
  }
 },
 "nbformat": 4,
 "nbformat_minor": 5
}
