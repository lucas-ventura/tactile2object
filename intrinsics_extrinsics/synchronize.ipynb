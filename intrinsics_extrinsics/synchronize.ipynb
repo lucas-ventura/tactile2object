{
 "cells": [
  {
   "cell_type": "code",
   "execution_count": 1,
   "id": "perfect-frequency",
   "metadata": {},
   "outputs": [],
   "source": [
    "%load_ext autoreload\n",
    "%autoreload 2"
   ]
  },
  {
   "cell_type": "code",
   "execution_count": 2,
   "id": "enormous-pittsburgh",
   "metadata": {},
   "outputs": [],
   "source": [
    "import numpy as np\n",
    "import open3d as o3d\n",
    "from datetime import datetime\n",
    "\n",
    "from utils import *\n",
    "from bpy_utils import ManusData\n",
    "\n",
    "import sys\n",
    "manopth_dir = 'C:/Users/lucas/Desktop/UPC/MIT/manopth/'\n",
    "sys.path.insert(1, manopth_dir)\n",
    "\n",
    "from manus.utils import Pressure"
   ]
  },
  {
   "cell_type": "code",
   "execution_count": 3,
   "id": "peaceful-bennett",
   "metadata": {},
   "outputs": [
    {
     "name": "stdout",
     "output_type": "stream",
     "text": [
      "pressure_file: 07272021_3.hdf5\n",
      "recording: 20210727_173327\n",
      "manus_file: recording_2021-07-27_16-34-36.fbx\n"
     ]
    }
   ],
   "source": [
    "recording_dir = \"C:/Users/lucas/Desktop/UPC/MIT/tactile2object/intrinsics_extrinsics/data/20210722/round_2_fixed_wooden_cube/\"\n",
    "recording_dir = \"C:/Users/lucas/Desktop/UPC/MIT/tactile2object/intrinsics_extrinsics/data/20210722/round_3_fixed_bottle_pose_1/\"\n",
    "recording_dir = \"C:/Users/lucas/Desktop/UPC/MIT/tactile2object/intrinsics_extrinsics/data/20210727_woIMU/r3/\"\n",
    "\n",
    "for name in os.listdir(recording_dir):\n",
    "    name_pth = os.path.join(recording_dir, name)\n",
    "    \n",
    "    if os.path.isdir(name_pth):\n",
    "        print(\"recording:\", name)\n",
    "        cameras_dir = name_pth\n",
    "        \n",
    "    elif \".hdf5\" in name:\n",
    "        print(\"pressure_file:\", name)\n",
    "        perssure_pth = name_pth\n",
    "        \n",
    "    elif \".fbx\" in name:\n",
    "        print(\"manus_file:\", name)\n",
    "        manus_pth = name_pth\n",
    "        \n",
    "#cameras_dir = os.path.join(recording_dir, \"20210722_152500\")\n",
    "#perssure_pth = os.path.join(recording_dir, \".hdf5\")\n",
    "#manus_pth = os.path.join(recording_dir, \".fbx\")"
   ]
  },
  {
   "cell_type": "markdown",
   "id": "diverse-glasgow",
   "metadata": {},
   "source": [
    "# Load data"
   ]
  },
  {
   "cell_type": "markdown",
   "id": "documented-mexican",
   "metadata": {},
   "source": [
    "### Camera data"
   ]
  },
  {
   "cell_type": "code",
   "execution_count": 4,
   "id": "patent-cathedral",
   "metadata": {},
   "outputs": [],
   "source": [
    "cameras = [\"020122061233\", \"821312060044\", \"020122061651\", \"821312062243\"]\n",
    "\n",
    "intrinsics = Intrinsics(cameras_dir, use_txt=False)\n",
    "extrinsics = Extrinsics(cameras_dir)\n",
    "rgbds = RGBD(cameras_dir)\n",
    "stitched_pcd = Stitching_pcds(intrinsics, extrinsics, rgbds, cameras)\n",
    "apriltags = AprilTags(cameras_dir, intrinsics, extrinsics, cameras=cameras)\n",
    "stitched_pcd = Stitching_pcds(intrinsics, extrinsics, rgbds, cameras)"
   ]
  },
  {
   "cell_type": "markdown",
   "id": "wicked-husband",
   "metadata": {},
   "source": [
    "### Pressure data"
   ]
  },
  {
   "cell_type": "code",
   "execution_count": 5,
   "id": "opponent-victorian",
   "metadata": {},
   "outputs": [],
   "source": [
    "pressure = Pressure(perssure_pth, lim_low=3, lim_high=50)"
   ]
  },
  {
   "cell_type": "markdown",
   "id": "appointed-punch",
   "metadata": {},
   "source": [
    "### Manus data\n",
    "\n",
    "Takes around two minutes to load the manus data and compute the MANO joints and verts"
   ]
  },
  {
   "cell_type": "code",
   "execution_count": null,
   "id": "undefined-surgery",
   "metadata": {},
   "outputs": [],
   "source": [
    "%%capture\n",
    "\n",
    "manus = ManusData(manus_pth, manopth_dir)"
   ]
  },
  {
   "cell_type": "markdown",
   "id": "nuclear-notification",
   "metadata": {},
   "source": [
    "# Synchronize"
   ]
  },
  {
   "cell_type": "markdown",
   "id": "steady-pontiac",
   "metadata": {},
   "source": [
    "#### Get timestamps"
   ]
  },
  {
   "cell_type": "code",
   "execution_count": null,
   "id": "fatty-strand",
   "metadata": {},
   "outputs": [],
   "source": [
    "# Camera timestamps\n",
    "ts_camera = get_camera_timestamps(cameras_dir)\n",
    "\n",
    "# Pressure timestamps\n",
    "ts_pressure = pressure.ts_touch\n",
    "\n",
    "# MANUS timestamp\n",
    "#pyfbx_i42_pth = \"C:/Users/lucas/Desktop/UPC/MIT/pyfbx_i42-master/\"\n",
    "#ts_manus = get_fbx_creation_time(manus_pth, pyfbx_i42_pth)\n",
    "ts_manus = manus.get_ts()"
   ]
  },
  {
   "cell_type": "code",
   "execution_count": null,
   "id": "romance-conditioning",
   "metadata": {},
   "outputs": [],
   "source": [
    "datetime.fromtimestamp(ts_camera[-1]) - datetime.fromtimestamp(ts_camera[0])"
   ]
  },
  {
   "cell_type": "code",
   "execution_count": null,
   "id": "treated-pharmacy",
   "metadata": {},
   "outputs": [],
   "source": [
    "datetime.fromtimestamp(ts_pressure[-1]) - datetime.fromtimestamp(ts_pressure[0])"
   ]
  },
  {
   "cell_type": "markdown",
   "id": "permanent-amateur",
   "metadata": {},
   "source": [
    "#### Find pressure camera offset\n"
   ]
  },
  {
   "cell_type": "code",
   "execution_count": null,
   "id": "spoken-sociology",
   "metadata": {},
   "outputs": [],
   "source": [
    "pressure.plot_peaks(height=80)"
   ]
  },
  {
   "cell_type": "code",
   "execution_count": null,
   "id": "turned-islam",
   "metadata": {},
   "outputs": [],
   "source": [
    "# Index of first pressure peak \n",
    "idx_first_p = pressure.get_peaks(height=80)[0]\n",
    "# Timestamp of first pressure peak\n",
    "ts_first_p = pressure.ts_touch[idx_first_p]\n",
    "\n",
    "# Frame of first pressure in camera\n",
    "frame_first_c = 108\n",
    "# Timestamp of first pressure in camera\n",
    "ts_first_c = ts_camera[frame_first_c]\n",
    "\n",
    "# Offset between pressure and camera\n",
    "pc_offset = ts_first_p - ts_first_c"
   ]
  },
  {
   "cell_type": "markdown",
   "id": "strategic-trunk",
   "metadata": {},
   "source": [
    "#### Find manus camera offset\n"
   ]
  },
  {
   "cell_type": "code",
   "execution_count": null,
   "id": "cosmetic-dancing",
   "metadata": {},
   "outputs": [],
   "source": [
    "manus.plot_grasps(height=5)"
   ]
  },
  {
   "cell_type": "code",
   "execution_count": null,
   "id": "weekly-expense",
   "metadata": {},
   "outputs": [],
   "source": [
    "# Index of first manus grasp peak \n",
    "idx_first_m = manus.get_grasps(height=5)[0]\n",
    "# Timestamp of first manus grasp peak\n",
    "ts_first_m = ts_manus[idx_first_m]\n",
    "\n",
    "# Frame of first grasp in camera\n",
    "frame_first_c = 108\n",
    "# Timestamp of first pressure in camera\n",
    "ts_first_c = ts_camera[frame_first_c]\n",
    "\n",
    "# Offset between pressure and camera\n",
    "mc_offset = ts_first_m - ts_first_c"
   ]
  },
  {
   "cell_type": "code",
   "execution_count": null,
   "id": "short-harassment",
   "metadata": {},
   "outputs": [],
   "source": [
    "synchronize = Synchronizer(ts_p=ts_pressure, ts_c=ts_camera, ts_m=ts_manus, pc_offset=pc_offset, mc_offset=mc_offset)"
   ]
  },
  {
   "cell_type": "code",
   "execution_count": null,
   "id": "multiple-coaching",
   "metadata": {
    "scrolled": true
   },
   "outputs": [],
   "source": [
    "datetime.fromtimestamp(ts_camera[-1]) - datetime.fromtimestamp(ts_camera[0]) "
   ]
  },
  {
   "cell_type": "markdown",
   "id": "virgin-animation",
   "metadata": {},
   "source": [
    "# Save tactile img"
   ]
  },
  {
   "cell_type": "code",
   "execution_count": null,
   "id": "dated-payday",
   "metadata": {},
   "outputs": [],
   "source": [
    "tactile_dir = os.path.join(apriltags.cameras_dir, \"imgs\", \"pressure_img\")\n",
    "\n",
    "if not os.path.exists(tactile_dir):\n",
    "    os.makedirs(tactile_dir)\n",
    "\n",
    "for frame_c in range(len(ts_camera)):\n",
    "    frame_p = synchronize.camera_to_pressure(frame_c)\n",
    "    \n",
    "    fig = pressure.get_figure(frame_p, show=False)\n",
    "    img_pth = os.path.join(tactile_dir, f\"img_{frame_c}\")\n",
    "    fig.savefig(img_pth)\n",
    "    \n",
    "    break"
   ]
  },
  {
   "cell_type": "markdown",
   "id": "fluid-picking",
   "metadata": {},
   "source": [
    "# Merge camera + pressure + manus"
   ]
  },
  {
   "cell_type": "markdown",
   "id": "developed-pulse",
   "metadata": {},
   "source": [
    "#### Estimate object position"
   ]
  },
  {
   "cell_type": "code",
   "execution_count": null,
   "id": "electronic-crash",
   "metadata": {},
   "outputs": [],
   "source": [
    "%%capture\n",
    "\n",
    "pcd = stitched_pcd[\"000000\"]\n",
    "\n",
    "obj_name = \"005_tomato_soup_can\"\n",
    "obj_name = \"003_cracker_box\"\n",
    "obj_name = \"006_mustard_bottle\"\n",
    "obj_name = \"036_wood_block\"\n",
    "\n",
    "obj_pth = f\"C:/Users/lucas/Desktop/UPC/MIT/tactile2object/estimate_object_pose/ycb_converted/{obj_name}.ply\"\n",
    "\n",
    "# Useful when running the cell multiple times\n",
    "try:\n",
    "    obj_mesh_t # obj_mesh_t exist in the current namespace\n",
    "except NameError:\n",
    "    transformation, obj_mesh_t = find_object_transformation(pcd, obj_pth)"
   ]
  },
  {
   "cell_type": "code",
   "execution_count": null,
   "id": "experimental-spank",
   "metadata": {},
   "outputs": [],
   "source": [
    "#o3d.visualization.draw_geometries([pcd, obj_mesh_t])"
   ]
  },
  {
   "cell_type": "code",
   "execution_count": null,
   "id": "twenty-monday",
   "metadata": {},
   "outputs": [],
   "source": [
    "frame_c = 652\n",
    "frame_m = synchronize.camera_to_manus(frame_c)\n",
    "frame_c = str(frame_c).zfill(6)\n",
    "\n",
    "# pcd = stitched_pcd[frame_c]\n",
    "corners_w = apriltags.corners_w(idx=frame_c)\n",
    "\n",
    "rectangle = get_rectangle_from_corners(corners_w)\n",
    "mesh_hand = manus.from_corners(frame_m, corners_w)\n",
    "\n",
    "o3d.visualization.draw_geometries([mesh_hand, obj_mesh_t, rectangle])"
   ]
  }
 ],
 "metadata": {
  "hide_input": false,
  "kernelspec": {
   "display_name": "Python 3",
   "language": "python",
   "name": "python3"
  },
  "language_info": {
   "codemirror_mode": {
    "name": "ipython",
    "version": 3
   },
   "file_extension": ".py",
   "mimetype": "text/x-python",
   "name": "python",
   "nbconvert_exporter": "python",
   "pygments_lexer": "ipython3",
   "version": "3.7.10"
  },
  "toc": {
   "base_numbering": 1,
   "nav_menu": {},
   "number_sections": true,
   "sideBar": true,
   "skip_h1_title": false,
   "title_cell": "Table of Contents",
   "title_sidebar": "Contents",
   "toc_cell": false,
   "toc_position": {},
   "toc_section_display": true,
   "toc_window_display": false
  },
  "varInspector": {
   "cols": {
    "lenName": 16,
    "lenType": 16,
    "lenVar": 40
   },
   "kernels_config": {
    "python": {
     "delete_cmd_postfix": "",
     "delete_cmd_prefix": "del ",
     "library": "var_list.py",
     "varRefreshCmd": "print(var_dic_list())"
    },
    "r": {
     "delete_cmd_postfix": ") ",
     "delete_cmd_prefix": "rm(",
     "library": "var_list.r",
     "varRefreshCmd": "cat(var_dic_list()) "
    }
   },
   "types_to_exclude": [
    "module",
    "function",
    "builtin_function_or_method",
    "instance",
    "_Feature"
   ],
   "window_display": false
  }
 },
 "nbformat": 4,
 "nbformat_minor": 5
}
