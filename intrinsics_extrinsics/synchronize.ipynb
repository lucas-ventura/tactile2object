{
 "cells": [
  {
   "cell_type": "code",
   "execution_count": 1,
   "id": "perfect-frequency",
   "metadata": {},
   "outputs": [],
   "source": [
    "%load_ext autoreload\n",
    "%autoreload 2"
   ]
  },
  {
   "cell_type": "code",
   "execution_count": 2,
   "id": "enormous-pittsburgh",
   "metadata": {},
   "outputs": [],
   "source": [
    "import numpy as np\n",
    "import open3d as o3d\n",
    "\n",
    "from utils import *\n",
    "from bpy_utils import get_manus_data, get_fbx_creation_time\n",
    "\n",
    "import sys\n",
    "manopth_dir = 'C:/Users/lucas/Desktop/UPC/MIT/manopth/'\n",
    "sys.path.insert(1, manopth_dir)\n",
    "\n",
    "from manus.utils import Pressure"
   ]
  },
  {
   "cell_type": "code",
   "execution_count": 6,
   "id": "according-playlist",
   "metadata": {},
   "outputs": [
    {
     "name": "stdout",
     "output_type": "stream",
     "text": [
      "pressure_file: 07222021_3.hdf5\n",
      "recording: 20210722_152847\n",
      "manus_file: recording_2021-07-22_14-30-05.fbx\n"
     ]
    }
   ],
   "source": [
    "recording_dir = \"C:/Users/lucas/Desktop/UPC/MIT/tactile2object/intrinsics_extrinsics/data/20210722/round_2_fixed_wooden_cube/\"\n",
    "recording_dir = \"C:/Users/lucas/Desktop/UPC/MIT/tactile2object/intrinsics_extrinsics/data/20210722/round_3_fixed_bottle_pose_1/\"\n",
    "\n",
    "for name in os.listdir(recording_dir):\n",
    "    name_pth = os.path.join(recording_dir, name)\n",
    "    \n",
    "    if os.path.isdir(name_pth):\n",
    "        print(\"recording:\", name)\n",
    "        cameras_dir = name_pth\n",
    "        \n",
    "    elif \".hdf5\" in name:\n",
    "        print(\"pressure_file:\", name)\n",
    "        perssure_pth = name_pth\n",
    "        \n",
    "    elif \".fbx\" in name:\n",
    "        print(\"manus_file:\", name)\n",
    "        manus_pth = name_pth\n",
    "        \n",
    "#cameras_dir = os.path.join(recording_dir, \"20210722_152500\")\n",
    "#perssure_pth = os.path.join(recording_dir, \".hdf5\")\n",
    "#manus_pth = os.path.join(recording_dir, \".fbx\")"
   ]
  },
  {
   "cell_type": "markdown",
   "id": "diverse-glasgow",
   "metadata": {},
   "source": [
    "# Load data"
   ]
  },
  {
   "cell_type": "markdown",
   "id": "documented-mexican",
   "metadata": {},
   "source": [
    "### Camera data"
   ]
  },
  {
   "cell_type": "code",
   "execution_count": 4,
   "id": "patent-cathedral",
   "metadata": {},
   "outputs": [],
   "source": [
    "cameras = [\"020122061233\", \"821312060044\", \"020122061651\", \"821312062243\"]\n",
    "\n",
    "intrinsics = Intrinsics(cameras_dir)\n",
    "extrinsics = Extrinsics(cameras_dir)\n",
    "rgbds = RGBD(cameras_dir)\n",
    "stitched_pcd = Stitching_pcds(intrinsics, extrinsics, rgbds, cameras)\n",
    "apriltags = AprilTags(cameras_dir, intrinsics, extrinsics, cameras=cameras)\n",
    "stitched_pcd = Stitching_pcds(intrinsics, extrinsics, rgbds, cameras)"
   ]
  },
  {
   "cell_type": "markdown",
   "id": "wicked-husband",
   "metadata": {},
   "source": [
    "### Pressure data"
   ]
  },
  {
   "cell_type": "code",
   "execution_count": 5,
   "id": "opponent-victorian",
   "metadata": {},
   "outputs": [],
   "source": [
    "pressure = Pressure(perssure_pth, lim_low=3, lim_high=50)"
   ]
  },
  {
   "cell_type": "markdown",
   "id": "appointed-punch",
   "metadata": {},
   "source": [
    "### Manus data\n",
    "\n",
    "Takes around two minutes to load the manus data and compute the MANO joints and verts"
   ]
  },
  {
   "cell_type": "code",
   "execution_count": 6,
   "id": "undefined-surgery",
   "metadata": {},
   "outputs": [],
   "source": [
    "%%capture\n",
    "\n",
    "hand_verts, hand_joints = get_manus_data(manus_pth, manopth_dir)"
   ]
  },
  {
   "cell_type": "markdown",
   "id": "nuclear-notification",
   "metadata": {},
   "source": [
    "# Synchronize"
   ]
  },
  {
   "cell_type": "code",
   "execution_count": 7,
   "id": "fatty-strand",
   "metadata": {},
   "outputs": [],
   "source": [
    "# Camera timestamps\n",
    "camera_ts = get_camera_timestamps(cameras_dir)\n",
    "\n",
    "# Pressure timestamps\n",
    "pressure_ts = pressure.ts_touch\n",
    "\n",
    "# MANUS timestamp\n",
    "pyfbx_i42_pth = \"C:/Users/lucas/Desktop/UPC/MIT/pyfbx_i42-master/\"\n",
    "manus_ts = get_fbx_creation_time(manus_pth, pyfbx_i42_pth)"
   ]
  },
  {
   "cell_type": "code",
   "execution_count": 8,
   "id": "multiple-coaching",
   "metadata": {},
   "outputs": [
    {
     "data": {
      "text/plain": [
       "1626963967.182523"
      ]
     },
     "execution_count": 8,
     "metadata": {},
     "output_type": "execute_result"
    }
   ],
   "source": [
    "pressure_ts[-1]"
   ]
  },
  {
   "cell_type": "code",
   "execution_count": null,
   "id": "suffering-holly",
   "metadata": {},
   "outputs": [],
   "source": [
    "type(camera_ts[0])\n",
    "\n",
    "np.set_printoptions(suppress=True)\n",
    "\n",
    "camera_ts[0]\n",
    "\n"
   ]
  },
  {
   "cell_type": "code",
   "execution_count": null,
   "id": "comparative-valuation",
   "metadata": {},
   "outputs": [],
   "source": [
    "class Synchronizer:\n",
    "    pass"
   ]
  },
  {
   "cell_type": "code",
   "execution_count": null,
   "id": "blank-central",
   "metadata": {},
   "outputs": [],
   "source": [
    "1626981901340209152\n",
    "1626963898\n",
    "1626981901.3402092"
   ]
  },
  {
   "cell_type": "code",
   "execution_count": null,
   "id": "sensitive-reproduction",
   "metadata": {},
   "outputs": [],
   "source": [
    "1626981901340209152"
   ]
  },
  {
   "cell_type": "code",
   "execution_count": null,
   "id": "rational-projection",
   "metadata": {},
   "outputs": [],
   "source": [
    "json_pth = os.path.join(cameras_dir, 'timestamp.json')\n",
    "\n",
    "with open(json_pth) as json_file:\n",
    "    data = json.load(json_file)\n",
    "\n",
    "timestamps = np.array(list(data.values()))\n",
    "avg_timestamps = np.mean(timestamps, axis=0)/1_000_000_000\n",
    "\n"
   ]
  },
  {
   "cell_type": "code",
   "execution_count": null,
   "id": "verified-relief",
   "metadata": {},
   "outputs": [],
   "source": [
    "timestamps = np.array(list(data.values()))\n",
    "\n",
    "print(timestamps[0,0])\n",
    "\n",
    "'{:.20f}'.format(timestamps[0,0])"
   ]
  },
  {
   "cell_type": "code",
   "execution_count": null,
   "id": "furnished-notebook",
   "metadata": {},
   "outputs": [],
   "source": [
    "for i in timestamps:\n",
    "    for j in i:\n",
    "        if float('{:.20f}'.format(j).split(\".\")[-1]) != 0:\n",
    "            print('{:.20f}'.format(j))\n",
    "    \n"
   ]
  },
  {
   "cell_type": "code",
   "execution_count": null,
   "id": "fuzzy-princeton",
   "metadata": {},
   "outputs": [],
   "source": []
  },
  {
   "cell_type": "code",
   "execution_count": null,
   "id": "educated-columbus",
   "metadata": {},
   "outputs": [],
   "source": [
    "all_timestamps = []\n",
    "\n",
    "for camera, timestamps in data.items():\n",
    "    timestamps = [int(float(ts)) for ts in timestamps]\n",
    "    \n",
    "    print(timestamps[0])\n",
    "    all_timestamps.append(timestamps)\n",
    "\n",
    "avg_timestamps = np.mean(np.array(all_timestamps), axis=0)"
   ]
  },
  {
   "cell_type": "code",
   "execution_count": null,
   "id": "external-practitioner",
   "metadata": {},
   "outputs": [],
   "source": [
    "np.array(timestamps) - avg_timestamps"
   ]
  },
  {
   "cell_type": "code",
   "execution_count": null,
   "id": "numerical-notice",
   "metadata": {},
   "outputs": [],
   "source": [
    "timestamps[0]"
   ]
  },
  {
   "cell_type": "code",
   "execution_count": null,
   "id": "injured-norfolk",
   "metadata": {},
   "outputs": [],
   "source": [
    "int(avg_timestamps[0])"
   ]
  },
  {
   "cell_type": "code",
   "execution_count": null,
   "id": "joined-chassis",
   "metadata": {},
   "outputs": [],
   "source": []
  }
 ],
 "metadata": {
  "hide_input": false,
  "kernelspec": {
   "display_name": "Python 3",
   "language": "python",
   "name": "python3"
  },
  "language_info": {
   "codemirror_mode": {
    "name": "ipython",
    "version": 3
   },
   "file_extension": ".py",
   "mimetype": "text/x-python",
   "name": "python",
   "nbconvert_exporter": "python",
   "pygments_lexer": "ipython3",
   "version": "3.7.10"
  },
  "toc": {
   "base_numbering": 1,
   "nav_menu": {},
   "number_sections": true,
   "sideBar": true,
   "skip_h1_title": false,
   "title_cell": "Table of Contents",
   "title_sidebar": "Contents",
   "toc_cell": false,
   "toc_position": {},
   "toc_section_display": true,
   "toc_window_display": false
  },
  "varInspector": {
   "cols": {
    "lenName": 16,
    "lenType": 16,
    "lenVar": 40
   },
   "kernels_config": {
    "python": {
     "delete_cmd_postfix": "",
     "delete_cmd_prefix": "del ",
     "library": "var_list.py",
     "varRefreshCmd": "print(var_dic_list())"
    },
    "r": {
     "delete_cmd_postfix": ") ",
     "delete_cmd_prefix": "rm(",
     "library": "var_list.r",
     "varRefreshCmd": "cat(var_dic_list()) "
    }
   },
   "types_to_exclude": [
    "module",
    "function",
    "builtin_function_or_method",
    "instance",
    "_Feature"
   ],
   "window_display": false
  }
 },
 "nbformat": 4,
 "nbformat_minor": 5
}
