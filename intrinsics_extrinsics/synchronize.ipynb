{
 "cells": [
  {
   "cell_type": "code",
   "execution_count": 1,
   "id": "perfect-frequency",
   "metadata": {},
   "outputs": [],
   "source": [
    "%load_ext autoreload\n",
    "%autoreload 2"
   ]
  },
  {
   "cell_type": "code",
   "execution_count": 2,
   "id": "enormous-pittsburgh",
   "metadata": {},
   "outputs": [],
   "source": [
    "import numpy as np\n",
    "import open3d as o3d\n",
    "from datetime import datetime\n",
    "\n",
    "from utils import *\n",
    "from bpy_utils import get_manus_data, get_fbx_creation_time\n",
    "\n",
    "import sys\n",
    "manopth_dir = 'C:/Users/lucas/Desktop/UPC/MIT/manopth/'\n",
    "sys.path.insert(1, manopth_dir)\n",
    "\n",
    "from manus.utils import Pressure"
   ]
  },
  {
   "cell_type": "code",
   "execution_count": 3,
   "id": "peaceful-bennett",
   "metadata": {},
   "outputs": [
    {
     "name": "stdout",
     "output_type": "stream",
     "text": [
      "pressure_file: 07222021_3.hdf5\n",
      "recording: 20210722_152847\n",
      "manus_file: recording_2021-07-22_14-30-05.fbx\n"
     ]
    }
   ],
   "source": [
    "recording_dir = \"C:/Users/lucas/Desktop/UPC/MIT/tactile2object/intrinsics_extrinsics/data/20210722/round_2_fixed_wooden_cube/\"\n",
    "recording_dir = \"C:/Users/lucas/Desktop/UPC/MIT/tactile2object/intrinsics_extrinsics/data/20210722/round_3_fixed_bottle_pose_1/\"\n",
    "\n",
    "\n",
    "for name in os.listdir(recording_dir):\n",
    "    name_pth = os.path.join(recording_dir, name)\n",
    "    \n",
    "    if os.path.isdir(name_pth):\n",
    "        print(\"recording:\", name)\n",
    "        cameras_dir = name_pth\n",
    "        \n",
    "    elif \".hdf5\" in name:\n",
    "        print(\"pressure_file:\", name)\n",
    "        perssure_pth = name_pth\n",
    "        \n",
    "    elif \".fbx\" in name:\n",
    "        print(\"manus_file:\", name)\n",
    "        manus_pth = name_pth\n",
    "        \n",
    "#cameras_dir = os.path.join(recording_dir, \"20210722_152500\")\n",
    "#perssure_pth = os.path.join(recording_dir, \".hdf5\")\n",
    "#manus_pth = os.path.join(recording_dir, \".fbx\")"
   ]
  },
  {
   "cell_type": "markdown",
   "id": "diverse-glasgow",
   "metadata": {},
   "source": [
    "# Load data"
   ]
  },
  {
   "cell_type": "markdown",
   "id": "documented-mexican",
   "metadata": {},
   "source": [
    "### Camera data"
   ]
  },
  {
   "cell_type": "code",
   "execution_count": 4,
   "id": "patent-cathedral",
   "metadata": {},
   "outputs": [],
   "source": [
    "cameras = [\"020122061233\", \"821312060044\", \"020122061651\", \"821312062243\"]\n",
    "\n",
    "intrinsics = Intrinsics(cameras_dir)\n",
    "extrinsics = Extrinsics(cameras_dir)\n",
    "rgbds = RGBD(cameras_dir)\n",
    "stitched_pcd = Stitching_pcds(intrinsics, extrinsics, rgbds, cameras)\n",
    "apriltags = AprilTags(cameras_dir, intrinsics, extrinsics, cameras=cameras)\n",
    "stitched_pcd = Stitching_pcds(intrinsics, extrinsics, rgbds, cameras)"
   ]
  },
  {
   "cell_type": "markdown",
   "id": "wicked-husband",
   "metadata": {},
   "source": [
    "### Pressure data"
   ]
  },
  {
   "cell_type": "code",
   "execution_count": 5,
   "id": "opponent-victorian",
   "metadata": {},
   "outputs": [],
   "source": [
    "pressure = Pressure(perssure_pth, lim_low=3, lim_high=50)"
   ]
  },
  {
   "cell_type": "markdown",
   "id": "appointed-punch",
   "metadata": {},
   "source": [
    "### Manus data\n",
    "\n",
    "Takes around two minutes to load the manus data and compute the MANO joints and verts"
   ]
  },
  {
   "cell_type": "code",
   "execution_count": 6,
   "id": "undefined-surgery",
   "metadata": {},
   "outputs": [],
   "source": [
    "%%capture\n",
    "\n",
    "hand_verts, hand_joints, hand_faces = get_manus_data(manus_pth, manopth_dir)"
   ]
  },
  {
   "cell_type": "markdown",
   "id": "nuclear-notification",
   "metadata": {},
   "source": [
    "# Synchronize"
   ]
  },
  {
   "cell_type": "markdown",
   "id": "steady-pontiac",
   "metadata": {},
   "source": [
    "#### Get timestamps"
   ]
  },
  {
   "cell_type": "code",
   "execution_count": 7,
   "id": "fatty-strand",
   "metadata": {},
   "outputs": [],
   "source": [
    "# Camera timestamps\n",
    "ts_camera = get_camera_timestamps(cameras_dir)\n",
    "\n",
    "# Pressure timestamps\n",
    "ts_pressure = pressure.ts_touch\n",
    "\n",
    "# MANUS timestamp\n",
    "pyfbx_i42_pth = \"C:/Users/lucas/Desktop/UPC/MIT/pyfbx_i42-master/\"\n",
    "ts_manus = get_fbx_creation_time(manus_pth, pyfbx_i42_pth)"
   ]
  },
  {
   "cell_type": "code",
   "execution_count": 8,
   "id": "romance-conditioning",
   "metadata": {},
   "outputs": [
    {
     "data": {
      "text/plain": [
       "datetime.timedelta(seconds=59, microseconds=627297)"
      ]
     },
     "execution_count": 8,
     "metadata": {},
     "output_type": "execute_result"
    }
   ],
   "source": [
    "datetime.fromtimestamp(ts_camera[-1]) - datetime.fromtimestamp(ts_camera[0])"
   ]
  },
  {
   "cell_type": "code",
   "execution_count": 9,
   "id": "treated-pharmacy",
   "metadata": {},
   "outputs": [
    {
     "data": {
      "text/plain": [
       "datetime.timedelta(seconds=74, microseconds=100026)"
      ]
     },
     "execution_count": 9,
     "metadata": {},
     "output_type": "execute_result"
    }
   ],
   "source": [
    "datetime.fromtimestamp(ts_pressure[-1]) - datetime.fromtimestamp(ts_pressure[0])"
   ]
  },
  {
   "cell_type": "markdown",
   "id": "permanent-amateur",
   "metadata": {},
   "source": [
    "#### Find offsets\n"
   ]
  },
  {
   "cell_type": "code",
   "execution_count": 10,
   "id": "turned-islam",
   "metadata": {},
   "outputs": [],
   "source": [
    "# Index of first pressure peak \n",
    "idx_first_p = pressure.get_peaks()[0]\n",
    "# Timestamp of first pressure peak\n",
    "ts_first_p = pressure.ts_touch[idx_first_p]\n",
    "\n",
    "# Frame of first pressure in camera\n",
    "frame_first_c = 135\n",
    "# Timestamp of first pressure in camera\n",
    "ts_first_c = ts_camera[frame_first_c]\n",
    "\n",
    "# Offset between pressure and camera\n",
    "pc_offset = ts_first_p - ts_first_c"
   ]
  },
  {
   "cell_type": "code",
   "execution_count": 11,
   "id": "comparative-valuation",
   "metadata": {},
   "outputs": [],
   "source": [
    "class Synchronizer:\n",
    "    def __init__(self, ts_pressure, ts_camera, pc_offset=0):\n",
    "        self.ts_pressure = ts_pressure - pc_offset\n",
    "        self.ts_camera = ts_camera \n",
    "        \n",
    "    def pressure_to_camera(self, frame_p):\n",
    "        ts_p = self.ts_pressure[frame_p]\n",
    "        frame_c = (np.abs(self.ts_camera - ts_p)).argmin()\n",
    "        return frame_c\n",
    "    \n",
    "    def camera_to_pressure(self, frame_c):\n",
    "        ts_c = self.ts_camera[frame_c]\n",
    "        frame_p = (np.abs(self.ts_pressure - ts_c)).argmin()\n",
    "        return frame_p "
   ]
  },
  {
   "cell_type": "code",
   "execution_count": 12,
   "id": "short-harassment",
   "metadata": {},
   "outputs": [],
   "source": [
    "synchronize = Synchronizer(ts_pressure, ts_camera, pc_offset)"
   ]
  },
  {
   "cell_type": "code",
   "execution_count": 13,
   "id": "multiple-coaching",
   "metadata": {
    "scrolled": true
   },
   "outputs": [
    {
     "data": {
      "text/plain": [
       "datetime.datetime(2021, 7, 22, 16, 28, 47, 965806)"
      ]
     },
     "execution_count": 13,
     "metadata": {},
     "output_type": "execute_result"
    }
   ],
   "source": [
    "datetime.fromtimestamp(ts_camera[0])"
   ]
  },
  {
   "cell_type": "markdown",
   "id": "virgin-animation",
   "metadata": {},
   "source": [
    "# Save tactile img"
   ]
  },
  {
   "cell_type": "code",
   "execution_count": null,
   "id": "dated-payday",
   "metadata": {},
   "outputs": [],
   "source": [
    "tactile_dir = os.path.join(apriltags.cameras_dir, \"imgs\", \"pressure_img\")\n",
    "\n",
    "if not os.path.exists(tactile_dir):\n",
    "    os.makedirs(tactile_dir)\n",
    "\n",
    "for frame_c in range(len(ts_camera)):\n",
    "    frame_p = synchronize.camera_to_pressure(frame_c)\n",
    "    \n",
    "    fig = pressure.get_figure(frame_p, show=False)\n",
    "    img_pth = os.path.join(tactile_dir, f\"img_{frame_c}\")\n",
    "    fig.savefig(img_pth)"
   ]
  },
  {
   "cell_type": "markdown",
   "id": "fluid-picking",
   "metadata": {},
   "source": [
    "# Merge camera + pressure + manus"
   ]
  },
  {
   "cell_type": "markdown",
   "id": "developed-pulse",
   "metadata": {},
   "source": [
    "#### Estimate object position"
   ]
  },
  {
   "cell_type": "code",
   "execution_count": 15,
   "id": "electronic-crash",
   "metadata": {
    "collapsed": true
   },
   "outputs": [
    {
     "name": "stdout",
     "output_type": "stream",
     "text": [
      "Manual ICP\n",
      "Visualization of two point clouds before manual alignment\n",
      "\n",
      "1) Please pick at least three correspondences using [shift + left click]\n",
      "   Press [shift + right click] to undo point picking\n",
      "2) After picking points, press 'Q' to close the window\n",
      "[Open3D WARNING] GLFW Error: WGL: Failed to make context current: The handle is invalid. \n",
      "[Open3D WARNING] GLFW Error: WGL: Failed to make context current: The requested transformation operation is not supported. \n",
      "[Open3D INFO] Picked point #6687 (-0.013, -0.023, 0.19) to add in queue.\n",
      "[Open3D INFO] Picked point #4019 (0.032, -0.029, 0.099) to add in queue.\n",
      "[Open3D INFO] Picked point #7062 (-0.052, 0.0057, 0.098) to add in queue.\n",
      "\n",
      "\n",
      "1) Please pick at least three correspondences using [shift + left click]\n",
      "   Press [shift + right click] to undo point picking\n",
      "2) After picking points, press 'Q' to close the window\n",
      "[Open3D INFO] Picked point #849926 (-0.0071, -0.049, 0.56) to add in queue.\n",
      "[Open3D INFO] Picked point #651047 (-0.019, 0.015, 0.65) to add in queue.\n",
      "[Open3D INFO] Picked point #155156 (-0.021, 0.051, 0.58) to add in queue.\n",
      "\n",
      "Compute a rough transform using the correspondences given by user\n",
      "Perform point-to-point ICP refinement\n",
      "[Open3D WARNING] GLFW Error: WGL: Failed to make context current: The handle is invalid. \n",
      "[Open3D WARNING] GLFW Error: WGL: Failed to make context current: The handle is invalid. \n",
      "\n"
     ]
    }
   ],
   "source": [
    "%%capture\n",
    "\n",
    "pcd = stitched_pcd[\"000000\"]\n",
    "\n",
    "obj_name = \"005_tomato_soup_can\"\n",
    "obj_name = \"003_cracker_box\"\n",
    "obj_name = \"036_wood_block\"\n",
    "obj_name = \"006_mustard_bottle\"\n",
    "\n",
    "obj_pth = f\"C:/Users/lucas/Desktop/UPC/MIT/tactile2object/estimate_object_pose/ycb_converted/{obj_name}.ply\"\n",
    "\n",
    "transformation, obj_mesh_t = find_object_transformation(pcd, obj_pth)"
   ]
  },
  {
   "cell_type": "code",
   "execution_count": null,
   "id": "experimental-spank",
   "metadata": {},
   "outputs": [],
   "source": [
    "# o3d.visualization.draw_geometries([pcd, obj_mesh_t])"
   ]
  },
  {
   "cell_type": "code",
   "execution_count": 36,
   "id": "dental-employment",
   "metadata": {},
   "outputs": [
    {
     "data": {
      "text/plain": [
       "PointCloud with 4 points."
      ]
     },
     "execution_count": 36,
     "metadata": {},
     "output_type": "execute_result"
    }
   ],
   "source": [
    "frame = 557\n",
    "\n",
    "mesh_hand = o3d.geometry.TriangleMesh()\n",
    "mesh_hand.vertices = o3d.utility.Vector3dVector(hand_verts[frame])\n",
    "mesh_hand.triangles = o3d.utility.Vector3iVector(hand_faces)\n",
    "\n",
    "mesh_hand.compute_vertex_normals()\n",
    "mesh_hand.paint_uniform_color([141 / 255, 184 / 255, 226 / 255])\n",
    "\n",
    "pcd_joints = o3d.geometry.PointCloud()\n",
    "pcd_joints.points = o3d.utility.Vector3dVector(hand_joints[frame])\n",
    "pcd_joints.paint_uniform_color([73 / 255, 84 / 255, 94 / 255])\n",
    "\n",
    "mesh_hand.scale(1/1000, center=(0,0,0))\n",
    "pcd_joints.scale(1/1000, center=(0,0,0))\n",
    "\n",
    "pts_palm = np.zeros((4,3))\n",
    "pts_palm = hand_verts[frame][[229, 204, 183, 144],:]\n",
    "pts_palm = hand_verts[frame][[204, 229, 144, 183],:]\n",
    "pcd_palm = o3d.geometry.PointCloud()\n",
    "pcd_palm.points = o3d.utility.Vector3dVector(pts_palm)\n",
    "pcd_palm.paint_uniform_color([1,0,0])\n",
    "pcd_palm.scale(1/1000, center=(0,0,0))"
   ]
  },
  {
   "cell_type": "code",
   "execution_count": 37,
   "id": "robust-convergence",
   "metadata": {},
   "outputs": [],
   "source": [
    "o3d.visualization.draw_geometries([mesh_hand, pcd_palm])"
   ]
  },
  {
   "cell_type": "code",
   "execution_count": 38,
   "id": "relative-mauritius",
   "metadata": {},
   "outputs": [],
   "source": [
    "# AprilTag corners projected to the hand\n",
    "corners_w = apriltags.corners_w(idx=\"000557\")\n",
    "points = corners_w[4:,:]\n",
    "pos_mano = np.asarray(pcd_palm.points)\n",
    "\n",
    "\n",
    "R, t, pos_mano_rt = rigid_transform_3D(pos_mano.T, points.T, transform_source=True)"
   ]
  },
  {
   "cell_type": "code",
   "execution_count": 39,
   "id": "elder-utility",
   "metadata": {},
   "outputs": [
    {
     "data": {
      "text/plain": [
       "TriangleMesh with 778 points and 1538 triangles."
      ]
     },
     "execution_count": 39,
     "metadata": {},
     "output_type": "execute_result"
    }
   ],
   "source": [
    "pcd_joints_rt = copy.deepcopy(pcd_joints)\n",
    "pcd_joints_rt.rotate(R, center=(0, 0, 0))\n",
    "pcd_joints_rt.translate(t)\n",
    "\n",
    "mesh_hand_rt = copy.deepcopy(mesh_hand)\n",
    "mesh_hand_rt.rotate(R, center=(0, 0, 0))\n",
    "mesh_hand_rt.translate(t)\n"
   ]
  },
  {
   "cell_type": "code",
   "execution_count": 41,
   "id": "interested-vegetation",
   "metadata": {},
   "outputs": [
    {
     "name": "stdout",
     "output_type": "stream",
     "text": [
      "[Open3D WARNING] GLFW Error: WGL: Failed to make context current: The requested transformation operation is not supported. \n"
     ]
    }
   ],
   "source": [
    "o3d.visualization.draw_geometries([mesh_hand_rt, obj_mesh_t, pcd]) #, "
   ]
  }
 ],
 "metadata": {
  "hide_input": false,
  "kernelspec": {
   "display_name": "Python 3",
   "language": "python",
   "name": "python3"
  },
  "language_info": {
   "codemirror_mode": {
    "name": "ipython",
    "version": 3
   },
   "file_extension": ".py",
   "mimetype": "text/x-python",
   "name": "python",
   "nbconvert_exporter": "python",
   "pygments_lexer": "ipython3",
   "version": "3.7.10"
  },
  "toc": {
   "base_numbering": 1,
   "nav_menu": {},
   "number_sections": true,
   "sideBar": true,
   "skip_h1_title": false,
   "title_cell": "Table of Contents",
   "title_sidebar": "Contents",
   "toc_cell": false,
   "toc_position": {},
   "toc_section_display": true,
   "toc_window_display": false
  },
  "varInspector": {
   "cols": {
    "lenName": 16,
    "lenType": 16,
    "lenVar": 40
   },
   "kernels_config": {
    "python": {
     "delete_cmd_postfix": "",
     "delete_cmd_prefix": "del ",
     "library": "var_list.py",
     "varRefreshCmd": "print(var_dic_list())"
    },
    "r": {
     "delete_cmd_postfix": ") ",
     "delete_cmd_prefix": "rm(",
     "library": "var_list.r",
     "varRefreshCmd": "cat(var_dic_list()) "
    }
   },
   "types_to_exclude": [
    "module",
    "function",
    "builtin_function_or_method",
    "instance",
    "_Feature"
   ],
   "window_display": false
  }
 },
 "nbformat": 4,
 "nbformat_minor": 5
}
