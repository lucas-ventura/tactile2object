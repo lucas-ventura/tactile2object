{
 "cells": [
  {
   "cell_type": "code",
   "execution_count": 176,
   "id": "occupied-greece",
   "metadata": {},
   "outputs": [],
   "source": [
    "import numpy as np\n",
    "import pandas as pd\n",
    "import os\n",
    "\n",
    "from matplotlib import pyplot as plt\n",
    "from mpl_toolkits.mplot3d import Axes3D\n",
    "from mpl_toolkits.mplot3d.art3d import Poly3DCollection\n",
    "import numpy as np\n",
    "\n",
    "import open3d as o3d\n",
    "\n",
    "from pyquaternion import Quaternion"
   ]
  },
  {
   "cell_type": "code",
   "execution_count": 2,
   "id": "internal-copying",
   "metadata": {},
   "outputs": [],
   "source": [
    "%matplotlib inline"
   ]
  },
  {
   "cell_type": "code",
   "execution_count": 3,
   "id": "prescribed-round",
   "metadata": {},
   "outputs": [],
   "source": [
    "%matplotlib qt"
   ]
  },
  {
   "cell_type": "code",
   "execution_count": 41,
   "id": "accessory-jacksonville",
   "metadata": {},
   "outputs": [],
   "source": [
    "labels = ['LeftCarpus', 'LeftFirstMC', 'LeftFirstPP', 'LeftFirstDP', 'LeftSecondMC', 'LeftSecondPP', 'LeftSecondMP', 'LeftSecondDP', 'LeftThirdMC', 'LeftThirdPP', 'LeftThirdMP', 'LeftThirdDP', 'LeftFourthMC', 'LeftFourthPP', 'LeftFourthMP', 'LeftFourthDP', 'LeftFifthMC', 'LeftFifthPP', 'LeftFifthMP', 'LeftFifthDP']\n",
    "\n",
    "labels_xyx = []\n",
    "labels_quat = []\n",
    "\n",
    "for label in labels:\n",
    "    labels_xyx.extend([label + \"_x\", label + \"_y\", label + \"_z\"])\n",
    "    label = label.split()[0]\n",
    "    labels_quat.extend([label + \"_0\", label + \"_1\", label + \"_2\", label + \"_3\"])"
   ]
  },
  {
   "cell_type": "code",
   "execution_count": 4,
   "id": "gothic-blackberry",
   "metadata": {},
   "outputs": [],
   "source": [
    "positionFingersLeft = pd.read_excel(\"C:/Users/lucas/Desktop/UPC/MIT/tactile2object/manus/New Session-002.xlsx\", sheet_name=\"ns1 positionFingersLeft\")\n",
    "positionFingersRight = pd.read_excel(\"C:/Users/lucas/Desktop/UPC/MIT/tactile2object/manus/New Session-002.xlsx\", sheet_name=\"ns1 positionFingersRight\")"
   ]
  },
  {
   "cell_type": "code",
   "execution_count": 5,
   "id": "subtle-confirmation",
   "metadata": {},
   "outputs": [],
   "source": [
    "orientationFingerLeft = pd.read_excel(\"C:/Users/lucas/Desktop/UPC/MIT/tactile2object/manus/New Session-002_2.xlsx\", sheet_name=\"ns1_orientationFingerLeft\")\n",
    "orientationFingerLeft.columns = labels_quat\n",
    "\n",
    "jointAngleFingersLeft = pd.read_excel(\"C:/Users/lucas/Desktop/UPC/MIT/tactile2object/manus/New Session-002_2.xlsx\", sheet_name=\"ns1_jointAngleFingersLeft\")\n",
    "jointAngleFingersLeftXZY = pd.read_excel(\"C:/Users/lucas/Desktop/UPC/MIT/tactile2object/manus/New Session-002_2.xlsx\", sheet_name=\"ns1_jointAngleFingersLeftXZY\")"
   ]
  },
  {
   "cell_type": "code",
   "execution_count": 73,
   "id": "civilian-adobe",
   "metadata": {},
   "outputs": [
    {
     "data": {
      "text/plain": [
       "(10686, 57)"
      ]
     },
     "execution_count": 73,
     "metadata": {},
     "output_type": "execute_result"
    }
   ],
   "source": [
    "jointAngleFingersLeftXZY.shape"
   ]
  },
  {
   "cell_type": "markdown",
   "id": "manufactured-preference",
   "metadata": {},
   "source": [
    "## Left fingers"
   ]
  },
  {
   "cell_type": "code",
   "execution_count": 44,
   "id": "coordinate-insulation",
   "metadata": {},
   "outputs": [],
   "source": [
    "x_positions = [position for position in list(positionFingersLeft.columns) if \"_x\" in position]\n",
    "y_positions = [position for position in list(positionFingersLeft.columns) if \"_y\" in position]\n",
    "z_positions = [position for position in list(positionFingersLeft.columns) if \"_z\" in position]\n",
    "\n",
    "positions = [position.split(\"_\")[0] for position in list(positionFingersLeft.columns)]\n",
    "# Remove duplicates\n",
    "positions = list(dict.fromkeys(positions))"
   ]
  },
  {
   "cell_type": "code",
   "execution_count": 45,
   "id": "fiscal-treatment",
   "metadata": {},
   "outputs": [],
   "source": [
    "positionFingersLeft_xyz = positionFingersLeft.copy()\n",
    "\n",
    "positionFingersLeft_xyz['x'] = positionFingersLeft_xyz.apply(lambda x: \n",
    "                                                  list([x[position] for position in x_positions]), axis=1)\n",
    "\n",
    "positionFingersLeft_xyz['y'] = positionFingersLeft_xyz.apply(lambda x: \n",
    "                                                  list([x[position] for position in y_positions]), axis=1)\n",
    "\n",
    "positionFingersLeft_xyz['z'] = positionFingersLeft_xyz.apply(lambda x: \n",
    "                                                  list([x[position] for position in z_positions]), axis=1)\n",
    "\n",
    "for position in positions:\n",
    "    del positionFingersLeft_xyz[position + \"_x\"]\n",
    "    del positionFingersLeft_xyz[position + \"_y\"]\n",
    "    del positionFingersLeft_xyz[position + \"_z\"]"
   ]
  },
  {
   "cell_type": "markdown",
   "id": "usual-massachusetts",
   "metadata": {},
   "source": [
    "## Orientation"
   ]
  },
  {
   "cell_type": "code",
   "execution_count": 121,
   "id": "grateful-session",
   "metadata": {
    "run_control": {
     "marked": false
    }
   },
   "outputs": [],
   "source": [
    "def conjugateQuaternion(vect):\n",
    "    vect = vect.copy()\n",
    "    vect = -vect\n",
    "    vect[0] = -vect[0]\n",
    "    return vect\n",
    "\n",
    "def quaternionMultiplication(q1, q2):\n",
    "    v1 = q1.copy()[1:]\n",
    "    v2 = q2.copy()[1:]\n",
    "    \n",
    "    r0 = q1[0]*q2[0] - np.dot(v1,v2) \n",
    "    r1 = np.dot(q1[0], v2) + np.dot(q2[0], v1) + np.cross(v1, v2)\n",
    "    \n",
    "    r = []\n",
    "    r.append(r0)\n",
    "    r.extend(list(r1))\n",
    "    return np.array(r)"
   ]
  },
  {
   "cell_type": "code",
   "execution_count": 106,
   "id": "spatial-ceramic",
   "metadata": {},
   "outputs": [],
   "source": [
    "def getPosition(position, frame=0):\n",
    "    position_xyz = [position + i for i in ['_x','_y','_z']]\n",
    "    return positionFingersLeft.loc[frame, position_xyz].to_numpy()\n"
   ]
  },
  {
   "cell_type": "code",
   "execution_count": 161,
   "id": "uniform-apollo",
   "metadata": {},
   "outputs": [],
   "source": [
    "import math\n",
    " \n",
    "def euler_from_quaternion(x, y, z, w):\n",
    "        \"\"\"\n",
    "        Convert a quaternion into euler angles (roll, pitch, yaw)\n",
    "        roll is rotation around x in radians (counterclockwise)\n",
    "        pitch is rotation around y in radians (counterclockwise)\n",
    "        yaw is rotation around z in radians (counterclockwise)\n",
    "        \"\"\"\n",
    "        t0 = +2.0 * (w * x + y * z)\n",
    "        t1 = +1.0 - 2.0 * (x * x + y * y)\n",
    "        roll_x = math.atan2(t0, t1)\n",
    "     \n",
    "        t2 = +2.0 * (w * y - z * x)\n",
    "        t2 = +1.0 if t2 > +1.0 else t2\n",
    "        t2 = -1.0 if t2 < -1.0 else t2\n",
    "        pitch_y = math.asin(t2)\n",
    "     \n",
    "        t3 = +2.0 * (w * z + x * y)\n",
    "        t4 = +1.0 - 2.0 * (y * y + z * z)\n",
    "        yaw_z = math.atan2(t3, t4)\n",
    "     \n",
    "        return roll_x, pitch_y, yaw_z # in radians"
   ]
  },
  {
   "cell_type": "code",
   "execution_count": 196,
   "id": "white-macro",
   "metadata": {},
   "outputs": [
    {
     "data": {
      "text/plain": [
       "array([ 0.99647428, -0.08285428, -0.01061131,  0.00785131])"
      ]
     },
     "execution_count": 196,
     "metadata": {},
     "output_type": "execute_result"
    }
   ],
   "source": [
    "def getQuaternion(position, frame=0):\n",
    "    data = orientationFingerLeft.loc[frame, :]\n",
    "    \n",
    "    return np.array([data[position + \"_0\"], data[position + \"_1\"], data[position + \"_2\"], data[position + \"_3\"]])\n",
    "\n",
    "def getQuaternionMul(distal, proximal, frame=0):\n",
    "    q1 = getQuaternion(distal, frame)\n",
    "    q2 = getQuaternion(proximal, frame)\n",
    "\n",
    "    qr = quaternionMultiplication(conjugateQuaternion(q1), q2)\n",
    "    \n",
    "    return qr\n",
    "\n",
    "def getEuler(qr):\n",
    "    x, y, z, w = qr\n",
    "    \n",
    "    return euler_from_quaternion(x, y, z, w)\n",
    "\n",
    "distal = 'LeftSecondDP'\n",
    "proximal = 'LeftSecondMP'\n",
    "getQuaternionMul(distal, proximal)\n"
   ]
  },
  {
   "cell_type": "code",
   "execution_count": null,
   "id": "permanent-petroleum",
   "metadata": {},
   "outputs": [],
   "source": []
  },
  {
   "cell_type": "markdown",
   "id": "cathedral-mentor",
   "metadata": {},
   "source": [
    "# Plot hand positions"
   ]
  },
  {
   "cell_type": "code",
   "execution_count": 93,
   "id": "sacred-sphere",
   "metadata": {},
   "outputs": [],
   "source": [
    "def set_axes_equal(ax):\n",
    "    '''Make axes of 3D plot have equal scale so that spheres appear as spheres,\n",
    "    cubes as cubes, etc..  This is one possible solution to Matplotlib's\n",
    "    ax.set_aspect('equal') and ax.axis('equal') not working for 3D.\n",
    "\n",
    "    Input\n",
    "      ax: a matplotlib axis, e.g., as output from plt.gca().\n",
    "    '''\n",
    "\n",
    "    x_limits = ax.get_xlim3d()\n",
    "    y_limits = ax.get_ylim3d()\n",
    "    z_limits = ax.get_zlim3d()\n",
    "\n",
    "    x_range = abs(x_limits[1] - x_limits[0])\n",
    "    x_middle = np.mean(x_limits)\n",
    "    y_range = abs(y_limits[1] - y_limits[0])\n",
    "    y_middle = np.mean(y_limits)\n",
    "    z_range = abs(z_limits[1] - z_limits[0])\n",
    "    z_middle = np.mean(z_limits)\n",
    "    \n",
    "    \n",
    "    # The plot bounding box is a sphere in the sense of the infinity\n",
    "    # norm, hence I call half the max range the plot radius.\n",
    "    plot_radius = 0.5*max([x_range, y_range, z_range])\n",
    "    \n",
    "    ax.set_xlim3d([x_middle - plot_radius, x_middle + plot_radius])\n",
    "    # print([x_middle - plot_radius, x_middle + plot_radius])\n",
    "    ax.set_ylim3d([y_middle - plot_radius, y_middle + plot_radius])\n",
    "    # print([y_middle - plot_radius, y_middle + plot_radius])\n",
    "    ax.set_zlim3d([z_middle - plot_radius, z_middle + plot_radius])\n",
    "    # print([z_middle - plot_radius, z_middle + plot_radius])"
   ]
  },
  {
   "cell_type": "code",
   "execution_count": 216,
   "id": "gothic-blade",
   "metadata": {},
   "outputs": [],
   "source": [
    "tips_lengths = {\n",
    "    'LeftFirst' : [0,0.02762,0], \n",
    "    'LeftSecond' : [0,0.018028,0], \n",
    "    'LeftThird' : [0,0.018916,0], \n",
    "    'LeftFourth' : [0,0.019094,0], \n",
    "    'LeftFifth' : [0,0.018384,0]\n",
    "}"
   ]
  },
  {
   "cell_type": "code",
   "execution_count": 218,
   "id": "higher-relaxation",
   "metadata": {},
   "outputs": [],
   "source": [
    "frame = 0\n",
    "\n",
    "xs_left = positionFingersLeft_xyz.loc[frame,\"x\"]\n",
    "ys_left = positionFingersLeft_xyz.loc[frame,\"y\"]\n",
    "zs_left = positionFingersLeft_xyz.loc[frame,\"z\"]\n",
    "\n",
    "\n",
    "\n",
    "xs = xs_left \n",
    "ys = ys_left \n",
    "zs = zs_left \n",
    "\n",
    "fig = plt.figure()\n",
    "ax = fig.add_subplot(111, projection='3d')\n",
    "\n",
    "for i, position in enumerate(positions):\n",
    "    ax.scatter(xs=xs[i], ys=ys[i], zs=zs[i], label=position, color='b')\n",
    "    \n",
    "fingers = ['LeftFirst', 'LeftSecond', 'LeftThird', 'LeftFourth', 'LeftFifth']\n",
    "\n",
    "for finger in fingers:\n",
    "    distal = finger + 'DP'\n",
    "    proximal = finger + 'MP' if finger != 'LeftFirst' else finger + 'PP'\n",
    "    \n",
    "    p1 = getPosition(distal)\n",
    "    q1 = Quaternion(getQuaternion(distal))\n",
    "    v1 = np.array(tips_lengths[finger])\n",
    "    r1 = q1.rotate(v1)\n",
    "    x,y,z = r1 + p1\n",
    "\n",
    "    ax.scatter(xs=x, ys=y, zs=z, label=\"NEW\", color='g')\n",
    "\n",
    "\n",
    "\n",
    "set_axes_equal(ax)\n",
    "plt.axis('off')\n",
    "ax.view_init(azim=153, elev=167)\n",
    "#ax.legend()\n",
    "plt.show()\n",
    "\n"
   ]
  },
  {
   "cell_type": "markdown",
   "id": "level-beginning",
   "metadata": {},
   "source": []
  },
  {
   "cell_type": "code",
   "execution_count": 212,
   "id": "stone-heather",
   "metadata": {},
   "outputs": [
    {
     "data": {
      "text/plain": [
       "array([-0.547078,  0.103499,  0.556152])"
      ]
     },
     "execution_count": 212,
     "metadata": {},
     "output_type": "execute_result"
    }
   ],
   "source": [
    "getPosition('LeftFifthDP') * 2 - getPosition('LeftFifthMP')"
   ]
  },
  {
   "cell_type": "code",
   "execution_count": 206,
   "id": "caring-advocacy",
   "metadata": {},
   "outputs": [
    {
     "data": {
      "text/plain": [
       "Quaternion(0.53654, -0.754379, -0.378034, 0.011302)"
      ]
     },
     "execution_count": 206,
     "metadata": {},
     "output_type": "execute_result"
    }
   ],
   "source": [
    "q1 = Quaternion(getQuaternion(distal))\n",
    "q1"
   ]
  },
  {
   "cell_type": "code",
   "execution_count": 208,
   "id": "upset-collar",
   "metadata": {},
   "outputs": [
    {
     "data": {
      "text/plain": [
       "array([ 0.01026257, -0.00254491, -0.0150391 ])"
      ]
     },
     "execution_count": 208,
     "metadata": {},
     "output_type": "execute_result"
    }
   ],
   "source": [
    "r1 = q1.rotate(v1)\n",
    "r1"
   ]
  },
  {
   "cell_type": "code",
   "execution_count": 210,
   "id": "invalid-collective",
   "metadata": {},
   "outputs": [
    {
     "data": {
      "text/plain": [
       "array([ 9.98730901e-01,  3.52351105e-02, -9.39067964e-04,  3.59709868e-02])"
      ]
     },
     "execution_count": 210,
     "metadata": {},
     "output_type": "execute_result"
    }
   ],
   "source": [
    "finger = 'LeftFifth'\n",
    "distal = finger + 'DP'\n",
    "proximal = finger + 'MP' if finger != 'LeftFirst' else finger + 'PP'\n",
    "\n",
    "getQuaternionMul(distal, proximal)"
   ]
  },
  {
   "cell_type": "code",
   "execution_count": 190,
   "id": "suspended-riverside",
   "metadata": {},
   "outputs": [],
   "source": []
  }
 ],
 "metadata": {
  "hide_input": false,
  "kernelspec": {
   "display_name": "Python 3",
   "language": "python",
   "name": "python3"
  },
  "language_info": {
   "codemirror_mode": {
    "name": "ipython",
    "version": 3
   },
   "file_extension": ".py",
   "mimetype": "text/x-python",
   "name": "python",
   "nbconvert_exporter": "python",
   "pygments_lexer": "ipython3",
   "version": "3.7.10"
  },
  "toc": {
   "base_numbering": 1,
   "nav_menu": {},
   "number_sections": true,
   "sideBar": true,
   "skip_h1_title": false,
   "title_cell": "Table of Contents",
   "title_sidebar": "Contents",
   "toc_cell": false,
   "toc_position": {},
   "toc_section_display": true,
   "toc_window_display": false
  },
  "varInspector": {
   "cols": {
    "lenName": 16,
    "lenType": 16,
    "lenVar": 40
   },
   "kernels_config": {
    "python": {
     "delete_cmd_postfix": "",
     "delete_cmd_prefix": "del ",
     "library": "var_list.py",
     "varRefreshCmd": "print(var_dic_list())"
    },
    "r": {
     "delete_cmd_postfix": ") ",
     "delete_cmd_prefix": "rm(",
     "library": "var_list.r",
     "varRefreshCmd": "cat(var_dic_list()) "
    }
   },
   "types_to_exclude": [
    "module",
    "function",
    "builtin_function_or_method",
    "instance",
    "_Feature"
   ],
   "window_display": false
  }
 },
 "nbformat": 4,
 "nbformat_minor": 5
}
