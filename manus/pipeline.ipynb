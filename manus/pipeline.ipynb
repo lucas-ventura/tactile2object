{
 "cells": [
  {
   "cell_type": "code",
   "execution_count": 1,
   "id": "cutting-fifteen",
   "metadata": {},
   "outputs": [],
   "source": [
    "from utils import *"
   ]
  },
  {
   "cell_type": "code",
   "execution_count": 2,
   "id": "french-provincial",
   "metadata": {},
   "outputs": [],
   "source": [
    "%load_ext autoreload\n",
    "%autoreload 2"
   ]
  },
  {
   "cell_type": "markdown",
   "id": "labeled-singing",
   "metadata": {},
   "source": [
    "#### Load data"
   ]
  },
  {
   "cell_type": "code",
   "execution_count": 3,
   "id": "floral-argentina",
   "metadata": {},
   "outputs": [],
   "source": [
    "xlsx_pth = \"C:/Users/lucas/Desktop/UPC/MIT/tactile2object/manus/recorded_data.xlsx\"\n",
    "data = Data(xlsx_pth)\n",
    "positions_FT = data.getFingertips()"
   ]
  },
  {
   "cell_type": "markdown",
   "id": "revised-volume",
   "metadata": {},
   "source": [
    "#### Get real data"
   ]
  },
  {
   "cell_type": "code",
   "execution_count": 4,
   "id": "exclusive-cowboy",
   "metadata": {
    "run_control": {
     "marked": false
    }
   },
   "outputs": [],
   "source": [
    "bone = 'LeftSecondFT'\n",
    "frames = [5900, 6009, 6190, 6340, 6423, 7690]\n",
    "\n",
    "touch_locations_real = get_touch_locations_real(positions_FT, bone, frames)"
   ]
  },
  {
   "cell_type": "markdown",
   "id": "settled-madonna",
   "metadata": {},
   "source": [
    "#### Get simulated data"
   ]
  },
  {
   "cell_type": "code",
   "execution_count": 5,
   "id": "complicated-execution",
   "metadata": {},
   "outputs": [],
   "source": [
    "mesh_pth = \"C:/Users/lucas/Desktop/UPC/MIT/tactile2object/estimate_object_pose/ycb_converted/035_power_drill.ply\"\n",
    "picked_ids = [6796, 5958, 3626, 153, 563, 4257]\n",
    "touch_locations_simu, pcd = get_touch_locations_simu(mesh_pth, picked_ids=picked_ids, scale=1.)"
   ]
  },
  {
   "cell_type": "markdown",
   "id": "extreme-lottery",
   "metadata": {},
   "source": [
    "#### Translate and rotate real points"
   ]
  },
  {
   "cell_type": "code",
   "execution_count": 6,
   "id": "clear-level",
   "metadata": {},
   "outputs": [],
   "source": [
    "Q = np.array(touch_locations_simu).T\n",
    "P = np.array(touch_locations_real).T\n",
    "\n",
    "R, t = rigid_transform_3D(P, Q)\n",
    "\n",
    "#plot_bar_values(norm_values)"
   ]
  },
  {
   "cell_type": "code",
   "execution_count": 7,
   "id": "married-sight",
   "metadata": {},
   "outputs": [],
   "source": [
    "red = [225/255, 87/255, 89/255]\n",
    "orange = [242/255, 142/255, 43/255]\n",
    "yellow = [237/255, 201/255, 72/255]\n",
    "blue = [78/255, 121/255, 167/255]\n",
    "green = [89/255, 161/255, 79/255]"
   ]
  },
  {
   "cell_type": "code",
   "execution_count": 8,
   "id": "specialized-monthly",
   "metadata": {},
   "outputs": [],
   "source": [
    "touch_locations_real_tr = (R.dot(touch_locations_real.T) + t).T\n",
    "\n",
    "balls_real_tr = get_balls(touch_locations_real_tr, color=[0,1,0])\n",
    "balls_simu = get_balls(touch_locations_simu)"
   ]
  },
  {
   "cell_type": "code",
   "execution_count": 9,
   "id": "international-substance",
   "metadata": {},
   "outputs": [],
   "source": [
    "line_set = get_lines(touch_locations_real_tr, touch_locations_simu)\n",
    "\n",
    "visualize = [pcd] + balls_real_tr + balls_simu + [line_set]\n",
    "\n",
    "o3d.visualization.draw_geometries(visualize, zoom=0.9,\n",
    "                                  front=[0.0, 0.0, -0.5],\n",
    "                                  lookat=[0.0, 0.0, 0.0],\n",
    "                                  up=[0.0, 0.4, 0.0])"
   ]
  },
  {
   "cell_type": "markdown",
   "id": "opposite-behavior",
   "metadata": {},
   "source": [
    "#### Translate and rotate simulated points"
   ]
  },
  {
   "cell_type": "code",
   "execution_count": 10,
   "id": "lesser-generator",
   "metadata": {},
   "outputs": [],
   "source": [
    "Q = np.array(touch_locations_real).T\n",
    "P = np.array(touch_locations_simu).T \n",
    "\n",
    "R, t = rigid_transform_3D(P, Q)"
   ]
  },
  {
   "cell_type": "code",
   "execution_count": 11,
   "id": "criminal-prize",
   "metadata": {},
   "outputs": [],
   "source": [
    "import copy\n",
    "\n",
    "touch_locations_simu_tr = (R.dot(touch_locations_simu.T) + t).T\n",
    "\n",
    "balls_real = get_balls(touch_locations_real)\n",
    "balls_simu_tr = get_balls(touch_locations_simu_tr, color=[0,1,0])\n",
    "\n",
    "line_set = get_lines(touch_locations_real, touch_locations_simu_tr)\n",
    "\n",
    "pcd_tr = copy.deepcopy(pcd)\n",
    "pcd_tr.rotate(R, center=(0, 0, 0))\n",
    "pcd_tr.translate((t))\n",
    "\n",
    "visualize = [pcd_tr] + balls_real + balls_simu_tr + [line_set]\n",
    "\n",
    "o3d.visualization.draw_geometries(visualize)"
   ]
  },
  {
   "cell_type": "markdown",
   "id": "collaborative-people",
   "metadata": {},
   "source": [
    "#### Save keypoints for MANO"
   ]
  },
  {
   "cell_type": "code",
   "execution_count": 12,
   "id": "given-crossing",
   "metadata": {},
   "outputs": [],
   "source": [
    "positions_order_l = [\n",
    "    \"LeftCarpus\",\n",
    "    \"LeftFirstMC\",\n",
    "    \"LeftFirstPP\",\n",
    "    \"LeftFirstDP\",\n",
    "    \"LeftFirstFT\",\n",
    "    \n",
    "    \"LeftSecondPP\",\n",
    "    \"LeftSecondMP\",\n",
    "    \"LeftSecondDP\",\n",
    "    \"LeftSecondFT\",\n",
    "    \n",
    "    \"LeftThirdPP\",\n",
    "    \"LeftThirdMP\",\n",
    "    \"LeftThirdDP\",\n",
    "    \"LeftThirdFT\",\n",
    "    \n",
    "    \"LeftFourthPP\",\n",
    "    \"LeftFourthMP\",\n",
    "    \"LeftFourthDP\",\n",
    "    \"LeftFourthFT\", \n",
    "    \n",
    "    \"LeftFifthPP\",\n",
    "    \"LeftFifthMP\",\n",
    "    \"LeftFifthDP\",\n",
    "    \"LeftFifthFT\"     \n",
    "]\n",
    "\n",
    "positions_order_r = [position.replace(\"Left\", \"Right\") for position in positions_order_l]"
   ]
  },
  {
   "cell_type": "code",
   "execution_count": 55,
   "id": "acoustic-float",
   "metadata": {},
   "outputs": [],
   "source": [
    "from mpl_toolkits.mplot3d import Axes3D\n",
    "import matplotlib.pyplot as plt\n",
    "\n",
    "frame = 0\n",
    "\n",
    "fig = plt.figure()\n",
    "ax = fig.gca(projection='3d')\n",
    "\n",
    "for i, a in enumerate(positions_order_l):\n",
    "    x, y, z = positions_FT.loc[frame, a]\n",
    "    \n",
    "    ax.scatter(xs=x, ys=y, zs=z)\n",
    "    ax.text(x, y, z, str(i), zdir=None)\n",
    "    \n",
    "set_axes_equal(ax)\n",
    "plt.axis('off')\n",
    "ax.view_init(azim=110, elev=168)\n"
   ]
  },
  {
   "cell_type": "code",
   "execution_count": 52,
   "id": "decreased-duncan",
   "metadata": {},
   "outputs": [],
   "source": [
    "frame = 0\n",
    "\n",
    "keypoints_l = np.zeros((len(positions_order_l), 3))\n",
    "\n",
    "#zero = 'LeftThirdMC'\n",
    "zero = 'LeftThirdPP'\n",
    "\n",
    "position_zero = positions_FT.loc[frame, zero] * 1000 \n",
    "\n",
    "for i, position in enumerate(positions_order_l):\n",
    "    keypoints_l[i,:] = positions_FT.loc[frame, position] * 1000 - position_zero"
   ]
  },
  {
   "cell_type": "code",
   "execution_count": 53,
   "id": "convenient-indian",
   "metadata": {},
   "outputs": [
    {
     "data": {
      "text/plain": [
       "array([[-32.416     , -16.316     ,  72.905     ],\n",
       "       [ -2.678     ,  -2.527     ,  62.032     ],\n",
       "       [ 25.011     ,  -3.998     ,  47.156     ],\n",
       "       [ 48.721     ,  -5.526     ,  33.072     ],\n",
       "       [ 72.15744555,  -7.15706095,  18.5483276 ],\n",
       "       [ 17.138     ,   7.59      ,  10.708     ],\n",
       "       [ 35.101     ,   8.937     , -21.344     ],\n",
       "       [ 44.947     ,   8.972     , -38.834     ],\n",
       "       [ 53.55172243,  11.99032584, -54.38576019],\n",
       "       [  0.        ,   0.        ,   0.        ],\n",
       "       [ 18.513     ,  -4.801     , -35.394     ],\n",
       "       [ 29.986     ,  -8.737     , -55.872     ],\n",
       "       [ 37.0945552 ,  -9.49074462, -73.38529118],\n",
       "       [-18.535     ,  -8.335     ,  -5.543     ],\n",
       "       [ -1.071     ,  -7.758     , -39.499     ],\n",
       "       [  9.232     ,  -8.882     , -59.635     ],\n",
       "       [ 17.13270909,  -5.51386881, -76.68830831],\n",
       "       [-37.004     , -16.768     ,  -5.027     ],\n",
       "       [-22.507     , -18.567     , -33.366     ],\n",
       "       [-14.292     , -20.703     , -48.462     ],\n",
       "       [ -4.02943146, -23.24790621, -63.50110221]])"
      ]
     },
     "execution_count": 53,
     "metadata": {},
     "output_type": "execute_result"
    }
   ],
   "source": [
    "keypoints_l"
   ]
  },
  {
   "cell_type": "code",
   "execution_count": 54,
   "id": "danish-stanley",
   "metadata": {},
   "outputs": [],
   "source": [
    "frame = 0\n",
    "\n",
    "keypoints_r = np.zeros((len(positions_order_r), 3))\n",
    "\n",
    "#zero = 'RightThirdMC'\n",
    "zero = 'RightThirdPP'\n",
    "\n",
    "position_zero = positions_FT.loc[frame, zero] * 1000 \n",
    "\n",
    "for i, position in enumerate(positions_order_r):\n",
    "    keypoints_r[i,:] = positions_FT.loc[frame, position] * 1000 - position_zero"
   ]
  },
  {
   "cell_type": "markdown",
   "id": "palestinian-patent",
   "metadata": {},
   "source": [
    "### Plot mano position"
   ]
  },
  {
   "cell_type": "code",
   "execution_count": 95,
   "id": "permanent-craps",
   "metadata": {},
   "outputs": [],
   "source": [
    "lines = [(0,1), (1,2), (2,3), (3,4), \n",
    "         (0,5), (5,6), (6,7), (7,8), \n",
    "         (0,9), (9,10), (10,11), (11, 12), \n",
    "         (0,13), (13, 14), (14, 15), (15,16), \n",
    "         (0,17), (17,18), (18,19), (19,20)]\n",
    "\n"
   ]
  },
  {
   "cell_type": "code",
   "execution_count": 96,
   "id": "enhanced-klein",
   "metadata": {},
   "outputs": [],
   "source": [
    "from mpl_toolkits.mplot3d import Axes3D\n",
    "import matplotlib.pyplot as plt\n",
    "\n",
    "frame = 3463\n",
    "\n",
    "fig = plt.figure()\n",
    "ax = fig.gca(projection='3d')\n",
    "\n",
    "for i, a in enumerate(positions_order_l):\n",
    "    \n",
    "    color = 'C' + str((i-1)//4 + 1) \n",
    "    \n",
    "    x, y, z = positions_FT.loc[frame, a]\n",
    "    \n",
    "    ax.scatter(xs=x, ys=y, zs=z, color=color)\n",
    "    #ax.text(x, y, z, str(i), zdir=None)\n",
    "\n",
    "for start, end in lines:\n",
    "    start_pos = positions_order_l[start]\n",
    "    end_pos = positions_order_l[end]\n",
    "    xyz = np.vstack([positions_FT.loc[frame, start_pos], positions_FT.loc[frame, end_pos]])\n",
    "    ax.plot(xyz[:,0], xyz[:,1], xyz[:,2], c='black')\n",
    "    \n",
    "set_axes_equal(ax)\n",
    "plt.axis('off')\n",
    "ax.view_init(azim=110, elev=168)\n"
   ]
  },
  {
   "cell_type": "code",
   "execution_count": 91,
   "id": "experimental-hybrid",
   "metadata": {},
   "outputs": [],
   "source": [
    "xyz = np.vstack([positions_FT.loc[frame, start_pos], positions_FT.loc[frame, end_pos]])"
   ]
  },
  {
   "cell_type": "code",
   "execution_count": 92,
   "id": "liable-copyright",
   "metadata": {},
   "outputs": [
    {
     "data": {
      "text/plain": [
       "array([-0.282438  , -0.29589237])"
      ]
     },
     "execution_count": 92,
     "metadata": {},
     "output_type": "execute_result"
    }
   ],
   "source": [
    "xyz[:,0]"
   ]
  },
  {
   "cell_type": "markdown",
   "id": "romantic-mercury",
   "metadata": {},
   "source": [
    "# Rotate keypoints_l"
   ]
  },
  {
   "cell_type": "code",
   "execution_count": 35,
   "id": "secondary-comedy",
   "metadata": {},
   "outputs": [],
   "source": [
    "A = keypoints_l[[0,5,9,13,17]].T\n",
    "\n",
    "B = np.array([[-94.6605,   1.4790,   3.3575],\n",
    "             [ -6.5632,  -3.7214,  24.0435],\n",
    "             [  0.0000,   0.0000,   0.0000],\n",
    "             [-12.9249,  -2.4785, -23.3157],\n",
    "             [-25.8735,  -8.4614, -39.8518]]).T\n",
    "\n",
    "R, t = rigid_transform_3D(A, B)\n",
    "\n",
    "\n",
    "pcd_keypoints_l = o3d.geometry.PointCloud()\n",
    "pcd_keypoints_l.points = o3d.utility.Vector3dVector(keypoints_l)\n",
    "\n",
    "pcd_keypoints_l.rotate(R, center=(0, 0, 0))\n",
    "pcd_keypoints_l.translate((t))\n",
    "\n",
    "keypoints_l_tr = np.asarray(pcd_keypoints_l.points)"
   ]
  },
  {
   "cell_type": "code",
   "execution_count": 34,
   "id": "improving-trustee",
   "metadata": {},
   "outputs": [
    {
     "data": {
      "text/plain": [
       "array([[-88.73018128,   0.87552646,   3.9319085 ],\n",
       "       [-62.94033548,   1.83508429,  26.88120907],\n",
       "       [-38.54293181, -11.00885654,  42.04497562],\n",
       "       [-16.55831508, -22.38908235,  54.29344605],\n",
       "       [  5.66166717, -33.80949364,  66.07100924],\n",
       "       [ -7.419612  ,  -1.02650716,  20.68112199],\n",
       "       [ 28.36644289,  -9.44211543,  20.0892651 ],\n",
       "       [ 47.73088828, -14.69923462,  19.61387729],\n",
       "       [ 65.66176963, -16.54997207,  19.87281518],\n",
       "       [ -7.52006015,  -2.92862808,  -0.82125588],\n",
       "       [ 29.79181368, -17.57373078,  -4.26524245],\n",
       "       [ 51.40623584, -27.3962317 ,  -5.94021693],\n",
       "       [ 69.40679806, -32.39748942,  -8.90370085],\n",
       "       [-12.8796294 ,  -4.50539909, -21.13214236],\n",
       "       [ 24.13672674, -13.64295261, -23.2835732 ],\n",
       "       [ 45.68322511, -20.40163762, -24.99887669],\n",
       "       [ 64.69960654, -21.82219099, -25.96846497],\n",
       "       [-23.47261716,  -5.59729214, -38.42613224],\n",
       "       [  6.79362163, -15.30944409, -40.90145552],\n",
       "       [ 22.82200468, -21.75293425, -42.13040155],\n",
       "       [ 39.57659914, -29.3099835 , -41.74826667]])"
      ]
     },
     "execution_count": 34,
     "metadata": {},
     "output_type": "execute_result"
    }
   ],
   "source": [
    "keypoints_l_tr"
   ]
  }
 ],
 "metadata": {
  "hide_input": false,
  "kernelspec": {
   "display_name": "Python 3",
   "language": "python",
   "name": "python3"
  },
  "language_info": {
   "codemirror_mode": {
    "name": "ipython",
    "version": 3
   },
   "file_extension": ".py",
   "mimetype": "text/x-python",
   "name": "python",
   "nbconvert_exporter": "python",
   "pygments_lexer": "ipython3",
   "version": "3.7.10"
  },
  "toc": {
   "base_numbering": 1,
   "nav_menu": {},
   "number_sections": true,
   "sideBar": true,
   "skip_h1_title": false,
   "title_cell": "Table of Contents",
   "title_sidebar": "Contents",
   "toc_cell": false,
   "toc_position": {},
   "toc_section_display": true,
   "toc_window_display": false
  },
  "varInspector": {
   "cols": {
    "lenName": 16,
    "lenType": 16,
    "lenVar": 40
   },
   "kernels_config": {
    "python": {
     "delete_cmd_postfix": "",
     "delete_cmd_prefix": "del ",
     "library": "var_list.py",
     "varRefreshCmd": "print(var_dic_list())"
    },
    "r": {
     "delete_cmd_postfix": ") ",
     "delete_cmd_prefix": "rm(",
     "library": "var_list.r",
     "varRefreshCmd": "cat(var_dic_list()) "
    }
   },
   "types_to_exclude": [
    "module",
    "function",
    "builtin_function_or_method",
    "instance",
    "_Feature"
   ],
   "window_display": false
  }
 },
 "nbformat": 4,
 "nbformat_minor": 5
}
