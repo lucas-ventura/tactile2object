{
 "cells": [
  {
   "cell_type": "code",
   "execution_count": 267,
   "id": "cutting-fifteen",
   "metadata": {},
   "outputs": [],
   "source": [
    "from utils import *"
   ]
  },
  {
   "cell_type": "code",
   "execution_count": 2,
   "id": "french-provincial",
   "metadata": {},
   "outputs": [],
   "source": [
    "%load_ext autoreload\n",
    "%autoreload 2"
   ]
  },
  {
   "cell_type": "markdown",
   "id": "labeled-singing",
   "metadata": {},
   "source": [
    "#### Load data"
   ]
  },
  {
   "cell_type": "code",
   "execution_count": 3,
   "id": "floral-argentina",
   "metadata": {},
   "outputs": [],
   "source": [
    "xlsx_pth = \"C:/Users/lucas/Desktop/UPC/MIT/tactile2object/manus/recorded_data.xlsx\"\n",
    "data = Data(xlsx_pth)\n",
    "positions_FT = data.getFingertips()"
   ]
  },
  {
   "cell_type": "markdown",
   "id": "revised-volume",
   "metadata": {},
   "source": [
    "#### Get real data"
   ]
  },
  {
   "cell_type": "code",
   "execution_count": 254,
   "id": "exclusive-cowboy",
   "metadata": {
    "run_control": {
     "marked": false
    }
   },
   "outputs": [],
   "source": [
    "bone = 'LeftSecondFT'\n",
    "frames = [5900, 6009, 6190, 6340, 6423, 7690]\n",
    "\n",
    "touch_locations_real = get_touch_locations_real(positions_FT, bone, frames)"
   ]
  },
  {
   "cell_type": "markdown",
   "id": "settled-madonna",
   "metadata": {},
   "source": [
    "#### Get simulated data"
   ]
  },
  {
   "cell_type": "code",
   "execution_count": 255,
   "id": "complicated-execution",
   "metadata": {},
   "outputs": [],
   "source": [
    "mesh_pth = \"C:/Users/lucas/Desktop/UPC/MIT/tactile2object/estimate_object_pose/ycb_converted/035_power_drill.ply\"\n",
    "picked_ids = [6796, 5958, 3626, 153, 563, 4257]\n",
    "touch_locations_simu, pcd = get_touch_locations_simu(mesh_pth, picked_ids=picked_ids, scale=1.)"
   ]
  },
  {
   "cell_type": "markdown",
   "id": "extreme-lottery",
   "metadata": {},
   "source": [
    "#### Translate and rotate real points"
   ]
  },
  {
   "cell_type": "code",
   "execution_count": 258,
   "id": "clear-level",
   "metadata": {},
   "outputs": [],
   "source": [
    "Q = np.array(touch_locations_simu).T\n",
    "P = np.array(touch_locations_real).T\n",
    "\n",
    "R, t = rigid_transform_3D(P, Q)\n",
    "\n",
    "#plot_bar_values(norm_values)"
   ]
  },
  {
   "cell_type": "code",
   "execution_count": 259,
   "id": "married-sight",
   "metadata": {},
   "outputs": [],
   "source": [
    "red = [225/255, 87/255, 89/255]\n",
    "orange = [242/255, 142/255, 43/255]\n",
    "yellow = [237/255, 201/255, 72/255]\n",
    "blue = [78/255, 121/255, 167/255]\n",
    "green = [89/255, 161/255, 79/255]"
   ]
  },
  {
   "cell_type": "code",
   "execution_count": 261,
   "id": "specialized-monthly",
   "metadata": {},
   "outputs": [],
   "source": [
    "touch_locations_real_tr = (R.dot(touch_locations_real.T) + t).T\n",
    "\n",
    "balls_real_tr = get_balls(touch_locations_real_tr, color=[0,1,0])\n",
    "balls_simu = get_balls(touch_locations_simu)"
   ]
  },
  {
   "cell_type": "code",
   "execution_count": 262,
   "id": "international-substance",
   "metadata": {},
   "outputs": [],
   "source": [
    "line_set = get_lines(touch_locations_real_tr, touch_locations_simu)\n",
    "\n",
    "visualize = [pcd] + balls_real_tr + balls_simu + [line_set]\n",
    "\n",
    "o3d.visualization.draw_geometries(visualize, zoom=0.9,\n",
    "                                  front=[0.0, 0.0, -0.5],\n",
    "                                  lookat=[0.0, 0.0, 0.0],\n",
    "                                  up=[0.0, 0.4, 0.0])"
   ]
  },
  {
   "cell_type": "markdown",
   "id": "opposite-behavior",
   "metadata": {},
   "source": [
    "#### Translate and rotate simulated points"
   ]
  },
  {
   "cell_type": "code",
   "execution_count": 263,
   "id": "lesser-generator",
   "metadata": {},
   "outputs": [],
   "source": [
    "Q = np.array(touch_locations_real).T\n",
    "P = np.array(touch_locations_simu).T \n",
    "\n",
    "R, t = rigid_transform_3D(P, Q)"
   ]
  },
  {
   "cell_type": "code",
   "execution_count": 265,
   "id": "criminal-prize",
   "metadata": {},
   "outputs": [],
   "source": [
    "import copy\n",
    "\n",
    "touch_locations_simu_tr = (R.dot(touch_locations_simu.T) + t).T\n",
    "\n",
    "balls_real = get_balls(touch_locations_real)\n",
    "balls_simu_tr = get_balls(touch_locations_simu_tr, color=[0,1,0])\n",
    "\n",
    "line_set = get_lines(touch_locations_real, touch_locations_simu_tr)\n",
    "\n",
    "pcd_tr = copy.deepcopy(pcd)\n",
    "pcd_tr.rotate(R, center=(0, 0, 0))\n",
    "pcd_tr.translate((t))\n",
    "\n",
    "visualize = [pcd_tr] + balls_real + balls_simu_tr + [line_set]\n",
    "\n",
    "o3d.visualization.draw_geometries(visualize)"
   ]
  },
  {
   "cell_type": "markdown",
   "id": "collaborative-people",
   "metadata": {},
   "source": [
    "#### Save keypoints for MANO"
   ]
  },
  {
   "cell_type": "code",
   "execution_count": 268,
   "id": "given-crossing",
   "metadata": {},
   "outputs": [],
   "source": [
    "positions_order_l = [\n",
    "    \"LeftCarpus\",\n",
    "    \"LeftSecondPP\",\n",
    "    \"LeftSecondMP\",\n",
    "    \"LeftSecondDP\",\n",
    "    \"LeftThirdPP\",\n",
    "    \"LeftThirdMP\",\n",
    "    \"LeftThirdDP\",\n",
    "    \"LeftFifthPP\",\n",
    "    \"LeftFifthMP\",\n",
    "    \"LeftFifthDP\",\n",
    "    \"LeftFourthPP\",\n",
    "    \"LeftFourthMP\",\n",
    "    \"LeftFourthDP\",\n",
    "    \"LeftFirstMC\",\n",
    "    \"LeftFirstPP\",\n",
    "    \"LeftFirstDP\",\n",
    "    \"LeftSecondFT\",\n",
    "    \"LeftThirdFT\",\n",
    "    \"LeftFifthFT\",\n",
    "    \"LeftFourthFT\",    \n",
    "    \"LeftFirstFT\"    \n",
    "]\n",
    "\n",
    "positions_order_r = [position.replace(\"Left\", \"Right\") for position in positions_order_l]"
   ]
  },
  {
   "cell_type": "code",
   "execution_count": 279,
   "id": "acoustic-float",
   "metadata": {},
   "outputs": [],
   "source": [
    "from mpl_toolkits.mplot3d import Axes3D\n",
    "import matplotlib.pyplot as plt\n",
    "\n",
    "frame = 0\n",
    "\n",
    "fig = plt.figure()\n",
    "ax = fig.gca(projection='3d')\n",
    "\n",
    "for i, a in enumerate(positions_order_l):\n",
    "    x, y, z = positions_FT.loc[frame, a]\n",
    "    \n",
    "    ax.scatter(xs=x, ys=y, zs=z)\n",
    "    ax.text(x, y, z, str(i), zdir=None)\n",
    "    \n",
    "set_axes_equal(ax)\n",
    "plt.axis('off')\n",
    "ax.view_init(azim=110, elev=168)\n"
   ]
  },
  {
   "cell_type": "code",
   "execution_count": 280,
   "id": "decreased-duncan",
   "metadata": {},
   "outputs": [],
   "source": [
    "frame = 0\n",
    "\n",
    "keypoints_l = np.zeros((len(positions_order_l), 3))\n",
    "\n",
    "zero = 'LeftThirdMC'\n",
    "#zero = 'LeftThirdPP'\n",
    "position_zero = positions_FT.loc[frame, zero] * 1000 \n",
    "\n",
    "for i, position in enumerate(positions_order):\n",
    "    keypoints_l[i,:] = positions_FT.loc[frame, position] * 1000 - position_zero"
   ]
  },
  {
   "cell_type": "code",
   "execution_count": 281,
   "id": "loving-selection",
   "metadata": {},
   "outputs": [],
   "source": [
    "frame = 0\n",
    "\n",
    "keypoints_r = np.zeros((len(positions_order_r), 3))\n",
    "\n",
    "zero = 'RightThirdMC'\n",
    "position_zero = positions_FT.loc[frame, zero] * 1000 \n",
    "\n",
    "for i, position in enumerate(positions_order_r):\n",
    "    keypoints_r[i,:] = positions_FT.loc[frame, position] * 1000 - position_zero"
   ]
  }
 ],
 "metadata": {
  "hide_input": false,
  "kernelspec": {
   "display_name": "Python 3",
   "language": "python",
   "name": "python3"
  },
  "language_info": {
   "codemirror_mode": {
    "name": "ipython",
    "version": 3
   },
   "file_extension": ".py",
   "mimetype": "text/x-python",
   "name": "python",
   "nbconvert_exporter": "python",
   "pygments_lexer": "ipython3",
   "version": "3.7.10"
  },
  "toc": {
   "base_numbering": 1,
   "nav_menu": {},
   "number_sections": true,
   "sideBar": true,
   "skip_h1_title": false,
   "title_cell": "Table of Contents",
   "title_sidebar": "Contents",
   "toc_cell": false,
   "toc_position": {},
   "toc_section_display": true,
   "toc_window_display": false
  },
  "varInspector": {
   "cols": {
    "lenName": 16,
    "lenType": 16,
    "lenVar": 40
   },
   "kernels_config": {
    "python": {
     "delete_cmd_postfix": "",
     "delete_cmd_prefix": "del ",
     "library": "var_list.py",
     "varRefreshCmd": "print(var_dic_list())"
    },
    "r": {
     "delete_cmd_postfix": ") ",
     "delete_cmd_prefix": "rm(",
     "library": "var_list.r",
     "varRefreshCmd": "cat(var_dic_list()) "
    }
   },
   "types_to_exclude": [
    "module",
    "function",
    "builtin_function_or_method",
    "instance",
    "_Feature"
   ],
   "window_display": false
  }
 },
 "nbformat": 4,
 "nbformat_minor": 5
}
