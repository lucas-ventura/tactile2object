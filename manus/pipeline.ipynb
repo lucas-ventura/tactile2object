{
 "cells": [
  {
   "cell_type": "code",
   "execution_count": 184,
   "id": "cutting-fifteen",
   "metadata": {},
   "outputs": [],
   "source": [
    "from utils import *\n",
    "from icp import *"
   ]
  },
  {
   "cell_type": "code",
   "execution_count": 2,
   "id": "french-provincial",
   "metadata": {},
   "outputs": [],
   "source": [
    "%load_ext autoreload\n",
    "%autoreload 2"
   ]
  },
  {
   "cell_type": "markdown",
   "id": "labeled-singing",
   "metadata": {},
   "source": [
    "#### Load data"
   ]
  },
  {
   "cell_type": "code",
   "execution_count": 3,
   "id": "floral-argentina",
   "metadata": {},
   "outputs": [],
   "source": [
    "xlsx_pth = \"C:/Users/lucas/Desktop/UPC/MIT/tactile2object/manus/recorded_data.xlsx\"\n",
    "data = Data(xlsx_pth)\n",
    "positions_FT = data.getFingertips()"
   ]
  },
  {
   "cell_type": "markdown",
   "id": "revised-volume",
   "metadata": {},
   "source": [
    "#### Get real data"
   ]
  },
  {
   "cell_type": "code",
   "execution_count": 4,
   "id": "exclusive-cowboy",
   "metadata": {
    "run_control": {
     "marked": false
    }
   },
   "outputs": [],
   "source": [
    "bone = 'LeftSecondFT'\n",
    "frames = [5900, 6009, 6190, 6340, 6423, 7690]\n",
    "\n",
    "touch_locations_real = get_touch_locations_real(positions_FT, bone, frames)"
   ]
  },
  {
   "cell_type": "markdown",
   "id": "settled-madonna",
   "metadata": {},
   "source": [
    "#### Get simulated data"
   ]
  },
  {
   "cell_type": "code",
   "execution_count": 5,
   "id": "complicated-execution",
   "metadata": {},
   "outputs": [],
   "source": [
    "mesh_pth = \"C:/Users/lucas/Desktop/UPC/MIT/tactile2object/estimate_object_pose/ycb_converted/035_power_drill.ply\"\n",
    "picked_ids = [6796, 5958, 3626, 153, 563, 4257]\n",
    "touch_locations_simu, pcd = get_touch_locations_simu(mesh_pth, picked_ids=picked_ids, scale=1.)"
   ]
  },
  {
   "cell_type": "markdown",
   "id": "extreme-lottery",
   "metadata": {},
   "source": [
    "#### Translate and rotate real points"
   ]
  },
  {
   "cell_type": "code",
   "execution_count": 6,
   "id": "clear-level",
   "metadata": {},
   "outputs": [],
   "source": [
    "Q = np.array(touch_locations_simu).T\n",
    "P = np.array(touch_locations_real).T\n",
    "\n",
    "P_values, norm_values, corresp_values, R, t = icp_svd(P, Q)\n",
    "\n",
    "#plot_bar_values(norm_values)"
   ]
  },
  {
   "cell_type": "code",
   "execution_count": 7,
   "id": "married-sight",
   "metadata": {},
   "outputs": [],
   "source": [
    "red = [225/255, 87/255, 89/255]\n",
    "orange = [242/255, 142/255, 43/255]\n",
    "yellow = [237/255, 201/255, 72/255]\n",
    "blue = [78/255, 121/255, 167/255]\n",
    "green = [89/255, 161/255, 79/255]"
   ]
  },
  {
   "cell_type": "code",
   "execution_count": 8,
   "id": "specialized-monthly",
   "metadata": {},
   "outputs": [],
   "source": [
    "touch_locations_real_tr = (R[0].dot(touch_locations_real.T) + t[0]).T\n",
    "\n",
    "balls_real_tr = get_balls(touch_locations_real_tr, color=[0,1,0])\n",
    "balls_simu = get_balls(touch_locations_simu)"
   ]
  },
  {
   "cell_type": "code",
   "execution_count": 9,
   "id": "international-substance",
   "metadata": {},
   "outputs": [],
   "source": [
    "line_set = get_lines(touch_locations_real_tr, touch_locations_simu)\n",
    "\n",
    "visualize = [pcd] + balls_real_tr + balls_simu + [line_set]\n",
    "\n",
    "o3d.visualization.draw_geometries(visualize, zoom=0.9,\n",
    "                                  front=[0.0, 0.0, -0.5],\n",
    "                                  lookat=[0.0, 0.0, 0.0],\n",
    "                                  up=[0.0, 0.4, 0.0])"
   ]
  },
  {
   "cell_type": "markdown",
   "id": "opposite-behavior",
   "metadata": {},
   "source": [
    "#### Translate and rotate simulated points"
   ]
  },
  {
   "cell_type": "code",
   "execution_count": 10,
   "id": "lesser-generator",
   "metadata": {},
   "outputs": [],
   "source": [
    "Q = np.array(touch_locations_real).T\n",
    "P = np.array(touch_locations_simu).T \n",
    "\n",
    "P_values, norm_values, corresp_values, R, t = icp_svd(P, Q)"
   ]
  },
  {
   "cell_type": "code",
   "execution_count": 11,
   "id": "criminal-prize",
   "metadata": {},
   "outputs": [],
   "source": [
    "import copy\n",
    "\n",
    "touch_locations_simu_tr = (R[0].dot(touch_locations_simu.T) + t[0]).T\n",
    "\n",
    "balls_real = get_balls(touch_locations_real)\n",
    "balls_simu_tr = get_balls(touch_locations_simu_tr, color=[0,1,0])\n",
    "\n",
    "line_set = get_lines(touch_locations_real, touch_locations_simu_tr)\n",
    "\n",
    "pcd_tr = copy.deepcopy(pcd)\n",
    "pcd_tr.rotate(R[0], center=(0, 0, 0))\n",
    "pcd_tr.translate((t[0]))\n",
    "\n",
    "visualize = [pcd_tr] + balls_real + balls_simu_tr + [line_set]\n",
    "\n",
    "o3d.visualization.draw_geometries(visualize)"
   ]
  },
  {
   "cell_type": "markdown",
   "id": "collaborative-people",
   "metadata": {},
   "source": [
    "#### Save keypoints for Minimal-IK: https://github.com/lucas-ventura/Minimal-IK"
   ]
  },
  {
   "cell_type": "code",
   "execution_count": 133,
   "id": "given-crossing",
   "metadata": {},
   "outputs": [],
   "source": [
    "positions_order_l = [\n",
    "    \"LeftCarpus\",\n",
    "    \"LeftSecondPP\",\n",
    "    \"LeftSecondMP\",\n",
    "    \"LeftSecondDP\",\n",
    "    \"LeftThirdPP\",\n",
    "    \"LeftThirdMP\",\n",
    "    \"LeftThirdDP\",\n",
    "    \"LeftFifthPP\",\n",
    "    \"LeftFifthMP\",\n",
    "    \"LeftFifthDP\",\n",
    "    \"LeftFourthPP\",\n",
    "    \"LeftFourthMP\",\n",
    "    \"LeftFourthDP\",\n",
    "    \"LeftFirstMC\",\n",
    "    \"LeftFirstPP\",\n",
    "    \"LeftFirstDP\",\n",
    "    \"LeftSecondFT\",\n",
    "    \"LeftThirdFT\",\n",
    "    \"LeftFifthFT\",\n",
    "    \"LeftFourthFT\",    \n",
    "    \"LeftFirstFT\"    \n",
    "]\n",
    "\n",
    "positions_order_r = [position.replace(\"Left\", \"Right\") for position in positions_order_l]"
   ]
  },
  {
   "cell_type": "code",
   "execution_count": 138,
   "id": "acoustic-float",
   "metadata": {},
   "outputs": [
    {
     "data": {
      "image/png": "[encoded data removed]",
      "text/plain": [
       "<Figure size 432x288 with 1 Axes>"
      ]
     },
     "metadata": {
      "needs_background": "light"
     },
     "output_type": "display_data"
    }
   ],
   "source": [
    "from mpl_toolkits.mplot3d import Axes3D\n",
    "import matplotlib.pyplot as plt\n",
    "\n",
    "frame = 0\n",
    "\n",
    "fig = plt.figure()\n",
    "ax = fig.gca(projection='3d')\n",
    "\n",
    "for i, a in enumerate(positions_order_l):\n",
    "    x, y, z = positions_FT.loc[frame, a]\n",
    "    \n",
    "    ax.scatter(xs=x, ys=y, zs=z)\n",
    "    ax.text(x, y, z, str(i), zdir=None)\n",
    "    \n",
    "set_axes_equal(ax)\n",
    "plt.axis('off')\n",
    "ax.view_init(azim=110, elev=168)\n"
   ]
  },
  {
   "cell_type": "code",
   "execution_count": 230,
   "id": "decreased-duncan",
   "metadata": {},
   "outputs": [],
   "source": [
    "frame = 0\n",
    "\n",
    "keypoints_l = np.zeros((len(positions_order_l), 3))\n",
    "\n",
    "zero = 'LeftThirdMC'\n",
    "#zero = 'LeftThirdPP'\n",
    "position_zero = positions_FT.loc[frame, zero] * 1000 \n",
    "\n",
    "for i, position in enumerate(positions_order):\n",
    "    keypoints_l[i,:] = positions_FT.loc[frame, position] * 1000 - position_zero"
   ]
  },
  {
   "cell_type": "code",
   "execution_count": 231,
   "id": "continued-knock",
   "metadata": {},
   "outputs": [],
   "source": [
    "frame = 0\n",
    "\n",
    "keypoints_r = np.zeros((len(positions_order_r), 3))\n",
    "\n",
    "zero = 'RightThirdMC'\n",
    "position_zero = positions_FT.loc[frame, zero] * 1000 \n",
    "\n",
    "for i, position in enumerate(positions_order_r):\n",
    "    keypoints_r[i,:] = positions_FT.loc[frame, position] * 1000 - position_zero"
   ]
  },
  {
   "cell_type": "code",
   "execution_count": null,
   "id": "genetic-magnitude",
   "metadata": {},
   "outputs": [],
   "source": []
  },
  {
   "cell_type": "code",
   "execution_count": null,
   "id": "breathing-breath",
   "metadata": {},
   "outputs": [],
   "source": []
  },
  {
   "cell_type": "code",
   "execution_count": 239,
   "id": "opposed-corporation",
   "metadata": {},
   "outputs": [],
   "source": [
    "keypoints_good = np.array([[-95.53322195,   6.1376292 ,   6.73638864],\n",
    "       [ -7.69241536,  -1.18710016,  26.26170709],\n",
    "       [ 21.46253033, -10.7198775 ,  27.21687341],\n",
    "       [ 30.63774573, -29.50169105,  25.25336972],\n",
    "       [ -1.57865789,   1.67276166,   2.76567331],\n",
    "       [ 23.5806365 , -12.18996083,  -3.06957218],\n",
    "       [ 30.75652446, -32.54639175,  -4.80338862],\n",
    "       [-27.55583025,  -6.81872721, -35.52118432],\n",
    "       [-14.18079707, -19.41488623, -41.86147505],\n",
    "       [ -8.39424756, -36.39241795, -41.54591302],\n",
    "       [-14.42298769,  -0.14259532, -19.94776589],\n",
    "       [  7.67999418, -14.78846244, -21.35596484],\n",
    "       [ 13.17217426, -37.55476823, -20.8253434 ],\n",
    "       [-71.12685402, -11.53892178,  29.00818356],\n",
    "       [-47.74792778, -22.81355066,  43.65746983],\n",
    "       [-23.28601794, -35.47436172,  45.41063056],\n",
    "       [ 35.40595816, -54.11519387,  23.04849711],\n",
    "       [ 32.07109635, -58.82097813,  -4.55575451],\n",
    "       [ -6.78803951, -55.9430069 , -36.2890317 ],\n",
    "       [ 10.99231677, -62.27299013, -14.82436243],\n",
    "       [  4.56502353, -56.89586174,  47.89368941]])\n",
    "\n",
    "Q = np.array(keypoints_good[[0, 1,4,10,7], :]).T\n",
    "P = np.array(keypoints_l[[0, 1,4,10,7], :]).T \n",
    "\n",
    "P_values, norm_values, corresp_values, R, t = icp_svd(P, Q)"
   ]
  },
  {
   "cell_type": "code",
   "execution_count": 240,
   "id": "every-verification",
   "metadata": {},
   "outputs": [],
   "source": [
    "pcd_good = o3d.geometry.PointCloud()\n",
    "pcd_good.points = o3d.utility.Vector3dVector(keypoints_good[[0, 1,4,10,7], :])\n",
    "pcd_good.paint_uniform_color([1, 0.7, 0])\n",
    "\n",
    "pcd = o3d.geometry.PointCloud()\n",
    "pcd.points = o3d.utility.Vector3dVector(keypoints_l[[0, 1,4,10,7], :])\n",
    "pcd.paint_uniform_color([0, 1, 0])\n",
    "\n",
    "pcd_tr = copy.deepcopy(pcd)\n",
    "pcd_tr.rotate(R[0], center=(0, 0, 0))\n",
    "pcd_tr.translate((t[0]))\n",
    "\n",
    "o3d.visualization.draw_geometries([pcd_good, pcd_tr])"
   ]
  },
  {
   "cell_type": "code",
   "execution_count": 242,
   "id": "bottom-trout",
   "metadata": {},
   "outputs": [],
   "source": [
    "# New"
   ]
  },
  {
   "cell_type": "code",
   "execution_count": 241,
   "id": "rotary-electric",
   "metadata": {},
   "outputs": [],
   "source": [
    "def rigid_transform_3D(A, B):\n",
    "    assert A.shape == B.shape\n",
    "\n",
    "    num_rows, num_cols = A.shape\n",
    "    if num_rows != 3:\n",
    "        raise Exception(f\"matrix A is not 3xN, it is {num_rows}x{num_cols}\")\n",
    "\n",
    "    num_rows, num_cols = B.shape\n",
    "    if num_rows != 3:\n",
    "        raise Exception(f\"matrix B is not 3xN, it is {num_rows}x{num_cols}\")\n",
    "\n",
    "    # find mean column wise\n",
    "    centroid_A = np.mean(A, axis=1)\n",
    "    centroid_B = np.mean(B, axis=1)\n",
    "\n",
    "    # ensure centroids are 3x1\n",
    "    centroid_A = centroid_A.reshape(-1, 1)\n",
    "    centroid_B = centroid_B.reshape(-1, 1)\n",
    "\n",
    "    # subtract mean\n",
    "    Am = A - centroid_A\n",
    "    Bm = B - centroid_B\n",
    "\n",
    "    H = Am @ np.transpose(Bm)\n",
    "\n",
    "    # sanity check\n",
    "    #if linalg.matrix_rank(H) < 3:\n",
    "    #    raise ValueError(\"rank of H = {}, expecting 3\".format(linalg.matrix_rank(H)))\n",
    "\n",
    "    # find rotation\n",
    "    U, S, Vt = np.linalg.svd(H)\n",
    "    R = Vt.T @ U.T\n",
    "\n",
    "    # special reflection case\n",
    "    if np.linalg.det(R) < 0:\n",
    "        print(\"det(R) < R, reflection detected!, correcting for it ...\")\n",
    "        Vt[2,:] *= -1\n",
    "        R = Vt.T @ U.T\n",
    "\n",
    "    t = -R @ centroid_A + centroid_B\n",
    "\n",
    "    return R, t"
   ]
  },
  {
   "cell_type": "code",
   "execution_count": 244,
   "id": "immune-summit",
   "metadata": {},
   "outputs": [
    {
     "name": "stdout",
     "output_type": "stream",
     "text": [
      "det(R) < R, reflection detected!, correcting for it ...\n"
     ]
    }
   ],
   "source": [
    "A = keypoints_l[[0, 1,4,10,7], :].T\n",
    "B = keypoints_good[[0, 1,4,10,7], :].T\n",
    "\n",
    "\n",
    "ret_R, ret_t = rigid_transform_3D(A, B)\n",
    "\n",
    "# Compare the recovered R and t with the original\n",
    "B2 = (ret_R@A) + ret_t"
   ]
  },
  {
   "cell_type": "code",
   "execution_count": 248,
   "id": "international-supplement",
   "metadata": {},
   "outputs": [
    {
     "name": "stdout",
     "output_type": "stream",
     "text": [
      "[Open3D WARNING] GLFW Error: WGL: Failed to make context current: The handle is invalid. \n",
      "[Open3D WARNING] GLFW Error: WGL: Failed to make context current: The handle is invalid. \n"
     ]
    }
   ],
   "source": [
    "pcd_good = o3d.geometry.PointCloud()\n",
    "pcd_good.points = o3d.utility.Vector3dVector(keypoints_good)\n",
    "pcd_good.paint_uniform_color([1, 0.7, 0])\n",
    "\n",
    "pcd = o3d.geometry.PointCloud()\n",
    "pcd.points = o3d.utility.Vector3dVector(keypoints_l)\n",
    "pcd.paint_uniform_color([0, 1, 0])\n",
    "\n",
    "pcd_tr = copy.deepcopy(pcd)\n",
    "pcd_tr.rotate(ret_R, center=(0, 0, 0))\n",
    "pcd_tr.translate((ret_t))\n",
    "\n",
    "o3d.visualization.draw_geometries([pcd_good, pcd_tr])"
   ]
  },
  {
   "cell_type": "code",
   "execution_count": 249,
   "id": "freelance-renewal",
   "metadata": {},
   "outputs": [
    {
     "data": {
      "text/plain": [
       "array([[-89.87277932,   5.3999819 ,   7.49287114],\n",
       "       [ -8.52228508,   1.555172  ,  23.70635578],\n",
       "       [ 27.00695056,  -7.88147696,  23.04487724],\n",
       "       [ 46.21143013, -13.69398138,  22.54708446],\n",
       "       [ -8.84077543,  -0.80402868,   2.25144622],\n",
       "       [ 28.01634077, -16.57062388,  -1.13728034],\n",
       "       [ 49.3320667 , -27.03508528,  -2.75133882],\n",
       "       [-25.14940702,  -3.82559184, -35.17356227],\n",
       "       [  4.81143442, -14.44200549, -37.65107561],\n",
       "       [ 20.64209099, -21.36179629, -38.85305105],\n",
       "       [-14.3978663 ,  -2.66356521, -17.98229204],\n",
       "       [ 22.32887943, -12.88999824, -20.19597149],\n",
       "       [ 43.66270118, -20.29151886, -21.91621076],\n",
       "       [-63.89131585,   6.120577  ,  30.23383841],\n",
       "       [-39.75007211,  -7.08113384,  45.49998134],\n",
       "       [-18.0016625 , -18.81422963,  57.83688056],\n",
       "       [ 64.08452286, -16.04590017,  22.71976376],\n",
       "       [ 67.1614155 , -32.60661504,  -5.73251864],\n",
       "       [ 37.17960953, -29.38046335, -38.42536526],\n",
       "       [ 62.62354956, -22.27061875, -22.98869773],\n",
       "       [  3.97727768, -30.60425118,  69.70220737]])"
      ]
     },
     "execution_count": 249,
     "metadata": {},
     "output_type": "execute_result"
    }
   ],
   "source": [
    "np.asarray(pcd_tr.points)"
   ]
  },
  {
   "cell_type": "code",
   "execution_count": null,
   "id": "nominated-execution",
   "metadata": {},
   "outputs": [],
   "source": []
  }
 ],
 "metadata": {
  "hide_input": false,
  "kernelspec": {
   "display_name": "Python 3",
   "language": "python",
   "name": "python3"
  },
  "language_info": {
   "codemirror_mode": {
    "name": "ipython",
    "version": 3
   },
   "file_extension": ".py",
   "mimetype": "text/x-python",
   "name": "python",
   "nbconvert_exporter": "python",
   "pygments_lexer": "ipython3",
   "version": "3.7.10"
  },
  "toc": {
   "base_numbering": 1,
   "nav_menu": {},
   "number_sections": true,
   "sideBar": true,
   "skip_h1_title": false,
   "title_cell": "Table of Contents",
   "title_sidebar": "Contents",
   "toc_cell": false,
   "toc_position": {},
   "toc_section_display": true,
   "toc_window_display": false
  },
  "varInspector": {
   "cols": {
    "lenName": 16,
    "lenType": 16,
    "lenVar": 40
   },
   "kernels_config": {
    "python": {
     "delete_cmd_postfix": "",
     "delete_cmd_prefix": "del ",
     "library": "var_list.py",
     "varRefreshCmd": "print(var_dic_list())"
    },
    "r": {
     "delete_cmd_postfix": ") ",
     "delete_cmd_prefix": "rm(",
     "library": "var_list.r",
     "varRefreshCmd": "cat(var_dic_list()) "
    }
   },
   "types_to_exclude": [
    "module",
    "function",
    "builtin_function_or_method",
    "instance",
    "_Feature"
   ],
   "window_display": false
  }
 },
 "nbformat": 4,
 "nbformat_minor": 5
}
