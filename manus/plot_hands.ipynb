{
 "cells": [
  {
   "cell_type": "code",
   "execution_count": 7,
   "id": "sapphire-february",
   "metadata": {},
   "outputs": [],
   "source": [
    "import numpy as np\n",
    "import pandas as pd\n",
    "import os\n",
    "\n",
    "from matplotlib import pyplot as plt\n",
    "from mpl_toolkits.mplot3d import Axes3D\n",
    "from mpl_toolkits.mplot3d.art3d import Poly3DCollection\n",
    "import numpy as np"
   ]
  },
  {
   "cell_type": "code",
   "execution_count": 82,
   "id": "colored-bridal",
   "metadata": {},
   "outputs": [],
   "source": [
    "%matplotlib inline"
   ]
  },
  {
   "cell_type": "code",
   "execution_count": 83,
   "id": "french-alloy",
   "metadata": {},
   "outputs": [],
   "source": [
    "%matplotlib qt"
   ]
  },
  {
   "cell_type": "code",
   "execution_count": 90,
   "id": "limited-scholar",
   "metadata": {},
   "outputs": [],
   "source": [
    "positionFingersLeft = pd.read_excel(\"C:/Users/lucas/Desktop/UPC/MIT/tactile2object/manus/New Session-002.xlsx\", sheet_name=\"ns1 positionFingersLeft\")\n",
    "positionFingersRight = pd.read_excel(\"C:/Users/lucas/Desktop/UPC/MIT/tactile2object/manus/New Session-002.xlsx\", sheet_name=\"ns1 positionFingersRight\")"
   ]
  },
  {
   "cell_type": "markdown",
   "id": "accepted-picture",
   "metadata": {},
   "source": [
    "# Plot xyz"
   ]
  },
  {
   "cell_type": "markdown",
   "id": "controlled-rabbit",
   "metadata": {},
   "source": [
    "## Left fingers"
   ]
  },
  {
   "cell_type": "code",
   "execution_count": null,
   "id": "loved-investor",
   "metadata": {},
   "outputs": [],
   "source": [
    "x_positions = [position for position in list(positionFingersLeft.columns) if \"_x\" in position]\n",
    "y_positions = [position for position in list(positionFingersLeft.columns) if \"_y\" in position]\n",
    "z_positions = [position for position in list(positionFingersLeft.columns) if \"_z\" in position]\n",
    "\n",
    "positions = [position.split(\"_\")[0] for position in list(positionFingersLeft.columns)]\n",
    "# Remove duplicates\n",
    "positions = list(dict.fromkeys(positions))"
   ]
  },
  {
   "cell_type": "code",
   "execution_count": 118,
   "id": "unexpected-laundry",
   "metadata": {},
   "outputs": [],
   "source": [
    "positionFingersLeft_xyz = positionFingersLeft.copy()\n",
    "\n",
    "positionFingersLeft_xyz['x'] = positionFingersLeft_xyz.apply(lambda x: \n",
    "                                                  list([x[position] for position in x_positions]), axis=1)\n",
    "\n",
    "positionFingersLeft_xyz['y'] = positionFingersLeft_xyz.apply(lambda x: \n",
    "                                                  list([x[position] for position in y_positions]), axis=1)\n",
    "\n",
    "positionFingersLeft_xyz['z'] = positionFingersLeft_xyz.apply(lambda x: \n",
    "                                                  list([x[position] for position in z_positions]), axis=1)\n",
    "\n",
    "for position in positions:\n",
    "    del positionFingersLeft_xyz[position + \"_x\"]\n",
    "    del positionFingersLeft_xyz[position + \"_y\"]\n",
    "    del positionFingersLeft_xyz[position + \"_z\"]"
   ]
  },
  {
   "cell_type": "markdown",
   "id": "sporting-arcade",
   "metadata": {},
   "source": [
    "## Right fingers"
   ]
  },
  {
   "cell_type": "code",
   "execution_count": 131,
   "id": "linear-representation",
   "metadata": {},
   "outputs": [],
   "source": [
    "x_positions = [position for position in list(positionFingersRight.columns) if \"_x\" in position]\n",
    "y_positions = [position for position in list(positionFingersRight.columns) if \"_y\" in position]\n",
    "z_positions = [position for position in list(positionFingersRight.columns) if \"_z\" in position]\n",
    "\n",
    "positions = [position.split(\"_\")[0] for position in list(positionFingersRight.columns)]\n",
    "# Remove duplicates\n",
    "positions = list(dict.fromkeys(positions))"
   ]
  },
  {
   "cell_type": "code",
   "execution_count": 132,
   "id": "settled-advocate",
   "metadata": {},
   "outputs": [],
   "source": [
    "positionFingersRight_xyz = positionFingersRight.copy()\n",
    "\n",
    "positionFingersRight_xyz['x'] = positionFingersRight_xyz.apply(lambda x: \n",
    "                                                  list([x[position] for position in x_positions]), axis=1)\n",
    "\n",
    "positionFingersRight_xyz['y'] = positionFingersRight_xyz.apply(lambda x: \n",
    "                                                  list([x[position] for position in y_positions]), axis=1)\n",
    "\n",
    "positionFingersRight_xyz['z'] = positionFingersRight_xyz.apply(lambda x: \n",
    "                                                  list([x[position] for position in z_positions]), axis=1)\n",
    "\n",
    "for position in positions:\n",
    "    del positionFingersRight_xyz[position + \"_x\"]\n",
    "    del positionFingersRight_xyz[position + \"_y\"]\n",
    "    del positionFingersRight_xyz[position + \"_z\"]"
   ]
  },
  {
   "cell_type": "markdown",
   "id": "surface-constitutional",
   "metadata": {},
   "source": [
    "## Plot both hands"
   ]
  },
  {
   "cell_type": "code",
   "execution_count": 147,
   "id": "distinct-cabinet",
   "metadata": {},
   "outputs": [],
   "source": [
    "out_dir = \"C:/Users/lucas/Desktop/UPC/MIT/tactile2object/manus/New Session-002_png\""
   ]
  },
  {
   "cell_type": "code",
   "execution_count": 144,
   "id": "tough-nature",
   "metadata": {},
   "outputs": [],
   "source": [
    "def set_axes_equal(ax):\n",
    "    '''Make axes of 3D plot have equal scale so that spheres appear as spheres,\n",
    "    cubes as cubes, etc..  This is one possible solution to Matplotlib's\n",
    "    ax.set_aspect('equal') and ax.axis('equal') not working for 3D.\n",
    "\n",
    "    Input\n",
    "      ax: a matplotlib axis, e.g., as output from plt.gca().\n",
    "    '''\n",
    "\n",
    "    x_limits = ax.get_xlim3d()\n",
    "    y_limits = ax.get_ylim3d()\n",
    "    z_limits = ax.get_zlim3d()\n",
    "\n",
    "    x_range = abs(x_limits[1] - x_limits[0])\n",
    "    x_middle = np.mean(x_limits)\n",
    "    y_range = abs(y_limits[1] - y_limits[0])\n",
    "    y_middle = np.mean(y_limits)\n",
    "    z_range = abs(z_limits[1] - z_limits[0])\n",
    "    z_middle = np.mean(z_limits)\n",
    "    \n",
    "    \n",
    "    # The plot bounding box is a sphere in the sense of the infinity\n",
    "    # norm, hence I call half the max range the plot radius.\n",
    "    plot_radius = 0.5*max([x_range, y_range, z_range])\n",
    "    \n",
    "    ax.set_xlim3d([x_middle - plot_radius, x_middle + plot_radius])\n",
    "    print([x_middle - plot_radius, x_middle + plot_radius])\n",
    "    ax.set_ylim3d([y_middle - plot_radius, y_middle + plot_radius])\n",
    "    print([y_middle - plot_radius, y_middle + plot_radius])\n",
    "    ax.set_zlim3d([z_middle - plot_radius, z_middle + plot_radius])\n",
    "    print([z_middle - plot_radius, z_middle + plot_radius])"
   ]
  },
  {
   "cell_type": "code",
   "execution_count": 150,
   "id": "pursuant-marshall",
   "metadata": {},
   "outputs": [],
   "source": [
    "def set_fixed_axes(ax):\n",
    "    ax.set_xlim3d([-0.746, -0.250])\n",
    "    ax.set_ylim3d([-0.468, 0.027])\n",
    "    ax.set_zlim3d([0.307, 0.804])"
   ]
  },
  {
   "cell_type": "code",
   "execution_count": 151,
   "id": "formal-smooth",
   "metadata": {},
   "outputs": [],
   "source": [
    "def save_png(xyzs, i, out_dir):\n",
    "    # Save png\n",
    "    out_pth = os.path.join(out_dir, f\"frame_{i}.png\")\n",
    "\n",
    "    fig = plt.figure()\n",
    "    ax = fig.add_subplot(111, projection='3d')\n",
    "\n",
    "    xs, ys, zs = xyzs\n",
    "    ax.scatter(xs=xs, ys=ys, zs=zs, label=\"frame \" + str(i+1))\n",
    "    set_fixed_axes(ax)\n",
    "    plt.axis('off')\n",
    "    ax.view_init(azim=32, elev=162)\n",
    "    #plt.show()\n",
    "    plt.tight_layout()\n",
    "    #ax.legend()\n",
    "    plt.savefig(out_pth, transparent=False, edgecolor='none', dpi=300)\n",
    "    plt.close()"
   ]
  },
  {
   "cell_type": "code",
   "execution_count": 158,
   "id": "abstract-facial",
   "metadata": {},
   "outputs": [],
   "source": [
    "for frame in range(positionFingersLeft_xyz.shape[0]):\n",
    "    xs_left = positionFingersLeft_xyz.loc[frame,\"x\"]\n",
    "    ys_left = positionFingersLeft_xyz.loc[frame,\"y\"]\n",
    "    zs_left = positionFingersLeft_xyz.loc[frame,\"z\"]\n",
    "\n",
    "    xs_right = positionFingersRight_xyz.loc[frame,\"x\"]\n",
    "    ys_right = positionFingersRight_xyz.loc[frame,\"y\"]\n",
    "    zs_right = positionFingersRight_xyz.loc[frame,\"z\"]\n",
    "\n",
    "    xs = xs_left + xs_right\n",
    "    ys = ys_left + ys_right\n",
    "    zs = zs_left + zs_right\n",
    "\n",
    "    xyzs = (xs, ys, zs)\n",
    "\n",
    "    save_png(xyzs, frame, out_dir)\n",
    "    \n",
    "    break\n"
   ]
  },
  {
   "cell_type": "markdown",
   "id": "equivalent-concept",
   "metadata": {},
   "source": [
    "# Plot locations"
   ]
  },
  {
   "cell_type": "code",
   "execution_count": 166,
   "id": "temporal-housing",
   "metadata": {},
   "outputs": [],
   "source": [
    "frame = 0\n",
    "\n",
    "xs_left = positionFingersLeft_xyz.loc[frame,\"x\"]\n",
    "ys_left = positionFingersLeft_xyz.loc[frame,\"y\"]\n",
    "zs_left = positionFingersLeft_xyz.loc[frame,\"z\"]\n",
    "\n",
    "xs_right = positionFingersRight_xyz.loc[frame,\"x\"]\n",
    "ys_right = positionFingersRight_xyz.loc[frame,\"y\"]\n",
    "zs_right = positionFingersRight_xyz.loc[frame,\"z\"]\n",
    "\n",
    "xs = xs_left + xs_right\n",
    "ys = ys_left + ys_right\n",
    "zs = zs_left + zs_right\n",
    "\n",
    "\n",
    "xs = xs_right\n",
    "ys = ys_right\n",
    "zs = zs_right"
   ]
  },
  {
   "cell_type": "code",
   "execution_count": 167,
   "id": "accomplished-outline",
   "metadata": {},
   "outputs": [
    {
     "data": {
      "text/plain": [
       "['RightCarpus',\n",
       " 'RightFirstMC',\n",
       " 'RightFirstPP',\n",
       " 'RightFirstDP',\n",
       " 'RightSecondMC',\n",
       " 'RightSecondPP',\n",
       " 'RightSecondMP',\n",
       " 'RightSecondDP',\n",
       " 'RightThirdMC',\n",
       " 'RightThirdPP',\n",
       " 'RightThirdMP',\n",
       " 'RightThirdDP',\n",
       " 'RightFourthMC',\n",
       " 'RightFourthPP',\n",
       " 'RightFourthMP',\n",
       " 'RightFourthDP',\n",
       " 'RightFifthMC',\n",
       " 'RightFifthPP',\n",
       " 'RightFifthMP',\n",
       " 'RightFifthDP']"
      ]
     },
     "execution_count": 167,
     "metadata": {},
     "output_type": "execute_result"
    }
   ],
   "source": [
    "positions"
   ]
  },
  {
   "cell_type": "code",
   "execution_count": 172,
   "id": "wrapped-moses",
   "metadata": {},
   "outputs": [],
   "source": [
    "fig = plt.figure()\n",
    "ax = fig.add_subplot(111, projection='3d')\n",
    "\n",
    "for i, position in enumerate(positions):\n",
    "    ax.scatter(xs=xs[i], ys=ys[i], zs=zs[i], label=position)\n",
    "    \n",
    "set_fixed_axes(ax)\n",
    "plt.axis('off')\n",
    "ax.view_init(azim=153, elev=167)\n",
    "ax.legend()\n",
    "plt.show()"
   ]
  },
  {
   "cell_type": "code",
   "execution_count": null,
   "id": "capital-issue",
   "metadata": {},
   "outputs": [],
   "source": []
  }
 ],
 "metadata": {
  "hide_input": false,
  "kernelspec": {
   "display_name": "Python 3",
   "language": "python",
   "name": "python3"
  },
  "language_info": {
   "codemirror_mode": {
    "name": "ipython",
    "version": 3
   },
   "file_extension": ".py",
   "mimetype": "text/x-python",
   "name": "python",
   "nbconvert_exporter": "python",
   "pygments_lexer": "ipython3",
   "version": "3.7.10"
  },
  "toc": {
   "base_numbering": 1,
   "nav_menu": {},
   "number_sections": true,
   "sideBar": true,
   "skip_h1_title": false,
   "title_cell": "Table of Contents",
   "title_sidebar": "Contents",
   "toc_cell": false,
   "toc_position": {},
   "toc_section_display": true,
   "toc_window_display": false
  },
  "varInspector": {
   "cols": {
    "lenName": 16,
    "lenType": 16,
    "lenVar": 40
   },
   "kernels_config": {
    "python": {
     "delete_cmd_postfix": "",
     "delete_cmd_prefix": "del ",
     "library": "var_list.py",
     "varRefreshCmd": "print(var_dic_list())"
    },
    "r": {
     "delete_cmd_postfix": ") ",
     "delete_cmd_prefix": "rm(",
     "library": "var_list.r",
     "varRefreshCmd": "cat(var_dic_list()) "
    }
   },
   "types_to_exclude": [
    "module",
    "function",
    "builtin_function_or_method",
    "instance",
    "_Feature"
   ],
   "window_display": false
  }
 },
 "nbformat": 4,
 "nbformat_minor": 5
}
