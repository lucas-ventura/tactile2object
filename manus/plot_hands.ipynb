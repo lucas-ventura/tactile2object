{
 "cells": [
  {
   "cell_type": "code",
   "execution_count": 1,
   "id": "decreased-jackson",
   "metadata": {},
   "outputs": [],
   "source": [
    "import numpy as np\n",
    "import pandas as pd\n",
    "import os\n",
    "\n",
    "from matplotlib import pyplot as plt\n",
    "from mpl_toolkits.mplot3d import Axes3D\n",
    "from mpl_toolkits.mplot3d.art3d import Poly3DCollection\n",
    "import numpy as np"
   ]
  },
  {
   "cell_type": "code",
   "execution_count": 50,
   "id": "bored-campus",
   "metadata": {},
   "outputs": [],
   "source": [
    "%matplotlib inline"
   ]
  },
  {
   "cell_type": "code",
   "execution_count": 3,
   "id": "light-reminder",
   "metadata": {},
   "outputs": [],
   "source": [
    "%matplotlib qt"
   ]
  },
  {
   "cell_type": "code",
   "execution_count": 4,
   "id": "satellite-drive",
   "metadata": {},
   "outputs": [],
   "source": [
    "positionFingersLeft = pd.read_excel(\"C:/Users/lucas/Desktop/UPC/MIT/tactile2object/manus/New Session-002.xlsx\", sheet_name=\"ns1 positionFingersLeft\")\n",
    "positionFingersRight = pd.read_excel(\"C:/Users/lucas/Desktop/UPC/MIT/tactile2object/manus/New Session-002.xlsx\", sheet_name=\"ns1 positionFingersRight\")"
   ]
  },
  {
   "cell_type": "markdown",
   "id": "alive-calcium",
   "metadata": {},
   "source": [
    "# Plot xyz"
   ]
  },
  {
   "cell_type": "markdown",
   "id": "significant-intermediate",
   "metadata": {},
   "source": [
    "## Left fingers"
   ]
  },
  {
   "cell_type": "code",
   "execution_count": 5,
   "id": "living-french",
   "metadata": {},
   "outputs": [],
   "source": [
    "x_positions = [position for position in list(positionFingersLeft.columns) if \"_x\" in position]\n",
    "y_positions = [position for position in list(positionFingersLeft.columns) if \"_y\" in position]\n",
    "z_positions = [position for position in list(positionFingersLeft.columns) if \"_z\" in position]\n",
    "\n",
    "positions = [position.split(\"_\")[0] for position in list(positionFingersLeft.columns)]\n",
    "# Remove duplicates\n",
    "positions = list(dict.fromkeys(positions))"
   ]
  },
  {
   "cell_type": "code",
   "execution_count": 6,
   "id": "genuine-rough",
   "metadata": {},
   "outputs": [],
   "source": [
    "positionFingersLeft_xyz = positionFingersLeft.copy()\n",
    "\n",
    "positionFingersLeft_xyz['x'] = positionFingersLeft_xyz.apply(lambda x: \n",
    "                                                  list([x[position] for position in x_positions]), axis=1)\n",
    "\n",
    "positionFingersLeft_xyz['y'] = positionFingersLeft_xyz.apply(lambda x: \n",
    "                                                  list([x[position] for position in y_positions]), axis=1)\n",
    "\n",
    "positionFingersLeft_xyz['z'] = positionFingersLeft_xyz.apply(lambda x: \n",
    "                                                  list([x[position] for position in z_positions]), axis=1)\n",
    "\n",
    "for position in positions:\n",
    "    del positionFingersLeft_xyz[position + \"_x\"]\n",
    "    del positionFingersLeft_xyz[position + \"_y\"]\n",
    "    del positionFingersLeft_xyz[position + \"_z\"]"
   ]
  },
  {
   "cell_type": "markdown",
   "id": "reduced-pressure",
   "metadata": {},
   "source": [
    "## Right fingers"
   ]
  },
  {
   "cell_type": "code",
   "execution_count": 7,
   "id": "intended-surveillance",
   "metadata": {},
   "outputs": [],
   "source": [
    "x_positions = [position for position in list(positionFingersRight.columns) if \"_x\" in position]\n",
    "y_positions = [position for position in list(positionFingersRight.columns) if \"_y\" in position]\n",
    "z_positions = [position for position in list(positionFingersRight.columns) if \"_z\" in position]\n",
    "\n",
    "positions = [position.split(\"_\")[0] for position in list(positionFingersRight.columns)]\n",
    "# Remove duplicates\n",
    "positions = list(dict.fromkeys(positions))"
   ]
  },
  {
   "cell_type": "code",
   "execution_count": 8,
   "id": "virtual-geology",
   "metadata": {},
   "outputs": [],
   "source": [
    "positionFingersRight_xyz = positionFingersRight.copy()\n",
    "\n",
    "positionFingersRight_xyz['x'] = positionFingersRight_xyz.apply(lambda x: \n",
    "                                                  list([x[position] for position in x_positions]), axis=1)\n",
    "\n",
    "positionFingersRight_xyz['y'] = positionFingersRight_xyz.apply(lambda x: \n",
    "                                                  list([x[position] for position in y_positions]), axis=1)\n",
    "\n",
    "positionFingersRight_xyz['z'] = positionFingersRight_xyz.apply(lambda x: \n",
    "                                                  list([x[position] for position in z_positions]), axis=1)\n",
    "\n",
    "for position in positions:\n",
    "    del positionFingersRight_xyz[position + \"_x\"]\n",
    "    del positionFingersRight_xyz[position + \"_y\"]\n",
    "    del positionFingersRight_xyz[position + \"_z\"]"
   ]
  },
  {
   "cell_type": "markdown",
   "id": "signal-courtesy",
   "metadata": {},
   "source": [
    "## Plot both hands"
   ]
  },
  {
   "cell_type": "code",
   "execution_count": 9,
   "id": "solid-drove",
   "metadata": {},
   "outputs": [],
   "source": [
    "def set_axes_equal(ax):\n",
    "    '''Make axes of 3D plot have equal scale so that spheres appear as spheres,\n",
    "    cubes as cubes, etc..  This is one possible solution to Matplotlib's\n",
    "    ax.set_aspect('equal') and ax.axis('equal') not working for 3D.\n",
    "\n",
    "    Input\n",
    "      ax: a matplotlib axis, e.g., as output from plt.gca().\n",
    "    '''\n",
    "\n",
    "    x_limits = ax.get_xlim3d()\n",
    "    y_limits = ax.get_ylim3d()\n",
    "    z_limits = ax.get_zlim3d()\n",
    "\n",
    "    x_range = abs(x_limits[1] - x_limits[0])\n",
    "    x_middle = np.mean(x_limits)\n",
    "    y_range = abs(y_limits[1] - y_limits[0])\n",
    "    y_middle = np.mean(y_limits)\n",
    "    z_range = abs(z_limits[1] - z_limits[0])\n",
    "    z_middle = np.mean(z_limits)\n",
    "    \n",
    "    \n",
    "    # The plot bounding box is a sphere in the sense of the infinity\n",
    "    # norm, hence I call half the max range the plot radius.\n",
    "    plot_radius = 0.5*max([x_range, y_range, z_range])\n",
    "    \n",
    "    ax.set_xlim3d([x_middle - plot_radius, x_middle + plot_radius])\n",
    "    print([x_middle - plot_radius, x_middle + plot_radius])\n",
    "    ax.set_ylim3d([y_middle - plot_radius, y_middle + plot_radius])\n",
    "    print([y_middle - plot_radius, y_middle + plot_radius])\n",
    "    ax.set_zlim3d([z_middle - plot_radius, z_middle + plot_radius])\n",
    "    print([z_middle - plot_radius, z_middle + plot_radius])"
   ]
  },
  {
   "cell_type": "code",
   "execution_count": 10,
   "id": "satisfactory-interference",
   "metadata": {
    "run_control": {
     "marked": false
    }
   },
   "outputs": [],
   "source": [
    "def set_fixed_axes(ax):\n",
    "    ax.set_xlim3d([-0.746, -0.250])\n",
    "    ax.set_ylim3d([-0.468, 0.027])\n",
    "    ax.set_zlim3d([0.307, 0.804])\n",
    "    \n",
    "def set_fixed_axes_1hand(ax):  \n",
    "    ax.set_xlim3d([-0.294, -0.157])\n",
    "    ax.set_ylim3d([-0.491, -0.354])\n",
    "    ax.set_zlim3d([0.564, 0.700])\n",
    "\n",
    "def set_fixed_axes_drill(ax):\n",
    "    ax.set_xlim3d([-0.506, -0.041])\n",
    "    ax.set_ylim3d([-0.268, 0.196])\n",
    "    ax.set_zlim3d([0.909, 1.374])\n",
    "    \n",
    "def set_fixed_axes_max(ax):\n",
    "    ax.set_xlim3d([-0.9935, 0.3533])\n",
    "    ax.set_ylim3d([-0.9284, 0.4184])\n",
    "    ax.set_zlim3d([0.2606, 1.6075])"
   ]
  },
  {
   "cell_type": "code",
   "execution_count": 11,
   "id": "flexible-alfred",
   "metadata": {},
   "outputs": [],
   "source": [
    "def save_png(xyzs, i, out_dir):\n",
    "    # Save png\n",
    "    out_pth = os.path.join(out_dir, f\"frame_{i}.png\")\n",
    "\n",
    "    fig = plt.figure()\n",
    "    ax = fig.add_subplot(111, projection='3d')\n",
    "\n",
    "    xs, ys, zs = xyzs\n",
    "    ax.scatter(xs=xs, ys=ys, zs=zs, label=\"frame \" + str(i+1))\n",
    "    set_fixed_axes_max(ax)\n",
    "    plt.axis('off')\n",
    "    ax.view_init(azim=0, elev=45)\n",
    "    #plt.show()\n",
    "    plt.tight_layout()\n",
    "    #ax.legend()\n",
    "    plt.savefig(out_pth, transparent=False, edgecolor='none', dpi=300)\n",
    "    plt.close()"
   ]
  },
  {
   "cell_type": "code",
   "execution_count": 12,
   "id": "exclusive-marine",
   "metadata": {},
   "outputs": [],
   "source": [
    "out_dir = \"C:/Users/lucas/Desktop/UPC/MIT/tactile2object/manus/New Session-002_png\"\n",
    "\n",
    "#if not os.path.exists(out_dir):\n",
    "#    os.makedirs(out_dir)\n",
    "    \n",
    "start = 5900\n",
    "end = positionFingersLeft_xyz.shape[0]\n",
    "end = 7900\n",
    "\n",
    "start = 0\n",
    "end = positionFingersLeft_xyz.shape[0]\n",
    "end = 5900\n",
    "\n",
    "\n",
    "for frame in range(start, end):\n",
    "    xs_left = positionFingersLeft_xyz.loc[frame,\"x\"]\n",
    "    ys_left = positionFingersLeft_xyz.loc[frame,\"y\"]\n",
    "    zs_left = positionFingersLeft_xyz.loc[frame,\"z\"]\n",
    "\n",
    "    xs_right = positionFingersRight_xyz.loc[frame,\"x\"]\n",
    "    ys_right = positionFingersRight_xyz.loc[frame,\"y\"]\n",
    "    zs_right = positionFingersRight_xyz.loc[frame,\"z\"]\n",
    "\n",
    "    xs = xs_left + xs_right\n",
    "    ys = ys_left + ys_right\n",
    "    zs = zs_left + zs_right\n",
    "\n",
    "    xyzs = (xs, ys, zs)\n",
    "\n",
    "    save_png(xyzs, frame, out_dir)\n",
    "    \n",
    "    break"
   ]
  },
  {
   "cell_type": "markdown",
   "id": "dried-religion",
   "metadata": {},
   "source": [
    "# Plot with lines"
   ]
  },
  {
   "cell_type": "code",
   "execution_count": 43,
   "id": "usual-commodity",
   "metadata": {},
   "outputs": [],
   "source": [
    "positionFingers = pd.concat([positionFingersLeft, positionFingersRight], axis=1)\n",
    "positions = [position.split(\"_\")[0] for position in list(positionFingers.columns)]\n",
    "positions = list(dict.fromkeys(positions))\n",
    "positionFingers_lines = positionFingers.copy()\n",
    "\n",
    "lines = {\n",
    "    \n",
    "    'r_first':  ['RightCarpus', 'RightFirstMC',  'RightFirstPP', 'RightFirstDP'],\n",
    "    'r_second': ['RightCarpus', 'RightSecondMC', 'RightSecondPP','RightSecondMP','RightSecondDP'],\n",
    "    'r_third':  ['RightCarpus', 'RightThirdMC',  'RightThirdPP', 'RightThirdMP', 'RightThirdDP'],\n",
    "    'r_fourth': ['RightCarpus', 'RightFourthMC', 'RightFourthPP','RightFourthMP','RightFourthDP'],\n",
    "    'r_fifth':  ['RightCarpus', 'RightFifthMC' , 'RightFifthPP', 'RightFifthMP', 'RightFifthDP'],\n",
    "    \n",
    "    'l_first':  ['LeftCarpus',  'LeftFirstMC',   'LeftFirstPP', 'LeftFirstDP'],\n",
    "    'l_second': ['LeftCarpus',  'LeftSecondMC',  'LeftSecondPP','LeftSecondMP','LeftSecondDP'],\n",
    "    'l_third':  ['LeftCarpus',  'LeftThirdMC' ,  'LeftThirdPP', 'LeftThirdMP', 'LeftThirdDP'],\n",
    "    'l_fourth': ['LeftCarpus',  'LeftFourthMC' , 'LeftFourthPP','LeftFourthMP','LeftFourthDP'],\n",
    "    'l_fifth':  ['LeftCarpus',  'LeftFifthMC' ,  'LeftFifthPP', 'LeftFifthMP', 'LeftFifthDP'] \n",
    "}\n",
    "\n",
    "\n",
    "    \n",
    "for line, line_positions in lines.items():\n",
    "    line_positions_x = [line_position + \"_x\" for line_position in line_positions]\n",
    "    positionFingers_lines[line + \"_x\"] = positionFingers_lines.apply(lambda x: \n",
    "                                                  list([x[position] for position in line_positions_x]), axis=1)\n",
    "    \n",
    "    line_positions_y = [line_position + \"_y\" for line_position in line_positions]\n",
    "    positionFingers_lines[line + \"_y\"] = positionFingers_lines.apply(lambda x: \n",
    "                                                  list([x[position] for position in line_positions_y]), axis=1)\n",
    "    \n",
    "    line_positions_z = [line_position + \"_z\" for line_position in line_positions]\n",
    "    positionFingers_lines[line + \"_z\"] = positionFingers_lines.apply(lambda x: \n",
    "                                                  list([x[position] for position in line_positions_z]), axis=1)\n",
    "    \n",
    "for position in positions:\n",
    "    del positionFingers_lines[position + \"_x\"]\n",
    "    del positionFingers_lines[position + \"_y\"]\n",
    "    del positionFingers_lines[position + \"_z\"]"
   ]
  },
  {
   "cell_type": "code",
   "execution_count": 58,
   "id": "swiss-slide",
   "metadata": {},
   "outputs": [],
   "source": [
    "out_dir = \"C:/Users/lucas/Desktop/UPC/MIT/tactile2object/manus/line_png_drill\"\n",
    "\n",
    "if not os.path.exists(out_dir):\n",
    "    os.makedirs(out_dir)\n",
    "    \n",
    "start = 5900\n",
    "end = 7899\n",
    "\n",
    "for frame in range(start, end):\n",
    "    out_pth = os.path.join(out_dir, f\"frame_{frame}.png\")\n",
    "    \n",
    "    fig = plt.figure()\n",
    "    ax = fig.gca(projection='3d')\n",
    "    \n",
    "    for line in lines:\n",
    "        xs = positionFingers_lines.loc[frame, line + \"_x\"]\n",
    "        ys = positionFingers_lines.loc[frame, line + \"_y\"]\n",
    "        zs = positionFingers_lines.loc[frame, line + \"_z\"]\n",
    "\n",
    "        ax.plot(xs, ys, zs, c='black')\n",
    "    \n",
    "    #set_fixed_axes_max(ax)\n",
    "    set_fixed_axes_drill(ax)\n",
    "    plt.axis('off')\n",
    "    ax.view_init(azim=0, elev=45)\n",
    "    plt.tight_layout()\n",
    "    plt.savefig(out_pth, transparent=False, edgecolor='none', dpi=150)\n",
    "    plt.close()"
   ]
  },
  {
   "cell_type": "code",
   "execution_count": null,
   "id": "facial-particle",
   "metadata": {},
   "outputs": [],
   "source": []
  },
  {
   "cell_type": "markdown",
   "id": "julian-going",
   "metadata": {},
   "source": [
    "# Plot locations"
   ]
  },
  {
   "cell_type": "code",
   "execution_count": 20,
   "id": "related-insertion",
   "metadata": {},
   "outputs": [],
   "source": [
    "frame = 0\n",
    "\n",
    "xs_left = positionFingersLeft_xyz.loc[frame,\"x\"]\n",
    "ys_left = positionFingersLeft_xyz.loc[frame,\"y\"]\n",
    "zs_left = positionFingersLeft_xyz.loc[frame,\"z\"]\n",
    "\n",
    "xs_right = positionFingersRight_xyz.loc[frame,\"x\"]\n",
    "ys_right = positionFingersRight_xyz.loc[frame,\"y\"]\n",
    "zs_right = positionFingersRight_xyz.loc[frame,\"z\"]\n",
    "\n",
    "xs = xs_left + xs_right\n",
    "ys = ys_left + ys_right\n",
    "zs = zs_left + zs_right\n",
    "\n",
    "\n",
    "xs = xs_right\n",
    "ys = ys_right\n",
    "zs = zs_right"
   ]
  },
  {
   "cell_type": "code",
   "execution_count": 21,
   "id": "steady-richardson",
   "metadata": {},
   "outputs": [
    {
     "data": {
      "text/plain": [
       "['RightCarpus',\n",
       " 'RightFirstMC',\n",
       " 'RightFirstPP',\n",
       " 'RightFirstDP',\n",
       " 'RightSecondMC',\n",
       " 'RightSecondPP',\n",
       " 'RightSecondMP',\n",
       " 'RightSecondDP',\n",
       " 'RightThirdMC',\n",
       " 'RightThirdPP',\n",
       " 'RightThirdMP',\n",
       " 'RightThirdDP',\n",
       " 'RightFourthMC',\n",
       " 'RightFourthPP',\n",
       " 'RightFourthMP',\n",
       " 'RightFourthDP',\n",
       " 'RightFifthMC',\n",
       " 'RightFifthPP',\n",
       " 'RightFifthMP',\n",
       " 'RightFifthDP']"
      ]
     },
     "execution_count": 21,
     "metadata": {},
     "output_type": "execute_result"
    }
   ],
   "source": [
    "positions"
   ]
  },
  {
   "cell_type": "code",
   "execution_count": 22,
   "id": "immune-papua",
   "metadata": {},
   "outputs": [],
   "source": [
    "fig = plt.figure()\n",
    "ax = fig.add_subplot(111, projection='3d')\n",
    "\n",
    "for i, position in enumerate(positions):\n",
    "    ax.scatter(xs=xs[i], ys=ys[i], zs=zs[i], label=position)\n",
    "    \n",
    "set_fixed_axes_1hand(ax)\n",
    "plt.axis('off')\n",
    "ax.view_init(azim=153, elev=167)\n",
    "ax.legend()\n",
    "plt.show()"
   ]
  },
  {
   "cell_type": "markdown",
   "id": "excellent-testament",
   "metadata": {},
   "source": [
    "# Projection"
   ]
  },
  {
   "cell_type": "code",
   "execution_count": null,
   "id": "tutorial-stamp",
   "metadata": {},
   "outputs": [],
   "source": []
  },
  {
   "cell_type": "code",
   "execution_count": null,
   "id": "romance-papua",
   "metadata": {},
   "outputs": [],
   "source": []
  },
  {
   "cell_type": "code",
   "execution_count": null,
   "id": "centered-college",
   "metadata": {},
   "outputs": [],
   "source": []
  },
  {
   "cell_type": "code",
   "execution_count": null,
   "id": "divided-framework",
   "metadata": {},
   "outputs": [],
   "source": []
  },
  {
   "cell_type": "code",
   "execution_count": null,
   "id": "sunrise-fairy",
   "metadata": {},
   "outputs": [],
   "source": []
  },
  {
   "cell_type": "code",
   "execution_count": null,
   "id": "inside-helmet",
   "metadata": {},
   "outputs": [],
   "source": []
  },
  {
   "cell_type": "code",
   "execution_count": null,
   "id": "listed-glance",
   "metadata": {},
   "outputs": [],
   "source": []
  },
  {
   "cell_type": "code",
   "execution_count": 99,
   "id": "pediatric-environment",
   "metadata": {},
   "outputs": [
    {
     "data": {
      "text/plain": [
       "Vector([ 2., -2.,  0.])"
      ]
     },
     "execution_count": 99,
     "metadata": {},
     "output_type": "execute_result"
    }
   ],
   "source": [
    "from skspatial.objects import Plane\n",
    "from skspatial.objects import Point\n",
    "from skspatial.objects import Vector\n",
    "from skspatial.plotting import plot_3d\n",
    "\n",
    "\n",
    "plane = Plane(point=[-1,-1,-10], normal=[1, -1, 0])\n",
    "point = Point([5, 9, 3])\n",
    "\n",
    "point_projected = plane.project_point(point)\n",
    "vector_projection = Vector.from_points(point, point_projected)\n",
    "\n",
    "vector_projection"
   ]
  },
  {
   "cell_type": "code",
   "execution_count": 100,
   "id": "radio-accommodation",
   "metadata": {},
   "outputs": [
    {
     "data": {
      "text/plain": [
       "(<Figure size 432x288 with 1 Axes>, <Axes3DSubplot:>)"
      ]
     },
     "execution_count": 100,
     "metadata": {},
     "output_type": "execute_result"
    },
    {
     "data": {
      "image/png": "[encoded data removed]",
      "text/plain": [
       "<Figure size 432x288 with 1 Axes>"
      ]
     },
     "metadata": {
      "needs_background": "light"
     },
     "output_type": "display_data"
    }
   ],
   "source": [
    "plot_3d(\n",
    "    plane.plotter(lims_x=(0, 10), lims_y=(0, 15), alpha=0.3),\n",
    "    point.plotter(s=75, c='k'),\n",
    "    point_projected.plotter(c='r', s=75, zorder=3),\n",
    "    vector_projection.plotter(point=point, c='k', linestyle='--'),\n",
    ")"
   ]
  },
  {
   "cell_type": "code",
   "execution_count": 101,
   "id": "still-desire",
   "metadata": {},
   "outputs": [
    {
     "data": {
      "image/png": "[encoded data removed]",
      "text/plain": [
       "<Figure size 432x288 with 1 Axes>"
      ]
     },
     "metadata": {
      "needs_background": "light"
     },
     "output_type": "display_data"
    }
   ],
   "source": [
    "\n",
    "\n",
    "\n",
    "\n",
    "fig = plt.figure()\n",
    "ax = fig.add_subplot(111, projection='3d')\n",
    "\n",
    "xs, ys, zs = xyzs\n",
    "ax.scatter(xs=xs, ys=ys, zs=zs)\n",
    "set_fixed_axes_max(ax)\n",
    "\n",
    "ax.view_init(azim=0, elev=45)\n",
    "#\n",
    "plt.tight_layout()\n",
    "ax.set_xlabel('x')\n",
    "ax.set_ylabel('y')\n",
    "ax.set_zlabel('z')\n",
    "\n",
    "plt.show()"
   ]
  },
  {
   "cell_type": "code",
   "execution_count": 102,
   "id": "expected-composite",
   "metadata": {},
   "outputs": [],
   "source": [
    "np_xyzs = np.array(xyzs).T\n",
    "xyzs_projected = np.zeros_like(np_xyzs)\n",
    "\n",
    "for i, xyz in enumerate(np_xyzs):\n",
    "    point = Point(xyz)\n",
    "\n",
    "    point_projected = plane.project_point(point)\n",
    "    \n",
    "    xyzs_projected[i,:] = point_projected"
   ]
  },
  {
   "cell_type": "code",
   "execution_count": 103,
   "id": "renewable-rebound",
   "metadata": {},
   "outputs": [],
   "source": [
    "val = np.sqrt(2)/2\n",
    "rot_mat = np.array([[val, -val, 0],\n",
    "          [val, val, 0],\n",
    "          [0, 0, 1]])"
   ]
  },
  {
   "cell_type": "code",
   "execution_count": 104,
   "id": "initial-synthesis",
   "metadata": {},
   "outputs": [],
   "source": [
    "x  = np.matmul(xyzs_projected, rot_mat)[:,0]\n",
    "y  = np.matmul(xyzs_projected, rot_mat)[:,2]\n",
    "\n"
   ]
  },
  {
   "cell_type": "code",
   "execution_count": 105,
   "id": "oriented-insert",
   "metadata": {},
   "outputs": [],
   "source": [
    "import matplotlib.pyplot as plt"
   ]
  },
  {
   "cell_type": "code",
   "execution_count": 106,
   "id": "similar-charm",
   "metadata": {},
   "outputs": [
    {
     "data": {
      "text/plain": [
       "<matplotlib.collections.PathCollection at 0x225da4dba08>"
      ]
     },
     "execution_count": 106,
     "metadata": {},
     "output_type": "execute_result"
    },
    {
     "data": {
      "image/png": "[encoded data removed]",
      "text/plain": [
       "<Figure size 432x288 with 1 Axes>"
      ]
     },
     "metadata": {
      "needs_background": "light"
     },
     "output_type": "display_data"
    }
   ],
   "source": [
    "plt.scatter(x, y)"
   ]
  },
  {
   "cell_type": "code",
   "execution_count": null,
   "id": "pacific-seventh",
   "metadata": {},
   "outputs": [],
   "source": []
  },
  {
   "cell_type": "code",
   "execution_count": null,
   "id": "helpful-receipt",
   "metadata": {},
   "outputs": [],
   "source": []
  },
  {
   "cell_type": "code",
   "execution_count": null,
   "id": "touched-dragon",
   "metadata": {},
   "outputs": [],
   "source": []
  },
  {
   "cell_type": "code",
   "execution_count": null,
   "id": "activated-tractor",
   "metadata": {},
   "outputs": [],
   "source": []
  },
  {
   "cell_type": "code",
   "execution_count": 23,
   "id": "impressed-equipment",
   "metadata": {},
   "outputs": [],
   "source": [
    "from collections import defaultdict\n",
    "right_max = defaultdict(list)\n",
    "right_min = defaultdict(list)\n",
    "\n",
    "for position in positionFingersRight:\n",
    "    axis = position.split(\"_\")[-1]\n",
    "    right_max[axis].append(max(positionFingersRight[position]))\n",
    "    right_min[axis].append(min(positionFingersRight[position]))\n",
    "    \n",
    "    \n",
    "left_max = defaultdict(list)\n",
    "left_min = defaultdict(list)    \n",
    "for position in positionFingersLeft:\n",
    "    axis = position.split(\"_\")[-1]\n",
    "    left_max[axis].append(max(positionFingersLeft[position]))\n",
    "    left_min[axis].append(min(positionFingersLeft[position]))\n",
    "    \n",
    "\n",
    "maxs = {}\n",
    "mins = {}\n",
    "\n",
    "for axis in right_max:\n",
    "    maxs[axis] = max(max(right_max[axis]), max(left_max[axis]))\n",
    "    mins[axis] = min(min(right_min[axis]), min(left_min[axis]))\n",
    "    \n",
    "xs = [-0.643088, 0.00285]\n",
    "ys = [-0.86719, 0.357248]\n",
    "zs = [0.47831, 1.389879]"
   ]
  }
 ],
 "metadata": {
  "hide_input": false,
  "kernelspec": {
   "display_name": "Python 3",
   "language": "python",
   "name": "python3"
  },
  "language_info": {
   "codemirror_mode": {
    "name": "ipython",
    "version": 3
   },
   "file_extension": ".py",
   "mimetype": "text/x-python",
   "name": "python",
   "nbconvert_exporter": "python",
   "pygments_lexer": "ipython3",
   "version": "3.7.10"
  },
  "toc": {
   "base_numbering": 1,
   "nav_menu": {},
   "number_sections": true,
   "sideBar": true,
   "skip_h1_title": false,
   "title_cell": "Table of Contents",
   "title_sidebar": "Contents",
   "toc_cell": false,
   "toc_position": {},
   "toc_section_display": true,
   "toc_window_display": false
  },
  "varInspector": {
   "cols": {
    "lenName": 16,
    "lenType": 16,
    "lenVar": 40
   },
   "kernels_config": {
    "python": {
     "delete_cmd_postfix": "",
     "delete_cmd_prefix": "del ",
     "library": "var_list.py",
     "varRefreshCmd": "print(var_dic_list())"
    },
    "r": {
     "delete_cmd_postfix": ") ",
     "delete_cmd_prefix": "rm(",
     "library": "var_list.r",
     "varRefreshCmd": "cat(var_dic_list()) "
    }
   },
   "types_to_exclude": [
    "module",
    "function",
    "builtin_function_or_method",
    "instance",
    "_Feature"
   ],
   "window_display": false
  }
 },
 "nbformat": 4,
 "nbformat_minor": 5
}
