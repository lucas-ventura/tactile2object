{
 "cells": [
  {
   "cell_type": "code",
   "execution_count": 1,
   "id": "optional-charge",
   "metadata": {},
   "outputs": [],
   "source": [
    "import numpy as np\n",
    "import pandas as pd\n",
    "import os\n",
    "\n",
    "from matplotlib import pyplot as plt\n",
    "from mpl_toolkits.mplot3d import Axes3D\n",
    "from mpl_toolkits.mplot3d.art3d import Poly3DCollection\n",
    "import numpy as np\n",
    "\n",
    "import copy "
   ]
  },
  {
   "cell_type": "code",
   "execution_count": 2,
   "id": "compatible-deputy",
   "metadata": {},
   "outputs": [],
   "source": [
    "%matplotlib inline"
   ]
  },
  {
   "cell_type": "code",
   "execution_count": 3,
   "id": "controversial-planet",
   "metadata": {},
   "outputs": [],
   "source": [
    "%matplotlib qt"
   ]
  },
  {
   "cell_type": "markdown",
   "id": "bronze-bridge",
   "metadata": {},
   "source": [
    "# Get real positions"
   ]
  },
  {
   "cell_type": "markdown",
   "id": "suited-pottery",
   "metadata": {},
   "source": [
    "Load finger positions"
   ]
  },
  {
   "cell_type": "code",
   "execution_count": 4,
   "id": "found-scanner",
   "metadata": {},
   "outputs": [],
   "source": [
    "positionFingersLeft = pd.read_excel(\"C:/Users/lucas/Desktop/UPC/MIT/tactile2object/manus/New Session-002.xlsx\", sheet_name=\"ns1 positionFingersLeft\")\n",
    "positionFingersRight = pd.read_excel(\"C:/Users/lucas/Desktop/UPC/MIT/tactile2object/manus/New Session-002.xlsx\", sheet_name=\"ns1 positionFingersRight\")"
   ]
  },
  {
   "cell_type": "code",
   "execution_count": 207,
   "id": "american-energy",
   "metadata": {},
   "outputs": [],
   "source": [
    "positionFingers = pd.concat([positionFingersLeft, positionFingersRight], axis=1)\n",
    "\n",
    "x_positions = [position for position in list(positionFingers.columns) if \"_x\" in position]\n",
    "y_positions = [position for position in list(positionFingers.columns) if \"_y\" in position]\n",
    "z_positions = [position for position in list(positionFingers.columns) if \"_z\" in position]\n",
    "\n",
    "positions = [position.split(\"_\")[0] for position in list(positionFingers.columns)]\n",
    "# Remove duplicates\n",
    "positions = list(dict.fromkeys(positions))"
   ]
  },
  {
   "cell_type": "markdown",
   "id": "affecting-parks",
   "metadata": {},
   "source": [
    "Choose finger we are using to touch object and frames where is touching to get position"
   ]
  },
  {
   "cell_type": "code",
   "execution_count": 208,
   "id": "handy-breakfast",
   "metadata": {},
   "outputs": [],
   "source": [
    "def getBonePosition(bone, frames):\n",
    "    touch_position = {}\n",
    "\n",
    "    for frame in frames:\n",
    "        touch_position[frame] = [\n",
    "            positionFingers.loc[frame, bone + \"_x\"] * 1000,\n",
    "            positionFingers.loc[frame, bone + \"_y\"] * 1000,\n",
    "            positionFingers.loc[frame, bone + \"_z\"] * 1000\n",
    "        ]\n",
    "        \n",
    "    return touch_position\n",
    "\n",
    "def getBonesPosition(bones, frames):\n",
    "    bones_dict = {}\n",
    "    \n",
    "    for bone in bones:\n",
    "        bones_dict[bone] = getBonePosition(bone, frames)\n",
    "\n",
    "    return bones_dict"
   ]
  },
  {
   "cell_type": "code",
   "execution_count": 209,
   "id": "blond-render",
   "metadata": {},
   "outputs": [],
   "source": [
    "bone = \"LeftSecondDP\"\n",
    "frames = [5042, 5217, 5443, 5660]\n",
    "frames = [5900, 6009, 6190, 6340, 6423, 6645, 6791, 6888, 7125, 7237, 7401, 7527, 7690]\n",
    "frames = [5900, 6009, 6190, 6340]\n",
    "\n",
    "touch_position = getBonePosition(bone, frames)"
   ]
  },
  {
   "cell_type": "code",
   "execution_count": 210,
   "id": "induced-canadian",
   "metadata": {},
   "outputs": [
    {
     "data": {
      "text/plain": [
       "{5900: [-250.473, 54.027, 1216.027],\n",
       " 6009: [-245.327, 53.129000000000005, 1285.2939999999999],\n",
       " 6190: [-200.427, -25.412, 1302.937],\n",
       " 6340: [-234.423, -22.311, 1075.932]}"
      ]
     },
     "execution_count": 210,
     "metadata": {},
     "output_type": "execute_result"
    }
   ],
   "source": [
    "touch_position"
   ]
  },
  {
   "cell_type": "code",
   "execution_count": 211,
   "id": "exceptional-junction",
   "metadata": {},
   "outputs": [],
   "source": [
    "keypoint_world_position = np.zeros((4,3))\n",
    "\n",
    "for i, frame in enumerate(frames):\n",
    "    keypoint_world_position[i,:] = touch_position[frame]"
   ]
  },
  {
   "cell_type": "markdown",
   "id": "unexpected-combination",
   "metadata": {},
   "source": [
    "# Get object locations"
   ]
  },
  {
   "cell_type": "code",
   "execution_count": 212,
   "id": "absolute-basis",
   "metadata": {},
   "outputs": [],
   "source": [
    "import os\n",
    "import open3d as o3d\n",
    "import numpy as np\n",
    "\n",
    "import seaborn as sns"
   ]
  },
  {
   "cell_type": "code",
   "execution_count": 213,
   "id": "flying-strengthening",
   "metadata": {},
   "outputs": [],
   "source": [
    "def pick_points(pcd):\n",
    "    \"\"\"\n",
    "    http://www.open3d.org/docs/tutorial/Advanced/interactive_visualization.html\n",
    "    :param pcd: open3d point cloud data\n",
    "    :return: None\n",
    "    \"\"\"\n",
    "    print(\"\")\n",
    "    print(\"1) Please pick at least three correspondences using [shift + left click]\")\n",
    "    print(\"   Press [shift + right click] to undo point picking\")\n",
    "    print(\"2) Afther picking points, press q for close the window\")\n",
    "    vis = o3d.visualization.VisualizerWithEditing()\n",
    "    vis.create_window()\n",
    "    vis.add_geometry(pcd)\n",
    "    vis.run()  # user picks points\n",
    "    vis.destroy_window()\n",
    "    print(\"\")\n",
    "    return vis.get_picked_points()"
   ]
  },
  {
   "cell_type": "code",
   "execution_count": 214,
   "id": "involved-camera",
   "metadata": {},
   "outputs": [],
   "source": [
    "def load_point_cloud(mesh_path: str):\n",
    "    \"\"\"\n",
    "    Currently o3d doesn't support obj file, thus we need some\n",
    "    hacky solution here\n",
    "    :param mesh_path: Full path to an ply/obj file\n",
    "    :return:\n",
    "    \"\"\"\n",
    "    if mesh_path.endswith('.ply'):\n",
    "        return o3d.io.read_point_cloud(mesh_path)\n",
    "    elif mesh_path.endswith('.obj'):\n",
    "        raise NotImplementedError()\n",
    "    else:\n",
    "        raise RuntimeError('Unknown data format')"
   ]
  },
  {
   "cell_type": "markdown",
   "id": "political-block",
   "metadata": {},
   "source": [
    "Touch the points as below. [6800, 5942, 3587, 151]"
   ]
  },
  {
   "cell_type": "markdown",
   "id": "experienced-excuse",
   "metadata": {},
   "source": [
    "\n",
    "1 | 2 | 3 | 4\n",
    "- | - | - | - \n",
    "![alt](yunzhu_touching_035/5900.png) | ![alt](yunzhu_touching_035/6009.png) | ![alt](yunzhu_touching_035/6190.png) | ![alt](yunzhu_touching_035/6340.png)"
   ]
  },
  {
   "cell_type": "code",
   "execution_count": 252,
   "id": "korean-concert",
   "metadata": {},
   "outputs": [],
   "source": [
    "mesh_path = \"C:/Users/lucas/Desktop/UPC/MIT/tactile2object/estimate_object_pose/ycb_converted/035_power_drill.ply\"\n",
    "\n",
    "assert os.path.exists(mesh_path)\n",
    "pcd = load_point_cloud(mesh_path)\n",
    "# Scale pointcloud\n",
    "pcd.scale(0.8, center=pcd.get_center()) #center=(0, 0, 0)\n",
    "picked_ids = [6800, 5942, 3587, 151] # pick_points(pcd) \n",
    "\n",
    "# Extract the keypoint in world\n",
    "point_cloud = np.asarray(pcd.points)\n",
    "keypoint_3d_position = []\n",
    "for point_id in picked_ids:\n",
    "    point_in_world = point_cloud[point_id, :]\n",
    "    keypoint_3d_position.append([float(point_in_world[0]), float(point_in_world[1]), float(point_in_world[2])])\n",
    "\n",
    "# Save them to a map\n",
    "data_map = dict()\n",
    "data_map['mesh_path'] = mesh_path\n",
    "data_map['keypoint_index'] = picked_ids\n",
    "data_map['keypoint_world_position'] = keypoint_3d_position"
   ]
  },
  {
   "cell_type": "markdown",
   "id": "random-trinidad",
   "metadata": {},
   "source": [
    "# ICP"
   ]
  },
  {
   "cell_type": "code",
   "execution_count": 255,
   "id": "needed-marathon",
   "metadata": {},
   "outputs": [],
   "source": [
    "import sys\n",
    "import numpy as np\n",
    "import matplotlib.pyplot as plt\n",
    "from matplotlib import animation, rc\n",
    "from math import sin, cos, atan2, pi\n",
    "from IPython.display import display, Math, Latex, Markdown, HTML"
   ]
  },
  {
   "cell_type": "code",
   "execution_count": 256,
   "id": "requested-leave",
   "metadata": {},
   "outputs": [],
   "source": [
    "def center_data(data, exclude_indices=[]):\n",
    "    reduced_data = np.delete(data, exclude_indices, axis=1)\n",
    "    center = np.array([reduced_data.mean(axis=1)]).T\n",
    "    return center, data - center\n",
    "\n",
    "def compute_cross_covariance(P, Q, correspondences, kernel=lambda diff: 1.0):\n",
    "    cov = np.zeros((3, 3))\n",
    "    exclude_indices = []\n",
    "    for i, j in correspondences:\n",
    "        p_point = P[:, [i]]\n",
    "        q_point = Q[:, [j]]\n",
    "        weight = kernel(p_point - q_point)\n",
    "        if weight < 0.01: exclude_indices.append(i)\n",
    "        cov += weight * q_point.dot(p_point.T)\n",
    "    return cov, exclude_indices\n",
    "\n",
    "def get_correspondence_indices(P, Q):\n",
    "    p_size = P.shape[1]\n",
    "    q_size = Q.shape[1]\n",
    "    correspondences = []\n",
    "    \n",
    "    for i in range(p_size):\n",
    "        correspondences.append((i, i))\n",
    "    \n",
    "    return correspondences\n",
    "\n",
    "def plot_values(values, label):\n",
    "    plt.rcParams['figure.dpi'] = 100\n",
    "    plt.rcParams['savefig.dpi'] = 100\n",
    "    sns.set_theme()\n",
    "    fig = plt.figure(figsize=(10, 4))\n",
    "    ax = fig.add_subplot(111)\n",
    "    ax.plot(values, label=label)\n",
    "    ax.legend()\n",
    "    ax.grid(True)\n",
    "    ax.set_ylim(0)\n",
    "    plt.show()\n",
    "    \n",
    "\n",
    "def icp_svd(P, Q, iterations=10, kernel=lambda diff: 1.0):\n",
    "    \"\"\"Perform ICP using SVD.\"\"\"\n",
    "    center_of_Q, Q_centered = center_data(Q)\n",
    "    norm_values = []\n",
    "    R_values = []\n",
    "    t_values = []\n",
    "    P_values = [P.copy()]\n",
    "    P_copy = P.copy()\n",
    "    corresp_values = []\n",
    "    exclude_indices = []\n",
    "    for i in range(iterations):\n",
    "        center_of_P, P_centered = center_data(P_copy, exclude_indices=exclude_indices)\n",
    "        \n",
    "        correspondences = get_correspondence_indices(P_centered, Q_centered)\n",
    "        corresp_values.append(correspondences)\n",
    "        norm_values.append(np.linalg.norm(P_centered - Q_centered))\n",
    "        cov, exclude_indices = compute_cross_covariance(P_centered, Q_centered, correspondences, kernel)\n",
    "        U, S, V_T = np.linalg.svd(cov)\n",
    "        R = U.dot(V_T)  \n",
    "        t = center_of_Q - R.dot(center_of_P)  \n",
    "        \n",
    "        P_copy = R.dot(P_copy) + t\n",
    "        P_values.append(P_copy)\n",
    "        R_values.append(R)\n",
    "        t_values.append(t)\n",
    "    corresp_values.append(corresp_values[-1])\n",
    "    \n",
    "    return P_values, norm_values, corresp_values, R_values, t_values"
   ]
  },
  {
   "cell_type": "code",
   "execution_count": 277,
   "id": "breeding-separation",
   "metadata": {},
   "outputs": [],
   "source": [
    "Q = np.array(data_map['keypoint_world_position']).T\n",
    "P = np.array(keypoint_world_position).T\n",
    "\n",
    "\n",
    "P_values, norm_values, corresp_values, R, t = icp_svd(P, Q)\n",
    "plot_values(norm_values, label=\"Squared diff P->Q\")"
   ]
  },
  {
   "cell_type": "markdown",
   "id": "regulated-question",
   "metadata": {},
   "source": [
    "# Plot results"
   ]
  },
  {
   "cell_type": "code",
   "execution_count": 258,
   "id": "matched-simpson",
   "metadata": {},
   "outputs": [
    {
     "data": {
      "text/plain": [
       "PointCloud with 8194 points."
      ]
     },
     "execution_count": 258,
     "metadata": {},
     "output_type": "execute_result"
    }
   ],
   "source": [
    "pcd.paint_uniform_color([0.3, 0.3, 0.3])"
   ]
  },
  {
   "cell_type": "markdown",
   "id": "respected-hawaii",
   "metadata": {},
   "source": [
    "#### Toching points in simulation"
   ]
  },
  {
   "cell_type": "code",
   "execution_count": 259,
   "id": "addressed-terror",
   "metadata": {},
   "outputs": [],
   "source": [
    "balls_sim = []\n",
    "\n",
    "for xyz_sim in data_map['keypoint_world_position']:\n",
    "    ball_sim = o3d.geometry.TriangleMesh.create_sphere(radius=2.).translate((xyz_sim))\n",
    "    ball_sim.paint_uniform_color([1, 0., 0])\n",
    "    balls_sim.append(ball_sim)"
   ]
  },
  {
   "cell_type": "code",
   "execution_count": 260,
   "id": "polished-california",
   "metadata": {},
   "outputs": [],
   "source": [
    "visualize = [pcd] + balls_sim\n",
    "\n",
    "o3d.visualization.draw_geometries(visualize)"
   ]
  },
  {
   "cell_type": "markdown",
   "id": "twenty-initial",
   "metadata": {},
   "source": [
    "#### Touching points in real object"
   ]
  },
  {
   "cell_type": "code",
   "execution_count": 261,
   "id": "robust-season",
   "metadata": {},
   "outputs": [],
   "source": [
    "balls_real = []\n",
    "\n",
    "for xyz_real in keypoint_world_position:\n",
    "    ball_real = o3d.geometry.TriangleMesh.create_sphere(radius=2.).translate((xyz_real))\n",
    "    ball_real.paint_uniform_color([0, 1., 0])\n",
    "    balls_real.append(ball_real)"
   ]
  },
  {
   "cell_type": "code",
   "execution_count": 262,
   "id": "phantom-tucson",
   "metadata": {},
   "outputs": [],
   "source": [
    "visualize = [pcd] + balls_sim + balls_real\n",
    "o3d.visualization.draw_geometries(visualize)"
   ]
  },
  {
   "cell_type": "markdown",
   "id": "valued-blood",
   "metadata": {},
   "source": [
    "#### Translate and rotate real points to be in the object. "
   ]
  },
  {
   "cell_type": "code",
   "execution_count": 263,
   "id": "finite-broadcasting",
   "metadata": {},
   "outputs": [],
   "source": [
    "points_tr = (R[0].dot(keypoint_world_position.T) + t[0]).T\n",
    "\n",
    "balls_real_tr = []\n",
    "for point_tr in points_tr:\n",
    "    ball_real_tr = o3d.geometry.TriangleMesh.create_sphere(radius=2.).translate((point_tr))\n",
    "    ball_real_tr.paint_uniform_color([0, 1., 1])\n",
    "    balls_real_tr.append(ball_real_tr)"
   ]
  },
  {
   "cell_type": "code",
   "execution_count": 264,
   "id": "superb-afternoon",
   "metadata": {},
   "outputs": [
    {
     "name": "stdout",
     "output_type": "stream",
     "text": [
      "[Open3D WARNING] GLFW Error: WGL: Failed to make context current: The handle is invalid. \n"
     ]
    }
   ],
   "source": [
    "visualize = [pcd] + balls_sim + balls_real_tr\n",
    "o3d.visualization.draw_geometries(visualize)"
   ]
  },
  {
   "cell_type": "markdown",
   "id": "apart-attribute",
   "metadata": {},
   "source": [
    "#### Improve results by substracting movement of the other hand"
   ]
  },
  {
   "cell_type": "code",
   "execution_count": 145,
   "id": "minor-brunswick",
   "metadata": {},
   "outputs": [],
   "source": [
    "reference_bones = [\"RightCarpus\", \n",
    "                   \"RightFirstMC\", \"RightSecondMC\", \"RightThirdMC\", \"RightFourthMC\", \"RightFifthMC\"]"
   ]
  },
  {
   "cell_type": "code",
   "execution_count": 146,
   "id": "negative-explorer",
   "metadata": {},
   "outputs": [],
   "source": [
    "bonesPositions = getBonesPosition(reference_bones, frames)\n",
    "bonesPositions = pd.DataFrame.from_dict(bonesPositions)"
   ]
  },
  {
   "cell_type": "markdown",
   "id": "outstanding-sixth",
   "metadata": {},
   "source": [
    "Get mean of the different reference bones"
   ]
  },
  {
   "cell_type": "code",
   "execution_count": 147,
   "id": "adolescent-twelve",
   "metadata": {},
   "outputs": [],
   "source": [
    "frameMeans = {}\n",
    "\n",
    "for frame in bonesPositions.T:\n",
    "    frameBonesPositions = np.array([np.array(xi) for xi in bonesPositions.loc[frame, :]])\n",
    "    frameMean = frameBonesPositions.mean(axis=0)\n",
    "    \n",
    "    frameMeans[frame] = frameMean"
   ]
  },
  {
   "cell_type": "markdown",
   "id": "confused-lightweight",
   "metadata": {},
   "source": [
    "Compute the movement of the frame with respect to the first one"
   ]
  },
  {
   "cell_type": "code",
   "execution_count": 148,
   "id": "surprised-sunset",
   "metadata": {},
   "outputs": [],
   "source": [
    "movementFrame = {}\n",
    "\n",
    "for frame in frames:\n",
    "    movementFrame[frame] = frameMeans[frame] - frameMeans[frames[0]]"
   ]
  },
  {
   "cell_type": "code",
   "execution_count": 149,
   "id": "reduced-leisure",
   "metadata": {},
   "outputs": [],
   "source": [
    "movement = np.zeros((len(frames), 3))\n",
    "\n",
    "for i, frame in enumerate(frames):\n",
    "    movement[i,:] = movementFrame[frame]"
   ]
  },
  {
   "cell_type": "markdown",
   "id": "regulation-kernel",
   "metadata": {},
   "source": [
    "Correct position of the other hand"
   ]
  },
  {
   "cell_type": "code",
   "execution_count": 163,
   "id": "distinguished-canon",
   "metadata": {},
   "outputs": [],
   "source": [
    "keypoint_world_position_corrected = keypoint_world_position - movement"
   ]
  },
  {
   "cell_type": "code",
   "execution_count": 165,
   "id": "authentic-retirement",
   "metadata": {},
   "outputs": [],
   "source": [
    "Q = np.array(data_map['keypoint_world_position']).T\n",
    "P = np.array(keypoint_world_position_corrected).T\n",
    "\n",
    "\n",
    "P_values, norm_values, corresp_values, R, t = icp_svd(P, Q)\n",
    "#plot_values(norm_values, label=\"Squared diff P->Q\")"
   ]
  },
  {
   "cell_type": "code",
   "execution_count": 166,
   "id": "hairy-numbers",
   "metadata": {},
   "outputs": [],
   "source": [
    "points_tr_corrected = (R[0].dot(keypoint_world_position_corrected.T) + t[0]).T\n",
    "\n",
    "balls_real_tr_corrected = []\n",
    "for point_tr in points_tr_corrected:\n",
    "    ball_real_tr = o3d.geometry.TriangleMesh.create_sphere(radius=2.).translate((point_tr))\n",
    "    ball_real_tr.paint_uniform_color([0, 1., 0])\n",
    "    balls_real_tr_corrected.append(ball_real_tr)"
   ]
  },
  {
   "cell_type": "code",
   "execution_count": 190,
   "id": "english-guitar",
   "metadata": {},
   "outputs": [
    {
     "name": "stdout",
     "output_type": "stream",
     "text": [
      "[Open3D WARNING] [ViewControl] SetViewPoint() failed because window height and width are not set.\n",
      "[Open3D WARNING] [ViewControl] SetViewPoint() failed because window height and width are not set.\n"
     ]
    }
   ],
   "source": [
    "visualize = [pcd] + balls_sim + balls_real_tr + balls_real_tr_corrected\n",
    "o3d.visualization.draw_geometries(visualize)"
   ]
  },
  {
   "cell_type": "code",
   "execution_count": 174,
   "id": "raising-kitchen",
   "metadata": {},
   "outputs": [
    {
     "data": {
      "text/plain": [
       "array([[-101.68156127,   52.94534594,   32.22833554],\n",
       "       [ -47.31390098,  129.31242459,   11.08873456],\n",
       "       [  39.14850976,   93.60904425,   27.10716904],\n",
       "       [-111.35805479,  -93.71981106,   28.30876132]])"
      ]
     },
     "execution_count": 174,
     "metadata": {},
     "output_type": "execute_result"
    }
   ],
   "source": [
    "points_tr_corrected"
   ]
  },
  {
   "cell_type": "code",
   "execution_count": 176,
   "id": "eight-status",
   "metadata": {},
   "outputs": [
    {
     "data": {
      "text/plain": [
       "array([-140.83007102,  -40.66369831,    5.12116651])"
      ]
     },
     "execution_count": 176,
     "metadata": {},
     "output_type": "execute_result"
    }
   ],
   "source": []
  },
  {
   "cell_type": "code",
   "execution_count": 191,
   "id": "through-olympus",
   "metadata": {},
   "outputs": [
    {
     "data": {
      "text/plain": [
       "127.93945809248989"
      ]
     },
     "execution_count": 191,
     "metadata": {},
     "output_type": "execute_result"
    }
   ],
   "source": [
    "np.linalg.norm(points_tr[0] - points_tr[2])"
   ]
  },
  {
   "cell_type": "code",
   "execution_count": 192,
   "id": "available-letters",
   "metadata": {},
   "outputs": [
    {
     "data": {
      "text/plain": [
       "183.1057777598567"
      ]
     },
     "execution_count": 192,
     "metadata": {},
     "output_type": "execute_result"
    }
   ],
   "source": [
    "np.linalg.norm(np.array(data_map['keypoint_world_position'][0]) - np.array(data_map['keypoint_world_position'][2]))"
   ]
  },
  {
   "cell_type": "code",
   "execution_count": 193,
   "id": "functional-silly",
   "metadata": {},
   "outputs": [
    {
     "data": {
      "text/plain": [
       "69.46369561864654"
      ]
     },
     "execution_count": 193,
     "metadata": {},
     "output_type": "execute_result"
    }
   ],
   "source": [
    "np.linalg.norm(points_tr[0] - points_tr[1])"
   ]
  },
  {
   "cell_type": "code",
   "execution_count": 194,
   "id": "marked-polls",
   "metadata": {},
   "outputs": [
    {
     "data": {
      "text/plain": [
       "95.40417607052329"
      ]
     },
     "execution_count": 194,
     "metadata": {},
     "output_type": "execute_result"
    }
   ],
   "source": [
    "np.linalg.norm(np.array(data_map['keypoint_world_position'][0]) - np.array(data_map['keypoint_world_position'][1]))"
   ]
  },
  {
   "cell_type": "code",
   "execution_count": 188,
   "id": "monetary-pennsylvania",
   "metadata": {},
   "outputs": [
    {
     "data": {
      "text/plain": [
       "240.303495247503"
      ]
     },
     "execution_count": 188,
     "metadata": {},
     "output_type": "execute_result"
    }
   ],
   "source": [
    "np.linalg.norm(points_tr[2] - points_tr[3])"
   ]
  },
  {
   "cell_type": "code",
   "execution_count": 189,
   "id": "accepting-track",
   "metadata": {},
   "outputs": [
    {
     "data": {
      "text/plain": [
       "202.50799347143297"
      ]
     },
     "execution_count": 189,
     "metadata": {},
     "output_type": "execute_result"
    }
   ],
   "source": [
    "np.linalg.norm(np.array(data_map['keypoint_world_position'][2]) - np.array(data_map['keypoint_world_position'][3]))"
   ]
  },
  {
   "cell_type": "code",
   "execution_count": null,
   "id": "minute-participation",
   "metadata": {},
   "outputs": [],
   "source": []
  },
  {
   "cell_type": "code",
   "execution_count": 33,
   "id": "collectible-purse",
   "metadata": {},
   "outputs": [],
   "source": [
    "balls_real_tr = []\n",
    "\n",
    "for ball_real in balls_real:\n",
    "    ball_real_tr = copy.deepcopy(ball_real)\n",
    "    \n",
    "    ball_real_tr.translate((t[0].T[0]))\n",
    "    ball_real_tr.rotate(R[0], center=(0., 0, 0))\n",
    "    \n",
    "    ball_real_tr.paint_uniform_color([0, 0., 1])\n",
    "    \n",
    "    balls_real_tr.append(ball_real_tr)"
   ]
  },
  {
   "cell_type": "code",
   "execution_count": 34,
   "id": "conservative-elevation",
   "metadata": {},
   "outputs": [],
   "source": [
    "visualize = [pcd] + balls_sim + balls_real_tr\n",
    "o3d.visualization.draw_geometries(visualize)"
   ]
  },
  {
   "cell_type": "code",
   "execution_count": 190,
   "id": "fallen-travel",
   "metadata": {},
   "outputs": [],
   "source": [
    "balls_real_tr\n",
    "\n",
    "visualize = balls_real + balls_real_tr\n",
    "\n",
    "o3d.visualization.draw_geometries(balls_real_tr)"
   ]
  },
  {
   "cell_type": "code",
   "execution_count": 202,
   "id": "recorded-applicant",
   "metadata": {},
   "outputs": [
    {
     "data": {
      "text/plain": [
       "array([ 1172.3922147 ,   956.65566571, -1401.7469575 ])"
      ]
     },
     "execution_count": 202,
     "metadata": {},
     "output_type": "execute_result"
    }
   ],
   "source": [
    "balls_real_tr[0].get_center()"
   ]
  },
  {
   "cell_type": "code",
   "execution_count": 196,
   "id": "downtown-cooler",
   "metadata": {},
   "outputs": [
    {
     "data": {
      "text/plain": [
       "array([ -571.57543553, -1015.24868486,   413.3524349 ])"
      ]
     },
     "execution_count": 196,
     "metadata": {},
     "output_type": "execute_result"
    }
   ],
   "source": [
    "t[0].T[0]"
   ]
  },
  {
   "cell_type": "code",
   "execution_count": 198,
   "id": "destroyed-remainder",
   "metadata": {},
   "outputs": [
    {
     "data": {
      "text/plain": [
       "array([-250.473,   54.027, 1216.027])"
      ]
     },
     "execution_count": 198,
     "metadata": {},
     "output_type": "execute_result"
    }
   ],
   "source": [
    "balls_real[0].get_center()"
   ]
  },
  {
   "cell_type": "code",
   "execution_count": 213,
   "id": "polyphonic-remark",
   "metadata": {},
   "outputs": [],
   "source": [
    "a = (R[0].dot(keypoint_world_position.T) + t[0]).T\n",
    "\n",
    "cs = []\n",
    "for b in a:\n",
    "    c = o3d.geometry.TriangleMesh.create_sphere(radius=2.).translate((b))\n",
    "    c.paint_uniform_color([0, 1., 1])\n",
    "    cs.append(c)"
   ]
  },
  {
   "cell_type": "code",
   "execution_count": 217,
   "id": "other-karaoke",
   "metadata": {},
   "outputs": [],
   "source": [
    "\n",
    "visualize = [pcd] + balls_sim + cs\n",
    "o3d.visualization.draw_geometries(visualize)"
   ]
  },
  {
   "cell_type": "code",
   "execution_count": null,
   "id": "executive-grammar",
   "metadata": {},
   "outputs": [],
   "source": []
  },
  {
   "cell_type": "code",
   "execution_count": null,
   "id": "forced-syndication",
   "metadata": {},
   "outputs": [],
   "source": []
  },
  {
   "cell_type": "code",
   "execution_count": null,
   "id": "straight-daniel",
   "metadata": {},
   "outputs": [],
   "source": []
  },
  {
   "cell_type": "code",
   "execution_count": null,
   "id": "interesting-maintenance",
   "metadata": {},
   "outputs": [],
   "source": [
    "values = []\n",
    "scales = np.arange(0.1, 2, 0.1)\n",
    "for scale in scales:\n",
    "    mesh_path = \"C:/Users/lucas/Desktop/UPC/MIT/tactile2object/estimate_object_pose/ycb_converted/035_power_drill.ply\"\n",
    "\n",
    "    assert os.path.exists(mesh_path)\n",
    "    pcd = load_point_cloud(mesh_path)\n",
    "    # Scale pointcloud\n",
    "    pcd.scale(scale, center=pcd.get_center()) #center=(0, 0, 0)\n",
    "    picked_ids = [6800, 5942, 3587, 151] # pick_points(pcd) \n",
    "\n",
    "    # Extract the keypoint in world\n",
    "    point_cloud = np.asarray(pcd.points)\n",
    "    keypoint_3d_position = []\n",
    "    for point_id in picked_ids:\n",
    "        point_in_world = point_cloud[point_id, :]\n",
    "        keypoint_3d_position.append([float(point_in_world[0]), float(point_in_world[1]), float(point_in_world[2])])\n",
    "\n",
    "    # Save them to a map\n",
    "    data_map = dict()\n",
    "    data_map['mesh_path'] = mesh_path\n",
    "    data_map['keypoint_index'] = picked_ids\n",
    "    data_map['keypoint_world_position'] = keypoint_3d_position\n",
    "    \n",
    "    \n",
    "    Q = np.array(data_map['keypoint_world_position']).T\n",
    "    P = np.array(keypoint_world_position).T\n",
    "\n",
    "\n",
    "    _, norm_values, *_ = icp_svd(P, Q)\n",
    "    values.append(norm_values[-1])\n",
    "    \n",
    "import matplotlib.pyplot as plt\n",
    "plt.plot(scales, values)\n",
    "plt.xlabel('Scale')\n",
    "plt.ylabel('Distance between pointclouds')\n",
    "plt.show()"
   ]
  }
 ],
 "metadata": {
  "hide_input": false,
  "kernelspec": {
   "display_name": "Python 3",
   "language": "python",
   "name": "python3"
  },
  "language_info": {
   "codemirror_mode": {
    "name": "ipython",
    "version": 3
   },
   "file_extension": ".py",
   "mimetype": "text/x-python",
   "name": "python",
   "nbconvert_exporter": "python",
   "pygments_lexer": "ipython3",
   "version": "3.7.10"
  },
  "toc": {
   "base_numbering": 1,
   "nav_menu": {},
   "number_sections": true,
   "sideBar": true,
   "skip_h1_title": false,
   "title_cell": "Table of Contents",
   "title_sidebar": "Contents",
   "toc_cell": false,
   "toc_position": {},
   "toc_section_display": true,
   "toc_window_display": false
  },
  "varInspector": {
   "cols": {
    "lenName": 16,
    "lenType": 16,
    "lenVar": 40
   },
   "kernels_config": {
    "python": {
     "delete_cmd_postfix": "",
     "delete_cmd_prefix": "del ",
     "library": "var_list.py",
     "varRefreshCmd": "print(var_dic_list())"
    },
    "r": {
     "delete_cmd_postfix": ") ",
     "delete_cmd_prefix": "rm(",
     "library": "var_list.r",
     "varRefreshCmd": "cat(var_dic_list()) "
    }
   },
   "types_to_exclude": [
    "module",
    "function",
    "builtin_function_or_method",
    "instance",
    "_Feature"
   ],
   "window_display": false
  }
 },
 "nbformat": 4,
 "nbformat_minor": 5
}
