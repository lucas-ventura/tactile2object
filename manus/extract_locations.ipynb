{
 "cells": [
  {
   "cell_type": "code",
   "execution_count": 1,
   "id": "optional-charge",
   "metadata": {},
   "outputs": [],
   "source": [
    "import numpy as np\n",
    "import pandas as pd\n",
    "import os\n",
    "\n",
    "from matplotlib import pyplot as plt\n",
    "from mpl_toolkits.mplot3d import Axes3D\n",
    "from mpl_toolkits.mplot3d.art3d import Poly3DCollection\n",
    "import numpy as np\n",
    "\n",
    "import copy "
   ]
  },
  {
   "cell_type": "code",
   "execution_count": 319,
   "id": "compatible-deputy",
   "metadata": {},
   "outputs": [],
   "source": [
    "%matplotlib inline"
   ]
  },
  {
   "cell_type": "code",
   "execution_count": 3,
   "id": "controversial-planet",
   "metadata": {},
   "outputs": [],
   "source": [
    "%matplotlib qt"
   ]
  },
  {
   "cell_type": "markdown",
   "id": "bronze-bridge",
   "metadata": {},
   "source": [
    "# Get real positions"
   ]
  },
  {
   "cell_type": "markdown",
   "id": "suited-pottery",
   "metadata": {},
   "source": [
    "Load finger positions"
   ]
  },
  {
   "cell_type": "code",
   "execution_count": 4,
   "id": "found-scanner",
   "metadata": {},
   "outputs": [],
   "source": [
    "positionFingersLeft = pd.read_excel(\"C:/Users/lucas/Desktop/UPC/MIT/tactile2object/manus/New Session-002.xlsx\", sheet_name=\"ns1 positionFingersLeft\")\n",
    "positionFingersRight = pd.read_excel(\"C:/Users/lucas/Desktop/UPC/MIT/tactile2object/manus/New Session-002.xlsx\", sheet_name=\"ns1 positionFingersRight\")"
   ]
  },
  {
   "cell_type": "code",
   "execution_count": 5,
   "id": "american-energy",
   "metadata": {},
   "outputs": [],
   "source": [
    "positionFingers = pd.concat([positionFingersLeft, positionFingersRight], axis=1)\n",
    "\n",
    "x_positions = [position for position in list(positionFingers.columns) if \"_x\" in position]\n",
    "y_positions = [position for position in list(positionFingers.columns) if \"_y\" in position]\n",
    "z_positions = [position for position in list(positionFingers.columns) if \"_z\" in position]\n",
    "\n",
    "positions = [position.split(\"_\")[0] for position in list(positionFingers.columns)]\n",
    "# Remove duplicates\n",
    "positions = list(dict.fromkeys(positions))"
   ]
  },
  {
   "cell_type": "markdown",
   "id": "affecting-parks",
   "metadata": {},
   "source": [
    "Choose finger we are using to touch object and frames where is touching to get position"
   ]
  },
  {
   "cell_type": "code",
   "execution_count": 6,
   "id": "handy-breakfast",
   "metadata": {},
   "outputs": [],
   "source": [
    "def getBonePosition(bone, frames):\n",
    "    touch_position = {}\n",
    "\n",
    "    for frame in frames:\n",
    "        touch_position[frame] = [\n",
    "            positionFingers.loc[frame, bone + \"_x\"] * 1000,\n",
    "            positionFingers.loc[frame, bone + \"_y\"] * 1000,\n",
    "            positionFingers.loc[frame, bone + \"_z\"] * 1000\n",
    "        ]\n",
    "        \n",
    "    return touch_position\n",
    "\n",
    "def getBonesPosition(bones, frames):\n",
    "    bones_dict = {}\n",
    "    \n",
    "    for bone in bones:\n",
    "        bones_dict[bone] = getBonePosition(bone, frames)\n",
    "\n",
    "    return bones_dict"
   ]
  },
  {
   "cell_type": "code",
   "execution_count": 7,
   "id": "blond-render",
   "metadata": {},
   "outputs": [],
   "source": [
    "bone = \"LeftSecondDP\"\n",
    "frames = [5042, 5217, 5443, 5660]\n",
    "frames = [5900, 6009, 6190, 6340, 6423, 6645, 6791, 6888, 7125, 7237, 7401, 7527, 7690]\n",
    "frames = [5900, 6009, 6190, 6340]\n",
    "\n",
    "touch_position = getBonePosition(bone, frames)"
   ]
  },
  {
   "cell_type": "code",
   "execution_count": 8,
   "id": "induced-canadian",
   "metadata": {},
   "outputs": [
    {
     "data": {
      "text/plain": [
       "{5900: [-250.473, 54.027, 1216.027],\n",
       " 6009: [-245.327, 53.129000000000005, 1285.2939999999999],\n",
       " 6190: [-200.427, -25.412, 1302.937],\n",
       " 6340: [-234.423, -22.311, 1075.932]}"
      ]
     },
     "execution_count": 8,
     "metadata": {},
     "output_type": "execute_result"
    }
   ],
   "source": [
    "touch_position"
   ]
  },
  {
   "cell_type": "code",
   "execution_count": 9,
   "id": "exceptional-junction",
   "metadata": {},
   "outputs": [],
   "source": [
    "keypoint_world_position = np.zeros((4,3))\n",
    "\n",
    "for i, frame in enumerate(frames):\n",
    "    keypoint_world_position[i,:] = touch_position[frame]"
   ]
  },
  {
   "cell_type": "markdown",
   "id": "unexpected-combination",
   "metadata": {},
   "source": [
    "# Get object locations"
   ]
  },
  {
   "cell_type": "code",
   "execution_count": 10,
   "id": "absolute-basis",
   "metadata": {},
   "outputs": [],
   "source": [
    "import os\n",
    "import open3d as o3d\n",
    "import numpy as np\n",
    "\n",
    "import seaborn as sns"
   ]
  },
  {
   "cell_type": "code",
   "execution_count": 11,
   "id": "flying-strengthening",
   "metadata": {},
   "outputs": [],
   "source": [
    "def pick_points(pcd):\n",
    "    \"\"\"\n",
    "    http://www.open3d.org/docs/tutorial/Advanced/interactive_visualization.html\n",
    "    :param pcd: open3d point cloud data\n",
    "    :return: None\n",
    "    \"\"\"\n",
    "    print(\"\")\n",
    "    print(\"1) Please pick at least three correspondences using [shift + left click]\")\n",
    "    print(\"   Press [shift + right click] to undo point picking\")\n",
    "    print(\"2) Afther picking points, press q for close the window\")\n",
    "    vis = o3d.visualization.VisualizerWithEditing()\n",
    "    vis.create_window()\n",
    "    vis.add_geometry(pcd)\n",
    "    vis.run()  # user picks points\n",
    "    vis.destroy_window()\n",
    "    print(\"\")\n",
    "    return vis.get_picked_points()"
   ]
  },
  {
   "cell_type": "code",
   "execution_count": 12,
   "id": "involved-camera",
   "metadata": {},
   "outputs": [],
   "source": [
    "def load_point_cloud(mesh_path: str):\n",
    "    \"\"\"\n",
    "    Currently o3d doesn't support obj file, thus we need some\n",
    "    hacky solution here\n",
    "    :param mesh_path: Full path to an ply/obj file\n",
    "    :return:\n",
    "    \"\"\"\n",
    "    if mesh_path.endswith('.ply'):\n",
    "        return o3d.io.read_point_cloud(mesh_path)\n",
    "    elif mesh_path.endswith('.obj'):\n",
    "        raise NotImplementedError()\n",
    "    else:\n",
    "        raise RuntimeError('Unknown data format')"
   ]
  },
  {
   "cell_type": "markdown",
   "id": "political-block",
   "metadata": {},
   "source": [
    "Touch the points as below. [6800, 5942, 3587, 151]"
   ]
  },
  {
   "cell_type": "markdown",
   "id": "experienced-excuse",
   "metadata": {},
   "source": [
    "\n",
    "1 | 2 | 3 | 4\n",
    "- | - | - | - \n",
    "![alt](yunzhu_touching_035/5900.png) | ![alt](yunzhu_touching_035/6009.png) | ![alt](yunzhu_touching_035/6190.png) | ![alt](yunzhu_touching_035/6340.png)"
   ]
  },
  {
   "cell_type": "code",
   "execution_count": 13,
   "id": "korean-concert",
   "metadata": {},
   "outputs": [],
   "source": [
    "mesh_path = \"C:/Users/lucas/Desktop/UPC/MIT/tactile2object/estimate_object_pose/ycb_converted/035_power_drill.ply\"\n",
    "\n",
    "assert os.path.exists(mesh_path)\n",
    "pcd = load_point_cloud(mesh_path)\n",
    "# Scale pointcloud\n",
    "pcd.scale(0.8, center=pcd.get_center()) #center=(0, 0, 0)\n",
    "picked_ids = [6800, 5942, 3587, 151] # pick_points(pcd) \n",
    "\n",
    "# Extract the keypoint in world\n",
    "point_cloud = np.asarray(pcd.points)\n",
    "keypoint_3d_position = []\n",
    "for point_id in picked_ids:\n",
    "    point_in_world = point_cloud[point_id, :]\n",
    "    keypoint_3d_position.append([float(point_in_world[0]), float(point_in_world[1]), float(point_in_world[2])])\n",
    "\n",
    "# Save them to a map\n",
    "data_map = dict()\n",
    "data_map['mesh_path'] = mesh_path\n",
    "data_map['keypoint_index'] = picked_ids\n",
    "data_map['keypoint_world_position'] = keypoint_3d_position"
   ]
  },
  {
   "cell_type": "markdown",
   "id": "random-trinidad",
   "metadata": {},
   "source": [
    "# ICP"
   ]
  },
  {
   "cell_type": "code",
   "execution_count": 14,
   "id": "needed-marathon",
   "metadata": {},
   "outputs": [],
   "source": [
    "import sys\n",
    "import numpy as np\n",
    "import matplotlib.pyplot as plt\n",
    "from matplotlib import animation, rc\n",
    "from math import sin, cos, atan2, pi\n",
    "from IPython.display import display, Math, Latex, Markdown, HTML"
   ]
  },
  {
   "cell_type": "code",
   "execution_count": 348,
   "id": "requested-leave",
   "metadata": {},
   "outputs": [],
   "source": [
    "def center_data(data, exclude_indices=[]):\n",
    "    reduced_data = np.delete(data, exclude_indices, axis=1)\n",
    "    center = np.array([reduced_data.mean(axis=1)]).T\n",
    "    return center, data - center\n",
    "\n",
    "def compute_cross_covariance(P, Q, correspondences, kernel=lambda diff: 1.0):\n",
    "    cov = np.zeros((3, 3))\n",
    "    exclude_indices = []\n",
    "    for i, j in correspondences:\n",
    "        p_point = P[:, [i]]\n",
    "        q_point = Q[:, [j]]\n",
    "        weight = kernel(p_point - q_point)\n",
    "        if weight < 0.01: exclude_indices.append(i)\n",
    "        cov += weight * q_point.dot(p_point.T)\n",
    "    return cov, exclude_indices\n",
    "\n",
    "def get_correspondence_indices(P, Q):\n",
    "    p_size = P.shape[1]\n",
    "    q_size = Q.shape[1]\n",
    "    correspondences = []\n",
    "    \n",
    "    for i in range(p_size):\n",
    "        correspondences.append((i, i))\n",
    "\n",
    "    return correspondences\n",
    "\n",
    "def plot_values(values, label):\n",
    "    plt.rcParams['figure.dpi'] = 100\n",
    "    plt.rcParams['savefig.dpi'] = 100\n",
    "    sns.set_theme()\n",
    "    fig = plt.figure(figsize=(10, 4))\n",
    "    ax = fig.add_subplot(111)\n",
    "    ax.plot(values[:2], label=label)\n",
    "    ax.legend()\n",
    "    ax.grid(True)\n",
    "    ax.set_ylim(0)\n",
    "    ax.set_xlabel(\"\")\n",
    "    plt.show()\n",
    "\n",
    "def plot_bar_values(values):\n",
    "    plt.rcParams['figure.dpi'] = 100\n",
    "    plt.rcParams['savefig.dpi'] = 100\n",
    "    sns.set_theme()\n",
    "    fig = plt.figure(figsize=(4, 4))\n",
    "    ax = fig.add_subplot(111)\n",
    "    ax.bar([\"Before ICP\", \"After ICP\"], values[:2])\n",
    "    ax.grid(True)\n",
    "    ax.set_ylim(0)\n",
    "    ax.set_ylabel(\"Distance\")\n",
    "    ax.set_title(\"Distance between pointclouds\")\n",
    "    plt.show()\n",
    "\n",
    "def icp_svd(P, Q, iterations=10, kernel=lambda diff: 1.0):\n",
    "    \"\"\"Perform ICP using SVD.\"\"\"\n",
    "    center_of_Q, Q_centered = center_data(Q)\n",
    "    norm_values = []\n",
    "    R_values = []\n",
    "    t_values = []\n",
    "    P_values = [P.copy()]\n",
    "    P_copy = P.copy()\n",
    "    corresp_values = []\n",
    "    exclude_indices = []\n",
    "    for i in range(iterations):\n",
    "        center_of_P, P_centered = center_data(P_copy, exclude_indices=exclude_indices)\n",
    "        \n",
    "        correspondences = get_correspondence_indices(P_centered, Q_centered)\n",
    "        corresp_values.append(correspondences)\n",
    "        norm_values.append(np.linalg.norm(P_centered - Q_centered))\n",
    "        cov, exclude_indices = compute_cross_covariance(P_centered, Q_centered, correspondences, kernel)\n",
    "        U, S, V_T = np.linalg.svd(cov)\n",
    "        R = U.dot(V_T)  \n",
    "        t = center_of_Q - R.dot(center_of_P)  \n",
    "        \n",
    "        P_copy = R.dot(P_copy) + t\n",
    "        P_values.append(P_copy)\n",
    "        R_values.append(R)\n",
    "        t_values.append(t)\n",
    "    corresp_values.append(corresp_values[-1])\n",
    "    \n",
    "    return P_values, norm_values, corresp_values, R_values, t_values"
   ]
  },
  {
   "cell_type": "code",
   "execution_count": 16,
   "id": "breeding-separation",
   "metadata": {},
   "outputs": [],
   "source": [
    "Q = np.array(data_map['keypoint_world_position']).T\n",
    "P = np.array(keypoint_world_position).T\n",
    "\n",
    "\n",
    "P_values, norm_values, corresp_values, R, t = icp_svd(P, Q)\n",
    "plot_values(norm_values, label=\"Squared diff P->Q\")"
   ]
  },
  {
   "cell_type": "markdown",
   "id": "regulated-question",
   "metadata": {},
   "source": [
    "# Plot results"
   ]
  },
  {
   "cell_type": "code",
   "execution_count": 17,
   "id": "matched-simpson",
   "metadata": {},
   "outputs": [
    {
     "data": {
      "text/plain": [
       "PointCloud with 8194 points."
      ]
     },
     "execution_count": 17,
     "metadata": {},
     "output_type": "execute_result"
    }
   ],
   "source": [
    "pcd.paint_uniform_color([0.3, 0.3, 0.3])"
   ]
  },
  {
   "cell_type": "markdown",
   "id": "respected-hawaii",
   "metadata": {},
   "source": [
    "#### Toching points in simulation"
   ]
  },
  {
   "cell_type": "code",
   "execution_count": 18,
   "id": "addressed-terror",
   "metadata": {},
   "outputs": [],
   "source": [
    "balls_sim = []\n",
    "\n",
    "for xyz_sim in data_map['keypoint_world_position']:\n",
    "    ball_sim = o3d.geometry.TriangleMesh.create_sphere(radius=2.).translate((xyz_sim))\n",
    "    ball_sim.paint_uniform_color([1, 0., 0])\n",
    "    balls_sim.append(ball_sim)"
   ]
  },
  {
   "cell_type": "code",
   "execution_count": 19,
   "id": "polished-california",
   "metadata": {},
   "outputs": [],
   "source": [
    "visualize = [pcd] + balls_sim\n",
    "\n",
    "o3d.visualization.draw_geometries(visualize)"
   ]
  },
  {
   "cell_type": "markdown",
   "id": "twenty-initial",
   "metadata": {},
   "source": [
    "#### Touching points in real object"
   ]
  },
  {
   "cell_type": "code",
   "execution_count": 20,
   "id": "robust-season",
   "metadata": {},
   "outputs": [],
   "source": [
    "balls_real = []\n",
    "\n",
    "for xyz_real in keypoint_world_position:\n",
    "    ball_real = o3d.geometry.TriangleMesh.create_sphere(radius=2.).translate((xyz_real))\n",
    "    ball_real.paint_uniform_color([0, 1., 0])\n",
    "    balls_real.append(ball_real)"
   ]
  },
  {
   "cell_type": "code",
   "execution_count": 21,
   "id": "phantom-tucson",
   "metadata": {},
   "outputs": [],
   "source": [
    "visualize = [pcd] + balls_sim + balls_real\n",
    "o3d.visualization.draw_geometries(visualize)"
   ]
  },
  {
   "cell_type": "markdown",
   "id": "valued-blood",
   "metadata": {},
   "source": [
    "#### Translate and rotate real points to be in the object. "
   ]
  },
  {
   "cell_type": "code",
   "execution_count": 22,
   "id": "finite-broadcasting",
   "metadata": {},
   "outputs": [],
   "source": [
    "points_tr = (R[0].dot(keypoint_world_position.T) + t[0]).T\n",
    "\n",
    "balls_real_tr = []\n",
    "for point_tr in points_tr:\n",
    "    ball_real_tr = o3d.geometry.TriangleMesh.create_sphere(radius=2.).translate((point_tr))\n",
    "    ball_real_tr.paint_uniform_color([0, 1., 1])\n",
    "    balls_real_tr.append(ball_real_tr)"
   ]
  },
  {
   "cell_type": "code",
   "execution_count": 23,
   "id": "superb-afternoon",
   "metadata": {},
   "outputs": [],
   "source": [
    "visualize = [pcd] + balls_sim + balls_real_tr\n",
    "o3d.visualization.draw_geometries(visualize)"
   ]
  },
  {
   "cell_type": "markdown",
   "id": "apart-attribute",
   "metadata": {},
   "source": [
    "#### Improve results by substracting movement of the other hand"
   ]
  },
  {
   "cell_type": "code",
   "execution_count": 24,
   "id": "minor-brunswick",
   "metadata": {},
   "outputs": [],
   "source": [
    "reference_bones = [\"RightCarpus\", \n",
    "                   \"RightFirstMC\", \"RightSecondMC\", \"RightThirdMC\", \"RightFourthMC\", \"RightFifthMC\"]"
   ]
  },
  {
   "cell_type": "code",
   "execution_count": 25,
   "id": "negative-explorer",
   "metadata": {},
   "outputs": [],
   "source": [
    "bonesPositions = getBonesPosition(reference_bones, frames)\n",
    "bonesPositions = pd.DataFrame.from_dict(bonesPositions)"
   ]
  },
  {
   "cell_type": "markdown",
   "id": "outstanding-sixth",
   "metadata": {},
   "source": [
    "Get mean of the different reference bones"
   ]
  },
  {
   "cell_type": "code",
   "execution_count": 26,
   "id": "adolescent-twelve",
   "metadata": {},
   "outputs": [],
   "source": [
    "frameMeans = {}\n",
    "\n",
    "for frame in bonesPositions.T:\n",
    "    frameBonesPositions = np.array([np.array(xi) for xi in bonesPositions.loc[frame, :]])\n",
    "    frameMean = frameBonesPositions.mean(axis=0)\n",
    "    \n",
    "    frameMeans[frame] = frameMean"
   ]
  },
  {
   "cell_type": "markdown",
   "id": "confused-lightweight",
   "metadata": {},
   "source": [
    "Compute the movement of the frame with respect to the first one"
   ]
  },
  {
   "cell_type": "code",
   "execution_count": 27,
   "id": "surprised-sunset",
   "metadata": {},
   "outputs": [],
   "source": [
    "movementFrame = {}\n",
    "\n",
    "for frame in frames:\n",
    "    movementFrame[frame] = frameMeans[frame] - frameMeans[frames[0]]"
   ]
  },
  {
   "cell_type": "code",
   "execution_count": 28,
   "id": "reduced-leisure",
   "metadata": {},
   "outputs": [],
   "source": [
    "movement = np.zeros((len(frames), 3))\n",
    "\n",
    "for i, frame in enumerate(frames):\n",
    "    movement[i,:] = movementFrame[frame]"
   ]
  },
  {
   "cell_type": "markdown",
   "id": "regulation-kernel",
   "metadata": {},
   "source": [
    "Correct position of the other hand"
   ]
  },
  {
   "cell_type": "code",
   "execution_count": 29,
   "id": "distinguished-canon",
   "metadata": {},
   "outputs": [],
   "source": [
    "keypoint_world_position_corrected = keypoint_world_position - movement"
   ]
  },
  {
   "cell_type": "code",
   "execution_count": 30,
   "id": "authentic-retirement",
   "metadata": {},
   "outputs": [],
   "source": [
    "Q = np.array(data_map['keypoint_world_position']).T\n",
    "P = np.array(keypoint_world_position_corrected).T\n",
    "\n",
    "\n",
    "P_values, norm_values, corresp_values, R, t = icp_svd(P, Q)\n",
    "#plot_values(norm_values, label=\"Squared diff P->Q\")"
   ]
  },
  {
   "cell_type": "code",
   "execution_count": 31,
   "id": "hairy-numbers",
   "metadata": {},
   "outputs": [],
   "source": [
    "points_tr_corrected = (R[0].dot(keypoint_world_position_corrected.T) + t[0]).T\n",
    "\n",
    "balls_real_tr_corrected = []\n",
    "for point_tr in points_tr_corrected:\n",
    "    ball_real_tr = o3d.geometry.TriangleMesh.create_sphere(radius=2.).translate((point_tr))\n",
    "    ball_real_tr.paint_uniform_color([0, 1., 0])\n",
    "    balls_real_tr_corrected.append(ball_real_tr)"
   ]
  },
  {
   "cell_type": "code",
   "execution_count": 32,
   "id": "english-guitar",
   "metadata": {},
   "outputs": [],
   "source": [
    "visualize = [pcd] + balls_sim + balls_real_tr + balls_real_tr_corrected\n",
    "o3d.visualization.draw_geometries(visualize)"
   ]
  },
  {
   "cell_type": "markdown",
   "id": "boxed-frequency",
   "metadata": {},
   "source": [
    "### Try different scales"
   ]
  },
  {
   "cell_type": "code",
   "execution_count": 38,
   "id": "interesting-maintenance",
   "metadata": {},
   "outputs": [],
   "source": [
    "values = []\n",
    "scales = np.arange(0.1, 2, 0.1)\n",
    "for scale in scales:\n",
    "    mesh_path = \"C:/Users/lucas/Desktop/UPC/MIT/tactile2object/estimate_object_pose/ycb_converted/035_power_drill.ply\"\n",
    "\n",
    "    assert os.path.exists(mesh_path)\n",
    "    pcd = load_point_cloud(mesh_path)\n",
    "    # Scale pointcloud\n",
    "    pcd.scale(scale, center=pcd.get_center()) #center=(0, 0, 0)\n",
    "    picked_ids = [6800, 5942, 3587, 151] # pick_points(pcd) \n",
    "\n",
    "    # Extract the keypoint in world\n",
    "    point_cloud = np.asarray(pcd.points)\n",
    "    keypoint_3d_position = []\n",
    "    for point_id in picked_ids:\n",
    "        point_in_world = point_cloud[point_id, :]\n",
    "        keypoint_3d_position.append([float(point_in_world[0]), float(point_in_world[1]), float(point_in_world[2])])\n",
    "\n",
    "    # Save them to a map\n",
    "    data_map = dict()\n",
    "    data_map['mesh_path'] = mesh_path\n",
    "    data_map['keypoint_index'] = picked_ids\n",
    "    data_map['keypoint_world_position'] = keypoint_3d_position\n",
    "    \n",
    "    \n",
    "    Q = np.array(data_map['keypoint_world_position']).T\n",
    "    P = np.array(keypoint_world_position).T\n",
    "\n",
    "\n",
    "    _, norm_values, *_ = icp_svd(P, Q)\n",
    "    values.append(norm_values[-1])\n",
    "    \n",
    "import matplotlib.pyplot as plt\n",
    "plt.plot(scales, values)\n",
    "plt.xlabel('Scale')\n",
    "plt.ylabel('Distance between pointclouds')\n",
    "plt.show()"
   ]
  },
  {
   "cell_type": "markdown",
   "id": "proprietary-agent",
   "metadata": {},
   "source": [
    "# Multiple points"
   ]
  },
  {
   "cell_type": "code",
   "execution_count": 383,
   "id": "through-water",
   "metadata": {},
   "outputs": [],
   "source": [
    "def get_lines(points1, points2):\n",
    "    line_points = []\n",
    "    line_lines = []\n",
    "\n",
    "    for i in range(points_real.shape[0]):\n",
    "        line_points.append(points1[i,:])\n",
    "        line_points.append(points2[i,:])\n",
    "\n",
    "        line_lines.append([i*2, i*2+1])\n",
    "\n",
    "\n",
    "    line_points = np.array(line_points)\n",
    "    line_lines = np.array(line_lines)\n",
    "    \n",
    "    line_set = o3d.geometry.LineSet()\n",
    "    line_set.points = o3d.utility.Vector3dVector(line_points)\n",
    "    line_set.lines = o3d.utility.Vector2iVector(line_lines)\n",
    "    colors = [[0, 0, 1] for i in range(len(line_lines))]\n",
    "    line_set.colors = o3d.utility.Vector3dVector(colors)\n",
    "    \n",
    "    return line_set"
   ]
  },
  {
   "cell_type": "code",
   "execution_count": 390,
   "id": "known-headquarters",
   "metadata": {},
   "outputs": [],
   "source": [
    "def get_sim_points(mesh_path, picked_ids = None, scale=1.):\n",
    "    assert os.path.exists(mesh_path)\n",
    "    pcd = load_point_cloud(mesh_path)\n",
    "    pcd.paint_uniform_color([0.3, 0.3, 0.3])\n",
    "    # Scale pointcloud\n",
    "    pcd.scale(scale, center=pcd.get_center()) #center=(0, 0, 0) pcd.get_center()\n",
    "    \n",
    "\n",
    "    if picked_ids == None:\n",
    "        picked_ids = pick_points(pcd)\n",
    "\n",
    "\n",
    "    # Extract the keypoint in world\n",
    "    point_cloud = np.asarray(pcd.points)\n",
    "    keypoint_3d_position = []\n",
    "    for point_id in picked_ids:\n",
    "        point_in_world = point_cloud[point_id, :]\n",
    "        keypoint_3d_position.append([float(point_in_world[0]), float(point_in_world[1]), float(point_in_world[2])])\n",
    "\n",
    "    # Save them to a map\n",
    "    data_map = dict()\n",
    "    data_map['mesh_path'] = mesh_path\n",
    "    data_map['keypoint_index'] = picked_ids\n",
    "    data_map['keypoint_world_position'] = keypoint_3d_position\n",
    "    \n",
    "    return  pcd, np.array(keypoint_3d_position)"
   ]
  },
  {
   "cell_type": "code",
   "execution_count": 391,
   "id": "fluid-dream",
   "metadata": {},
   "outputs": [],
   "source": [
    "def get_balls(points, color=[1,0,0], radius=3.):\n",
    "    balls = []\n",
    "    \n",
    "    for xyz in points:\n",
    "        ball = o3d.geometry.TriangleMesh.create_sphere(radius=radius).translate((xyz))\n",
    "        ball.paint_uniform_color(color)\n",
    "        balls.append(ball)\n",
    "        \n",
    "    return balls"
   ]
  },
  {
   "cell_type": "code",
   "execution_count": 392,
   "id": "after-fishing",
   "metadata": {},
   "outputs": [],
   "source": [
    "def getAvgBonePosition(bone, frames):\n",
    "    positions = np.zeros((len(frames), 3))\n",
    "    \n",
    "    for i, frame in enumerate(frames):\n",
    "        positions[i,:] = [\n",
    "            positionFingers.loc[frame, bone + \"_x\"] * 1000,\n",
    "            positionFingers.loc[frame, bone + \"_y\"] * 1000,\n",
    "            positionFingers.loc[frame, bone + \"_z\"] * 1000\n",
    "        ]\n",
    "        \n",
    "    return np.mean(positions, axis=0) #.tolist()"
   ]
  },
  {
   "cell_type": "code",
   "execution_count": 393,
   "id": "wrapped-balance",
   "metadata": {},
   "outputs": [],
   "source": [
    "red = [225/255, 87/255, 89/255]\n",
    "orange = [242/255, 142/255, 43/255]\n",
    "yellow = [237/255, 201/255, 72/255]\n",
    "blue = [78/255, 121/255, 167/255]\n",
    "green = [89/255, 161/255, 79/255]"
   ]
  },
  {
   "cell_type": "markdown",
   "id": "pediatric-branch",
   "metadata": {},
   "source": [
    "\n",
    "1 | 2 | 3 |\n",
    "- | - | - |\n",
    "5900, 6791, 7401 | 6009, 6888, 7237 | 6190, 7125 |\n",
    "![alt](yunzhu_touching_035/5900.png) | ![alt](yunzhu_touching_035/6009.png) | ![alt](yunzhu_touching_035/6190.png) \n",
    "\n",
    "4 | 5 | 6 |\n",
    "- | - | - | \n",
    "6340, 6645, 7527 | 6423 | 7690 |\n",
    "![alt](yunzhu_touching_035/6340.png) | ![alt](yunzhu_touching_035/6423.png) | ![alt](yunzhu_touching_035/7690.png) | ![alt](yunzhu_touching_035/6340.png)\n",
    "\n"
   ]
  },
  {
   "cell_type": "markdown",
   "id": "concerned-startup",
   "metadata": {},
   "source": [
    "### Get simulated points"
   ]
  },
  {
   "cell_type": "code",
   "execution_count": 394,
   "id": "breeding-lobby",
   "metadata": {},
   "outputs": [],
   "source": [
    "mesh_path = \"C:/Users/lucas/Desktop/UPC/MIT/tactile2object/estimate_object_pose/ycb_converted/035_power_drill.ply\"\n",
    "\n",
    "picked_ids = [6796, 5958, 3626, 153, 563, 4257]\n",
    "pcd, points_sim = get_sim_points(mesh_path, picked_ids, scale=0.8)"
   ]
  },
  {
   "cell_type": "code",
   "execution_count": 395,
   "id": "alone-basement",
   "metadata": {},
   "outputs": [],
   "source": [
    "ball_sim = get_balls(points_sim)\n",
    "\n",
    "visualize = balls_sim + [pcd]\n",
    "\n",
    "o3d.visualization.draw_geometries(visualize, zoom=0.9,\n",
    "                                  front=[0.0, 0.0, -0.5],\n",
    "                                  lookat=[0.0, 0.0, 0.0],\n",
    "                                  up=[0.0, 0.4, 0.0])"
   ]
  },
  {
   "cell_type": "markdown",
   "id": "aggregate-vienna",
   "metadata": {},
   "source": [
    "### Get real points"
   ]
  },
  {
   "cell_type": "code",
   "execution_count": 396,
   "id": "extra-creator",
   "metadata": {},
   "outputs": [],
   "source": [
    "frames_touching = [\n",
    "    [5900, 6791, 7401],\n",
    "    [6009, 6888, 7237],\n",
    "    [6190, 7125],\n",
    "    [6340, 6645, 7527],\n",
    "    [6423],\n",
    "    [7690],\n",
    "]\n",
    "\n",
    "positions_real = []\n",
    "\n",
    "for frames in frames_touching:\n",
    "    positions_real.append(getAvgBonePosition(bone, frames))\n",
    "    \n",
    "points_real = np.array(positions_real)"
   ]
  },
  {
   "cell_type": "code",
   "execution_count": 397,
   "id": "cooperative-celebrity",
   "metadata": {},
   "outputs": [],
   "source": [
    "balls_real = get_balls(points_real, color=green)\n",
    "\n",
    "line_set = get_lines(points_real, points_sim)\n",
    "\n",
    "\n",
    "visualize = [pcd] + balls_sim + balls_real + [line_set]\n",
    "\n",
    "o3d.visualization.draw_geometries(visualize, zoom=0.9,\n",
    "                                  front=[0.0, 0.0, -0.5],\n",
    "                                  lookat=[0.0, 0.0, 0.0],\n",
    "                                  up=[0.0, 0.4, 0.0])"
   ]
  },
  {
   "cell_type": "markdown",
   "id": "legal-immigration",
   "metadata": {},
   "source": [
    "### ICP"
   ]
  },
  {
   "cell_type": "code",
   "execution_count": 398,
   "id": "adaptive-empty",
   "metadata": {},
   "outputs": [
    {
     "data": {
      "image/png": "[encoded data removed]",
      "text/plain": [
       "<Figure size 400x400 with 1 Axes>"
      ]
     },
     "metadata": {},
     "output_type": "display_data"
    }
   ],
   "source": [
    "Q = np.array(points_sim).T\n",
    "P = np.array(points_real).T\n",
    "\n",
    "\n",
    "P_values, norm_values, corresp_values, R, t = icp_svd(P, Q)\n",
    "plot_bar_values(norm_values)"
   ]
  },
  {
   "cell_type": "markdown",
   "id": "adjacent-reproduction",
   "metadata": {},
   "source": [
    "### Translate and rotate points"
   ]
  },
  {
   "cell_type": "code",
   "execution_count": 399,
   "id": "demonstrated-devon",
   "metadata": {},
   "outputs": [],
   "source": [
    "points_real_tr = (R[0].dot(points_real.T) + t[0]).T\n",
    "\n",
    "balls_real_tr = []\n",
    "for point_tr in points_real_tr:\n",
    "    ball_real_tr = o3d.geometry.TriangleMesh.create_sphere(radius=3.).translate((point_tr))\n",
    "    ball_real_tr.paint_uniform_color(green)\n",
    "    balls_real_tr.append(ball_real_tr)"
   ]
  },
  {
   "cell_type": "code",
   "execution_count": 400,
   "id": "optical-watershed",
   "metadata": {},
   "outputs": [],
   "source": [
    "line_set = get_lines(points_real_tr, points_sim)\n",
    "\n",
    "visualize = [pcd] + balls_sim + balls_real_tr + [line_set]\n",
    "\n",
    "o3d.visualization.draw_geometries(visualize, zoom=0.9,\n",
    "                                  front=[0.0, 0.0, -0.5],\n",
    "                                  lookat=[0.0, 0.0, 0.0],\n",
    "                                  up=[0.0, 0.4, 0.0])"
   ]
  },
  {
   "cell_type": "code",
   "execution_count": 401,
   "id": "intellectual-audience",
   "metadata": {},
   "outputs": [
    {
     "data": {
      "text/plain": [
       "array([[ -509.36930928],\n",
       "       [-1007.25700939],\n",
       "       [  445.66732261]])"
      ]
     },
     "execution_count": 401,
     "metadata": {},
     "output_type": "execute_result"
    }
   ],
   "source": [
    "t[0]"
   ]
  },
  {
   "cell_type": "code",
   "execution_count": 402,
   "id": "declared-disney",
   "metadata": {},
   "outputs": [
    {
     "data": {
      "text/plain": [
       "array([[ 0.35969569, -0.8196457 ,  0.44586986],\n",
       "       [ 0.01237644,  0.48200177,  0.87608283],\n",
       "       [ 0.93298758,  0.30960494, -0.18351825]])"
      ]
     },
     "execution_count": 402,
     "metadata": {},
     "output_type": "execute_result"
    }
   ],
   "source": [
    "\n",
    "\n",
    "R[0]"
   ]
  },
  {
   "cell_type": "code",
   "execution_count": 274,
   "id": "economic-masters",
   "metadata": {},
   "outputs": [],
   "source": []
  },
  {
   "cell_type": "code",
   "execution_count": null,
   "id": "choice-simon",
   "metadata": {},
   "outputs": [],
   "source": []
  }
 ],
 "metadata": {
  "hide_input": false,
  "kernelspec": {
   "display_name": "Python 3",
   "language": "python",
   "name": "python3"
  },
  "language_info": {
   "codemirror_mode": {
    "name": "ipython",
    "version": 3
   },
   "file_extension": ".py",
   "mimetype": "text/x-python",
   "name": "python",
   "nbconvert_exporter": "python",
   "pygments_lexer": "ipython3",
   "version": "3.7.10"
  },
  "toc": {
   "base_numbering": 1,
   "nav_menu": {},
   "number_sections": true,
   "sideBar": true,
   "skip_h1_title": false,
   "title_cell": "Table of Contents",
   "title_sidebar": "Contents",
   "toc_cell": false,
   "toc_position": {},
   "toc_section_display": true,
   "toc_window_display": false
  },
  "varInspector": {
   "cols": {
    "lenName": 16,
    "lenType": 16,
    "lenVar": 40
   },
   "kernels_config": {
    "python": {
     "delete_cmd_postfix": "",
     "delete_cmd_prefix": "del ",
     "library": "var_list.py",
     "varRefreshCmd": "print(var_dic_list())"
    },
    "r": {
     "delete_cmd_postfix": ") ",
     "delete_cmd_prefix": "rm(",
     "library": "var_list.r",
     "varRefreshCmd": "cat(var_dic_list()) "
    }
   },
   "types_to_exclude": [
    "module",
    "function",
    "builtin_function_or_method",
    "instance",
    "_Feature"
   ],
   "window_display": false
  }
 },
 "nbformat": 4,
 "nbformat_minor": 5
}
